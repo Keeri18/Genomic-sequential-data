{
 "cells": [
  {
   "cell_type": "code",
   "execution_count": 1,
   "metadata": {
    "execution": {
     "iopub.execute_input": "2023-03-08T16:00:28.372178Z",
     "iopub.status.busy": "2023-03-08T16:00:28.371153Z",
     "iopub.status.idle": "2023-03-08T16:00:29.604724Z",
     "shell.execute_reply": "2023-03-08T16:00:29.603829Z",
     "shell.execute_reply.started": "2023-03-08T13:48:36.092042Z"
    },
    "papermill": {
     "duration": 1.359834,
     "end_time": "2023-03-08T16:00:29.605074",
     "exception": false,
     "start_time": "2023-03-08T16:00:28.245240",
     "status": "completed"
    },
    "tags": []
   },
   "outputs": [
    {
     "name": "stderr",
     "output_type": "stream",
     "text": [
      "/opt/conda/lib/python3.7/site-packages/Bio/SubsMat/__init__.py:131: BiopythonDeprecationWarning: Bio.SubsMat has been deprecated, and we intend to remove it in a future release of Biopython. As an alternative, please consider using Bio.Align.substitution_matrices as a replacement, and contact the Biopython developers if you still need the Bio.SubsMat module.\n",
      "  BiopythonDeprecationWarning,\n"
     ]
    }
   ],
   "source": [
    "import os\n",
    "import numpy as np\n",
    "import pandas as pd\n",
    "from Bio.pairwise2 import format_alignment\n",
    "from Bio.SubsMat import MatrixInfo \n",
    "from Bio import pairwise2\n",
    "from Bio import SeqIO, SearchIO\n",
    "from Bio.Seq import Seq\n",
    "from Bio.SeqRecord import SeqRecord\n",
    "from Bio.Blast import NCBIWWW\n",
    "from Bio.Blast import NCBIXML\n",
    "\n",
    "from Bio.Phylo.TreeConstruction import DistanceTreeConstructor\n",
    "from Bio.Phylo.TreeConstruction import DistanceCalculator\n",
    "from Bio.Phylo.PhyloXML import Phylogeny\n",
    "from Bio import Phylo\n",
    "\n",
    "from pprint import pprint\n",
    "import matplotlib.pyplot as plt\n",
    "import seaborn as sns; sns.set(style='white')\n",
    "blast_id = True"
   ]
  },
  {
   "cell_type": "markdown",
   "metadata": {
    "papermill": {
     "duration": 0.113525,
     "end_time": "2023-03-08T16:00:29.849690",
     "exception": false,
     "start_time": "2023-03-08T16:00:29.736165",
     "status": "completed"
    },
    "tags": []
   },
   "source": [
    "BLAST \n",
    "FASTA"
   ]
  },
  {
   "cell_type": "markdown",
   "metadata": {
    "papermill": {
     "duration": 0.130858,
     "end_time": "2023-03-08T16:00:30.096960",
     "exception": false,
     "start_time": "2023-03-08T16:00:29.966102",
     "status": "completed"
    },
    "tags": []
   },
   "source": [
    "Biological Sequence Alphabets\n",
    "\n",
    "Two sets of alphabets are used in bioinformatics,Nucleotides, Amino Acids\n",
    "\n",
    "ABC (I/II)\n",
    "Nucleic Acids\n",
    "\n",
    "molecules with a biological role we can find nucleic acids\n",
    "\n",
    "Nucleic acids encode and express the genetic code that is kept within the cell. \n",
    "There are two major types of nucleic acids \n",
    "DeoxyriboNucleic Acid (DNA)\n",
    "RiboNucleic Acid (RNA) (Obtainable via transcription)\n",
    "DNA contains the information necessary to build a cell, and keep it functioning. \n",
    "In eukaryotic cells, DNA will be found in the nucleus, whilst in the prokaryotic cells, it will be found in the cytoplasm. \n",
    "IUPAC defines the full list of nucleotides as shown in the table below, with A,T,G,C being the main four:\n",
    "Another type of nucleotide list often used is IUB Ambiguity Codes\n",
    "\n",
    "ABC (II/II)\n",
    "Amino Acids\n",
    "Amino acids building blocks of proteins which are macromolecules that perform most of the functions inside a cell\n",
    "Proteins have a broad range of functions spanning from catalytic to structural functions\n",
    "\n",
    "Enzymes : Type of abundant proteins that promote chemical reactions and convert certain molecules into other types of molecules required for the functioning of the cell.\n",
    "Carbohydrates : Serve as energy storage, both for immediate and long term energy demands.\n",
    "Lipids : Part of the plasma membrane, doing signaling and energy storage.\n",
    "The cell also contains other components of varying complexity. Of importance: \n",
    "Mitochondria & the Chloroplasts : Organelles involved in the production of energy. \n",
    "Ribosomes : Large and complex molecules composed of a mixture of genetic material, req. to assemble proteins and play a central role in the flow of genetic information."
   ]
  },
  {
   "cell_type": "markdown",
   "metadata": {
    "papermill": {
     "duration": 0.114791,
     "end_time": "2023-03-08T16:00:30.331784",
     "exception": false,
     "start_time": "2023-03-08T16:00:30.216993",
     "status": "completed"
    },
    "tags": []
   },
   "source": [
    "### DNA Strands\n",
    " \n",
    "### COMPLEMENTARY STRANDS IN DNA\n",
    "\n",
    "DNA is a molecule composed of two complementary strands that form and stick together due to the connections established between the nucleotides in both strands. \n",
    "\n",
    "This is made possible by due to the chemical phenomenon where Adenine (A) bonds only with Thymine (T) nucleotides, as a result of two hydrogen connections. \n",
    "Similarly,Guanine (G) bonds only with Cytosine (C) nucleotides by three hydrogen connections.\n",
    "\n",
    "### REVERSE COMPLEMENT\n",
    "\n",
    "This results in two complementary and anti-parallel strands (connected in opposite directions), if we know the nucleotide sequence in one of the strands, we can get the sequence in the opposite strand by taking the complement of its nucleotides, which are also read backwards, thus we have the reverse complement of the other strand.\n",
    "\n",
    "It has become a standard to describe the DNA though only one of the strands, due to this complementarity using [A,T,G,C]\n",
    "The existence of these two strands is essential in order to pass on genetic information to new cells and produce proteins."
   ]
  },
  {
   "cell_type": "markdown",
   "metadata": {
    "papermill": {
     "duration": 0.115267,
     "end_time": "2023-03-08T16:00:30.561934",
     "exception": false,
     "start_time": "2023-03-08T16:00:30.446667",
     "status": "completed"
    },
    "tags": []
   },
   "source": [
    "# Sequence Definition\n",
    "\n",
    "Python Strings to Sequences\n",
    "SMALLER SEQUENCES\n",
    "\n",
    "When a sequence are quite short (eg. when we are looking at part of the entire DNA sequence), we can probably just define them using the string format.\n",
    "\n",
    "To use some operations with this sequence in biopython (eg. sequence alignment), we need to create an instance of the Seq class for each sequence.\n",
    "In previous biopython versions, we had to specify the sequence type (eg. <code>IUPAC.protein</code>), however this is not necessary in recent versions."
   ]
  },
  {
   "cell_type": "code",
   "execution_count": 2,
   "metadata": {
    "execution": {
     "iopub.execute_input": "2023-03-08T16:00:30.799651Z",
     "iopub.status.busy": "2023-03-08T16:00:30.798643Z",
     "iopub.status.idle": "2023-03-08T16:00:30.801306Z",
     "shell.execute_reply": "2023-03-08T16:00:30.800794Z",
     "shell.execute_reply.started": "2023-03-08T13:48:37.371581Z"
    },
    "papermill": {
     "duration": 0.122673,
     "end_time": "2023-03-08T16:00:30.801476",
     "exception": false,
     "start_time": "2023-03-08T16:00:30.678803",
     "status": "completed"
    },
    "tags": []
   },
   "outputs": [],
   "source": [
    "n = 'ATGACGGATCAGCCGCAAGCGGAATTGGCGTTTACGTACGATGCGCCGTAA'  # nucleotide sequence\n",
    "aa = 'MMMELQHQRLMALAGQLQLESLISAAPALSQQAVDQEWSYMDFLEHLLHE' # protein sequence\n",
    "\n",
    "seq_n = Seq(n)\n",
    "seq_aa = Seq(aa)"
   ]
  },
  {
   "cell_type": "markdown",
   "metadata": {
    "papermill": {
     "duration": 0.115661,
     "end_time": "2023-03-08T16:00:31.030108",
     "exception": false,
     "start_time": "2023-03-08T16:00:30.914447",
     "status": "completed"
    },
    "tags": []
   },
   "source": [
    "## SIMPLE SEQUENCE OPERATION\n",
    "\n",
    "Since we don't have .alphabet details, rename sequence type to give them names accordingly."
   ]
  },
  {
   "cell_type": "code",
   "execution_count": 3,
   "metadata": {
    "execution": {
     "iopub.execute_input": "2023-03-08T16:00:31.269350Z",
     "iopub.status.busy": "2023-03-08T16:00:31.268213Z",
     "iopub.status.idle": "2023-03-08T16:00:31.272146Z",
     "shell.execute_reply": "2023-03-08T16:00:31.272696Z",
     "shell.execute_reply.started": "2023-03-08T13:48:37.378606Z"
    },
    "papermill": {
     "duration": 0.127827,
     "end_time": "2023-03-08T16:00:31.272913",
     "exception": false,
     "start_time": "2023-03-08T16:00:31.145086",
     "status": "completed"
    },
    "tags": []
   },
   "outputs": [
    {
     "name": "stdout",
     "output_type": "stream",
     "text": [
      "TTACGGCGCATCGTACGTAAACGCCAATTCCGCTTGCGGCTGATCCGTCAT\n",
      "EDLLDELFHKRSWEQHBTQQSLTPTTSILSELQLQCTLTKLYQDQLEKKK\n"
     ]
    }
   ],
   "source": [
    "print(seq_n.reverse_complement()) # possible\n",
    "print(seq_aa.reverse_complement()) # not actually possible"
   ]
  },
  {
   "cell_type": "markdown",
   "metadata": {
    "papermill": {
     "duration": 0.124021,
     "end_time": "2023-03-08T16:00:31.511003",
     "exception": false,
     "start_time": "2023-03-08T16:00:31.386982",
     "status": "completed"
    },
    "tags": []
   },
   "source": [
    "## Sequence Annotation Objects\n",
    "\n",
    "Sequence files obtained from databases provied the option to for more detailed information storage about the sequence, not just the sequence alone.\n",
    "\n",
    "In BioPython, we can use SeqRecord objects with our defined Seq object instances & add define additional information about our sequence(s).\n",
    "\n",
    "Two commonly added detailed information about a sequence:\n",
    "Annotations( Extra metadata information about the sequence )\n",
    "Features( Extra information about the sequence content, which is extractable ) \n",
    "\n",
    "SeqRecord objects are used in Biopython to hold a sequence (as a Seq object) with identifiers (ID and name), description and optionally annotation and sub-features.\n",
    "\n",
    "SeqRecord is class we'd use when we want to work with Seq that have more information about the sequence, grouped all in one spot.\n",
    "\n",
    "If we wanted to do multiple sequence alignment, we have to define each individual sequences in the SeqRecord object, which requires just the id to be defined.\n",
    "\n",
    "SeqRecord objects can store:\n",
    "seq - The sequence itself (Seq() objects )\n",
    "id - Sequence identifier\n",
    "name - Sequence name \n",
    "description - Description of the sequence\n",
    "annotations - Global annotations for the whole sequence (dic)\n",
    "features - Structured features (lst of SeqFeature objects)\n",
    "letter_annotations - Annotations for each letter (position) in the sequence\n",
    "dexrefs - References to databases\n",
    "\n",
    "## SEQRECORD ANNOTATIONS & SAVING SEQUENCE FILE\n",
    "SeqRecord can hold information about different annotations for the sequence in question.\n",
    "Let's define some basic annotations for SeqRec below, which we can subsequently save using SeqIO using the minimalistic FASTA detailed Genbank formats."
   ]
  },
  {
   "cell_type": "code",
   "execution_count": 4,
   "metadata": {
    "execution": {
     "iopub.execute_input": "2023-03-08T16:00:31.768077Z",
     "iopub.status.busy": "2023-03-08T16:00:31.767173Z",
     "iopub.status.idle": "2023-03-08T16:00:31.791879Z",
     "shell.execute_reply": "2023-03-08T16:00:31.791245Z",
     "shell.execute_reply.started": "2023-03-08T13:48:37.393307Z"
    },
    "papermill": {
     "duration": 0.157259,
     "end_time": "2023-03-08T16:00:31.792068",
     "exception": false,
     "start_time": "2023-03-08T16:00:31.634809",
     "status": "completed"
    },
    "tags": []
   },
   "outputs": [
    {
     "data": {
      "text/plain": [
       "1"
      ]
     },
     "execution_count": 4,
     "metadata": {},
     "output_type": "execute_result"
    }
   ],
   "source": [
    "seq_record = SeqRecord(seq_n)\n",
    "\n",
    "seq_record.id = \"ABC12345\"\n",
    "seq_record.description = 'Neucleotide sequence'\n",
    "seq_record.annotations['molecule_type'] = 'DNA'\n",
    "SeqIO.write(seq_record,\"/kaggle/working/my_seq.fasta\",\"fasta\")\n",
    "SeqIO.write(seq_record,\"/kaggle/working/my_seq.gb\",\"genbank\")"
   ]
  },
  {
   "cell_type": "code",
   "execution_count": 5,
   "metadata": {
    "execution": {
     "iopub.execute_input": "2023-03-08T16:00:32.031069Z",
     "iopub.status.busy": "2023-03-08T16:00:32.030269Z",
     "iopub.status.idle": "2023-03-08T16:00:32.033988Z",
     "shell.execute_reply": "2023-03-08T16:00:32.034705Z",
     "shell.execute_reply.started": "2023-03-08T13:48:37.431198Z"
    },
    "papermill": {
     "duration": 0.127842,
     "end_time": "2023-03-08T16:00:32.034941",
     "exception": false,
     "start_time": "2023-03-08T16:00:31.907099",
     "status": "completed"
    },
    "tags": []
   },
   "outputs": [
    {
     "name": "stdout",
     "output_type": "stream",
     "text": [
      "FASTA Annotations:\n",
      "{}\n",
      "GenBank Annotations\n",
      "{'molecule_type': 'DNA', 'data_file_division': 'UNK', 'date': '01-JAN-1980', 'accessions': ['ABC12345'], 'keywords': [''], 'source': '', 'organism': '.', 'taxonomy': []}\n"
     ]
    }
   ],
   "source": [
    "# As we can see FASTA doesn't seem to save the annotations data\n",
    "print('FASTA Annotations:')\n",
    "read_seq1 = SeqIO.read('/kaggle/working/my_seq.fasta','fasta')\n",
    "print(read_seq1.annotations)  # annotations\n",
    "\n",
    "# Whereas Genbank does\n",
    "print('GenBank Annotations')\n",
    "read_seq2 = SeqIO.read('/kaggle/working/my_seq.gb','genbank')\n",
    "print(read_seq2.annotations)  # annotations"
   ]
  },
  {
   "cell_type": "markdown",
   "metadata": {
    "papermill": {
     "duration": 0.116964,
     "end_time": "2023-03-08T16:00:32.268890",
     "exception": false,
     "start_time": "2023-03-08T16:00:32.151926",
     "status": "completed"
    },
    "tags": []
   },
   "source": [
    "## SEQRECORD FEATURES\n",
    "\n",
    "Real sequences can be very long & contain useful subset sequences that one might be interested in.\n",
    "Feature descriptions can be quite useful; if we want to define subsets of the sequence to which a feature is applicable.\n",
    "\n",
    "Some SeqFeature object attributes:\n",
    "location - Indicator of which region the annotation applies (FeatureLocation object )\n",
    "type - Feature type (string)\n",
    "qualifiers - Additional Info (dict)"
   ]
  },
  {
   "cell_type": "code",
   "execution_count": 6,
   "metadata": {
    "execution": {
     "iopub.execute_input": "2023-03-08T16:00:32.510546Z",
     "iopub.status.busy": "2023-03-08T16:00:32.509574Z",
     "iopub.status.idle": "2023-03-08T16:00:32.513823Z",
     "shell.execute_reply": "2023-03-08T16:00:32.513134Z",
     "shell.execute_reply.started": "2023-03-08T13:48:37.443152Z"
    },
    "papermill": {
     "duration": 0.126436,
     "end_time": "2023-03-08T16:00:32.513998",
     "exception": false,
     "start_time": "2023-03-08T16:00:32.387562",
     "status": "completed"
    },
    "tags": []
   },
   "outputs": [
    {
     "name": "stdout",
     "output_type": "stream",
     "text": [
      "Feature Location Notation: [>10:(35^40)]\n"
     ]
    }
   ],
   "source": [
    "from Bio import SeqFeature\n",
    "\n",
    "# Define locations \n",
    "s0 = SeqFeature.AfterPosition(10) # exact location\n",
    "s1 = SeqFeature.BetweenPosition(40,left=35,right=40) # fuzzy location (range)\n",
    "location = SeqFeature.FeatureLocation(s0,s1) # define the feature location\n",
    "print(f'Feature Location Notation: {location}')"
   ]
  },
  {
   "cell_type": "code",
   "execution_count": 7,
   "metadata": {
    "execution": {
     "iopub.execute_input": "2023-03-08T16:00:32.750514Z",
     "iopub.status.busy": "2023-03-08T16:00:32.749620Z",
     "iopub.status.idle": "2023-03-08T16:00:32.752944Z",
     "shell.execute_reply": "2023-03-08T16:00:32.753473Z",
     "shell.execute_reply.started": "2023-03-08T13:48:37.454945Z"
    },
    "papermill": {
     "duration": 0.125018,
     "end_time": "2023-03-08T16:00:32.753708",
     "exception": false,
     "start_time": "2023-03-08T16:00:32.628690",
     "status": "completed"
    },
    "tags": []
   },
   "outputs": [
    {
     "name": "stdout",
     "output_type": "stream",
     "text": [
      "GCTGT\n"
     ]
    }
   ],
   "source": [
    "# Example for a gene feature\n",
    "\n",
    "unitig = Seq('GTGCGACAGCAAAGTCCAAACCAGCGTCCCCGCC')\n",
    "feature = SeqFeature.SeqFeature(SeqFeature.FeatureLocation(5,10), # location (shorter)\n",
    "                                type='gene', # the specified type of the feature\n",
    "                                strand=-1  # -1 indicates the minus strand (reverse_complement)\n",
    "                               )\n",
    "\n",
    "# If we wanted to extract the feature\n",
    "feature_seq = feature.extract(unitig)\n",
    "print(feature_seq)"
   ]
  },
  {
   "cell_type": "code",
   "execution_count": 8,
   "metadata": {
    "execution": {
     "iopub.execute_input": "2023-03-08T16:00:32.994031Z",
     "iopub.status.busy": "2023-03-08T16:00:32.992925Z",
     "iopub.status.idle": "2023-03-08T16:00:32.996498Z",
     "shell.execute_reply": "2023-03-08T16:00:32.995873Z",
     "shell.execute_reply.started": "2023-03-08T13:48:37.467312Z"
    },
    "papermill": {
     "duration": 0.126638,
     "end_time": "2023-03-08T16:00:32.996671",
     "exception": false,
     "start_time": "2023-03-08T16:00:32.870033",
     "status": "completed"
    },
    "tags": []
   },
   "outputs": [],
   "source": [
    "seq_record = SeqRecord(unitig)\n",
    "\n",
    "seq_record.id = \"ABC12345\"\n",
    "seq_record.description = 'Neisseria gonorrhoeae unitig'\n",
    "seq_record.annotations['molecule_type'] = 'DNA'\n",
    "seq_record.features = [feature]"
   ]
  },
  {
   "cell_type": "code",
   "execution_count": 9,
   "metadata": {
    "execution": {
     "iopub.execute_input": "2023-03-08T16:00:33.240204Z",
     "iopub.status.busy": "2023-03-08T16:00:33.239424Z",
     "iopub.status.idle": "2023-03-08T16:00:33.250435Z",
     "shell.execute_reply": "2023-03-08T16:00:33.249796Z",
     "shell.execute_reply.started": "2023-03-08T13:48:37.484605Z"
    },
    "papermill": {
     "duration": 0.13694,
     "end_time": "2023-03-08T16:00:33.250642",
     "exception": false,
     "start_time": "2023-03-08T16:00:33.113702",
     "status": "completed"
    },
    "tags": []
   },
   "outputs": [
    {
     "name": "stdout",
     "output_type": "stream",
     "text": [
      "[SeqFeature(FeatureLocation(ExactPosition(5), ExactPosition(10), strand=-1), type='gene')]\n",
      "\n",
      "Extracted Feature:\n",
      "ID: <unknown id>\n",
      "Name: <unknown name>\n",
      "Description: <unknown description>\n",
      "Number of features: 1\n",
      "Seq('GCTGT')\n"
     ]
    }
   ],
   "source": [
    "# We can write to gb file & see our stored data\n",
    "SeqIO.write(seq_record,\"/kaggle/working/my_seq.gb\",\"genbank\")\n",
    "read_seq2 = SeqIO.read('/kaggle/working/my_seq.gb','genbank')\n",
    "print(read_seq2.features)  # annotations\n",
    "\n",
    "# define one of the features from the list\n",
    "feature = read_seq2.features[0]\n",
    "\n",
    "# Extracted feature\n",
    "feature_seq = feature.extract(read_seq2)\n",
    "print('\\nExtracted Feature:')\n",
    "print(feature_seq)"
   ]
  },
  {
   "cell_type": "markdown",
   "metadata": {
    "papermill": {
     "duration": 0.119381,
     "end_time": "2023-03-08T16:00:33.487199",
     "exception": false,
     "start_time": "2023-03-08T16:00:33.367818",
     "status": "completed"
    },
    "tags": []
   },
   "source": [
    "## Reading Sequence Files\n",
    "\n",
    "Common Formats\n",
    "\n",
    "BioPython, FASTA & GenBank file formats can be read using BioPython's Bio.SeqIO class.\n",
    "\n",
    "### SIMPLE OR COMPLEX FORMAT\n",
    "\n",
    "FASTA is quite a generic format & can be used to store multiple sequences & even alignments as well.\n",
    "FASTA is definitely less detailed & very minimalistic when it comes to content, usually only containing a description & sequence.\n",
    "GenBank files on the other hand tend to be very detailed when it comes to the sequence description.\n",
    "\n",
    "### FASTA Format\n",
    "\n",
    "In bioinformatics and biochemistry, the FASTA format is a text-based format for representing either nucleotide sequences or amino acid (protein) sequences, in which nucleotides or amino acids are represented using single-letter codes. The format also allows for sequence names and comments to precede the sequences. \n",
    "\n",
    "The format originates from the FASTA software package, but has now become a near universal standard in the field of bioinformatics.\n",
    "\n",
    "### READING SINGLE SEQUENCE FILES\n",
    "The FASTA format can actually contain multiple sequences in one file & we need to read them slightly differently.\n",
    "SeqIO.read() is used for reading single sequence files, else we get an error More than one record found in handle."
   ]
  },
  {
   "cell_type": "code",
   "execution_count": 10,
   "metadata": {
    "execution": {
     "iopub.execute_input": "2023-03-08T16:00:33.728234Z",
     "iopub.status.busy": "2023-03-08T16:00:33.727446Z",
     "iopub.status.idle": "2023-03-08T16:00:33.748330Z",
     "shell.execute_reply": "2023-03-08T16:00:33.749147Z",
     "shell.execute_reply.started": "2023-03-08T13:48:37.507310Z"
    },
    "papermill": {
     "duration": 0.145449,
     "end_time": "2023-03-08T16:00:33.749451",
     "exception": false,
     "start_time": "2023-03-08T16:00:33.604002",
     "status": "completed"
    },
    "tags": []
   },
   "outputs": [
    {
     "name": "stdout",
     "output_type": "stream",
     "text": [
      "FASTA Content:\n",
      "ID: HSBGPG\n",
      "Name: HSBGPG\n",
      "Description: HSBGPG Human gene for bone gla protein (BGP)\n",
      "Number of features: 0\n",
      "Seq('GGCAGATTCCCCCTAGACCCGCCCGCACCATGGTCAGGCATGCCCCTCCTCATC...AAG')\n",
      "\n",
      "Number of Nucleotides: 1231\n",
      "\n",
      "Features & Annotations:\n",
      "[]\n",
      "{}\n"
     ]
    }
   ],
   "source": [
    "''' FASTA formats w/ one sequence '''\n",
    "\n",
    "single_fasta = '/kaggle/input/biopython-genbank/example.fasta' # nuceotide seq\n",
    "fasta_n = SeqIO.read(single_fasta,'fasta')\n",
    "print(f'FASTA Content:')\n",
    "print(fasta_n)      # Print fasta file information\n",
    "\n",
    "print(f'\\nNumber of Nucleotides: {len(fasta_n)}') # number of nucleotides\n",
    "seq_fasta = fasta_n.seq # Extract Sequence\n",
    "\n",
    "print('\\nFeatures & Annotations:')\n",
    "print(fasta_n.features)     # some files contain just the basic details\n",
    "print(fasta_n.annotations)  "
   ]
  },
  {
   "cell_type": "markdown",
   "metadata": {
    "papermill": {
     "duration": 0.118062,
     "end_time": "2023-03-08T16:00:33.986008",
     "exception": false,
     "start_time": "2023-03-08T16:00:33.867946",
     "status": "completed"
    },
    "tags": []
   },
   "source": [
    "### READING MULTIPLE SEQUENCE FILES\n",
    "SeqIO.parse() is used for reading multiple sequence files, which returns an iterator, that can be used to cycle through and get the sequences."
   ]
  },
  {
   "cell_type": "code",
   "execution_count": 11,
   "metadata": {
    "execution": {
     "iopub.execute_input": "2023-03-08T16:00:34.226763Z",
     "iopub.status.busy": "2023-03-08T16:00:34.226013Z",
     "iopub.status.idle": "2023-03-08T16:00:34.242641Z",
     "shell.execute_reply": "2023-03-08T16:00:34.241730Z",
     "shell.execute_reply.started": "2023-03-08T13:48:37.525324Z"
    },
    "papermill": {
     "duration": 0.141351,
     "end_time": "2023-03-08T16:00:34.242900",
     "exception": false,
     "start_time": "2023-03-08T16:00:34.101549",
     "status": "completed"
    },
    "tags": []
   },
   "outputs": [
    {
     "name": "stdout",
     "output_type": "stream",
     "text": [
      "Number of Sequences read: 10\n",
      "\n",
      "First Sequence: \n",
      "ID: gi|45478712|ref|NP_995567.1|\n",
      "Name: gi|45478712|ref|NP_995567.1|\n",
      "Description: gi|45478712|ref|NP_995567.1| putative transposase [Yersinia pestis biovar Microtus str. 91001]\n",
      "Number of features: 0\n",
      "Seq('MVTFETVMEIKILHKQGMSSRAIARELGISRNTVKRYLQAKSEPPKYTPRPAVA...GVA')\n"
     ]
    }
   ],
   "source": [
    "''' FASTA formats w/ multile sequences '''\n",
    "\n",
    "multi_fasta = '/kaggle/input/biopython-genbank/NC_005816.faa' # protein seq\n",
    "iter_multi_fasta_aa = SeqIO.parse(multi_fasta,'fasta') # returns an interator\n",
    "\n",
    "lst_fasta_aa = []\n",
    "for seq_aa in iter_multi_fasta_aa:\n",
    "    lst_fasta_aa.append(seq_aa)\n",
    "    \n",
    "print(f'Number of Sequences read: {len(lst_fasta_aa)}')\n",
    "print(f'\\nFirst Sequence: \\n{lst_fasta_aa[0]}')"
   ]
  },
  {
   "cell_type": "markdown",
   "metadata": {
    "papermill": {
     "duration": 0.117197,
     "end_time": "2023-03-08T16:00:34.477572",
     "exception": false,
     "start_time": "2023-03-08T16:00:34.360375",
     "status": "completed"
    },
    "tags": []
   },
   "source": [
    "### GenBank Format\n",
    "\n",
    "The Genbank format allows for the storage of information in addition to a DNA/protein sequence. It holds much more information than the FASTA format. Formats similar to Genbank have been developed by ENA (EMBL format) and by DDBJ (DDBJ format).\n",
    "\n",
    "**COMPATIBILITY WITH DATABASES**\n",
    "\n",
    "Primary databases have developed highly structured data file formats that enable the storage of all of these additional data that accompany the otherwise “naked” DNA sequence encoded in a FASTA file. The strict layout is necessary for the file to be compatible with a range of computer programs. Each of the three primary databases have their own sequence file format layout. However, all of them contain almost the same fields and the same information, making them interchangeable.\n",
    "\n",
    "Like FASTA GenBank files can store more than one sequence & are read in exactly the same way as shown above using class SeqIO. (.read & .parse)\n",
    "However as indicated above, they tend to contain much more in depth information about the sequence, content of the nature storable in the SeqRecord class object.\n",
    "\n",
    "They can store both Annotations & Features, which makes this format very useful."
   ]
  },
  {
   "cell_type": "code",
   "execution_count": 12,
   "metadata": {
    "execution": {
     "iopub.execute_input": "2023-03-08T16:00:34.715555Z",
     "iopub.status.busy": "2023-03-08T16:00:34.714840Z",
     "iopub.status.idle": "2023-03-08T16:00:34.742902Z",
     "shell.execute_reply": "2023-03-08T16:00:34.742226Z",
     "shell.execute_reply.started": "2023-03-08T13:48:37.543420Z"
    },
    "papermill": {
     "duration": 0.147898,
     "end_time": "2023-03-08T16:00:34.743090",
     "exception": false,
     "start_time": "2023-03-08T16:00:34.595192",
     "status": "completed"
    },
    "tags": []
   },
   "outputs": [
    {
     "name": "stdout",
     "output_type": "stream",
     "text": [
      "Print Seq (preview)\n",
      "TGTAACGAACGGTGCAATAGTGATCCACACCCAACGCCTG\n",
      "\n",
      "Length of Sequence:\n",
      "9609\n",
      "\n",
      "Record ID:\n",
      "NC_005816.1\n",
      "\n",
      "Name:\n",
      "NC_005816\n",
      "\n",
      "Description:\n",
      "Yersinia pestis biovar Microtus str. 91001 plasmid pPCP1, complete sequence\n",
      "\n",
      "Number of Annotations:\n",
      "13\n",
      "\n",
      "Number of Features:\n",
      "41\n"
     ]
    }
   ],
   "source": [
    "file_gb = '/kaggle/input/biopython-genbank/example.gb'\n",
    "\n",
    "''' Read GenBank format '''\n",
    "# GenBank format are more comprehnsive than fasta.\n",
    "\n",
    "gb = SeqIO.read(file_gb,'genbank')\n",
    "seq_gb = gb.seq # store sequence \n",
    "\n",
    "print('Print Seq (preview)')\n",
    "print(gb.seq[:40])\n",
    "\n",
    "print('\\nLength of Sequence:')\n",
    "print(len(gb.seq))\n",
    "\n",
    "print('\\nRecord ID:')\n",
    "print(gb.id)\n",
    "\n",
    "print('\\nName:')\n",
    "print(gb.name)\n",
    "\n",
    "print('\\nDescription:')\n",
    "print(gb.description)\n",
    "\n",
    "# Annotations \n",
    "print('\\nNumber of Annotations:')\n",
    "print(len(gb.annotations))\n",
    "\n",
    "# Features \n",
    "print('\\nNumber of Features:')\n",
    "print(len(gb.features))"
   ]
  },
  {
   "cell_type": "markdown",
   "metadata": {
    "papermill": {
     "duration": 0.11776,
     "end_time": "2023-03-08T16:00:34.980283",
     "exception": false,
     "start_time": "2023-03-08T16:00:34.862523",
     "status": "completed"
    },
    "tags": []
   },
   "source": [
    "### ANNOTATION CONTENT\n",
    "We can visualise the annotation content (if it is present) using .annotations.\n",
    "Being a dictionary, we can get see what sort annotations are present by calling .annotations.keys()."
   ]
  },
  {
   "cell_type": "code",
   "execution_count": 13,
   "metadata": {
    "execution": {
     "iopub.execute_input": "2023-03-08T16:00:35.227971Z",
     "iopub.status.busy": "2023-03-08T16:00:35.227181Z",
     "iopub.status.idle": "2023-03-08T16:00:35.230221Z",
     "shell.execute_reply": "2023-03-08T16:00:35.230759Z",
     "shell.execute_reply.started": "2023-03-08T13:48:37.567265Z"
    },
    "papermill": {
     "duration": 0.130494,
     "end_time": "2023-03-08T16:00:35.230971",
     "exception": false,
     "start_time": "2023-03-08T16:00:35.100477",
     "status": "completed"
    },
    "tags": []
   },
   "outputs": [
    {
     "name": "stdout",
     "output_type": "stream",
     "text": [
      "Annotations dictionary:\n",
      "\n",
      "{'molecule_type': 'DNA', 'topology': 'circular', 'data_file_division': 'BCT', 'date': '21-JUL-2008', 'accessions': ['NC_005816'], 'sequence_version': 1, 'gi': '45478711', 'keywords': [''], 'source': 'Yersinia pestis biovar Microtus str. 91001', 'organism': 'Yersinia pestis biovar Microtus str. 91001', 'taxonomy': ['Bacteria', 'Proteobacteria', 'Gammaproteobacteria', 'Enterobacteriales', 'Enterobacteriaceae', 'Yersinia'], 'references': [Reference(title='Genetics of metabolic variations between Yersinia pestis biovars and the proposal of a new biovar, microtus', ...), Reference(title='Complete genome sequence of Yersinia pestis strain 91001, an isolate avirulent to humans', ...), Reference(title='Direct Submission', ...), Reference(title='Direct Submission', ...)], 'comment': 'PROVISIONAL REFSEQ: This record has not yet been subject to final\\nNCBI review. The reference sequence was derived from AE017046.\\nCOMPLETENESS: full length.'}\n",
      "\n",
      "Keys:\n",
      "dict_keys(['molecule_type', 'topology', 'data_file_division', 'date', 'accessions', 'sequence_version', 'gi', 'keywords', 'source', 'organism', 'taxonomy', 'references', 'comment'])\n"
     ]
    }
   ],
   "source": [
    "# annotations field; dic that provides a number of properties for the seq\n",
    "print('Annotations dictionary:\\n')\n",
    "print(gb.annotations)\n",
    "\n",
    "print('\\nKeys:')\n",
    "print(gb.annotations.keys())"
   ]
  },
  {
   "cell_type": "code",
   "execution_count": 14,
   "metadata": {
    "execution": {
     "iopub.execute_input": "2023-03-08T16:00:35.474122Z",
     "iopub.status.busy": "2023-03-08T16:00:35.473382Z",
     "iopub.status.idle": "2023-03-08T16:00:35.479211Z",
     "shell.execute_reply": "2023-03-08T16:00:35.479844Z",
     "shell.execute_reply.started": "2023-03-08T13:48:37.575445Z"
    },
    "papermill": {
     "duration": 0.13201,
     "end_time": "2023-03-08T16:00:35.480067",
     "exception": false,
     "start_time": "2023-03-08T16:00:35.348057",
     "status": "completed"
    },
    "tags": []
   },
   "outputs": [
    {
     "name": "stdout",
     "output_type": "stream",
     "text": [
      "\n",
      "Get specific parts of the annotation:\n",
      "\n",
      "Taxonomy:\n",
      "\n",
      "['Bacteria', 'Proteobacteria', 'Gammaproteobacteria', 'Enterobacteriales', 'Enterobacteriaceae', 'Yersinia']\n",
      "Source:\n",
      "\n",
      "Yersinia pestis biovar Microtus str. 91001\n",
      "Date:\n",
      "\n",
      "21-JUL-2008\n",
      "gi number:\n",
      "\n",
      "45478711\n"
     ]
    }
   ],
   "source": [
    "# Getting specific key values\n",
    "print('\\nGet specific parts of the annotation:\\n')\n",
    "print('Taxonomy:\\n')\n",
    "print(gb.annotations['taxonomy'])\n",
    "\n",
    "print('Source:\\n')\n",
    "print(gb.annotations['source'])\n",
    "\n",
    "print('Date:\\n')\n",
    "print(gb.annotations['date'])\n",
    "\n",
    "print('gi number:\\n')\n",
    "print(gb.annotations['gi'])"
   ]
  },
  {
   "cell_type": "markdown",
   "metadata": {
    "papermill": {
     "duration": 0.117271,
     "end_time": "2023-03-08T16:00:35.717600",
     "exception": false,
     "start_time": "2023-03-08T16:00:35.600329",
     "status": "completed"
    },
    "tags": []
   },
   "source": [
    "### SHOWING FEATURES CONTENT\n",
    "If there are any features present in the file, we can get the by calling .features \n",
    "Subsets of the sequence can be extracted .extract() from the The list of SeqFeature objects."
   ]
  },
  {
   "cell_type": "code",
   "execution_count": 15,
   "metadata": {
    "execution": {
     "iopub.execute_input": "2023-03-08T16:00:35.960523Z",
     "iopub.status.busy": "2023-03-08T16:00:35.959559Z",
     "iopub.status.idle": "2023-03-08T16:00:35.963430Z",
     "shell.execute_reply": "2023-03-08T16:00:35.963997Z",
     "shell.execute_reply.started": "2023-03-08T13:48:37.591525Z"
    },
    "papermill": {
     "duration": 0.12871,
     "end_time": "2023-03-08T16:00:35.964229",
     "exception": false,
     "start_time": "2023-03-08T16:00:35.835519",
     "status": "completed"
    },
    "tags": []
   },
   "outputs": [
    {
     "data": {
      "text/plain": [
       "[SeqFeature(FeatureLocation(ExactPosition(0), ExactPosition(9609), strand=1), type='source'),\n",
       " SeqFeature(FeatureLocation(ExactPosition(0), ExactPosition(1954), strand=1), type='repeat_region'),\n",
       " SeqFeature(FeatureLocation(ExactPosition(86), ExactPosition(1109), strand=1), type='gene'),\n",
       " SeqFeature(FeatureLocation(ExactPosition(86), ExactPosition(1109), strand=1), type='CDS'),\n",
       " SeqFeature(FeatureLocation(ExactPosition(86), ExactPosition(959), strand=1), type='misc_feature')]"
      ]
     },
     "execution_count": 15,
     "metadata": {},
     "output_type": "execute_result"
    }
   ],
   "source": [
    "gb.features[:5] # show only a few features (total=41)"
   ]
  },
  {
   "cell_type": "markdown",
   "metadata": {
    "papermill": {
     "duration": 0.119205,
     "end_time": "2023-03-08T16:00:36.205523",
     "exception": false,
     "start_time": "2023-03-08T16:00:36.086318",
     "status": "completed"
    },
    "tags": []
   },
   "source": [
    "### EXPLORING THE \"GENE\" FEATURE TYPE\n",
    "One of the features .type that is used in .features is \"gene\".\n",
    "cycling through all features & get all the annotated genes in the whole sequence.\n",
    "Exploring these genes, we can get their locus tag (from qualifiers), database reference (from qualifiers), strand & location.\n",
    "We can apply an operation called translate to try to find the proteins that the gene feature encode"
   ]
  },
  {
   "cell_type": "code",
   "execution_count": 16,
   "metadata": {
    "execution": {
     "iopub.execute_input": "2023-03-08T16:00:36.452191Z",
     "iopub.status.busy": "2023-03-08T16:00:36.451142Z",
     "iopub.status.idle": "2023-03-08T16:00:36.456731Z",
     "shell.execute_reply": "2023-03-08T16:00:36.457637Z",
     "shell.execute_reply.started": "2023-03-08T13:48:37.605548Z"
    },
    "papermill": {
     "duration": 0.133823,
     "end_time": "2023-03-08T16:00:36.457924",
     "exception": false,
     "start_time": "2023-03-08T16:00:36.324101",
     "status": "completed"
    },
    "tags": []
   },
   "outputs": [
    {
     "name": "stdout",
     "output_type": "stream",
     "text": [
      "Number of gene features: 10\n"
     ]
    },
    {
     "data": {
      "text/plain": [
       "[SeqFeature(FeatureLocation(ExactPosition(86), ExactPosition(1109), strand=1), type='gene'),\n",
       " SeqFeature(FeatureLocation(ExactPosition(1105), ExactPosition(1888), strand=1), type='gene'),\n",
       " SeqFeature(FeatureLocation(ExactPosition(2924), ExactPosition(3119), strand=1), type='gene'),\n",
       " SeqFeature(FeatureLocation(ExactPosition(3485), ExactPosition(3857), strand=1), type='gene'),\n",
       " SeqFeature(FeatureLocation(ExactPosition(4342), ExactPosition(4780), strand=1), type='gene'),\n",
       " SeqFeature(FeatureLocation(ExactPosition(4814), ExactPosition(5888), strand=-1), type='gene'),\n",
       " SeqFeature(FeatureLocation(ExactPosition(6004), ExactPosition(6421), strand=1), type='gene'),\n",
       " SeqFeature(FeatureLocation(ExactPosition(6663), ExactPosition(7602), strand=1), type='gene'),\n",
       " SeqFeature(FeatureLocation(ExactPosition(7788), ExactPosition(8088), strand=-1), type='gene'),\n",
       " SeqFeature(FeatureLocation(ExactPosition(8087), ExactPosition(8360), strand=-1), type='gene')]"
      ]
     },
     "execution_count": 16,
     "metadata": {},
     "output_type": "execute_result"
    }
   ],
   "source": [
    "gene_features = []\n",
    "for i in range(len(gb.features)):\n",
    "    if(gb.features[i].type == 'gene'):\n",
    "        gene_features.append(gb.features[i])\n",
    "\n",
    "print(f'Number of gene features: {len(gene_features)}')\n",
    "gene_features"
   ]
  },
  {
   "cell_type": "code",
   "execution_count": 17,
   "metadata": {
    "execution": {
     "iopub.execute_input": "2023-03-08T16:00:36.702842Z",
     "iopub.status.busy": "2023-03-08T16:00:36.701665Z",
     "iopub.status.idle": "2023-03-08T16:00:36.706279Z",
     "shell.execute_reply": "2023-03-08T16:00:36.706897Z",
     "shell.execute_reply.started": "2023-03-08T13:48:37.620693Z"
    },
    "papermill": {
     "duration": 0.128463,
     "end_time": "2023-03-08T16:00:36.707146",
     "exception": false,
     "start_time": "2023-03-08T16:00:36.578683",
     "status": "completed"
    },
    "tags": []
   },
   "outputs": [
    {
     "data": {
      "text/plain": [
       "OrderedDict([('locus_tag', ['YP_pPCP01']), ('db_xref', ['GeneID:2767718'])])"
      ]
     },
     "execution_count": 17,
     "metadata": {},
     "output_type": "execute_result"
    }
   ],
   "source": [
    "# Gene Qualifiers\n",
    "gene_features[0].qualifiers"
   ]
  },
  {
   "cell_type": "code",
   "execution_count": 18,
   "metadata": {
    "execution": {
     "iopub.execute_input": "2023-03-08T16:00:36.952116Z",
     "iopub.status.busy": "2023-03-08T16:00:36.951008Z",
     "iopub.status.idle": "2023-03-08T16:00:36.957378Z",
     "shell.execute_reply": "2023-03-08T16:00:36.956771Z",
     "shell.execute_reply.started": "2023-03-08T13:48:37.634629Z"
    },
    "papermill": {
     "duration": 0.131241,
     "end_time": "2023-03-08T16:00:36.957582",
     "exception": false,
     "start_time": "2023-03-08T16:00:36.826341",
     "status": "completed"
    },
    "tags": []
   },
   "outputs": [
    {
     "name": "stdout",
     "output_type": "stream",
     "text": [
      "locus tag: ['YP_pPCP01'], database ref: ['GeneID:2767718'], strand: 1, location: [86:1109](+)\n",
      "locus tag: ['YP_pPCP02'], database ref: ['GeneID:2767716'], strand: 1, location: [1105:1888](+)\n",
      "locus tag: ['YP_pPCP03'], database ref: ['GeneID:2767717'], strand: 1, location: [2924:3119](+)\n",
      "locus tag: ['YP_pPCP04'], database ref: ['GeneID:2767720'], strand: 1, location: [3485:3857](+)\n",
      "locus tag: ['YP_pPCP05'], database ref: ['GeneID:2767712'], strand: 1, location: [4342:4780](+)\n",
      "locus tag: ['YP_pPCP06'], database ref: ['GeneID:2767721'], strand: -1, location: [4814:5888](-)\n",
      "locus tag: ['YP_pPCP07'], database ref: ['GeneID:2767719'], strand: 1, location: [6004:6421](+)\n",
      "locus tag: ['YP_pPCP08'], database ref: ['GeneID:2767715'], strand: 1, location: [6663:7602](+)\n",
      "locus tag: ['YP_pPCP09'], database ref: ['GeneID:2767713'], strand: -1, location: [7788:8088](-)\n",
      "locus tag: ['YP_pPCP10'], database ref: ['GeneID:2767714'], strand: -1, location: [8087:8360](-)\n"
     ]
    }
   ],
   "source": [
    "for feat in gene_features:\n",
    "    print(f\"locus tag: {feat.qualifiers['locus_tag']}, database ref: {feat.qualifiers['db_xref']}, strand: {feat.strand}, location: {feat.location}\")"
   ]
  },
  {
   "cell_type": "code",
   "execution_count": 19,
   "metadata": {
    "execution": {
     "iopub.execute_input": "2023-03-08T16:00:37.208059Z",
     "iopub.status.busy": "2023-03-08T16:00:37.206817Z",
     "iopub.status.idle": "2023-03-08T16:00:37.211530Z",
     "shell.execute_reply": "2023-03-08T16:00:37.210924Z",
     "shell.execute_reply.started": "2023-03-08T13:48:37.648234Z"
    },
    "papermill": {
     "duration": 0.131658,
     "end_time": "2023-03-08T16:00:37.211709",
     "exception": false,
     "start_time": "2023-03-08T16:00:37.080051",
     "status": "completed"
    },
    "tags": []
   },
   "outputs": [
    {
     "data": {
      "text/plain": [
       "[Seq('MVTFETVMEIKILHKQGMSSRAIARELGISRNTVKRYLQAKSEPPKYTPRPAVA...GVA'),\n",
       " Seq('MMMELQHQRLMALAGQLQLESLISAAPALSQQAVDQEWSYMDFLEHLLHEEKLA...NPE'),\n",
       " Seq('MNKQQQTALNMARFIRSQSLILLEKLDALDADEQAAMCERLHELAEELQNSIQA...TGT'),\n",
       " Seq('MSKKRRPQKRPRRRRFFHRLRPPDEHHKNRRSSQRWRNPTGLKDTRRFPPEAPS...PTR'),\n",
       " Seq('MGGGMISKLFCLALIFLSSSGLAEKNTYTAKDILQNLELNTFGNSLSHGIYGKQ...YYH'),\n",
       " Seq('MSDTMVVNGSGGVPAFLFSGSTLSSYRPNFEANSITIALPHYVDLPGRSNFKLM...LLK'),\n",
       " Seq('MKFHFCDLNHSYKNQEGKIRSRKTAPGNIRKKQKGDNVSKTKSGRHRLSKTDKR...DLP'),\n",
       " Seq('MKKSSIVATIITILSGSANAASSQLIPNISPDSFTVAASTGMLSGKSHEMLYDA...YRF'),\n",
       " Seq('MRTLDEVIASRSPESQTRIKEMADEMILEVGLQMMREELQLSQKQVAEAMGISQ...FHV'),\n",
       " Seq('MADLKKLQVYGPELPRPYADTVKGSRYKNMKELRVQFSGRPIRAFYAFDPIRRA...ESK')]"
      ]
     },
     "execution_count": 19,
     "metadata": {},
     "output_type": "execute_result"
    }
   ],
   "source": [
    "protein_feat = []\n",
    "for feat in gene_features:\n",
    "    protein_feat.append(feat.extract(gb.seq).translate(table='Bacterial',cds=True))\n",
    "    \n",
    "protein_feat # list of protein sequences"
   ]
  },
  {
   "cell_type": "markdown",
   "metadata": {
    "papermill": {
     "duration": 0.118935,
     "end_time": "2023-03-08T16:00:37.451440",
     "exception": false,
     "start_time": "2023-03-08T16:00:37.332505",
     "status": "completed"
    },
    "tags": []
   },
   "source": [
    "### EXPLORING \"CDS\" FEATURE TYPE\n",
    "Another .type that is used in .features is \"CDS\" (Coding Sequence)\n",
    "CDS qualifiers contain quite a bit more content, including the translation sequence, so we can compare our translation of the gene feature, since both types are reffering to the same parts of the sequence."
   ]
  },
  {
   "cell_type": "code",
   "execution_count": 20,
   "metadata": {
    "execution": {
     "iopub.execute_input": "2023-03-08T16:00:37.698269Z",
     "iopub.status.busy": "2023-03-08T16:00:37.697348Z",
     "iopub.status.idle": "2023-03-08T16:00:37.702009Z",
     "shell.execute_reply": "2023-03-08T16:00:37.702549Z",
     "shell.execute_reply.started": "2023-03-08T13:48:37.664512Z"
    },
    "papermill": {
     "duration": 0.132832,
     "end_time": "2023-03-08T16:00:37.702777",
     "exception": false,
     "start_time": "2023-03-08T16:00:37.569945",
     "status": "completed"
    },
    "tags": []
   },
   "outputs": [
    {
     "name": "stdout",
     "output_type": "stream",
     "text": [
      "Number of CDS features: 10\n"
     ]
    },
    {
     "data": {
      "text/plain": [
       "[SeqFeature(FeatureLocation(ExactPosition(86), ExactPosition(1109), strand=1), type='CDS'),\n",
       " SeqFeature(FeatureLocation(ExactPosition(1105), ExactPosition(1888), strand=1), type='CDS'),\n",
       " SeqFeature(FeatureLocation(ExactPosition(2924), ExactPosition(3119), strand=1), type='CDS'),\n",
       " SeqFeature(FeatureLocation(ExactPosition(3485), ExactPosition(3857), strand=1), type='CDS'),\n",
       " SeqFeature(FeatureLocation(ExactPosition(4342), ExactPosition(4780), strand=1), type='CDS'),\n",
       " SeqFeature(FeatureLocation(ExactPosition(4814), ExactPosition(5888), strand=-1), type='CDS'),\n",
       " SeqFeature(FeatureLocation(ExactPosition(6004), ExactPosition(6421), strand=1), type='CDS'),\n",
       " SeqFeature(FeatureLocation(ExactPosition(6663), ExactPosition(7602), strand=1), type='CDS'),\n",
       " SeqFeature(FeatureLocation(ExactPosition(7788), ExactPosition(8088), strand=-1), type='CDS'),\n",
       " SeqFeature(FeatureLocation(ExactPosition(8087), ExactPosition(8360), strand=-1), type='CDS')]"
      ]
     },
     "execution_count": 20,
     "metadata": {},
     "output_type": "execute_result"
    }
   ],
   "source": [
    "CDS_features = []\n",
    "for i in range(len(gb.features)):\n",
    "    if(gb.features[i].type == 'CDS'):\n",
    "        CDS_features.append(gb.features[i])\n",
    "        \n",
    "print(f\"Number of CDS features: {len(CDS_features)}\")\n",
    "CDS_features"
   ]
  },
  {
   "cell_type": "code",
   "execution_count": 21,
   "metadata": {
    "execution": {
     "iopub.execute_input": "2023-03-08T16:00:37.956088Z",
     "iopub.status.busy": "2023-03-08T16:00:37.954981Z",
     "iopub.status.idle": "2023-03-08T16:00:37.959058Z",
     "shell.execute_reply": "2023-03-08T16:00:37.959957Z",
     "shell.execute_reply.started": "2023-03-08T13:48:37.680211Z"
    },
    "papermill": {
     "duration": 0.134764,
     "end_time": "2023-03-08T16:00:37.960286",
     "exception": false,
     "start_time": "2023-03-08T16:00:37.825522",
     "status": "completed"
    },
    "tags": []
   },
   "outputs": [
    {
     "name": "stdout",
     "output_type": "stream",
     "text": [
      "CDS Qualifier Keys: odict_keys(['locus_tag', 'note', 'codon_start', 'transl_table', 'product', 'protein_id', 'db_xref', 'translation'])\n",
      "\n",
      "Showing First CDS Feature\n",
      "OrderedDict([('locus_tag', ['YP_pPCP01']),\n",
      "             ('note',\n",
      "              ['similar to corresponding CDS from previously sequenced pPCP '\n",
      "               'plasmid of Yersinia pestis KIM (AF053945) and CO92 (AL109969), '\n",
      "               'also many transposase entries for insertion sequence IS100 of '\n",
      "               'Yersinia pestis. Contains IS21-like element transposase, HTH '\n",
      "               'domain (Interpro|IPR007101)']),\n",
      "             ('codon_start', ['1']),\n",
      "             ('transl_table', ['11']),\n",
      "             ('product', ['putative transposase']),\n",
      "             ('protein_id', ['NP_995567.1']),\n",
      "             ('db_xref', ['GI:45478712', 'GeneID:2767718']),\n",
      "             ('translation',\n",
      "              ['MVTFETVMEIKILHKQGMSSRAIARELGISRNTVKRYLQAKSEPPKYTPRPAVASLLDEYRDYIRQRIADAHPYKIPATVIAREIRDQGYRGGMTILRAFIRSLSVPQEQEPAVRFETEPGRQMQVDWGTMRNGRSPLHVFVAVLGYSRMLYIEFTDNMRYDTLETCHRNAFRFFGGVPREVLYDNMKTVVLQRDAYQTGQHRFHPSLWQFGKEMGFSPRLCRPFRAQTKGKVERMVQYTRNSFYIPLMTRLRPMGITVDVETANRHGLRWLHDVANQRKHETIQARPCDRWLEEQQSMLALPPEKKEYDVHLDENLVNFDKHPLHHPLSIYDSFCRGVA'])])\n"
     ]
    }
   ],
   "source": [
    "print(f'CDS Qualifier Keys: {CDS_features[0].qualifiers.keys()}\\n')\n",
    "\n",
    "print('Showing First CDS Feature')\n",
    "pprint(CDS_features[0].qualifiers) # ordered dictionary"
   ]
  },
  {
   "cell_type": "code",
   "execution_count": 22,
   "metadata": {
    "execution": {
     "iopub.execute_input": "2023-03-08T16:00:38.213387Z",
     "iopub.status.busy": "2023-03-08T16:00:38.212269Z",
     "iopub.status.idle": "2023-03-08T16:00:38.216195Z",
     "shell.execute_reply": "2023-03-08T16:00:38.216942Z",
     "shell.execute_reply.started": "2023-03-08T13:48:37.693725Z"
    },
    "papermill": {
     "duration": 0.133471,
     "end_time": "2023-03-08T16:00:38.217219",
     "exception": false,
     "start_time": "2023-03-08T16:00:38.083748",
     "status": "completed"
    },
    "tags": []
   },
   "outputs": [
    {
     "name": "stdout",
     "output_type": "stream",
     "text": [
      "locus_tag : ['YP_pPCP01']\n",
      "note : ['similar to corresponding CDS from previously sequenced pPCP plasmid of Yersinia pestis KIM (AF053945) and CO92 (AL109969), also many transposase entries for insertion sequence IS100 of Yersinia pestis. Contains IS21-like element transposase, HTH domain (Interpro|IPR007101)']\n",
      "codon_start : ['1']\n",
      "transl_table : ['11']\n",
      "product : ['putative transposase']\n",
      "protein_id : ['NP_995567.1']\n",
      "db_xref : ['GI:45478712', 'GeneID:2767718']\n",
      "translation : ['MVTFETVMEIKILHKQGMSSRAIARELGISRNTVKRYLQAKSEPPKYTPRPAVASLLDEYRDYIRQRIADAHPYKIPATVIAREIRDQGYRGGMTILRAFIRSLSVPQEQEPAVRFETEPGRQMQVDWGTMRNGRSPLHVFVAVLGYSRMLYIEFTDNMRYDTLETCHRNAFRFFGGVPREVLYDNMKTVVLQRDAYQTGQHRFHPSLWQFGKEMGFSPRLCRPFRAQTKGKVERMVQYTRNSFYIPLMTRLRPMGITVDVETANRHGLRWLHDVANQRKHETIQARPCDRWLEEQQSMLALPPEKKEYDVHLDENLVNFDKHPLHHPLSIYDSFCRGVA']\n"
     ]
    }
   ],
   "source": [
    "for key, value in CDS_features[0].qualifiers.items():\n",
    "    print(f'{key} : {value}')"
   ]
  },
  {
   "cell_type": "code",
   "execution_count": 23,
   "metadata": {
    "execution": {
     "iopub.execute_input": "2023-03-08T16:00:38.467552Z",
     "iopub.status.busy": "2023-03-08T16:00:38.466458Z",
     "iopub.status.idle": "2023-03-08T16:00:38.471828Z",
     "shell.execute_reply": "2023-03-08T16:00:38.471115Z",
     "shell.execute_reply.started": "2023-03-08T13:48:37.711366Z"
    },
    "papermill": {
     "duration": 0.131626,
     "end_time": "2023-03-08T16:00:38.471997",
     "exception": false,
     "start_time": "2023-03-08T16:00:38.340371",
     "status": "completed"
    },
    "tags": []
   },
   "outputs": [
    {
     "data": {
      "text/plain": [
       "True"
      ]
     },
     "execution_count": 23,
     "metadata": {},
     "output_type": "execute_result"
    }
   ],
   "source": [
    "# Should be identical\n",
    "Seq(CDS_features[0].qualifiers['translation'][0]) == protein_feat[0]"
   ]
  },
  {
   "cell_type": "markdown",
   "metadata": {
    "papermill": {
     "duration": 0.121441,
     "end_time": "2023-03-08T16:00:38.714367",
     "exception": false,
     "start_time": "2023-03-08T16:00:38.592926",
     "status": "completed"
    },
    "tags": []
   },
   "source": [
    "### Sequence Processing\n",
    "Biopython uses Python, so the standard string operations can be used."
   ]
  },
  {
   "cell_type": "code",
   "execution_count": 24,
   "metadata": {
    "execution": {
     "iopub.execute_input": "2023-03-08T16:00:38.965145Z",
     "iopub.status.busy": "2023-03-08T16:00:38.963966Z",
     "iopub.status.idle": "2023-03-08T16:00:38.969606Z",
     "shell.execute_reply": "2023-03-08T16:00:38.968661Z",
     "shell.execute_reply.started": "2023-03-08T13:48:37.723899Z"
    },
    "papermill": {
     "duration": 0.134179,
     "end_time": "2023-03-08T16:00:38.969841",
     "exception": false,
     "start_time": "2023-03-08T16:00:38.835662",
     "status": "completed"
    },
    "tags": []
   },
   "outputs": [
    {
     "name": "stdout",
     "output_type": "stream",
     "text": [
      "373\n",
      "GC\n",
      "True\n",
      "75\n",
      "MEVRNAKSGHERWKY\n"
     ]
    }
   ],
   "source": [
    "''' Basic Operations '''\n",
    "\n",
    "print(seq_fasta.count('G'))   # Counter for Guanine Nucleotide Count\n",
    "print(seq_fasta[1:3])         # Show specific Subset of a Sequence\n",
    "print('ATA' in seq_fasta)     # Is string subset part of sequence\n",
    "print(seq_fasta.find('ATA'))  # Find Substring index \n",
    "\n",
    "# Instantiate a sequence w/ Seq()\n",
    "seq1 = Seq('MEVRNAKS')\n",
    "seq2 = Seq('GHERWKY')\n",
    "\n",
    "print(seq1 + seq2)"
   ]
  },
  {
   "cell_type": "markdown",
   "metadata": {
    "papermill": {
     "duration": 0.122743,
     "end_time": "2023-03-08T16:00:39.216625",
     "exception": false,
     "start_time": "2023-03-08T16:00:39.093882",
     "status": "completed"
    },
    "tags": []
   },
   "source": [
    "### TRANSCRIPTION\n",
    "The process of transcription from DNA to RNA, is a critical step in the process of protein synthesis:\n",
    "\n",
    "(I) Process that occurs within the nucleus of a cell; we obtain a Mature messenger RNA, mRNA.\n",
    "(II) mRNA is then transfered to the cytoplasm, where it will be used by a cellular machine, to guide the production of a protein.\n",
    "\n",
    "Given a DNA sequence, transcription is the first step in obtaining a Protein.\n",
    "Nucleotide sequence of a gene from one of the DNA strands is transcribed ( copied into a compelentary molecule of RNA )\n",
    "Complementarity of code, allows us to recover information contained in the DNA sequence, process performed by an enzyme, RNA polymerase.\n",
    "Stabilisation of elements at the end of a molecule are perfomed by different protein complexes.\n",
    "\n",
    "### REVERSE COMPLEMENT\n",
    "DNA has two complementary strands.\n",
    "Due to the complementarity of the DNA strands, usually only one of the strands is provided in a sequence file obtained from databases.\n",
    "The second strand to the input DNA sequence can be obtained by calling the .reverse_complement() function."
   ]
  },
  {
   "cell_type": "code",
   "execution_count": 25,
   "metadata": {
    "execution": {
     "iopub.execute_input": "2023-03-08T16:00:39.469262Z",
     "iopub.status.busy": "2023-03-08T16:00:39.468134Z",
     "iopub.status.idle": "2023-03-08T16:00:39.471974Z",
     "shell.execute_reply": "2023-03-08T16:00:39.472539Z",
     "shell.execute_reply.started": "2023-03-08T13:48:37.739209Z"
    },
    "papermill": {
     "duration": 0.131058,
     "end_time": "2023-03-08T16:00:39.472809",
     "exception": false,
     "start_time": "2023-03-08T16:00:39.341751",
     "status": "completed"
    },
    "tags": []
   },
   "outputs": [
    {
     "name": "stdout",
     "output_type": "stream",
     "text": [
      "DNA Sequence: GGCAGATTCCCCCTAGACCCGCCCGCACCATGGTCAGGCATGCCCCTCCTCATCGCTGGGCACAGCCCAGAGGGTATAAACAGTGCTGGAGGCTGGCGGG\n",
      "Reverse Complement: CTTCTGGAGTTTATTTGGGAGCAGCTGGGATGATGGGGACCCCACATCCATAGGGCTGGGAGGTCAGGGCAAGGGCAAGGGGAAGAGGAAAGAAGGGTGC\n",
      "Transcription: UGUAACGAACGGUGCAAUAGUGAUCCACACCCAACGCCUGAAAUCAGAUCCAGGGGGUAAUCUGCUCUCCUGAUUCAGGAGAGUUUAUGGUCACUUUUGA\n"
     ]
    }
   ],
   "source": [
    "''' Transcription & Reverse Complement '''\n",
    "\n",
    "print(f'DNA Sequence: {seq_fasta[:100]}')\n",
    "print(f'Reverse Complement: {seq_fasta.reverse_complement()[:100]}')\n",
    "print(f'Transcription: {seq_gb.transcribe()[:100]}')"
   ]
  },
  {
   "cell_type": "code",
   "execution_count": 26,
   "metadata": {
    "execution": {
     "iopub.execute_input": "2023-03-08T16:00:39.726921Z",
     "iopub.status.busy": "2023-03-08T16:00:39.725936Z",
     "iopub.status.idle": "2023-03-08T16:00:39.729508Z",
     "shell.execute_reply": "2023-03-08T16:00:39.730067Z",
     "shell.execute_reply.started": "2023-03-08T13:48:37.752141Z"
    },
    "papermill": {
     "duration": 0.131831,
     "end_time": "2023-03-08T16:00:39.730286",
     "exception": false,
     "start_time": "2023-03-08T16:00:39.598455",
     "status": "completed"
    },
    "tags": []
   },
   "outputs": [
    {
     "name": "stdout",
     "output_type": "stream",
     "text": [
      "Table 1 Standard, SGC0\n",
      "\n",
      "  |  T      |  C      |  A      |  G      |\n",
      "--+---------+---------+---------+---------+--\n",
      "T | TTT F   | TCT S   | TAT Y   | TGT C   | T\n",
      "T | TTC F   | TCC S   | TAC Y   | TGC C   | C\n",
      "T | TTA L   | TCA S   | TAA Stop| TGA Stop| A\n",
      "T | TTG L(s)| TCG S   | TAG Stop| TGG W   | G\n",
      "--+---------+---------+---------+---------+--\n",
      "C | CTT L   | CCT P   | CAT H   | CGT R   | T\n",
      "C | CTC L   | CCC P   | CAC H   | CGC R   | C\n",
      "C | CTA L   | CCA P   | CAA Q   | CGA R   | A\n",
      "C | CTG L(s)| CCG P   | CAG Q   | CGG R   | G\n",
      "--+---------+---------+---------+---------+--\n",
      "A | ATT I   | ACT T   | AAT N   | AGT S   | T\n",
      "A | ATC I   | ACC T   | AAC N   | AGC S   | C\n",
      "A | ATA I   | ACA T   | AAA K   | AGA R   | A\n",
      "A | ATG M(s)| ACG T   | AAG K   | AGG R   | G\n",
      "--+---------+---------+---------+---------+--\n",
      "G | GTT V   | GCT A   | GAT D   | GGT G   | T\n",
      "G | GTC V   | GCC A   | GAC D   | GGC G   | C\n",
      "G | GTA V   | GCA A   | GAA E   | GGA G   | A\n",
      "G | GTG V   | GCG A   | GAG E   | GGG G   | G\n",
      "--+---------+---------+---------+---------+--\n"
     ]
    }
   ],
   "source": [
    "from Bio.Data import CodonTable \n",
    "\n",
    "# Let's take a look at one type of table (SGC)\n",
    "table = CodonTable.unambiguous_dna_by_name['Standard']\n",
    "print(table)"
   ]
  },
  {
   "cell_type": "markdown",
   "metadata": {
    "papermill": {
     "duration": 0.122206,
     "end_time": "2023-03-08T16:00:39.978763",
     "exception": false,
     "start_time": "2023-03-08T16:00:39.856557",
     "status": "completed"
    },
    "tags": []
   },
   "source": [
    "### TRANSLATION & CODON TABLES\n",
    "Translation is the process of translating the sequence of a messenger RNA (mRNA) molecule to a sequence of amino acids during protein synthesis. The genetic code describes the relationship between the sequence of base pairs in a gene and the corresponding amino acid sequence that it encodes. In the cell cytoplasm, the ribosome reads the sequence of the mRNA in groups of three bases to assemble the protein.\n",
    "\n",
    "Translation accepts a DNA sequence and converts it into a proteins in the reading frame you specify.\n",
    "CODON TABLES\n",
    "A codon is a sequence of three DNA/RNA nucleotides that corresponds with a specific amino acid or stop signal/codon(*) during protein synthesis\n",
    "\n",
    "The full set of relationships between codons and amino acids (or stop signals) is called the genetic code. The genetic code is often summarized in a table.\n",
    "\n",
    "There are a number of codon tables, a few mentioned below:\n",
    "\n",
    "Standard (SGC)\n",
    "Vertebrate Mitochondrial\n",
    "Bacterial"
   ]
  },
  {
   "cell_type": "code",
   "execution_count": 27,
   "metadata": {
    "execution": {
     "iopub.execute_input": "2023-03-08T16:00:40.230589Z",
     "iopub.status.busy": "2023-03-08T16:00:40.229746Z",
     "iopub.status.idle": "2023-03-08T16:00:40.234023Z",
     "shell.execute_reply": "2023-03-08T16:00:40.234579Z",
     "shell.execute_reply.started": "2023-03-08T13:48:37.768073Z"
    },
    "papermill": {
     "duration": 0.13259,
     "end_time": "2023-03-08T16:00:40.234805",
     "exception": false,
     "start_time": "2023-03-08T16:00:40.102215",
     "status": "completed"
    },
    "tags": []
   },
   "outputs": [
    {
     "data": {
      "text/plain": [
       "'L'"
      ]
     },
     "execution_count": 27,
     "metadata": {},
     "output_type": "execute_result"
    }
   ],
   "source": [
    "# Getting a specific conversion\n",
    "table.forward_table[\"CTA\"]"
   ]
  },
  {
   "cell_type": "code",
   "execution_count": 28,
   "metadata": {
    "execution": {
     "iopub.execute_input": "2023-03-08T16:00:40.497137Z",
     "iopub.status.busy": "2023-03-08T16:00:40.496128Z",
     "iopub.status.idle": "2023-03-08T16:00:40.500392Z",
     "shell.execute_reply": "2023-03-08T16:00:40.501148Z",
     "shell.execute_reply.started": "2023-03-08T13:48:37.783984Z"
    },
    "papermill": {
     "duration": 0.13938,
     "end_time": "2023-03-08T16:00:40.501442",
     "exception": false,
     "start_time": "2023-03-08T16:00:40.362062",
     "status": "completed"
    },
    "tags": []
   },
   "outputs": [
    {
     "name": "stdout",
     "output_type": "stream",
     "text": [
      "translation RNA: MRLT\n",
      "translation DNA: CNERCNSDPHPTPEIRSRG*SALLIQESLWSLLRQLWKLKSCTSRE*VAGRLPENWGSPAIPLNVICRQNLSRQNIRRDLLLLHSWMNTGIIFVNASPML\n",
      "translation DNA (alternative): CNERCNSDPHPTPEI*S*G*SALLIQESLWSLL*QLWKLKSCTS*EWVAGRLPENWGSPAMPLNVIC*QNLSRQNMRRDLLLLHSWMNTGIMFVNASPML\n"
     ]
    }
   ],
   "source": [
    "''' Translation for both DNA & RNA '''\n",
    "#  translate codon into an aminoacid\n",
    "\n",
    "rna_seq = Seq('AUGCGUUUAACU')\n",
    "print(f'translation RNA: {rna_seq.translate()}')\n",
    "\n",
    "# Translate DNA sequence using two different tables (SGC & Vertebrate Mitochondrial)\n",
    "print(f'translation DNA: {seq_gb.translate()[:100]}')\n",
    "print(f'translation DNA (alternative): {seq_gb.translate(table=\"Vertebrate Mitochondrial\")[:100]}') "
   ]
  },
  {
   "cell_type": "markdown",
   "metadata": {
    "papermill": {
     "duration": 0.122676,
     "end_time": "2023-03-08T16:00:40.751753",
     "exception": false,
     "start_time": "2023-03-08T16:00:40.629077",
     "status": "completed"
    },
    "tags": []
   },
   "source": [
    "### REASLISTIC EXAMPLE - PROTEIN IDENTIFICATION\n",
    "Let's obtain the largest amino acid chain in the sequence data."
   ]
  },
  {
   "cell_type": "code",
   "execution_count": 29,
   "metadata": {
    "execution": {
     "iopub.execute_input": "2023-03-08T16:00:41.007891Z",
     "iopub.status.busy": "2023-03-08T16:00:41.007109Z",
     "iopub.status.idle": "2023-03-08T16:00:41.066038Z",
     "shell.execute_reply": "2023-03-08T16:00:41.065263Z",
     "shell.execute_reply.started": "2023-03-08T13:48:37.803148Z"
    },
    "papermill": {
     "duration": 0.191549,
     "end_time": "2023-03-08T16:00:41.066226",
     "exception": false,
     "start_time": "2023-03-08T16:00:40.874677",
     "status": "completed"
    },
    "tags": []
   },
   "outputs": [
    {
     "name": "stdout",
     "output_type": "stream",
     "text": [
      "Translation length: 9967\n"
     ]
    },
    {
     "name": "stderr",
     "output_type": "stream",
     "text": [
      "/opt/conda/lib/python3.7/site-packages/Bio/Seq.py:2338: BiopythonWarning: Partial codon, len(sequence) not a multiple of three. Explicitly trim the sequence or add trailing N before translation. This may become an error in future.\n",
      "  BiopythonWarning,\n"
     ]
    },
    {
     "data": {
      "text/html": [
       "<div>\n",
       "<style scoped>\n",
       "    .dataframe tbody tr th:only-of-type {\n",
       "        vertical-align: middle;\n",
       "    }\n",
       "\n",
       "    .dataframe tbody tr th {\n",
       "        vertical-align: top;\n",
       "    }\n",
       "\n",
       "    .dataframe thead th {\n",
       "        text-align: right;\n",
       "    }\n",
       "</style>\n",
       "<table border=\"1\" class=\"dataframe\">\n",
       "  <thead>\n",
       "    <tr style=\"text-align: right;\">\n",
       "      <th></th>\n",
       "      <th>protein_chains</th>\n",
       "      <th>length</th>\n",
       "    </tr>\n",
       "  </thead>\n",
       "  <tbody>\n",
       "    <tr>\n",
       "      <th>48</th>\n",
       "      <td>CTIVFKRVCGVSAARLTPCGTGTSTDVVYRAFDIYNDKVAGFAKFL...</td>\n",
       "      <td>2701</td>\n",
       "    </tr>\n",
       "    <tr>\n",
       "      <th>61</th>\n",
       "      <td>ASAQRSQITLHINELMDLFMRIFTIGTVTLKQGEIKDATPSDFVRA...</td>\n",
       "      <td>290</td>\n",
       "    </tr>\n",
       "    <tr>\n",
       "      <th>68</th>\n",
       "      <td>TNMKIILFLALITLATCELYHYQECVRGTTVLLKEPCSSGTYEGNS...</td>\n",
       "      <td>123</td>\n",
       "    </tr>\n",
       "    <tr>\n",
       "      <th>62</th>\n",
       "      <td>AQADEYELMYSFVSEETGTLIVNSVLLFLAFVVFLLVTLAILTALR...</td>\n",
       "      <td>83</td>\n",
       "    </tr>\n",
       "    <tr>\n",
       "      <th>67</th>\n",
       "      <td>QQMFHLVDFQVTIAEILLIIMRTFKVSIWNLDYIINLIIKNLSKSL...</td>\n",
       "      <td>63</td>\n",
       "    </tr>\n",
       "  </tbody>\n",
       "</table>\n",
       "</div>"
      ],
      "text/plain": [
       "                                       protein_chains  length\n",
       "48  CTIVFKRVCGVSAARLTPCGTGTSTDVVYRAFDIYNDKVAGFAKFL...    2701\n",
       "61  ASAQRSQITLHINELMDLFMRIFTIGTVTLKQGEIKDATPSDFVRA...     290\n",
       "68  TNMKIILFLALITLATCELYHYQECVRGTTVLLKEPCSSGTYEGNS...     123\n",
       "62  AQADEYELMYSFVSEETGTLIVNSVLLFLAFVVFLLVTLAILTALR...      83\n",
       "67  QQMFHLVDFQVTIAEILLIIMRTFKVSIWNLDYIINLIIKNLSKSL...      63"
      ]
     },
     "metadata": {},
     "output_type": "display_data"
    }
   ],
   "source": [
    "# Load our sequence & apply translate\n",
    "virus_fna = '/kaggle/input/coronavirus-genome-sequence/MN908947.fna'\n",
    "virus_SeqRec = SeqIO.read(virus_fna,'fasta')\n",
    "virus_Seq = virus_SeqRec.seq\n",
    "\n",
    "translation = virus_SeqRec.translate()\n",
    "print(f'Translation length: {len(translation)}')\n",
    "\n",
    "# functional proteins are chains above 20 amino acids.\n",
    "\n",
    "# Get Proteins only\n",
    "proteins = [] \n",
    "for i in translation.seq.split('*'):\n",
    "    if(len(i) > 19):\n",
    "        proteins.append(str(i))\n",
    "\n",
    "df = pd.DataFrame({'protein_chains':proteins})\n",
    "df['length'] = df['protein_chains'].apply(len)\n",
    "df = df.sort_values(by = ['length'],ascending=False) [:10]\n",
    "display(df.head())\n",
    "\n",
    "# select one protein\n",
    "one_large_protein=df.nlargest(1,'length')\n",
    "single_prot = one_large_protein.iloc[0,0]\n",
    "\n",
    "# write to file which we'll recall later\n",
    "with open(\"/kaggle/working/protein.fasta\",\"w\") as file:\n",
    "    file.write(\">large protein\\n\" + single_prot)"
   ]
  },
  {
   "cell_type": "markdown",
   "metadata": {
    "papermill": {
     "duration": 0.126529,
     "end_time": "2023-03-08T16:00:41.316596",
     "exception": false,
     "start_time": "2023-03-08T16:00:41.190067",
     "status": "completed"
    },
    "tags": []
   },
   "source": [
    "### Pairwise Sequence Alignment\n",
    "Sequence Similarity\n",
    "\n",
    "GENERATING A HYPOTHESIS\n",
    "We can generate a hypothesis about the biological function based on sequence similarity.\n",
    "If two sequences show high degree of similarity (score), then they have a high chance of being homologous, sharing similar functions.\n",
    "ISSUES IN COMPARING SEQUENCES\n",
    "If we try to compare sequences one by one, we might run into issues since:\n",
    "\n",
    "Two similar sequences often have gone through biological mutation, which can change nucleotides, thus changing their structure.\n",
    "Thus we cannot simply rely on a comparison of nucleotides that are in the same order.\n",
    "This process is even more complicated by nucleotide insertions & deletions.\n",
    "As a result, we need to resort to a procedure known as Pairwise Sequence Alignment (PSA).\n",
    "\n",
    "TYPES OF SEQUENCE ALIGNMENT\n",
    "There are two main groups of Sequence Alignment:\n",
    "\n",
    "Global sequence alignment (we are interested in aligning the entire sequences)\n",
    "Local sequence alignment (we aim to find good alignments of adjacent nucleotides of both of the sequences, whilst ignoring the rest)\n",
    "Biopython Specifics\n",
    "\n",
    "CHOOSING THE TYPE OF ALIGNMENT\n",
    "Bio.pairwise2 has implementations of Dynamic Programing (DP) Algorithms for Pairwise Sequence Alignment.\n",
    "Alignment Type option is written after pairwise2.align.X, where .X is replaced by the type; .global and .local.\n",
    "After .local or .global, two letters are written to indicate which parameters it takes; eg. .localXY\n",
    "OPTIONS IN FOR X & Y\n",
    "The first (X) indicates a substitution matrix or the parameters for match/missmatches\n",
    "The second (Y) indicates the parameters for the penalty of the gap.\n",
    "THE SPECIFICS\n",
    "Some more specifics (first letter):\n",
    "\n",
    "If x is provided, a score of 1 is considered for the alignment & a mismatch score of 0.\n",
    "If m is provided, the function will allow us to define a match/mismatch score using appropriate parameters.\n",
    "If d is provided, we can pass on a dictionary to the function, defining a full substitution matrix.\n",
    "Some more specifics (second letter):\n",
    "\n",
    "If x is provided, no gap penalties are imposed (g=0)\n",
    "If s is provided, we can define an affinite gap penalty model\n",
    "SEQUENCE INPUT SEQUENCES\n",
    "Inputs can be both string formats or defined Seq class instances.\n",
    "Pairwise Sequence Alignment\n",
    "\n",
    "GLOBAL NUCLEOTIDE SEQUENCE ALIGNMENT\n",
    "Let's try an an example, aligning seq1 & seq2, both are nucleotide sequences.\n",
    "We are looking at global alignment (.global), with a match score of 1 & missmatch score of 0 (so first letter is x) & no gap penalty emposed (second letter is x)."
   ]
  },
  {
   "cell_type": "code",
   "execution_count": 30,
   "metadata": {
    "execution": {
     "iopub.execute_input": "2023-03-08T16:00:41.573040Z",
     "iopub.status.busy": "2023-03-08T16:00:41.571848Z",
     "iopub.status.idle": "2023-03-08T16:00:41.577625Z",
     "shell.execute_reply": "2023-03-08T16:00:41.578398Z",
     "shell.execute_reply.started": "2023-03-08T13:48:37.874800Z"
    },
    "papermill": {
     "duration": 0.138386,
     "end_time": "2023-03-08T16:00:41.578640",
     "exception": false,
     "start_time": "2023-03-08T16:00:41.440254",
     "status": "completed"
    },
    "tags": []
   },
   "outputs": [
    {
     "name": "stdout",
     "output_type": "stream",
     "text": [
      "# alternative optimal alignments: 7\n",
      "ATG-GCAGA-TAGA\n",
      "||  | ||| ||| \n",
      "AT-AG-AGAATAG-\n",
      "  Score=9\n",
      "\n",
      "ATGGCAGA-TAGA\n",
      "||.| ||| ||| \n",
      "ATAG-AGAATAG-\n",
      "  Score=9\n",
      "\n",
      "AT-GGCAGA-TAGA\n",
      "|| |  ||| ||| \n",
      "ATAG--AGAATAG-\n",
      "  Score=9\n",
      "\n",
      "ATG-GCAG-ATAGA\n",
      "||  | || |||| \n",
      "AT-AG-AGAATAG-\n",
      "  Score=9\n",
      "\n",
      "ATGGCAG-ATAGA\n",
      "||.| || |||| \n",
      "ATAG-AGAATAG-\n",
      "  Score=9\n",
      "\n",
      "AT-GGCAG-ATAGA\n",
      "|| |  || |||| \n",
      "ATAG--AGAATAG-\n",
      "  Score=9\n",
      "\n",
      "AT-G-GCAGATAGA\n",
      "|| | | | |||| \n",
      "ATAGAG-A-ATAG-\n",
      "  Score=9\n",
      "\n"
     ]
    }
   ],
   "source": [
    "''' Global Alignment of two DNA sequences'''\n",
    "\n",
    "# String based sequences\n",
    "seq1 = 'ATGGCAGATAGA'\n",
    "seq2 = 'ATAGAGAATAG'\n",
    "\n",
    "# define an instance of Seq\n",
    "cseq1 = Seq(seq1)\n",
    "cseq2 = Seq(seq2)\n",
    "\n",
    "# - Global Alignment Problem\n",
    "# - (match score = 1, missmatch = 0), gap penalties = 0\n",
    "GDNA = pairwise2.align.globalxx(cseq1,cseq2)\n",
    "print (f'# alternative optimal alignments: {len(GDNA)}')\n",
    "\n",
    "# print all the alignments\n",
    "for i in GDNA: \n",
    "    print(format_alignment(*i))"
   ]
  },
  {
   "cell_type": "markdown",
   "metadata": {
    "papermill": {
     "duration": 0.122696,
     "end_time": "2023-03-08T16:00:41.829632",
     "exception": false,
     "start_time": "2023-03-08T16:00:41.706936",
     "status": "completed"
    },
    "tags": []
   },
   "source": [
    "### GLOBAL PROTEIN SEQUENCE ALIGNMENT\n",
    "Let's try another example, aligning pseq1 & pseq2, both are protein sequences.\n",
    "We are looking at global alignment (.global), using the BLOSUM62 match/missmatch scores (first letter d) & a gap penalty emposed (second letter s)"
   ]
  },
  {
   "cell_type": "code",
   "execution_count": 31,
   "metadata": {
    "execution": {
     "iopub.execute_input": "2023-03-08T16:00:42.086415Z",
     "iopub.status.busy": "2023-03-08T16:00:42.085396Z",
     "iopub.status.idle": "2023-03-08T16:00:42.088585Z",
     "shell.execute_reply": "2023-03-08T16:00:42.089088Z",
     "shell.execute_reply.started": "2023-03-08T13:48:37.887410Z"
    },
    "papermill": {
     "duration": 0.134159,
     "end_time": "2023-03-08T16:00:42.089316",
     "exception": false,
     "start_time": "2023-03-08T16:00:41.955157",
     "status": "completed"
    },
    "tags": []
   },
   "outputs": [
    {
     "name": "stdout",
     "output_type": "stream",
     "text": [
      "-EVSAW\n",
      " ||.| \n",
      "KEVLA-\n",
      "  Score=3\n",
      "\n"
     ]
    }
   ],
   "source": [
    "''' Global Alignment of two protein sequences ''' \n",
    "# - Global Alignment Problem of Protein Sequences\n",
    "# - Using a substitute matrix BLOSUM64, opening gap penalty -4, extension penalty -1\n",
    "    \n",
    "pseq1 = \"EVSAW\"\n",
    "pseq2 = \"KEVLA\"\n",
    "\n",
    "sm = MatrixInfo.blosum62 # load BLOSUM62 Substitution Matrix\n",
    "lPRT = pairwise2.align.globalds(pseq1,pseq2,sm,-4,-1)\n",
    "for i in lPRT:\n",
    "    print(format_alignment(*i))"
   ]
  },
  {
   "cell_type": "markdown",
   "metadata": {
    "papermill": {
     "duration": 0.125602,
     "end_time": "2023-03-08T16:00:42.338217",
     "exception": false,
     "start_time": "2023-03-08T16:00:42.212615",
     "status": "completed"
    },
    "tags": []
   },
   "source": [
    "### LOCAL NUCLEOTIDE SEQUENCE ALIGNMENT\n",
    "Let's try another example, aligning nucleotide sequences seq1 & seq2, this time locally.\n",
    "Local alignment (.local), match/missmatch score (first letter m), gap penalty emposed (second letter s)"
   ]
  },
  {
   "cell_type": "code",
   "execution_count": 32,
   "metadata": {
    "execution": {
     "iopub.execute_input": "2023-03-08T16:00:42.683386Z",
     "iopub.status.busy": "2023-03-08T16:00:42.682182Z",
     "iopub.status.idle": "2023-03-08T16:00:42.686383Z",
     "shell.execute_reply": "2023-03-08T16:00:42.687173Z",
     "shell.execute_reply.started": "2023-03-08T13:48:37.905845Z"
    },
    "papermill": {
     "duration": 0.155423,
     "end_time": "2023-03-08T16:00:42.687506",
     "exception": false,
     "start_time": "2023-03-08T16:00:42.532083",
     "status": "completed"
    },
    "tags": []
   },
   "outputs": [
    {
     "name": "stdout",
     "output_type": "stream",
     "text": [
      "1 ATGGCAGA-TAG\n",
      "  ||.| ||| |||\n",
      "1 ATAG-AGAATAG\n",
      "  Score=19\n",
      "\n",
      "1 ATGGCAG-ATAG\n",
      "  ||.| || ||||\n",
      "1 ATAG-AGAATAG\n",
      "  Score=19\n",
      "\n"
     ]
    }
   ],
   "source": [
    "''' Local Alignment of two DNA sequences ''' \n",
    "# Local Alignment Problem of DNA Sequences\n",
    "# Match score = 3, mismatch score = -2, constant gap penalty g=-3 x2\n",
    "\n",
    "lDNA = pairwise2.align.localms(seq1,seq2, 3,-2,-3,-3)\n",
    "for i in lDNA: \n",
    "    print(format_alignment(*i))"
   ]
  },
  {
   "cell_type": "markdown",
   "metadata": {
    "papermill": {
     "duration": 0.123517,
     "end_time": "2023-03-08T16:00:42.935221",
     "exception": false,
     "start_time": "2023-03-08T16:00:42.811704",
     "status": "completed"
    },
    "tags": []
   },
   "source": [
    "### LOCAL PROTEIN SEQUENCE ALIGNMENT\n",
    "Again aligning pseq1 & pseq2, both are protein sequences, locally.\n",
    "We are looking at local alignment (.local), using the BLOSUM62 match/missmatch scores (first letter d) & a gap penalty emposed (second letter s)."
   ]
  },
  {
   "cell_type": "code",
   "execution_count": 33,
   "metadata": {
    "execution": {
     "iopub.execute_input": "2023-03-08T16:00:43.197459Z",
     "iopub.status.busy": "2023-03-08T16:00:43.196400Z",
     "iopub.status.idle": "2023-03-08T16:00:43.200910Z",
     "shell.execute_reply": "2023-03-08T16:00:43.200263Z",
     "shell.execute_reply.started": "2023-03-08T13:48:37.917339Z"
    },
    "papermill": {
     "duration": 0.136686,
     "end_time": "2023-03-08T16:00:43.201093",
     "exception": false,
     "start_time": "2023-03-08T16:00:43.064407",
     "status": "completed"
    },
    "tags": []
   },
   "outputs": [
    {
     "name": "stdout",
     "output_type": "stream",
     "text": [
      "1 EVSA\n",
      "  ||.|\n",
      "2 EVLA\n",
      "  Score=11\n",
      "\n"
     ]
    }
   ],
   "source": [
    "''' Local Alignment of Protein Sequences '''\n",
    "# - Local Alignment Problem of Protein Sequences\n",
    "# - Using a substitute matrix BLOSUM64, opening gap penalty -4, extension penalty -1\n",
    "\n",
    "pPROT = pairwise2.align.localds(pseq1,pseq2,sm,-4,-1)\n",
    "for i in pPROT:\n",
    "    print(format_alignment(*i))"
   ]
  },
  {
   "cell_type": "markdown",
   "metadata": {
    "papermill": {
     "duration": 0.124752,
     "end_time": "2023-03-08T16:00:43.451952",
     "exception": false,
     "start_time": "2023-03-08T16:00:43.327200",
     "status": "completed"
    },
    "tags": []
   },
   "source": [
    "### Unitig Sequence Alignment\n",
    "\n",
    "### FINDING THE BEST ALIGNMENT IN A LIST\n",
    "We can utilise pairwise2.align in a variety of situations, eg. cycle through a list & find the best alignment case.\n",
    "Having two lists of filled with unitigs (nucleotide sequences); lst1 & lst2 ( you can also change the input to a sequence in get_bestalign)\n",
    "Using the gonorrhoea dataset, we can compare a sequence from one list and try to find the the best alignment in the second list.\n",
    "In this case, we can see that the alignment is not ideal at all, resulting in lots of gaps for the input sequence & the best alignment score is due to the longer matching sequence size."
   ]
  },
  {
   "cell_type": "code",
   "execution_count": 34,
   "metadata": {
    "_kg_hide-input": true,
    "execution": {
     "iopub.execute_input": "2023-03-08T16:00:43.713202Z",
     "iopub.status.busy": "2023-03-08T16:00:43.711962Z",
     "iopub.status.idle": "2023-03-08T16:00:43.715582Z",
     "shell.execute_reply": "2023-03-08T16:00:43.714867Z",
     "shell.execute_reply.started": "2023-03-08T13:48:37.930846Z"
    },
    "papermill": {
     "duration": 0.139002,
     "end_time": "2023-03-08T16:00:43.715759",
     "exception": false,
     "start_time": "2023-03-08T16:00:43.576757",
     "status": "completed"
    },
    "tags": []
   },
   "outputs": [],
   "source": [
    "# class to used define feature matrix & target variavle \n",
    "class data:\n",
    "    \n",
    "    def __init__(self):\n",
    "        self.df = pd.read_csv('../input/gono-unitigs/metadata.csv', index_col=0)\n",
    "        self.features = self.df.columns\n",
    "        self.targets = ['azm_sr','cip_sr','cro_sr','cfx_sr','tet_sr','pen_sr']\n",
    "    \n",
    "    def get_case(self,phenotype=None):\n",
    "    \n",
    "        _metadata = self.df\n",
    "        _metadata = _metadata.dropna(subset=[phenotype])\n",
    "        _metadata = _metadata[phenotype] # choose target variable \n",
    "        \n",
    "        prefix = '../input/gono-unitigs/'\n",
    "        suffix = '_gwas_filtered_unitigs.Rtab'\n",
    "        \n",
    "        # store all file pathways\n",
    "        self.lst_files = []\n",
    "        for dirname, _, filenames in os.walk('/kaggle/input'):\n",
    "            for filename in filenames:\n",
    "                self.lst_files.append(os.path.join(dirname, filename))\n",
    "        \n",
    "        # unitig feature matrix for phenotype\n",
    "        tdf = pd.read_csv(prefix + phenotype + suffix, sep=\" \", index_col=0, low_memory=False)\n",
    "        tdf = tdf.T # align column data w/ metadata df (pattern_id = sample_idd)\n",
    "        tdf = tdf[tdf.index.isin(_metadata.index)] # keep only common rows, ie. that have resistence measure\n",
    "        self.train = tdf\n",
    "        self.target = _metadata[_metadata.index.isin(tdf.index)]"
   ]
  },
  {
   "cell_type": "code",
   "execution_count": 35,
   "metadata": {
    "execution": {
     "iopub.execute_input": "2023-03-08T16:00:43.973578Z",
     "iopub.status.busy": "2023-03-08T16:00:43.972786Z",
     "iopub.status.idle": "2023-03-08T16:00:45.080377Z",
     "shell.execute_reply": "2023-03-08T16:00:45.079771Z",
     "shell.execute_reply.started": "2023-03-08T13:48:37.950680Z"
    },
    "papermill": {
     "duration": 1.240476,
     "end_time": "2023-03-08T16:00:45.080585",
     "exception": false,
     "start_time": "2023-03-08T16:00:43.840109",
     "status": "completed"
    },
    "tags": []
   },
   "outputs": [
    {
     "name": "stdout",
     "output_type": "stream",
     "text": [
      "AZM unitigs:\n",
      "['CTTAACATATTTGCCTTTGATTTTTGAAGAAGCTGCCACGCCGGCAG', 'TACCGTAACCGGCAATGCGGATATTACGGTC', 'CAGACGGCATTTTTTTTGCGTTTTTCGGGAGG']\n",
      "\n",
      "CFX unitigs:\n",
      "['ACCGGTCAGGGCGACGGGTTTGCGCCCTTTGAT', 'TGATACGGCGTGTAGGCGGTGTACCAGCCCGGG', 'CCGCACGGGGGAAATCCTCGCCTTGGCCAATACGCCCGCCTACGATCCCAACAG']\n"
     ]
    }
   ],
   "source": [
    "gono = data()\n",
    "\n",
    "# list of nucleotides\n",
    "gono.get_case('azm_sr')\n",
    "azm_unitigs = gono.train.columns.tolist() # list of unitigs\n",
    "\n",
    "print('AZM unitigs:')\n",
    "print(azm_unitigs[:3])\n",
    "\n",
    "# List of nucleotides\n",
    "gono.get_case('cfx_sr')\n",
    "cfx_unitigs = gono.train.columns.tolist() # list of unitigs\n",
    "\n",
    "print('\\nCFX unitigs:')\n",
    "print(cfx_unitigs[:3])"
   ]
  },
  {
   "cell_type": "code",
   "execution_count": 36,
   "metadata": {
    "execution": {
     "iopub.execute_input": "2023-03-08T16:00:45.357907Z",
     "iopub.status.busy": "2023-03-08T16:00:45.352881Z",
     "iopub.status.idle": "2023-03-08T16:00:50.763549Z",
     "shell.execute_reply": "2023-03-08T16:00:50.762646Z",
     "shell.execute_reply.started": "2023-03-08T13:48:39.163131Z"
    },
    "papermill": {
     "duration": 5.557877,
     "end_time": "2023-03-08T16:00:50.763740",
     "exception": false,
     "start_time": "2023-03-08T16:00:45.205863",
     "status": "completed"
    },
    "tags": []
   },
   "outputs": [
    {
     "name": "stdout",
     "output_type": "stream",
     "text": [
      "Finding Best Alignment Score:\n",
      "For Sequence: TGGTAATGCCGGGTGAGAACGTAACCATTACTGTAGAACTGATTGCG\n",
      "\n",
      "0 ACCGGTCAGGGCGACGGGTTTGCGCCCTTTGAT 23.0\n",
      "1 TGATACGGCGTGTAGGCGGTGTACCAGCCCGGG 24.0\n",
      "2 CCGCACGGGGGAAATCCTCGCCTTGGCCAATACGCCCGCCTACGATCCCAACAG 28.0\n",
      "8 GCTTGTCGATGTGCCGGTTGATGTTTTGAGAAACAAACTCGAACAGAAA 30.0\n",
      "9 GACAAATTCTTGGCGGACGATGACGGCAACAGTACCGAGCGCGGCACCCAATGCCAGCGCG 33.0\n",
      "63 ACTGCAGGTTTGTTGAGAAGCTGGCGCAGATGGCAAAAAATCGAACAGGCAACCATGTCTTTCGGTTAT 34.0\n",
      "76 TCGATCAGAGGATTCAGACCTTGGCCTATGAAGAGTTGAACAAGGCGGTCGAATACCATCAGGCAAAAGCC 35.0\n",
      "128 CGGTTACGCCTCTGTTCGCTGTCTGCCTGACCGGGTTTGTTGGGCTCATAGGCAGGCGTATTGACCAATGCGAGGATTTCCCCAGTACGGGCATCCAACACCACCACCGTTCCGGCTTTTGCCTGATGG 41.0\n",
      "210 GTTTATCCTACTTTGGATGTGCGCGGCATTATGCAAAAATCTTCCAACGTCGGTACCAGTAAACTTTCTGCCATGTTTACGCCTAAAGAAATGTACGATTTCTATCACGATTTAGGTGTGGGCGT 42.0\n"
     ]
    }
   ],
   "source": [
    "# Select one unitig in lst1 and find the best alignment in lst2\n",
    "def get_bestalign(lst1,ids,lst2):\n",
    "    \n",
    "    # remove cases if columns exist in string\n",
    "    \n",
    "    lst2_upd = []\n",
    "    for unitig in lst2:\n",
    "        if(',' not in unitig):\n",
    "            lst2_upd.append(unitig)\n",
    "            \n",
    "    # main unitig used for comparison\n",
    "    n1 = lst1[ids]\n",
    "    print('Finding Best Alignment Score:')\n",
    "    print(f'For Sequence: {n1}\\n')\n",
    "    \n",
    "    # Cycle through all unitigs in updated list\n",
    "    \n",
    "    max_score = 0\n",
    "    best_ali = None\n",
    "    ii=-1\n",
    "    for unitig in lst2_upd:\n",
    "\n",
    "        ii+=1;\n",
    "        ALI = pairwise2.align.localxx(n1,unitig)\n",
    "        lscore = ALI[0].score\n",
    "        if(lscore > max_score):\n",
    "            print(ii,unitig,lscore)\n",
    "            max_score = lscore\n",
    "            best_ali = ALI\n",
    "            \n",
    "    return best_ali\n",
    "\n",
    "best_lalign = get_bestalign(azm_unitigs,10,cfx_unitigs)"
   ]
  },
  {
   "cell_type": "code",
   "execution_count": 37,
   "metadata": {
    "execution": {
     "iopub.execute_input": "2023-03-08T16:00:51.033714Z",
     "iopub.status.busy": "2023-03-08T16:00:51.032925Z",
     "iopub.status.idle": "2023-03-08T16:00:51.039451Z",
     "shell.execute_reply": "2023-03-08T16:00:51.040382Z",
     "shell.execute_reply.started": "2023-03-08T13:48:44.566124Z"
    },
    "papermill": {
     "duration": 0.143043,
     "end_time": "2023-03-08T16:00:51.040682",
     "exception": false,
     "start_time": "2023-03-08T16:00:50.897639",
     "status": "completed"
    },
    "tags": []
   },
   "outputs": [
    {
     "name": "stdout",
     "output_type": "stream",
     "text": [
      "3 GTA--ATGCC------GG--GTG------A----G-AA----C-------GT----A--A-----C---C----AT-T--ACTG--TA--GAA-----C--T---------GATT--G-------CG\n",
      "  ||   || ||      ||  |||      |    | ||    |       ||    |  |     |   |    || |  || |  ||  |||     |  |         ||||  |       ||\n",
      "1 GT-TTAT-CCTACTTTGGATGTGCGCGGCATTATGCAAAAATCTTCCAACGTCGGTACCAGTAAACTTTCTGCCATGTTTAC-GCCTAAAGAAATGTACGATTTCTATCACGATTTAGGTGTGGGCG\n",
      "  Score=42\n",
      "\n"
     ]
    }
   ],
   "source": [
    "print(format_alignment(*best_lalign[0]))"
   ]
  },
  {
   "cell_type": "markdown",
   "metadata": {
    "papermill": {
     "duration": 0.129295,
     "end_time": "2023-03-08T16:00:51.302132",
     "exception": false,
     "start_time": "2023-03-08T16:00:51.172837",
     "status": "completed"
    },
    "tags": []
   },
   "source": [
    "### Multiple Sequence Alignment\n",
    "\n",
    "### SeqRecord\n",
    "\n",
    "### FOR ALIGNMENT SEQUENCES\n",
    "We looked at SeqRecord earlier, a sequence read from a file is already in this format so we can instantly pass them to the alignment class.\n",
    "If we define sequences from we'll need to define a Seq instance & subsequently SeqRecord (only needing <id)\n",
    "\n",
    "To align Multiple Sequences together (More than two), we can use the .Align class & call MultipleSeqAlignment\n",
    "However unlike Bio.pairwise2, we can't use direct strings in the alignment class input & need to define a Seq object for a particular sequence, followed by a defined SeqRecord instance that has its defined sequence ID."
   ]
  },
  {
   "cell_type": "code",
   "execution_count": 38,
   "metadata": {
    "execution": {
     "iopub.execute_input": "2023-03-08T16:00:51.577337Z",
     "iopub.status.busy": "2023-03-08T16:00:51.576233Z",
     "iopub.status.idle": "2023-03-08T16:00:51.579330Z",
     "shell.execute_reply": "2023-03-08T16:00:51.578707Z",
     "shell.execute_reply.started": "2023-03-08T13:48:44.573795Z"
    },
    "papermill": {
     "duration": 0.141249,
     "end_time": "2023-03-08T16:00:51.579519",
     "exception": false,
     "start_time": "2023-03-08T16:00:51.438270",
     "status": "completed"
    },
    "tags": []
   },
   "outputs": [],
   "source": [
    "from Bio.SeqRecord import SeqRecord\n",
    "\n",
    "# String format of alignment\n",
    "aa1 = \"MHQAIFIYQIGYPLKSGYIQSIRSPEYDNW\"\n",
    "aa2 = \"MH--IFIYQIGYALKSGYIQSIRSPEY-NW\"\n",
    "aa3 = \"MHQAIFI-QIGYALKSGY-QSIRSPEYDNW\"\n",
    "\n",
    "# Sequence Class instances\n",
    "seq_aa1 = Seq(aa1)\n",
    "seq_aa2 = Seq(aa2)\n",
    "seq_aa3 = Seq(aa3)\n",
    " \n",
    "# Create a sequence record w/ a defined ID\n",
    "seqr1 = SeqRecord(seq_aa1,id=\"seq1\")\n",
    "seqr2 = SeqRecord(seq_aa2,id=\"seq2\")\n",
    "seqr3 = SeqRecord(seq_aa3,id=\"seq3\")"
   ]
  },
  {
   "cell_type": "markdown",
   "metadata": {
    "papermill": {
     "duration": 0.140258,
     "end_time": "2023-03-08T16:00:51.851474",
     "exception": false,
     "start_time": "2023-03-08T16:00:51.711216",
     "status": "completed"
    },
    "tags": []
   },
   "source": [
    "### MultipleSeqAlignment\n",
    "Upon defining the sequence records of all the sequences we want to align, we can call MultipleSeqAlignment with the records as inputs.\n",
    "We can also do simple operations on these sequences as they are grouped together, as they are essentially strings in alignment."
   ]
  },
  {
   "cell_type": "code",
   "execution_count": 39,
   "metadata": {
    "execution": {
     "iopub.execute_input": "2023-03-08T16:00:52.149615Z",
     "iopub.status.busy": "2023-03-08T16:00:52.148401Z",
     "iopub.status.idle": "2023-03-08T16:00:52.152132Z",
     "shell.execute_reply": "2023-03-08T16:00:52.151407Z",
     "shell.execute_reply.started": "2023-03-08T13:48:44.592342Z"
    },
    "papermill": {
     "duration": 0.15539,
     "end_time": "2023-03-08T16:00:52.152316",
     "exception": false,
     "start_time": "2023-03-08T16:00:51.996926",
     "status": "completed"
    },
    "tags": []
   },
   "outputs": [],
   "source": [
    "from Bio.Align import MultipleSeqAlignment as MSA\n",
    "\n",
    "# Multiple Sequence Alignment\n",
    "alin = MSA([seqr1, seqr2, seqr3])\n",
    "sub_alin = alin[0:2,:]"
   ]
  },
  {
   "cell_type": "code",
   "execution_count": 40,
   "metadata": {
    "execution": {
     "iopub.execute_input": "2023-03-08T16:00:52.433831Z",
     "iopub.status.busy": "2023-03-08T16:00:52.432575Z",
     "iopub.status.idle": "2023-03-08T16:00:52.438687Z",
     "shell.execute_reply": "2023-03-08T16:00:52.437879Z",
     "shell.execute_reply.started": "2023-03-08T13:48:44.605456Z"
    },
    "papermill": {
     "duration": 0.14305,
     "end_time": "2023-03-08T16:00:52.438933",
     "exception": false,
     "start_time": "2023-03-08T16:00:52.295883",
     "status": "completed"
    },
    "tags": []
   },
   "outputs": [
    {
     "name": "stdout",
     "output_type": "stream",
     "text": [
      "ID: seq2\n",
      "Name: <unknown name>\n",
      "Description: <unknown description>\n",
      "Number of features: 0\n",
      "Seq('MH--IFIYQIGYALKSGYIQSIRSPEY-NW')\n",
      "Q-Q\n",
      "Alignment with 3 rows and 4 columns\n",
      "AIFI seq1\n",
      "-IFI seq2\n",
      "AIFI seq3\n",
      "MHQ\n",
      "Alignment with 2 rows and 7 columns\n",
      "FIYQIGY seq2\n",
      "FI-QIGY seq3\n"
     ]
    }
   ],
   "source": [
    "print(alin[1]) # Get the 2nd sequence in the alignment\n",
    "print(alin[:,2]) # Get the 3rd column in the alignment\n",
    "print(alin[:,3:7])  # Get multiple columns in alignment\n",
    "print(alin[0].seq[:3]) # first 3 columns of seq1\n",
    "print(alin[1:3,5:12]) # sequences 2 and 3; 4th to 10th column"
   ]
  },
  {
   "cell_type": "markdown",
   "metadata": {
    "papermill": {
     "duration": 0.136966,
     "end_time": "2023-03-08T16:00:52.705468",
     "exception": false,
     "start_time": "2023-03-08T16:00:52.568502",
     "status": "completed"
    },
    "tags": []
   },
   "source": [
    "### Alignment Formats\n",
    "### DEFINING AN ALIGNMENT\n",
    "Usually alignments are generated by MultipleSeqAlignment, however we can create a blank alignment by passing a blank list to MSA.\n",
    "We can also add new sequences by using .add_sequence."
   ]
  },
  {
   "cell_type": "code",
   "execution_count": 41,
   "metadata": {
    "execution": {
     "iopub.execute_input": "2023-03-08T16:00:52.976618Z",
     "iopub.status.busy": "2023-03-08T16:00:52.975433Z",
     "iopub.status.idle": "2023-03-08T16:00:52.979064Z",
     "shell.execute_reply": "2023-03-08T16:00:52.979599Z",
     "shell.execute_reply.started": "2023-03-08T13:48:44.620281Z"
    },
    "papermill": {
     "duration": 0.141998,
     "end_time": "2023-03-08T16:00:52.979817",
     "exception": false,
     "start_time": "2023-03-08T16:00:52.837819",
     "status": "completed"
    },
    "tags": []
   },
   "outputs": [
    {
     "name": "stdout",
     "output_type": "stream",
     "text": [
      "Alignment with 3 rows and 33 columns\n",
      "ACCGGTCAGGGCGACGGGTTTGCGCCCTTTGAT n1\n",
      "ACCGGTCATTTCGACGGGTTTGCGGCCTTTGCT n2\n",
      "CCAGGTCAGCTCGACGGGTTGGCGGCCTTTGCT n3\n"
     ]
    }
   ],
   "source": [
    "n1 = 'ACCGGTCAGGGCGACGGGTTTGCGCCCTTTGAT'\n",
    "n2 = 'ACCGGTCATTTCGACGGGTTTGCGGCCTTTGCT'\n",
    "n3 = 'CCAGGTCAGCTCGACGGGTTGGCGGCCTTTGCT'\n",
    "\n",
    "align_n = MSA([])\n",
    "align_n.add_sequence('n1',n1)\n",
    "align_n.add_sequence('n2',n2)\n",
    "align_n.add_sequence('n3',n3)\n",
    "print(align_n)"
   ]
  },
  {
   "cell_type": "markdown",
   "metadata": {
    "papermill": {
     "duration": 0.127594,
     "end_time": "2023-03-08T16:00:53.238270",
     "exception": false,
     "start_time": "2023-03-08T16:00:53.110676",
     "status": "completed"
    },
    "tags": []
   },
   "source": [
    "### READING ALIGNMENT DATA\n",
    "There are formats used for saving & loading alignments as well.\n",
    "As indicated in the AlignIO, clustal is one of such formats & is often used. "
   ]
  },
  {
   "cell_type": "code",
   "execution_count": 42,
   "metadata": {
    "execution": {
     "iopub.execute_input": "2023-03-08T16:00:53.503736Z",
     "iopub.status.busy": "2023-03-08T16:00:53.502917Z",
     "iopub.status.idle": "2023-03-08T16:00:53.515620Z",
     "shell.execute_reply": "2023-03-08T16:00:53.514920Z",
     "shell.execute_reply.started": "2023-03-08T13:48:44.636217Z"
    },
    "papermill": {
     "duration": 0.145166,
     "end_time": "2023-03-08T16:00:53.515821",
     "exception": false,
     "start_time": "2023-03-08T16:00:53.370655",
     "status": "completed"
    },
    "tags": []
   },
   "outputs": [],
   "source": [
    "from Bio import AlignIO\n",
    "alin2 = AlignIO.read(\"/kaggle/input/biopython-genbank/PF05371_seed.aln\", \"clustal\")"
   ]
  },
  {
   "cell_type": "markdown",
   "metadata": {
    "papermill": {
     "duration": 0.138372,
     "end_time": "2023-03-08T16:00:53.799090",
     "exception": false,
     "start_time": "2023-03-08T16:00:53.660718",
     "status": "completed"
    },
    "tags": []
   },
   "source": [
    "### DISPLAY SEQRECORD DATA\n",
    "Once the clustal format is read, we are dealing with SeqRecord data."
   ]
  },
  {
   "cell_type": "code",
   "execution_count": 43,
   "metadata": {
    "execution": {
     "iopub.execute_input": "2023-03-08T16:00:54.063188Z",
     "iopub.status.busy": "2023-03-08T16:00:54.062321Z",
     "iopub.status.idle": "2023-03-08T16:00:54.067970Z",
     "shell.execute_reply": "2023-03-08T16:00:54.068722Z",
     "shell.execute_reply.started": "2023-03-08T13:48:44.649576Z"
    },
    "papermill": {
     "duration": 0.140003,
     "end_time": "2023-03-08T16:00:54.069032",
     "exception": false,
     "start_time": "2023-03-08T16:00:53.929029",
     "status": "completed"
    },
    "tags": []
   },
   "outputs": [
    {
     "name": "stdout",
     "output_type": "stream",
     "text": [
      "Size (length): 52\n",
      "Sequence: AEPNAATNYATEAMDSLKTQAIDLISQTWPVVTTVVVAGLVIRLFKKFSSKA, ID: COATB_BPIKE/30-81\n",
      "Sequence: AEPNAATNYATEAMDSLKTQAIDLISQTWPVVTTVVVAGLVIKLFKKFVSRA, ID: Q9T0Q8_BPIKE/1-52\n",
      "Sequence: DGTSTATSYATEAMNSLKTQATDLIDQTWPVVTSVAVAGLAIRLFKKFSSKA, ID: COATB_BPI22/32-83\n",
      "Sequence: AEGDDP---AKAAFNSLQASATEYIGYAWAMVVVIVGATIGIKLFKKFTSKA, ID: COATB_BPM13/24-72\n",
      "Sequence: AEGDDP---AKAAFDSLQASATEYIGYAWAMVVVIVGATIGIKLFKKFASKA, ID: COATB_BPZJ2/1-49\n",
      "Sequence: AEGDDP---AKAAFDSLQASATEYIGYAWAMVVVIVGATIGIKLFKKFTSKA, ID: Q9T0Q9_BPFD/1-49\n",
      "Sequence: FAADDATSQAKAAFDSLTAQATEMSGYAWALVVLVVGATVGIKLFKKFVSRA, ID: COATB_BPIF1/22-73\n"
     ]
    }
   ],
   "source": [
    "# Get the length of the alignment (column size)\n",
    "print(\"Size (length):\", alin2.get_alignment_length())\n",
    "\n",
    "# Print the SeqRecord data\n",
    "for record in alin2:\n",
    "    print(f'Sequence: {record.seq}, ID: {record.id}')"
   ]
  },
  {
   "cell_type": "code",
   "execution_count": 44,
   "metadata": {
    "execution": {
     "iopub.execute_input": "2023-03-08T16:00:54.338238Z",
     "iopub.status.busy": "2023-03-08T16:00:54.337424Z",
     "iopub.status.idle": "2023-03-08T16:00:54.345166Z",
     "shell.execute_reply": "2023-03-08T16:00:54.344385Z",
     "shell.execute_reply.started": "2023-03-08T13:48:44.663684Z"
    },
    "papermill": {
     "duration": 0.139798,
     "end_time": "2023-03-08T16:00:54.345384",
     "exception": false,
     "start_time": "2023-03-08T16:00:54.205586",
     "status": "completed"
    },
    "tags": []
   },
   "outputs": [
    {
     "data": {
      "text/plain": [
       "1"
      ]
     },
     "execution_count": 44,
     "metadata": {},
     "output_type": "execute_result"
    }
   ],
   "source": [
    "# adjust alignment content & write if need be \n",
    "sub_alin2 = alin2[0:4,:]\n",
    "AlignIO.write(alin2, \"/kaggle/working/sub_alin2.fasta\", \"fasta\")"
   ]
  },
  {
   "cell_type": "markdown",
   "metadata": {
    "papermill": {
     "duration": 0.128543,
     "end_time": "2023-03-08T16:00:54.602686",
     "exception": false,
     "start_time": "2023-03-08T16:00:54.474143",
     "status": "completed"
    },
    "tags": []
   },
   "source": [
    "### CONVERTING FORMATS\n",
    "FASTA is quite a generic format, which aside from storing sequence data, can also store alignment data."
   ]
  },
  {
   "cell_type": "code",
   "execution_count": 45,
   "metadata": {
    "execution": {
     "iopub.execute_input": "2023-03-08T16:00:54.865018Z",
     "iopub.status.busy": "2023-03-08T16:00:54.864037Z",
     "iopub.status.idle": "2023-03-08T16:00:54.870901Z",
     "shell.execute_reply": "2023-03-08T16:00:54.870235Z",
     "shell.execute_reply.started": "2023-03-08T13:48:44.675468Z"
    },
    "papermill": {
     "duration": 0.139482,
     "end_time": "2023-03-08T16:00:54.871093",
     "exception": false,
     "start_time": "2023-03-08T16:00:54.731611",
     "status": "completed"
    },
    "tags": []
   },
   "outputs": [
    {
     "data": {
      "text/plain": [
       "1"
      ]
     },
     "execution_count": 45,
     "metadata": {},
     "output_type": "execute_result"
    }
   ],
   "source": [
    "# Write the read clustal formal\n",
    "AlignIO.write(alin2, \"example_alin.fasta\", \"fasta\")\n",
    "\n",
    "# Or directly convert it\n",
    "AlignIO.convert(\"/kaggle/input/biopython-genbank/PF05371_seed.aln\", \"clustal\", \"example_alin.fasta\", \"fasta\")"
   ]
  },
  {
   "cell_type": "markdown",
   "metadata": {
    "papermill": {
     "duration": 0.128141,
     "end_time": "2023-03-08T16:00:55.130590",
     "exception": false,
     "start_time": "2023-03-08T16:00:55.002449",
     "status": "completed"
    },
    "tags": []
   },
   "source": [
    "### VISUALISING ALIGNMENTS WITH BOKEH \n",
    "It can be useful to colour code our alignment data, so we can observe any variation in our sequence more easily. \n",
    "We can use the Bokeh library to plot the sequence data using gridplots"
   ]
  },
  {
   "cell_type": "code",
   "execution_count": 46,
   "metadata": {
    "_kg_hide-input": false,
    "execution": {
     "iopub.execute_input": "2023-03-08T16:00:55.394623Z",
     "iopub.status.busy": "2023-03-08T16:00:55.393472Z",
     "iopub.status.idle": "2023-03-08T16:00:56.585901Z",
     "shell.execute_reply": "2023-03-08T16:00:56.586440Z",
     "shell.execute_reply.started": "2023-03-08T13:48:44.687477Z"
    },
    "papermill": {
     "duration": 1.32753,
     "end_time": "2023-03-08T16:00:56.586679",
     "exception": false,
     "start_time": "2023-03-08T16:00:55.259149",
     "status": "completed"
    },
    "tags": []
   },
   "outputs": [
    {
     "data": {
      "application/javascript": [
       "\n",
       "(function(root) {\n",
       "  function now() {\n",
       "    return new Date();\n",
       "  }\n",
       "\n",
       "  var force = true;\n",
       "\n",
       "  if (typeof root._bokeh_onload_callbacks === \"undefined\" || force === true) {\n",
       "    root._bokeh_onload_callbacks = [];\n",
       "    root._bokeh_is_loading = undefined;\n",
       "  }\n",
       "\n",
       "  if (typeof (root._bokeh_timeout) === \"undefined\" || force === true) {\n",
       "    root._bokeh_timeout = Date.now() + 5000;\n",
       "    root._bokeh_failed_load = false;\n",
       "  }\n",
       "\n",
       "  function run_callbacks() {\n",
       "    try {\n",
       "      root._bokeh_onload_callbacks.forEach(function(callback) {\n",
       "        if (callback != null)\n",
       "          callback();\n",
       "      });\n",
       "    } finally {\n",
       "      delete root._bokeh_onload_callbacks\n",
       "    }\n",
       "    console.debug(\"Bokeh: all callbacks have finished\");\n",
       "  }\n",
       "\n",
       "  function load_libs(css_urls, js_urls, callback) {\n",
       "    if (css_urls == null) css_urls = [];\n",
       "    if (js_urls == null) js_urls = [];\n",
       "\n",
       "    root._bokeh_onload_callbacks.push(callback);\n",
       "    if (root._bokeh_is_loading > 0) {\n",
       "      console.debug(\"Bokeh: BokehJS is being loaded, scheduling callback at\", now());\n",
       "      return null;\n",
       "    }\n",
       "    if (js_urls == null || js_urls.length === 0) {\n",
       "      run_callbacks();\n",
       "      return null;\n",
       "    }\n",
       "    console.debug(\"Bokeh: BokehJS not loaded, scheduling load and callback at\", now());\n",
       "    root._bokeh_is_loading = css_urls.length + js_urls.length;\n",
       "\n",
       "    function on_load() {\n",
       "      root._bokeh_is_loading--;\n",
       "      if (root._bokeh_is_loading === 0) {\n",
       "        console.debug(\"Bokeh: all BokehJS libraries/stylesheets loaded\");\n",
       "        run_callbacks()\n",
       "      }\n",
       "    }\n",
       "\n",
       "    function on_error() {\n",
       "      console.error(\"failed to load \" + url);\n",
       "    }\n",
       "\n",
       "    for (var i = 0; i < css_urls.length; i++) {\n",
       "      var url = css_urls[i];\n",
       "      const element = document.createElement(\"link\");\n",
       "      element.onload = on_load;\n",
       "      element.onerror = on_error;\n",
       "      element.rel = \"stylesheet\";\n",
       "      element.type = \"text/css\";\n",
       "      element.href = url;\n",
       "      console.debug(\"Bokeh: injecting link tag for BokehJS stylesheet: \", url);\n",
       "      document.body.appendChild(element);\n",
       "    }\n",
       "\n",
       "    var skip = [];\n",
       "    if (window.requirejs) {\n",
       "      require([], function() {\n",
       "      })\n",
       "    }\n",
       "    for (var i = 0; i < js_urls.length; i++) {\n",
       "      var url = js_urls[i];\n",
       "      if (skip.indexOf(url) >= 0) { on_load(); continue; }\n",
       "      var element = document.createElement('script');\n",
       "      element.onload = on_load;\n",
       "      element.onerror = on_error;\n",
       "      element.async = false;\n",
       "      element.src = url;\n",
       "      console.debug(\"Bokeh: injecting script tag for BokehJS library: \", url);\n",
       "      document.head.appendChild(element);\n",
       "    }\n",
       "\tif (!js_urls.length) {\n",
       "      on_load()\n",
       "    }\n",
       "  };\n",
       "\n",
       "  function inject_raw_css(css) {\n",
       "    const element = document.createElement(\"style\");\n",
       "    element.appendChild(document.createTextNode(css));\n",
       "    document.body.appendChild(element);\n",
       "  }\n",
       "\n",
       "  var js_urls = [\"https://cdn.bokeh.org/bokeh/release/bokeh-2.2.3.min.js\", \"https://cdn.bokeh.org/bokeh/release/bokeh-widgets-2.2.3.min.js\", \"https://cdn.bokeh.org/bokeh/release/bokeh-tables-2.2.3.min.js\", \"https://unpkg.com/@holoviz/panel@^0.10.3/dist/panel.min.js\"];\n",
       "  var css_urls = [\"https://unpkg.com/@holoviz/panel@0.10.3/dist/css/markdown.css\", \"https://unpkg.com/@holoviz/panel@0.10.3/dist/css/alerts.css\", \"https://unpkg.com/@holoviz/panel@0.10.3/dist/css/json.css\", \"https://unpkg.com/@holoviz/panel@0.10.3/dist/css/widgets.css\", \"https://unpkg.com/@holoviz/panel@0.10.3/dist/css/card.css\", \"https://unpkg.com/@holoviz/panel@0.10.3/dist/css/dataframe.css\"];\n",
       "\n",
       "  var inline_js = [\n",
       "    function(Bokeh) {\n",
       "      Bokeh.set_log_level(\"info\");\n",
       "    },\n",
       "    function(Bokeh) {} // ensure no trailing comma for IE\n",
       "  ];\n",
       "\n",
       "  function run_inline_js() {\n",
       "    if ((root.Bokeh !== undefined) || (force === true)) {\n",
       "      for (var i = 0; i < inline_js.length; i++) {\n",
       "        inline_js[i].call(root, root.Bokeh);\n",
       "      }} else if (Date.now() < root._bokeh_timeout) {\n",
       "      setTimeout(run_inline_js, 100);\n",
       "    } else if (!root._bokeh_failed_load) {\n",
       "      console.log(\"Bokeh: BokehJS failed to load within specified timeout.\");\n",
       "      root._bokeh_failed_load = true;\n",
       "    }\n",
       "  }\n",
       "\n",
       "  if (root._bokeh_is_loading === 0) {\n",
       "    console.debug(\"Bokeh: BokehJS loaded, going straight to plotting\");\n",
       "    run_inline_js();\n",
       "  } else {\n",
       "    load_libs(css_urls, js_urls, function() {\n",
       "      console.debug(\"Bokeh: BokehJS plotting callback run at\", now());\n",
       "      run_inline_js();\n",
       "    });\n",
       "  }\n",
       "}(window));"
      ],
      "application/vnd.holoviews_load.v0+json": "\n(function(root) {\n  function now() {\n    return new Date();\n  }\n\n  var force = true;\n\n  if (typeof root._bokeh_onload_callbacks === \"undefined\" || force === true) {\n    root._bokeh_onload_callbacks = [];\n    root._bokeh_is_loading = undefined;\n  }\n\n  if (typeof (root._bokeh_timeout) === \"undefined\" || force === true) {\n    root._bokeh_timeout = Date.now() + 5000;\n    root._bokeh_failed_load = false;\n  }\n\n  function run_callbacks() {\n    try {\n      root._bokeh_onload_callbacks.forEach(function(callback) {\n        if (callback != null)\n          callback();\n      });\n    } finally {\n      delete root._bokeh_onload_callbacks\n    }\n    console.debug(\"Bokeh: all callbacks have finished\");\n  }\n\n  function load_libs(css_urls, js_urls, callback) {\n    if (css_urls == null) css_urls = [];\n    if (js_urls == null) js_urls = [];\n\n    root._bokeh_onload_callbacks.push(callback);\n    if (root._bokeh_is_loading > 0) {\n      console.debug(\"Bokeh: BokehJS is being loaded, scheduling callback at\", now());\n      return null;\n    }\n    if (js_urls == null || js_urls.length === 0) {\n      run_callbacks();\n      return null;\n    }\n    console.debug(\"Bokeh: BokehJS not loaded, scheduling load and callback at\", now());\n    root._bokeh_is_loading = css_urls.length + js_urls.length;\n\n    function on_load() {\n      root._bokeh_is_loading--;\n      if (root._bokeh_is_loading === 0) {\n        console.debug(\"Bokeh: all BokehJS libraries/stylesheets loaded\");\n        run_callbacks()\n      }\n    }\n\n    function on_error() {\n      console.error(\"failed to load \" + url);\n    }\n\n    for (var i = 0; i < css_urls.length; i++) {\n      var url = css_urls[i];\n      const element = document.createElement(\"link\");\n      element.onload = on_load;\n      element.onerror = on_error;\n      element.rel = \"stylesheet\";\n      element.type = \"text/css\";\n      element.href = url;\n      console.debug(\"Bokeh: injecting link tag for BokehJS stylesheet: \", url);\n      document.body.appendChild(element);\n    }\n\n    var skip = [];\n    if (window.requirejs) {\n      require([], function() {\n      })\n    }\n    for (var i = 0; i < js_urls.length; i++) {\n      var url = js_urls[i];\n      if (skip.indexOf(url) >= 0) { on_load(); continue; }\n      var element = document.createElement('script');\n      element.onload = on_load;\n      element.onerror = on_error;\n      element.async = false;\n      element.src = url;\n      console.debug(\"Bokeh: injecting script tag for BokehJS library: \", url);\n      document.head.appendChild(element);\n    }\n\tif (!js_urls.length) {\n      on_load()\n    }\n  };\n\n  function inject_raw_css(css) {\n    const element = document.createElement(\"style\");\n    element.appendChild(document.createTextNode(css));\n    document.body.appendChild(element);\n  }\n\n  var js_urls = [\"https://cdn.bokeh.org/bokeh/release/bokeh-2.2.3.min.js\", \"https://cdn.bokeh.org/bokeh/release/bokeh-widgets-2.2.3.min.js\", \"https://cdn.bokeh.org/bokeh/release/bokeh-tables-2.2.3.min.js\", \"https://unpkg.com/@holoviz/panel@^0.10.3/dist/panel.min.js\"];\n  var css_urls = [\"https://unpkg.com/@holoviz/panel@0.10.3/dist/css/markdown.css\", \"https://unpkg.com/@holoviz/panel@0.10.3/dist/css/alerts.css\", \"https://unpkg.com/@holoviz/panel@0.10.3/dist/css/json.css\", \"https://unpkg.com/@holoviz/panel@0.10.3/dist/css/widgets.css\", \"https://unpkg.com/@holoviz/panel@0.10.3/dist/css/card.css\", \"https://unpkg.com/@holoviz/panel@0.10.3/dist/css/dataframe.css\"];\n\n  var inline_js = [\n    function(Bokeh) {\n      Bokeh.set_log_level(\"info\");\n    },\n    function(Bokeh) {} // ensure no trailing comma for IE\n  ];\n\n  function run_inline_js() {\n    if ((root.Bokeh !== undefined) || (force === true)) {\n      for (var i = 0; i < inline_js.length; i++) {\n        inline_js[i].call(root, root.Bokeh);\n      }} else if (Date.now() < root._bokeh_timeout) {\n      setTimeout(run_inline_js, 100);\n    } else if (!root._bokeh_failed_load) {\n      console.log(\"Bokeh: BokehJS failed to load within specified timeout.\");\n      root._bokeh_failed_load = true;\n    }\n  }\n\n  if (root._bokeh_is_loading === 0) {\n    console.debug(\"Bokeh: BokehJS loaded, going straight to plotting\");\n    run_inline_js();\n  } else {\n    load_libs(css_urls, js_urls, function() {\n      console.debug(\"Bokeh: BokehJS plotting callback run at\", now());\n      run_inline_js();\n    });\n  }\n}(window));"
     },
     "metadata": {},
     "output_type": "display_data"
    },
    {
     "data": {
      "application/javascript": [
       "\n",
       "if ((window.PyViz === undefined) || (window.PyViz instanceof HTMLElement)) {\n",
       "  window.PyViz = {comms: {}, comm_status:{}, kernels:{}, receivers: {}, plot_index: []}\n",
       "}\n",
       "\n",
       "\n",
       "    function JupyterCommManager() {\n",
       "    }\n",
       "\n",
       "    JupyterCommManager.prototype.register_target = function(plot_id, comm_id, msg_handler) {\n",
       "      if (window.comm_manager || ((window.Jupyter !== undefined) && (Jupyter.notebook.kernel != null))) {\n",
       "        var comm_manager = window.comm_manager || Jupyter.notebook.kernel.comm_manager;\n",
       "        comm_manager.register_target(comm_id, function(comm) {\n",
       "          comm.on_msg(msg_handler);\n",
       "        });\n",
       "      } else if ((plot_id in window.PyViz.kernels) && (window.PyViz.kernels[plot_id])) {\n",
       "        window.PyViz.kernels[plot_id].registerCommTarget(comm_id, function(comm) {\n",
       "          comm.onMsg = msg_handler;\n",
       "        });\n",
       "      } else if (typeof google != 'undefined' && google.colab.kernel != null) {\n",
       "        google.colab.kernel.comms.registerTarget(comm_id, (comm) => {\n",
       "          var messages = comm.messages[Symbol.asyncIterator]();\n",
       "          function processIteratorResult(result) {\n",
       "            var message = result.value;\n",
       "            console.log(message)\n",
       "            var content = {data: message.data, comm_id};\n",
       "            var buffers = []\n",
       "            for (var buffer of message.buffers || []) {\n",
       "              buffers.push(new DataView(buffer))\n",
       "            }\n",
       "            var metadata = message.metadata || {};\n",
       "            var msg = {content, buffers, metadata}\n",
       "            msg_handler(msg);\n",
       "            return messages.next().then(processIteratorResult);\n",
       "          }\n",
       "          return messages.next().then(processIteratorResult);\n",
       "        })\n",
       "      }\n",
       "    }\n",
       "\n",
       "    JupyterCommManager.prototype.get_client_comm = function(plot_id, comm_id, msg_handler) {\n",
       "      if (comm_id in window.PyViz.comms) {\n",
       "        return window.PyViz.comms[comm_id];\n",
       "      } else if (window.comm_manager || ((window.Jupyter !== undefined) && (Jupyter.notebook.kernel != null))) {\n",
       "        var comm_manager = window.comm_manager || Jupyter.notebook.kernel.comm_manager;\n",
       "        var comm = comm_manager.new_comm(comm_id, {}, {}, {}, comm_id);\n",
       "        if (msg_handler) {\n",
       "          comm.on_msg(msg_handler);\n",
       "        }\n",
       "      } else if ((plot_id in window.PyViz.kernels) && (window.PyViz.kernels[plot_id])) {\n",
       "        var comm = window.PyViz.kernels[plot_id].connectToComm(comm_id);\n",
       "        comm.open();\n",
       "        if (msg_handler) {\n",
       "          comm.onMsg = msg_handler;\n",
       "        }\n",
       "      } else if (typeof google != 'undefined' && google.colab.kernel != null) {\n",
       "        var comm_promise = google.colab.kernel.comms.open(comm_id)\n",
       "        comm_promise.then((comm) => {\n",
       "          window.PyViz.comms[comm_id] = comm;\n",
       "          if (msg_handler) {\n",
       "            var messages = comm.messages[Symbol.asyncIterator]();\n",
       "            function processIteratorResult(result) {\n",
       "              var message = result.value;\n",
       "              var content = {data: message.data};\n",
       "              var metadata = message.metadata || {comm_id};\n",
       "              var msg = {content, metadata}\n",
       "              msg_handler(msg);\n",
       "              return messages.next().then(processIteratorResult);\n",
       "            }\n",
       "            return messages.next().then(processIteratorResult);\n",
       "          }\n",
       "        }) \n",
       "        var sendClosure = (data, metadata, buffers, disposeOnDone) => {\n",
       "          return comm_promise.then((comm) => {\n",
       "            comm.send(data, metadata, buffers, disposeOnDone);\n",
       "          });\n",
       "        };\n",
       "        var comm = {\n",
       "          send: sendClosure\n",
       "        };\n",
       "      }\n",
       "      window.PyViz.comms[comm_id] = comm;\n",
       "      return comm;\n",
       "    }\n",
       "    window.PyViz.comm_manager = new JupyterCommManager();\n",
       "    \n",
       "\n",
       "\n",
       "var JS_MIME_TYPE = 'application/javascript';\n",
       "var HTML_MIME_TYPE = 'text/html';\n",
       "var EXEC_MIME_TYPE = 'application/vnd.holoviews_exec.v0+json';\n",
       "var CLASS_NAME = 'output';\n",
       "\n",
       "/**\n",
       " * Render data to the DOM node\n",
       " */\n",
       "function render(props, node) {\n",
       "  var div = document.createElement(\"div\");\n",
       "  var script = document.createElement(\"script\");\n",
       "  node.appendChild(div);\n",
       "  node.appendChild(script);\n",
       "}\n",
       "\n",
       "/**\n",
       " * Handle when a new output is added\n",
       " */\n",
       "function handle_add_output(event, handle) {\n",
       "  var output_area = handle.output_area;\n",
       "  var output = handle.output;\n",
       "  if ((output.data == undefined) || (!output.data.hasOwnProperty(EXEC_MIME_TYPE))) {\n",
       "    return\n",
       "  }\n",
       "  var id = output.metadata[EXEC_MIME_TYPE][\"id\"];\n",
       "  var toinsert = output_area.element.find(\".\" + CLASS_NAME.split(' ')[0]);\n",
       "  if (id !== undefined) {\n",
       "    var nchildren = toinsert.length;\n",
       "    var html_node = toinsert[nchildren-1].children[0];\n",
       "    html_node.innerHTML = output.data[HTML_MIME_TYPE];\n",
       "    var scripts = [];\n",
       "    var nodelist = html_node.querySelectorAll(\"script\");\n",
       "    for (var i in nodelist) {\n",
       "      if (nodelist.hasOwnProperty(i)) {\n",
       "        scripts.push(nodelist[i])\n",
       "      }\n",
       "    }\n",
       "\n",
       "    scripts.forEach( function (oldScript) {\n",
       "      var newScript = document.createElement(\"script\");\n",
       "      var attrs = [];\n",
       "      var nodemap = oldScript.attributes;\n",
       "      for (var j in nodemap) {\n",
       "        if (nodemap.hasOwnProperty(j)) {\n",
       "          attrs.push(nodemap[j])\n",
       "        }\n",
       "      }\n",
       "      attrs.forEach(function(attr) { newScript.setAttribute(attr.name, attr.value) });\n",
       "      newScript.appendChild(document.createTextNode(oldScript.innerHTML));\n",
       "      oldScript.parentNode.replaceChild(newScript, oldScript);\n",
       "    });\n",
       "    if (JS_MIME_TYPE in output.data) {\n",
       "      toinsert[nchildren-1].children[1].textContent = output.data[JS_MIME_TYPE];\n",
       "    }\n",
       "    output_area._hv_plot_id = id;\n",
       "    if ((window.Bokeh !== undefined) && (id in Bokeh.index)) {\n",
       "      window.PyViz.plot_index[id] = Bokeh.index[id];\n",
       "    } else {\n",
       "      window.PyViz.plot_index[id] = null;\n",
       "    }\n",
       "  } else if (output.metadata[EXEC_MIME_TYPE][\"server_id\"] !== undefined) {\n",
       "    var bk_div = document.createElement(\"div\");\n",
       "    bk_div.innerHTML = output.data[HTML_MIME_TYPE];\n",
       "    var script_attrs = bk_div.children[0].attributes;\n",
       "    for (var i = 0; i < script_attrs.length; i++) {\n",
       "      toinsert[toinsert.length - 1].childNodes[1].setAttribute(script_attrs[i].name, script_attrs[i].value);\n",
       "    }\n",
       "    // store reference to server id on output_area\n",
       "    output_area._bokeh_server_id = output.metadata[EXEC_MIME_TYPE][\"server_id\"];\n",
       "  }\n",
       "}\n",
       "\n",
       "/**\n",
       " * Handle when an output is cleared or removed\n",
       " */\n",
       "function handle_clear_output(event, handle) {\n",
       "  var id = handle.cell.output_area._hv_plot_id;\n",
       "  var server_id = handle.cell.output_area._bokeh_server_id;\n",
       "  if (((id === undefined) || !(id in PyViz.plot_index)) && (server_id !== undefined)) { return; }\n",
       "  var comm = window.PyViz.comm_manager.get_client_comm(\"hv-extension-comm\", \"hv-extension-comm\", function () {});\n",
       "  if (server_id !== null) {\n",
       "    comm.send({event_type: 'server_delete', 'id': server_id});\n",
       "    return;\n",
       "  } else if (comm !== null) {\n",
       "    comm.send({event_type: 'delete', 'id': id});\n",
       "  }\n",
       "  delete PyViz.plot_index[id];\n",
       "  if ((window.Bokeh !== undefined) & (id in window.Bokeh.index)) {\n",
       "    var doc = window.Bokeh.index[id].model.document\n",
       "    doc.clear();\n",
       "    const i = window.Bokeh.documents.indexOf(doc);\n",
       "    if (i > -1) {\n",
       "      window.Bokeh.documents.splice(i, 1);\n",
       "    }\n",
       "  }\n",
       "}\n",
       "\n",
       "/**\n",
       " * Handle kernel restart event\n",
       " */\n",
       "function handle_kernel_cleanup(event, handle) {\n",
       "  delete PyViz.comms[\"hv-extension-comm\"];\n",
       "  window.PyViz.plot_index = {}\n",
       "}\n",
       "\n",
       "/**\n",
       " * Handle update_display_data messages\n",
       " */\n",
       "function handle_update_output(event, handle) {\n",
       "  handle_clear_output(event, {cell: {output_area: handle.output_area}})\n",
       "  handle_add_output(event, handle)\n",
       "}\n",
       "\n",
       "function register_renderer(events, OutputArea) {\n",
       "  function append_mime(data, metadata, element) {\n",
       "    // create a DOM node to render to\n",
       "    var toinsert = this.create_output_subarea(\n",
       "    metadata,\n",
       "    CLASS_NAME,\n",
       "    EXEC_MIME_TYPE\n",
       "    );\n",
       "    this.keyboard_manager.register_events(toinsert);\n",
       "    // Render to node\n",
       "    var props = {data: data, metadata: metadata[EXEC_MIME_TYPE]};\n",
       "    render(props, toinsert[0]);\n",
       "    element.append(toinsert);\n",
       "    return toinsert\n",
       "  }\n",
       "\n",
       "  events.on('output_added.OutputArea', handle_add_output);\n",
       "  events.on('output_updated.OutputArea', handle_update_output);\n",
       "  events.on('clear_output.CodeCell', handle_clear_output);\n",
       "  events.on('delete.Cell', handle_clear_output);\n",
       "  events.on('kernel_ready.Kernel', handle_kernel_cleanup);\n",
       "\n",
       "  OutputArea.prototype.register_mime_type(EXEC_MIME_TYPE, append_mime, {\n",
       "    safe: true,\n",
       "    index: 0\n",
       "  });\n",
       "}\n",
       "\n",
       "if (window.Jupyter !== undefined) {\n",
       "  try {\n",
       "    var events = require('base/js/events');\n",
       "    var OutputArea = require('notebook/js/outputarea').OutputArea;\n",
       "    if (OutputArea.prototype.mime_types().indexOf(EXEC_MIME_TYPE) == -1) {\n",
       "      register_renderer(events, OutputArea);\n",
       "    }\n",
       "  } catch(err) {\n",
       "  }\n",
       "}\n"
      ],
      "application/vnd.holoviews_load.v0+json": "\nif ((window.PyViz === undefined) || (window.PyViz instanceof HTMLElement)) {\n  window.PyViz = {comms: {}, comm_status:{}, kernels:{}, receivers: {}, plot_index: []}\n}\n\n\n    function JupyterCommManager() {\n    }\n\n    JupyterCommManager.prototype.register_target = function(plot_id, comm_id, msg_handler) {\n      if (window.comm_manager || ((window.Jupyter !== undefined) && (Jupyter.notebook.kernel != null))) {\n        var comm_manager = window.comm_manager || Jupyter.notebook.kernel.comm_manager;\n        comm_manager.register_target(comm_id, function(comm) {\n          comm.on_msg(msg_handler);\n        });\n      } else if ((plot_id in window.PyViz.kernels) && (window.PyViz.kernels[plot_id])) {\n        window.PyViz.kernels[plot_id].registerCommTarget(comm_id, function(comm) {\n          comm.onMsg = msg_handler;\n        });\n      } else if (typeof google != 'undefined' && google.colab.kernel != null) {\n        google.colab.kernel.comms.registerTarget(comm_id, (comm) => {\n          var messages = comm.messages[Symbol.asyncIterator]();\n          function processIteratorResult(result) {\n            var message = result.value;\n            console.log(message)\n            var content = {data: message.data, comm_id};\n            var buffers = []\n            for (var buffer of message.buffers || []) {\n              buffers.push(new DataView(buffer))\n            }\n            var metadata = message.metadata || {};\n            var msg = {content, buffers, metadata}\n            msg_handler(msg);\n            return messages.next().then(processIteratorResult);\n          }\n          return messages.next().then(processIteratorResult);\n        })\n      }\n    }\n\n    JupyterCommManager.prototype.get_client_comm = function(plot_id, comm_id, msg_handler) {\n      if (comm_id in window.PyViz.comms) {\n        return window.PyViz.comms[comm_id];\n      } else if (window.comm_manager || ((window.Jupyter !== undefined) && (Jupyter.notebook.kernel != null))) {\n        var comm_manager = window.comm_manager || Jupyter.notebook.kernel.comm_manager;\n        var comm = comm_manager.new_comm(comm_id, {}, {}, {}, comm_id);\n        if (msg_handler) {\n          comm.on_msg(msg_handler);\n        }\n      } else if ((plot_id in window.PyViz.kernels) && (window.PyViz.kernels[plot_id])) {\n        var comm = window.PyViz.kernels[plot_id].connectToComm(comm_id);\n        comm.open();\n        if (msg_handler) {\n          comm.onMsg = msg_handler;\n        }\n      } else if (typeof google != 'undefined' && google.colab.kernel != null) {\n        var comm_promise = google.colab.kernel.comms.open(comm_id)\n        comm_promise.then((comm) => {\n          window.PyViz.comms[comm_id] = comm;\n          if (msg_handler) {\n            var messages = comm.messages[Symbol.asyncIterator]();\n            function processIteratorResult(result) {\n              var message = result.value;\n              var content = {data: message.data};\n              var metadata = message.metadata || {comm_id};\n              var msg = {content, metadata}\n              msg_handler(msg);\n              return messages.next().then(processIteratorResult);\n            }\n            return messages.next().then(processIteratorResult);\n          }\n        }) \n        var sendClosure = (data, metadata, buffers, disposeOnDone) => {\n          return comm_promise.then((comm) => {\n            comm.send(data, metadata, buffers, disposeOnDone);\n          });\n        };\n        var comm = {\n          send: sendClosure\n        };\n      }\n      window.PyViz.comms[comm_id] = comm;\n      return comm;\n    }\n    window.PyViz.comm_manager = new JupyterCommManager();\n    \n\n\nvar JS_MIME_TYPE = 'application/javascript';\nvar HTML_MIME_TYPE = 'text/html';\nvar EXEC_MIME_TYPE = 'application/vnd.holoviews_exec.v0+json';\nvar CLASS_NAME = 'output';\n\n/**\n * Render data to the DOM node\n */\nfunction render(props, node) {\n  var div = document.createElement(\"div\");\n  var script = document.createElement(\"script\");\n  node.appendChild(div);\n  node.appendChild(script);\n}\n\n/**\n * Handle when a new output is added\n */\nfunction handle_add_output(event, handle) {\n  var output_area = handle.output_area;\n  var output = handle.output;\n  if ((output.data == undefined) || (!output.data.hasOwnProperty(EXEC_MIME_TYPE))) {\n    return\n  }\n  var id = output.metadata[EXEC_MIME_TYPE][\"id\"];\n  var toinsert = output_area.element.find(\".\" + CLASS_NAME.split(' ')[0]);\n  if (id !== undefined) {\n    var nchildren = toinsert.length;\n    var html_node = toinsert[nchildren-1].children[0];\n    html_node.innerHTML = output.data[HTML_MIME_TYPE];\n    var scripts = [];\n    var nodelist = html_node.querySelectorAll(\"script\");\n    for (var i in nodelist) {\n      if (nodelist.hasOwnProperty(i)) {\n        scripts.push(nodelist[i])\n      }\n    }\n\n    scripts.forEach( function (oldScript) {\n      var newScript = document.createElement(\"script\");\n      var attrs = [];\n      var nodemap = oldScript.attributes;\n      for (var j in nodemap) {\n        if (nodemap.hasOwnProperty(j)) {\n          attrs.push(nodemap[j])\n        }\n      }\n      attrs.forEach(function(attr) { newScript.setAttribute(attr.name, attr.value) });\n      newScript.appendChild(document.createTextNode(oldScript.innerHTML));\n      oldScript.parentNode.replaceChild(newScript, oldScript);\n    });\n    if (JS_MIME_TYPE in output.data) {\n      toinsert[nchildren-1].children[1].textContent = output.data[JS_MIME_TYPE];\n    }\n    output_area._hv_plot_id = id;\n    if ((window.Bokeh !== undefined) && (id in Bokeh.index)) {\n      window.PyViz.plot_index[id] = Bokeh.index[id];\n    } else {\n      window.PyViz.plot_index[id] = null;\n    }\n  } else if (output.metadata[EXEC_MIME_TYPE][\"server_id\"] !== undefined) {\n    var bk_div = document.createElement(\"div\");\n    bk_div.innerHTML = output.data[HTML_MIME_TYPE];\n    var script_attrs = bk_div.children[0].attributes;\n    for (var i = 0; i < script_attrs.length; i++) {\n      toinsert[toinsert.length - 1].childNodes[1].setAttribute(script_attrs[i].name, script_attrs[i].value);\n    }\n    // store reference to server id on output_area\n    output_area._bokeh_server_id = output.metadata[EXEC_MIME_TYPE][\"server_id\"];\n  }\n}\n\n/**\n * Handle when an output is cleared or removed\n */\nfunction handle_clear_output(event, handle) {\n  var id = handle.cell.output_area._hv_plot_id;\n  var server_id = handle.cell.output_area._bokeh_server_id;\n  if (((id === undefined) || !(id in PyViz.plot_index)) && (server_id !== undefined)) { return; }\n  var comm = window.PyViz.comm_manager.get_client_comm(\"hv-extension-comm\", \"hv-extension-comm\", function () {});\n  if (server_id !== null) {\n    comm.send({event_type: 'server_delete', 'id': server_id});\n    return;\n  } else if (comm !== null) {\n    comm.send({event_type: 'delete', 'id': id});\n  }\n  delete PyViz.plot_index[id];\n  if ((window.Bokeh !== undefined) & (id in window.Bokeh.index)) {\n    var doc = window.Bokeh.index[id].model.document\n    doc.clear();\n    const i = window.Bokeh.documents.indexOf(doc);\n    if (i > -1) {\n      window.Bokeh.documents.splice(i, 1);\n    }\n  }\n}\n\n/**\n * Handle kernel restart event\n */\nfunction handle_kernel_cleanup(event, handle) {\n  delete PyViz.comms[\"hv-extension-comm\"];\n  window.PyViz.plot_index = {}\n}\n\n/**\n * Handle update_display_data messages\n */\nfunction handle_update_output(event, handle) {\n  handle_clear_output(event, {cell: {output_area: handle.output_area}})\n  handle_add_output(event, handle)\n}\n\nfunction register_renderer(events, OutputArea) {\n  function append_mime(data, metadata, element) {\n    // create a DOM node to render to\n    var toinsert = this.create_output_subarea(\n    metadata,\n    CLASS_NAME,\n    EXEC_MIME_TYPE\n    );\n    this.keyboard_manager.register_events(toinsert);\n    // Render to node\n    var props = {data: data, metadata: metadata[EXEC_MIME_TYPE]};\n    render(props, toinsert[0]);\n    element.append(toinsert);\n    return toinsert\n  }\n\n  events.on('output_added.OutputArea', handle_add_output);\n  events.on('output_updated.OutputArea', handle_update_output);\n  events.on('clear_output.CodeCell', handle_clear_output);\n  events.on('delete.Cell', handle_clear_output);\n  events.on('kernel_ready.Kernel', handle_kernel_cleanup);\n\n  OutputArea.prototype.register_mime_type(EXEC_MIME_TYPE, append_mime, {\n    safe: true,\n    index: 0\n  });\n}\n\nif (window.Jupyter !== undefined) {\n  try {\n    var events = require('base/js/events');\n    var OutputArea = require('notebook/js/outputarea').OutputArea;\n    if (OutputArea.prototype.mime_types().indexOf(EXEC_MIME_TYPE) == -1) {\n      register_renderer(events, OutputArea);\n    }\n  } catch(err) {\n  }\n}\n"
     },
     "metadata": {},
     "output_type": "display_data"
    }
   ],
   "source": [
    "import panel as pn\n",
    "import panel.widgets as pnw\n",
    "pn.extension()\n",
    "from bokeh.plotting import figure\n",
    "from bokeh.models import ColumnDataSource, Plot, Grid, Range1d\n",
    "from bokeh.models.glyphs import Text, Rect\n",
    "from bokeh.layouts import gridplot\n",
    "\n",
    "def view_alignment(aln, fontsize=\"9pt\", plot_width=800):\n",
    "    \"\"\"Bokeh sequence alignment view\"\"\"\n",
    "\n",
    "    #make sequence and id lists from the aln object\n",
    "    seqs = [rec.seq for rec in (aln)]\n",
    "    ids = [rec.id for rec in aln]    \n",
    "    text = [i for s in list(seqs) for i in s]\n",
    "    colors = get_colors(seqs)    \n",
    "    N = len(seqs[0])\n",
    "    S = len(seqs)    \n",
    "    width = .4\n",
    "\n",
    "    x = np.arange(0.5,N+0.5)\n",
    "    y = np.arange(0,S,1)\n",
    "    #creates a 2D grid of coords from the 1D arrays\n",
    "    xx, yy = np.meshgrid(x, y)\n",
    "    #flattens the arrays\n",
    "    gx = xx.ravel()\n",
    "    gy = yy.flatten()\n",
    "    #use recty for rect coords with an offset\n",
    "    recty = gy+.5\n",
    "    h= 1/S\n",
    "    #now we can create the ColumnDataSource with all the arrays\n",
    "    source = ColumnDataSource(dict(x=gx, y=gy, recty=recty, text=text, colors=colors))\n",
    "    plot_height = len(seqs)*15+50\n",
    "    x_range = Range1d(0,N+1, bounds='auto')\n",
    "    if N>100:\n",
    "        viewlen=100\n",
    "    else:\n",
    "        viewlen=N\n",
    "    #view_range is for the close up view\n",
    "    view_range = (0,viewlen)\n",
    "    tools=\"xpan, xwheel_zoom, reset, save\" \n",
    "\n",
    "    #sequence text view with ability to scroll along x axis\n",
    "    p = figure(title=None, plot_width=plot_width, plot_height=plot_height,\n",
    "                x_range=view_range, y_range=ids, tools=\"xpan,reset\",\n",
    "                min_border=0, toolbar_location='below')#, lod_factor=1)          \n",
    "    glyph = Text(x=\"x\", y=\"y\", text=\"text\", text_align='center',text_color=\"black\",\n",
    "                text_font=\"monospace\",text_font_size=fontsize)\n",
    "    rects = Rect(x=\"x\", y=\"recty\",  width=1, height=1, fill_color=\"colors\",\n",
    "                line_color=None, fill_alpha=0.4)\n",
    "    p.add_glyph(source, glyph)\n",
    "    p.add_glyph(source, rects)\n",
    "\n",
    "    p.grid.visible = False\n",
    "    p.xaxis.major_label_text_font_style = \"bold\"\n",
    "    p.yaxis.minor_tick_line_width = 0\n",
    "    p.yaxis.major_tick_line_width = 0\n",
    "\n",
    "    p = gridplot([[p]], toolbar_location='below')\n",
    "    return p\n",
    "\n",
    "# Mapping Function for nucleotide sequences\n",
    "def get_colors(seqs):\n",
    "    \"\"\"make colors for bases in sequence\"\"\"\n",
    "    text = [i for s in list(seqs) for i in s]\n",
    "    clrs =  {'A':'red','T':'green','G':'orange','C':'blue','-':'white'}\n",
    "    colors = [clrs[i] for i in text]\n",
    "    return colors"
   ]
  },
  {
   "cell_type": "code",
   "execution_count": 47,
   "metadata": {
    "execution": {
     "iopub.execute_input": "2023-03-08T16:00:56.872451Z",
     "iopub.status.busy": "2023-03-08T16:00:56.871286Z",
     "iopub.status.idle": "2023-03-08T16:00:56.909723Z",
     "shell.execute_reply": "2023-03-08T16:00:56.909076Z",
     "shell.execute_reply.started": "2023-03-08T13:48:45.842047Z"
    },
    "papermill": {
     "duration": 0.188283,
     "end_time": "2023-03-08T16:00:56.909905",
     "exception": false,
     "start_time": "2023-03-08T16:00:56.721622",
     "status": "completed"
    },
    "tags": []
   },
   "outputs": [
    {
     "data": {},
     "metadata": {},
     "output_type": "display_data"
    },
    {
     "data": {
      "application/vnd.holoviews_exec.v0+json": "",
      "text/html": [
       "<div id='1043'>\n",
       "\n",
       "\n",
       "\n",
       "\n",
       "\n",
       "  <div class=\"bk-root\" id=\"3f451a89-9a78-42f7-bc8c-5261f781138a\" data-root-id=\"1043\"></div>\n",
       "</div>\n",
       "<script type=\"application/javascript\">(function(root) {\n",
       "  function embed_document(root) {\n",
       "    var docs_json = {\"13436d2c-8e4d-475b-a4ed-91d3d519c01d\":{\"roots\":{\"references\":[{\"attributes\":{\"children\":[[{\"id\":\"1003\"},0,0]]},\"id\":\"1039\",\"type\":\"GridBox\"},{\"attributes\":{\"below\":[{\"id\":\"1013\"}],\"center\":[{\"id\":\"1016\"},{\"id\":\"1019\"}],\"left\":[{\"id\":\"1017\"}],\"min_border\":0,\"plot_height\":95,\"plot_width\":800,\"renderers\":[{\"id\":\"1027\"},{\"id\":\"1029\"}],\"title\":null,\"toolbar\":{\"id\":\"1022\"},\"toolbar_location\":null,\"x_range\":{\"id\":\"1005\"},\"x_scale\":{\"id\":\"1009\"},\"y_range\":{\"id\":\"1007\"},\"y_scale\":{\"id\":\"1011\"}},\"id\":\"1003\",\"subtype\":\"Figure\",\"type\":\"Plot\"},{\"attributes\":{\"toolbar\":{\"id\":\"1040\"},\"toolbar_location\":\"below\"},\"id\":\"1041\",\"type\":\"ToolbarBox\"},{\"attributes\":{},\"id\":\"1014\",\"type\":\"BasicTicker\"},{\"attributes\":{\"toolbars\":[{\"id\":\"1022\"}],\"tools\":[{\"id\":\"1020\"},{\"id\":\"1021\"}]},\"id\":\"1040\",\"type\":\"ProxyToolbar\"},{\"attributes\":{\"factors\":[\"n1\",\"n2\",\"n3\"]},\"id\":\"1007\",\"type\":\"FactorRange\"},{\"attributes\":{},\"id\":\"1011\",\"type\":\"CategoricalScale\"},{\"attributes\":{\"reload\":false},\"id\":\"1101\",\"type\":\"panel.models.location.Location\"},{\"attributes\":{\"fill_alpha\":{\"value\":0.4},\"fill_color\":{\"field\":\"colors\"},\"height\":{\"units\":\"data\",\"value\":1},\"line_color\":{\"value\":null},\"width\":{\"units\":\"data\",\"value\":1},\"x\":{\"field\":\"x\"},\"y\":{\"field\":\"recty\"}},\"id\":\"1026\",\"type\":\"Rect\"},{\"attributes\":{},\"id\":\"1009\",\"type\":\"LinearScale\"},{\"attributes\":{\"source\":{\"id\":\"1001\"}},\"id\":\"1030\",\"type\":\"CDSView\"},{\"attributes\":{},\"id\":\"1034\",\"type\":\"BasicTickFormatter\"},{\"attributes\":{},\"id\":\"1018\",\"type\":\"CategoricalTicker\"},{\"attributes\":{\"client_comm_id\":\"576ce51a60f44b28a60d6a2e23054a2b\",\"comm_id\":\"0a6b33c40c7645a4803c78ea796786e3\",\"plot_id\":\"1043\"},\"id\":\"1079\",\"type\":\"panel.models.comm_manager.CommManager\"},{\"attributes\":{\"dimensions\":\"width\"},\"id\":\"1020\",\"type\":\"PanTool\"},{\"attributes\":{},\"id\":\"1037\",\"type\":\"Selection\"},{\"attributes\":{\"end\":33},\"id\":\"1005\",\"type\":\"Range1d\"},{\"attributes\":{\"children\":[{\"id\":\"1042\"}],\"margin\":[0,0,0,0],\"name\":\"Row00008\"},\"id\":\"1043\",\"type\":\"Row\"},{\"attributes\":{\"source\":{\"id\":\"1001\"}},\"id\":\"1028\",\"type\":\"CDSView\"},{\"attributes\":{\"children\":[{\"id\":\"1039\"},{\"id\":\"1041\"}]},\"id\":\"1042\",\"type\":\"Column\"},{\"attributes\":{\"formatter\":{\"id\":\"1032\"},\"major_tick_line_width\":0,\"minor_tick_line_width\":0,\"ticker\":{\"id\":\"1018\"}},\"id\":\"1017\",\"type\":\"CategoricalAxis\"},{\"attributes\":{\"formatter\":{\"id\":\"1034\"},\"major_label_text_font_style\":\"bold\",\"ticker\":{\"id\":\"1014\"}},\"id\":\"1013\",\"type\":\"LinearAxis\"},{\"attributes\":{\"axis\":{\"id\":\"1017\"},\"dimension\":1,\"ticker\":null,\"visible\":false},\"id\":\"1019\",\"type\":\"Grid\"},{\"attributes\":{\"data\":{\"colors\":[\"red\",\"blue\",\"blue\",\"orange\",\"orange\",\"green\",\"blue\",\"red\",\"orange\",\"orange\",\"orange\",\"blue\",\"orange\",\"red\",\"blue\",\"orange\",\"orange\",\"orange\",\"green\",\"green\",\"green\",\"orange\",\"blue\",\"orange\",\"blue\",\"blue\",\"blue\",\"green\",\"green\",\"green\",\"orange\",\"red\",\"green\",\"red\",\"blue\",\"blue\",\"orange\",\"orange\",\"green\",\"blue\",\"red\",\"green\",\"green\",\"green\",\"blue\",\"orange\",\"red\",\"blue\",\"orange\",\"orange\",\"orange\",\"green\",\"green\",\"green\",\"orange\",\"blue\",\"orange\",\"orange\",\"blue\",\"blue\",\"green\",\"green\",\"green\",\"orange\",\"blue\",\"green\",\"blue\",\"blue\",\"red\",\"orange\",\"orange\",\"green\",\"blue\",\"red\",\"orange\",\"blue\",\"green\",\"blue\",\"orange\",\"red\",\"blue\",\"orange\",\"orange\",\"orange\",\"green\",\"green\",\"orange\",\"orange\",\"blue\",\"orange\",\"orange\",\"blue\",\"blue\",\"green\",\"green\",\"green\",\"orange\",\"blue\",\"green\"],\"recty\":{\"__ndarray__\":\"AAAAAAAA4D8AAAAAAADgPwAAAAAAAOA/AAAAAAAA4D8AAAAAAADgPwAAAAAAAOA/AAAAAAAA4D8AAAAAAADgPwAAAAAAAOA/AAAAAAAA4D8AAAAAAADgPwAAAAAAAOA/AAAAAAAA4D8AAAAAAADgPwAAAAAAAOA/AAAAAAAA4D8AAAAAAADgPwAAAAAAAOA/AAAAAAAA4D8AAAAAAADgPwAAAAAAAOA/AAAAAAAA4D8AAAAAAADgPwAAAAAAAOA/AAAAAAAA4D8AAAAAAADgPwAAAAAAAOA/AAAAAAAA4D8AAAAAAADgPwAAAAAAAOA/AAAAAAAA4D8AAAAAAADgPwAAAAAAAOA/AAAAAAAA+D8AAAAAAAD4PwAAAAAAAPg/AAAAAAAA+D8AAAAAAAD4PwAAAAAAAPg/AAAAAAAA+D8AAAAAAAD4PwAAAAAAAPg/AAAAAAAA+D8AAAAAAAD4PwAAAAAAAPg/AAAAAAAA+D8AAAAAAAD4PwAAAAAAAPg/AAAAAAAA+D8AAAAAAAD4PwAAAAAAAPg/AAAAAAAA+D8AAAAAAAD4PwAAAAAAAPg/AAAAAAAA+D8AAAAAAAD4PwAAAAAAAPg/AAAAAAAA+D8AAAAAAAD4PwAAAAAAAPg/AAAAAAAA+D8AAAAAAAD4PwAAAAAAAPg/AAAAAAAA+D8AAAAAAAD4PwAAAAAAAPg/AAAAAAAABEAAAAAAAAAEQAAAAAAAAARAAAAAAAAABEAAAAAAAAAEQAAAAAAAAARAAAAAAAAABEAAAAAAAAAEQAAAAAAAAARAAAAAAAAABEAAAAAAAAAEQAAAAAAAAARAAAAAAAAABEAAAAAAAAAEQAAAAAAAAARAAAAAAAAABEAAAAAAAAAEQAAAAAAAAARAAAAAAAAABEAAAAAAAAAEQAAAAAAAAARAAAAAAAAABEAAAAAAAAAEQAAAAAAAAARAAAAAAAAABEAAAAAAAAAEQAAAAAAAAARAAAAAAAAABEAAAAAAAAAEQAAAAAAAAARAAAAAAAAABEAAAAAAAAAEQAAAAAAAAARA\",\"dtype\":\"float64\",\"order\":\"little\",\"shape\":[99]},\"text\":[\"A\",\"C\",\"C\",\"G\",\"G\",\"T\",\"C\",\"A\",\"G\",\"G\",\"G\",\"C\",\"G\",\"A\",\"C\",\"G\",\"G\",\"G\",\"T\",\"T\",\"T\",\"G\",\"C\",\"G\",\"C\",\"C\",\"C\",\"T\",\"T\",\"T\",\"G\",\"A\",\"T\",\"A\",\"C\",\"C\",\"G\",\"G\",\"T\",\"C\",\"A\",\"T\",\"T\",\"T\",\"C\",\"G\",\"A\",\"C\",\"G\",\"G\",\"G\",\"T\",\"T\",\"T\",\"G\",\"C\",\"G\",\"G\",\"C\",\"C\",\"T\",\"T\",\"T\",\"G\",\"C\",\"T\",\"C\",\"C\",\"A\",\"G\",\"G\",\"T\",\"C\",\"A\",\"G\",\"C\",\"T\",\"C\",\"G\",\"A\",\"C\",\"G\",\"G\",\"G\",\"T\",\"T\",\"G\",\"G\",\"C\",\"G\",\"G\",\"C\",\"C\",\"T\",\"T\",\"T\",\"G\",\"C\",\"T\"],\"x\":{\"__ndarray__\":\"AAAAAAAA4D8AAAAAAAD4PwAAAAAAAARAAAAAAAAADEAAAAAAAAASQAAAAAAAABZAAAAAAAAAGkAAAAAAAAAeQAAAAAAAACFAAAAAAAAAI0AAAAAAAAAlQAAAAAAAACdAAAAAAAAAKUAAAAAAAAArQAAAAAAAAC1AAAAAAAAAL0AAAAAAAIAwQAAAAAAAgDFAAAAAAACAMkAAAAAAAIAzQAAAAAAAgDRAAAAAAACANUAAAAAAAIA2QAAAAAAAgDdAAAAAAACAOEAAAAAAAIA5QAAAAAAAgDpAAAAAAACAO0AAAAAAAIA8QAAAAAAAgD1AAAAAAACAPkAAAAAAAIA/QAAAAAAAQEBAAAAAAAAA4D8AAAAAAAD4PwAAAAAAAARAAAAAAAAADEAAAAAAAAASQAAAAAAAABZAAAAAAAAAGkAAAAAAAAAeQAAAAAAAACFAAAAAAAAAI0AAAAAAAAAlQAAAAAAAACdAAAAAAAAAKUAAAAAAAAArQAAAAAAAAC1AAAAAAAAAL0AAAAAAAIAwQAAAAAAAgDFAAAAAAACAMkAAAAAAAIAzQAAAAAAAgDRAAAAAAACANUAAAAAAAIA2QAAAAAAAgDdAAAAAAACAOEAAAAAAAIA5QAAAAAAAgDpAAAAAAACAO0AAAAAAAIA8QAAAAAAAgD1AAAAAAACAPkAAAAAAAIA/QAAAAAAAQEBAAAAAAAAA4D8AAAAAAAD4PwAAAAAAAARAAAAAAAAADEAAAAAAAAASQAAAAAAAABZAAAAAAAAAGkAAAAAAAAAeQAAAAAAAACFAAAAAAAAAI0AAAAAAAAAlQAAAAAAAACdAAAAAAAAAKUAAAAAAAAArQAAAAAAAAC1AAAAAAAAAL0AAAAAAAIAwQAAAAAAAgDFAAAAAAACAMkAAAAAAAIAzQAAAAAAAgDRAAAAAAACANUAAAAAAAIA2QAAAAAAAgDdAAAAAAACAOEAAAAAAAIA5QAAAAAAAgDpAAAAAAACAO0AAAAAAAIA8QAAAAAAAgD1AAAAAAACAPkAAAAAAAIA/QAAAAAAAQEBA\",\"dtype\":\"float64\",\"order\":\"little\",\"shape\":[99]},\"y\":[0,0,0,0,0,0,0,0,0,0,0,0,0,0,0,0,0,0,0,0,0,0,0,0,0,0,0,0,0,0,0,0,0,1,1,1,1,1,1,1,1,1,1,1,1,1,1,1,1,1,1,1,1,1,1,1,1,1,1,1,1,1,1,1,1,1,2,2,2,2,2,2,2,2,2,2,2,2,2,2,2,2,2,2,2,2,2,2,2,2,2,2,2,2,2,2,2,2,2]},\"selected\":{\"id\":\"1037\"},\"selection_policy\":{\"id\":\"1036\"}},\"id\":\"1001\",\"type\":\"ColumnDataSource\"},{\"attributes\":{\"data_source\":{\"id\":\"1001\"},\"glyph\":{\"id\":\"1025\"},\"hover_glyph\":null,\"muted_glyph\":null,\"view\":{\"id\":\"1028\"}},\"id\":\"1027\",\"type\":\"GlyphRenderer\"},{\"attributes\":{\"axis\":{\"id\":\"1013\"},\"ticker\":null,\"visible\":false},\"id\":\"1016\",\"type\":\"Grid\"},{\"attributes\":{},\"id\":\"1021\",\"type\":\"ResetTool\"},{\"attributes\":{},\"id\":\"1036\",\"type\":\"UnionRenderers\"},{\"attributes\":{\"text_align\":\"center\",\"text_color\":{\"value\":\"black\"},\"text_font\":\"monospace\",\"text_font_size\":{\"value\":\"9pt\"},\"x\":{\"field\":\"x\"},\"y\":{\"field\":\"y\"}},\"id\":\"1025\",\"type\":\"Text\"},{\"attributes\":{\"data_source\":{\"id\":\"1001\"},\"glyph\":{\"id\":\"1026\"},\"hover_glyph\":null,\"muted_glyph\":null,\"view\":{\"id\":\"1030\"}},\"id\":\"1029\",\"type\":\"GlyphRenderer\"},{\"attributes\":{},\"id\":\"1032\",\"type\":\"CategoricalTickFormatter\"},{\"attributes\":{\"active_drag\":\"auto\",\"active_inspect\":\"auto\",\"active_multi\":null,\"active_scroll\":\"auto\",\"active_tap\":\"auto\",\"tools\":[{\"id\":\"1020\"},{\"id\":\"1021\"}]},\"id\":\"1022\",\"type\":\"Toolbar\"}],\"root_ids\":[\"1043\",\"1079\",\"1101\"]},\"title\":\"Bokeh Application\",\"version\":\"2.2.3\"}};\n",
       "    var render_items = [{\"docid\":\"13436d2c-8e4d-475b-a4ed-91d3d519c01d\",\"root_ids\":[\"1043\"],\"roots\":{\"1043\":\"3f451a89-9a78-42f7-bc8c-5261f781138a\"}}];\n",
       "    root.Bokeh.embed.embed_items_notebook(docs_json, render_items);\n",
       "  }\n",
       "  if (root.Bokeh !== undefined && root.Bokeh.Panel !== undefined) {\n",
       "    embed_document(root);\n",
       "  } else {\n",
       "    var attempts = 0;\n",
       "    var timer = setInterval(function(root) {\n",
       "      if (root.Bokeh !== undefined && root.Bokeh.Panel !== undefined) {\n",
       "        clearInterval(timer);\n",
       "        embed_document(root);\n",
       "      } else if (document.readyState == \"complete\") {\n",
       "        attempts++;\n",
       "        if (attempts > 100) {\n",
       "          clearInterval(timer);\n",
       "          console.log(\"Bokeh: ERROR: Unable to run BokehJS code because BokehJS library is missing\");\n",
       "        }\n",
       "      }\n",
       "    }, 10, root)\n",
       "  }\n",
       "})(window);</script>"
      ],
      "text/plain": [
       "Bokeh(Column)"
      ]
     },
     "execution_count": 47,
     "metadata": {
      "application/vnd.holoviews_exec.v0+json": {
       "id": "1043"
      }
     },
     "output_type": "execute_result"
    }
   ],
   "source": [
    "p = view_alignment(align_n, fontsize=\"9pt\", plot_width=800)\n",
    "pn.pane.Bokeh(p)"
   ]
  },
  {
   "cell_type": "markdown",
   "metadata": {
    "papermill": {
     "duration": 0.13122,
     "end_time": "2023-03-08T16:00:57.175839",
     "exception": false,
     "start_time": "2023-03-08T16:00:57.044619",
     "status": "completed"
    },
    "tags": []
   },
   "source": [
    "### BLAST\n",
    "NCBI Database Online Queries\n",
    "    \n",
    "Basic Local Alignment Search Tool (BLAST) uses the same alignment methods as implemented in Biopython, except the comparison sequences are called from a database.\n",
    "BioPython also includes a BLAST module that can be used to search for similar sequences\n",
    "    \n",
    "Bio.Blast\n",
    "The alignment requests are made remotely, and it can involve waiting time as our request is processed, however using BLAST locally is also an option in Biopython.\n",
    "\n",
    "### BIOPYTHON BLAST CLASSES\n",
    "\n",
    "NCBIWWW : Code to invoke the NCBI BLAST server over the internet \n",
    "NCBIXML : Code to work with the BLAST XML output. (we need to interpret the received results)\n",
    "\n",
    "### SENDING A QUERY\n",
    "\n",
    "NCBIWWW.qblast is used to send a request to NCBI BLAST.\n",
    "The main parameters used with the NCBIWWW.qblast function\n",
    "The function takes in the program option (\"blastn\", \"blastp\",\"blastx\",\"tblastn\",\"tblastx\")\n",
    "The database to search (eg.\"nr\",\"nt\",\"pdb\")\n",
    "The sequence to be used in the query ( can search by the gi identifier)"
   ]
  },
  {
   "cell_type": "markdown",
   "metadata": {
    "papermill": {
     "duration": 0.134868,
     "end_time": "2023-03-08T16:00:57.445012",
     "exception": false,
     "start_time": "2023-03-08T16:00:57.310144",
     "status": "completed"
    },
    "tags": []
   },
   "source": [
    "### Python Strings to Sequences\n",
    "\n",
    "### LOADING THE SEQUENCE\n",
    "We'll use a FASTA file whose description contains the actual sequence identification, so we'll be able to see if we have a hit in the database of existing sequences.\n",
    "The actual description is not used in the alignment process, it's only there for us to visually confirm we have a match in the database."
   ]
  },
  {
   "cell_type": "code",
   "execution_count": 48,
   "metadata": {
    "execution": {
     "iopub.execute_input": "2023-03-08T16:00:57.715188Z",
     "iopub.status.busy": "2023-03-08T16:00:57.714334Z",
     "iopub.status.idle": "2023-03-08T16:00:57.726928Z",
     "shell.execute_reply": "2023-03-08T16:00:57.727674Z",
     "shell.execute_reply.started": "2023-03-08T13:48:45.901378Z"
    },
    "papermill": {
     "duration": 0.151125,
     "end_time": "2023-03-08T16:00:57.727971",
     "exception": false,
     "start_time": "2023-03-08T16:00:57.576846",
     "status": "completed"
    },
    "tags": []
   },
   "outputs": [
    {
     "name": "stdout",
     "output_type": "stream",
     "text": [
      "ID: gi|45478711|ref|NC_005816.1|\n",
      "Name: gi|45478711|ref|NC_005816.1|\n",
      "Description: gi|45478711|ref|NC_005816.1| Yersinia pestis biovar Microtus str. 91001 plasmid pPCP1, complete sequence\n",
      "Number of features: 0\n",
      "Seq('TGTAACGAACGGTGCAATAGTGATCCACACCCAACGCCTGAAATCAGATCCAGG...CTG')\n",
      "Length of Nucleotide Sequence: 9609\n"
     ]
    }
   ],
   "source": [
    "# File which we want to align\n",
    "# Description is included so we can compare results\n",
    "file_fasta = '/kaggle/input/biopython-genbank/NC_005816.fna'\n",
    "\n",
    "record = SeqIO.read(open(file_fasta),format='fasta')\n",
    "print(record)\n",
    "print(f'Length of Nucleotide Sequence: {len(record)}')"
   ]
  },
  {
   "cell_type": "markdown",
   "metadata": {
    "papermill": {
     "duration": 0.132702,
     "end_time": "2023-03-08T16:00:57.993000",
     "exception": false,
     "start_time": "2023-03-08T16:00:57.860298",
     "status": "completed"
    },
    "tags": []
   },
   "source": [
    "### BLAST QUERY & SAVING CONTENT\n",
    "Our sequence (let's say we didn't know the NBCI identifier) is made up of content, so we'll use 'blastn' option when calling .qblast()\n",
    "The query can be saved to a file as we would with a normal python file. The content is saved using .read() and saved with the xml extension."
   ]
  },
  {
   "cell_type": "code",
   "execution_count": 49,
   "metadata": {
    "execution": {
     "iopub.execute_input": "2023-03-08T16:00:58.279399Z",
     "iopub.status.busy": "2023-03-08T16:00:58.272183Z",
     "iopub.status.idle": "2023-03-08T16:02:01.740766Z",
     "shell.execute_reply": "2023-03-08T16:02:01.739975Z",
     "shell.execute_reply.started": "2023-03-08T13:48:45.915656Z"
    },
    "papermill": {
     "duration": 63.610913,
     "end_time": "2023-03-08T16:02:01.740977",
     "exception": false,
     "start_time": "2023-03-08T16:00:58.130064",
     "status": "completed"
    },
    "tags": []
   },
   "outputs": [],
   "source": [
    "if(blast_id):\n",
    "    \n",
    "    # BLAST query instance\n",
    "    result_handle = NCBIWWW.qblast('blastn','nt',record.format('fasta'))\n",
    "\n",
    "    # Read the file (call only once)\n",
    "    with open(\"/kaggle/working/NC_005816_blast.xml\", \"w\") as save_to:\n",
    "        save_to.write(result_handle.read())\n",
    "        result_handle.close()"
   ]
  },
  {
   "cell_type": "markdown",
   "metadata": {
    "papermill": {
     "duration": 0.136165,
     "end_time": "2023-03-08T16:02:02.010840",
     "exception": false,
     "start_time": "2023-03-08T16:02:01.874675",
     "status": "completed"
    },
    "tags": []
   },
   "source": [
    "### READING BLAST SEARCH RESULT CONTENT \n",
    "When we want to read the BLAST search results, we can open it as we would any other file with python's open().\n",
    "We need to parse the stored file (NCBIXML.parse), which returns the Record objects, which we can read through using for loops."
   ]
  },
  {
   "cell_type": "code",
   "execution_count": 50,
   "metadata": {
    "execution": {
     "iopub.execute_input": "2023-03-08T16:02:02.283773Z",
     "iopub.status.busy": "2023-03-08T16:02:02.282636Z",
     "iopub.status.idle": "2023-03-08T16:02:02.287191Z",
     "shell.execute_reply": "2023-03-08T16:02:02.287810Z",
     "shell.execute_reply.started": "2023-03-08T13:49:47.344232Z"
    },
    "papermill": {
     "duration": 0.144176,
     "end_time": "2023-03-08T16:02:02.288044",
     "exception": false,
     "start_time": "2023-03-08T16:02:02.143868",
     "status": "completed"
    },
    "tags": []
   },
   "outputs": [],
   "source": [
    "if(blast_id):\n",
    "    result_handle = open('/kaggle/input/biopython-genbank/NC_005816_blast.xml','r')\n",
    "    blast_records = NCBIXML.parse(result_handle)"
   ]
  },
  {
   "cell_type": "code",
   "execution_count": 51,
   "metadata": {
    "execution": {
     "iopub.execute_input": "2023-03-08T16:02:02.559506Z",
     "iopub.status.busy": "2023-03-08T16:02:02.558635Z",
     "iopub.status.idle": "2023-03-08T16:02:02.628890Z",
     "shell.execute_reply": "2023-03-08T16:02:02.628249Z",
     "shell.execute_reply.started": "2023-03-08T13:49:47.354017Z"
    },
    "papermill": {
     "duration": 0.206117,
     "end_time": "2023-03-08T16:02:02.629084",
     "exception": false,
     "start_time": "2023-03-08T16:02:02.422967",
     "status": "completed"
    },
    "tags": []
   },
   "outputs": [
    {
     "name": "stdout",
     "output_type": "stream",
     "text": [
      "\n",
      "Alignment #0\n",
      "***** Alignment *****\n",
      "sequence: gi|45357364|gb|AE017046.1| Yersinia pestis biovar Microtus str. 91001 plasmid pPCP1, complete sequence\n",
      "length: 9609\n",
      "e value: 0.0\n",
      "\n",
      "Alignment #1\n",
      "***** Alignment *****\n",
      "sequence: gi|311902116|gb|HM807366.1| Yersinia pestis strain C790 plasmid pPCP1, complete sequence\n",
      "length: 9610\n",
      "e value: 0.0\n",
      "\n",
      "Alignment #2\n",
      "***** Alignment *****\n",
      "sequence: gi|262363963|gb|CP001588.1| Yersinia pestis D106004 plasmid pPCY1, complete sequence\n",
      "length: 9611\n",
      "e value: 0.0\n",
      "\n",
      "Alignment #3\n",
      "***** Alignment *****\n",
      "sequence: gi|1518099693|gb|CP033698.1| Yersinia pestis strain FDAARGOS_601 plasmid unnamed2, complete sequence\n",
      "length: 19216\n",
      "e value: 0.0\n",
      "***** Alignment *****\n",
      "sequence: gi|1518099693|gb|CP033698.1| Yersinia pestis strain FDAARGOS_601 plasmid unnamed2, complete sequence\n",
      "length: 19216\n",
      "e value: 0.0\n",
      "***** Alignment *****\n",
      "sequence: gi|1518099693|gb|CP033698.1| Yersinia pestis strain FDAARGOS_601 plasmid unnamed2, complete sequence\n",
      "length: 19216\n",
      "e value: 0.0\n",
      "\n",
      "Alignment #4\n",
      "***** Alignment *****\n",
      "sequence: gi|1046916732|gb|CP016276.1| Yersinia pestis strain Cadman plasmid pPCP1, complete sequence\n",
      "length: 9612\n",
      "e value: 0.0\n"
     ]
    }
   ],
   "source": [
    "if(blast_id):\n",
    "     \n",
    "    e_thresh = 0.00; # display only perfect matches\n",
    "    len_id = 5 # show only 5 results\n",
    "    for blast_record in blast_records: # go through all blast records\n",
    "        \n",
    "        jj=-1\n",
    "        for alignment in blast_record.alignments:\n",
    "            jj+=1;\n",
    "            if(jj < len_id):\n",
    "                print(f'\\nAlignment #{jj}')\n",
    "                for hsp in alignment.hsps:\n",
    "                    if(hsp.expect <= e_thresh):\n",
    "                        print('***** Alignment *****')\n",
    "                        print(f'sequence: {alignment.title}')\n",
    "                        print(f'length: {alignment.length}')\n",
    "                        print(f'e value: {hsp.expect}')"
   ]
  },
  {
   "cell_type": "markdown",
   "metadata": {
    "papermill": {
     "duration": 0.131423,
     "end_time": "2023-03-08T16:02:02.894152",
     "exception": false,
     "start_time": "2023-03-08T16:02:02.762729",
     "status": "completed"
    },
    "tags": []
   },
   "source": [
    "### BLAST Protein Sequence Query\n",
    "\n",
    "we identified the longest  chain in the genome in question, let's search for it using BLAST.\n",
    "Instead of using NCBIXML.parse, we can also use SearchIO to read our BLAST XML query results.\n",
    "For Proteins, we'll need to use \"blastp\" in our NCBIWWW.qblast query & search in the pdb database."
   ]
  },
  {
   "cell_type": "code",
   "execution_count": 52,
   "metadata": {
    "execution": {
     "iopub.execute_input": "2023-03-08T16:02:03.169163Z",
     "iopub.status.busy": "2023-03-08T16:02:03.168332Z",
     "iopub.status.idle": "2023-03-08T16:02:03.171426Z",
     "shell.execute_reply": "2023-03-08T16:02:03.170905Z",
     "shell.execute_reply.started": "2023-03-08T13:49:47.413022Z"
    },
    "papermill": {
     "duration": 0.144643,
     "end_time": "2023-03-08T16:02:03.171622",
     "exception": false,
     "start_time": "2023-03-08T16:02:03.026979",
     "status": "completed"
    },
    "tags": []
   },
   "outputs": [],
   "source": [
    "def read_blast(result_handle,hit_id=0,show_top=5):\n",
    "\n",
    "    blast_qresult = SearchIO.read(result_handle,\"blast-xml\")\n",
    "    print(blast_qresult[0:show_top])\n",
    "\n",
    "    #fetch the id, description, evalue, bitscore & alignment\n",
    "    print(f'Showing BLAST query result #{hit_id}')\n",
    "    seqid = blast_qresult[hit_id]\n",
    "    details = seqid[hit_id]\n",
    "          \n",
    "    print(f'\\nSequence ID: {seqid.id}')\n",
    "    print(f'Description: {seqid.description}')\n",
    "    print(f'e-value: {details.evalue}')\n",
    "    print(f'Bit Score: {details.bitscore}')\n",
    "          \n",
    "    print('\\nShowing Alignment:')\n",
    "    print(f\"\\nalignment:\\n{details.aln}\")"
   ]
  },
  {
   "cell_type": "code",
   "execution_count": 53,
   "metadata": {
    "execution": {
     "iopub.execute_input": "2023-03-08T16:02:03.441958Z",
     "iopub.status.busy": "2023-03-08T16:02:03.441157Z",
     "iopub.status.idle": "2023-03-08T16:05:21.472468Z",
     "shell.execute_reply": "2023-03-08T16:05:21.473082Z",
     "shell.execute_reply.started": "2023-03-08T13:49:47.421602Z"
    },
    "papermill": {
     "duration": 198.170052,
     "end_time": "2023-03-08T16:05:21.473343",
     "exception": false,
     "start_time": "2023-03-08T16:02:03.303291",
     "status": "completed"
    },
    "tags": []
   },
   "outputs": [
    {
     "name": "stdout",
     "output_type": "stream",
     "text": [
      "Program: blastp (2.13.0+)\n",
      "  Query: unnamed (2701)\n",
      "         protein product\n",
      " Target: pdb\n",
      "   Hits: ----  -----  ----------------------------------------------------------\n",
      "            #  # HSP  ID + description\n",
      "         ----  -----  ----------------------------------------------------------\n",
      "            0      1  pdb|7D4F|A  Chain A, RNA-directed RNA polymerase [Sever...\n",
      "            1      1  pdb|6YYT|A  Chain A, nsp12 [Severe acute respiratory sy...\n",
      "            2      1  pdb|6XEZ|A  Chain A, RNA-directed RNA polymerase [Sever...\n",
      "            3      1  pdb|7BW4|A  Chain A, RNA-directed RNA polymerase [Sever...\n",
      "            4      1  pdb|6XQB|A  Chain A, RNA-directed RNA polymerase [Sever...\n",
      "Showing BLAST query result #0\n",
      "\n",
      "Sequence ID: pdb|7D4F|A\n",
      "Description: Chain A, RNA-directed RNA polymerase [Severe acute respiratory syndrome coronavirus 2]\n",
      "e-value: 0.0\n",
      "Bit Score: 1938.7\n",
      "\n",
      "Showing Alignment:\n",
      "\n",
      "alignment:\n",
      "Alignment with 2 rows and 926 columns\n",
      "FKRVCGVSAARLTPCGTGTSTDVVYRAFDIYNDKVAGFAKFLKT...LQA unnamed\n",
      "LNRVCGVSAARLTPCGTGTSTDVVYRAFDIYNDKVAGFAKFLKT...LQG pdb|7D4F|A\n"
     ]
    }
   ],
   "source": [
    "# read file\n",
    "if(blast_id):\n",
    "    c19_protein = SeqIO.read(\"/kaggle/working/protein.fasta\", \"fasta\")\n",
    "    result_handle = NCBIWWW.qblast(\"blastp\",\"pdb\",c19_protein.seq)\n",
    "    read_blast(result_handle) # read qblast result & show first hit only"
   ]
  },
  {
   "cell_type": "markdown",
   "metadata": {
    "papermill": {
     "duration": 0.132246,
     "end_time": "2023-03-08T16:05:21.739123",
     "exception": false,
     "start_time": "2023-03-08T16:05:21.606877",
     "status": "completed"
    },
    "tags": []
   },
   "source": [
    "### Phylogenetic Analysis\n",
    "\n",
    "### SEQUENCE EVOLUTION\n",
    "\n",
    "Bio.Phylo allows us to understand the relation between difference aligned sequences\n",
    "Phylogenetic analysis analysis - concerned with determining how a given set of sequences (alignment) has evolved from a common ancestor through the process of natural evolution.\n",
    "The process of evolution is depicted in the form of an evolutionary tree & bifurcations represent events of mutation from a common ancestor, that gives rise to branches.\n",
    "A Phylogenetic tree will represent known sequences in its leaves & internal tree nodes will represent common ancestors of the sequence below it.\n",
    "\n",
    "Tree Construction\n",
    "\n",
    "BIOPYTHONS IMPLEMENTATION\n",
    "\n",
    "Bio.Phylo.TreeConstruction - Biopython provides several tree construction algorithm implementations in pure python.\n",
    "There are a couple of approaches used to construct a phylogenetic tree:\n",
    "Distance Matrix based(implemented in biopython)\n",
    "Parsimony (implemented in biopython)\n",
    "Maximum Likelihood based ( Accessable via external library wrapper)\n",
    "\n",
    "EXTERNAL LIBRARY WRAPPERS\n",
    "Bio.Phylo.PhymlCommandline\n",
    "Bio.Phylo.PAML\n",
    "\n",
    "### APPROACH 1 - DISTANCE MATRIX BASED APPROACH"
   ]
  },
  {
   "cell_type": "code",
   "execution_count": 54,
   "metadata": {
    "execution": {
     "iopub.execute_input": "2023-03-08T16:05:22.012093Z",
     "iopub.status.busy": "2023-03-08T16:05:22.009371Z",
     "iopub.status.idle": "2023-03-08T16:05:22.014738Z",
     "shell.execute_reply": "2023-03-08T16:05:22.015394Z",
     "shell.execute_reply.started": "2023-03-08T13:53:07.133389Z"
    },
    "papermill": {
     "duration": 0.142651,
     "end_time": "2023-03-08T16:05:22.015640",
     "exception": false,
     "start_time": "2023-03-08T16:05:21.872989",
     "status": "completed"
    },
    "tags": []
   },
   "outputs": [
    {
     "name": "stdout",
     "output_type": "stream",
     "text": [
      "Alignment with 7 rows and 52 columns\n",
      "AEPNAATNYATEAMDSLKTQAIDLISQTWPVVTTVVVAGLVIRL...SKA COATB_BPIKE/30-81\n",
      "AEPNAATNYATEAMDSLKTQAIDLISQTWPVVTTVVVAGLVIKL...SRA Q9T0Q8_BPIKE/1-52\n",
      "DGTSTATSYATEAMNSLKTQATDLIDQTWPVVTSVAVAGLAIRL...SKA COATB_BPI22/32-83\n",
      "AEGDDP---AKAAFNSLQASATEYIGYAWAMVVVIVGATIGIKL...SKA COATB_BPM13/24-72\n",
      "AEGDDP---AKAAFDSLQASATEYIGYAWAMVVVIVGATIGIKL...SKA COATB_BPZJ2/1-49\n",
      "AEGDDP---AKAAFDSLQASATEYIGYAWAMVVVIVGATIGIKL...SKA Q9T0Q9_BPFD/1-49\n",
      "FAADDATSQAKAAFDSLTAQATEMSGYAWALVVLVVGATVGIKL...SRA COATB_BPIF1/22-73 \n",
      "\n"
     ]
    }
   ],
   "source": [
    "# Recall Alignment\n",
    "print(alin2,'\\n')"
   ]
  },
  {
   "cell_type": "code",
   "execution_count": 55,
   "metadata": {
    "execution": {
     "iopub.execute_input": "2023-03-08T16:05:22.286116Z",
     "iopub.status.busy": "2023-03-08T16:05:22.285358Z",
     "iopub.status.idle": "2023-03-08T16:05:22.294876Z",
     "shell.execute_reply": "2023-03-08T16:05:22.294140Z",
     "shell.execute_reply.started": "2023-03-08T13:53:07.140621Z"
    },
    "papermill": {
     "duration": 0.145226,
     "end_time": "2023-03-08T16:05:22.295051",
     "exception": false,
     "start_time": "2023-03-08T16:05:22.149825",
     "status": "completed"
    },
    "tags": []
   },
   "outputs": [
    {
     "name": "stdout",
     "output_type": "stream",
     "text": [
      "Alignment with 7 rows and 52 columns\n",
      "AEPNAATNYATEAMDSLKTQAIDLISQTWPVVTTVVVAGLVIRL...SKA COATB_BPIKE/30-81\n",
      "AEPNAATNYATEAMDSLKTQAIDLISQTWPVVTTVVVAGLVIKL...SRA Q9T0Q8_BPIKE/1-52\n",
      "DGTSTATSYATEAMNSLKTQATDLIDQTWPVVTSVAVAGLAIRL...SKA COATB_BPI22/32-83\n",
      "AEGDDP---AKAAFNSLQASATEYIGYAWAMVVVIVGATIGIKL...SKA COATB_BPM13/24-72\n",
      "AEGDDP---AKAAFDSLQASATEYIGYAWAMVVVIVGATIGIKL...SKA COATB_BPZJ2/1-49\n",
      "AEGDDP---AKAAFDSLQASATEYIGYAWAMVVVIVGATIGIKL...SKA Q9T0Q9_BPFD/1-49\n",
      "FAADDATSQAKAAFDSLTAQATEMSGYAWALVVLVVGATVGIKL...SRA COATB_BPIF1/22-73 \n",
      "\n",
      "Distance Matrix\n",
      "COATB_BPIKE/30-81\t0\n",
      "Q9T0Q8_BPIKE/1-52\t0.05769230769230771\t0\n",
      "COATB_BPI22/32-83\t0.23076923076923073\t0.28846153846153844\t0\n",
      "COATB_BPM13/24-72\t0.5961538461538461\t0.5961538461538461\t0.6153846153846154\t0\n",
      "COATB_BPZJ2/1-49\t0.5769230769230769\t0.5769230769230769\t0.6346153846153846\t0.038461538461538436\t0\n",
      "Q9T0Q9_BPFD/1-49\t0.5769230769230769\t0.5769230769230769\t0.6346153846153846\t0.019230769230769273\t0.019230769230769273\t0\n",
      "COATB_BPIF1/22-73\t0.5769230769230769\t0.5192307692307692\t0.5769230769230769\t0.34615384615384615\t0.32692307692307687\t0.32692307692307687\t0\n",
      "\tCOATB_BPIKE/30-81\tQ9T0Q8_BPIKE/1-52\tCOATB_BPI22/32-83\tCOATB_BPM13/24-72\tCOATB_BPZJ2/1-49\tQ9T0Q9_BPFD/1-49\tCOATB_BPIF1/22-73\n"
     ]
    }
   ],
   "source": [
    "# Recall Alignment\n",
    "print(alin2,'\\n')\n",
    "\n",
    "''' Calculate Distance Matrix'''\n",
    "# From raw MSE alignment\n",
    "# The ‘identity’ model can be used both for DNA and protein sequences\n",
    "\n",
    "print('Distance Matrix')\n",
    "calculator = DistanceCalculator('identity') # create calculator\n",
    "dist_mat = calculator.get_distance(alin2) # get the distance matrix of a given alignment object\n",
    "print(dist_mat)"
   ]
  },
  {
   "cell_type": "code",
   "execution_count": 56,
   "metadata": {
    "execution": {
     "iopub.execute_input": "2023-03-08T16:05:22.572215Z",
     "iopub.status.busy": "2023-03-08T16:05:22.571165Z",
     "iopub.status.idle": "2023-03-08T16:05:22.574725Z",
     "shell.execute_reply": "2023-03-08T16:05:22.575433Z",
     "shell.execute_reply.started": "2023-03-08T13:53:07.160359Z"
    },
    "papermill": {
     "duration": 0.147346,
     "end_time": "2023-03-08T16:05:22.575723",
     "exception": false,
     "start_time": "2023-03-08T16:05:22.428377",
     "status": "completed"
    },
    "tags": []
   },
   "outputs": [
    {
     "name": "stdout",
     "output_type": "stream",
     "text": [
      "Tree(rooted=False)\n",
      "    Clade(branch_length=0, name='Inner5')\n",
      "        Clade(branch_length=0.007211538461538464, name='Inner4')\n",
      "            Clade(branch_length=0.012019230769230754, name='COATB_BPZJ2/1-49')\n",
      "            Clade(branch_length=0.17307692307692302, name='Inner3')\n",
      "                Clade(branch_length=0.14503205128205127, name='COATB_BPIF1/22-73')\n",
      "                Clade(branch_length=0.2876602564102564, name='Inner2')\n",
      "                    Clade(branch_length=0.08052884615384609, name='Inner1')\n",
      "                        Clade(branch_length=0.028846153846153855, name='COATB_BPIKE/30-81')\n",
      "                        Clade(branch_length=0.028846153846153855, name='Q9T0Q8_BPIKE/1-52')\n",
      "                    Clade(branch_length=0.15024038461538464, name='COATB_BPI22/32-83')\n",
      "        Clade(branch_length=0.0168269230769231, name='COATB_BPM13/24-72')\n",
      "        Clade(branch_length=0.002403846153846173, name='Q9T0Q9_BPFD/1-49')\n"
     ]
    }
   ],
   "source": [
    "''' Distance Tree Constructor '''\n",
    "# 'nj' / 'upgma' tree construction approaches \n",
    "\n",
    "constructor = DistanceTreeConstructor(calculator,'nj') # initialise\n",
    "tree = constructor.build_tree(alin2) # main algorithm\n",
    "print(tree)"
   ]
  },
  {
   "cell_type": "code",
   "execution_count": 57,
   "metadata": {
    "execution": {
     "iopub.execute_input": "2023-03-08T16:05:22.849404Z",
     "iopub.status.busy": "2023-03-08T16:05:22.848646Z",
     "iopub.status.idle": "2023-03-08T16:05:23.179752Z",
     "shell.execute_reply": "2023-03-08T16:05:23.179174Z",
     "shell.execute_reply.started": "2023-03-08T13:53:07.174661Z"
    },
    "papermill": {
     "duration": 0.46956,
     "end_time": "2023-03-08T16:05:23.179924",
     "exception": false,
     "start_time": "2023-03-08T16:05:22.710364",
     "status": "completed"
    },
    "tags": []
   },
   "outputs": [
    {
     "data": {
      "image/png": "[encoded data removed]",
      "text/plain": [
       "<Figure size 864x432 with 1 Axes>"
      ]
     },
     "metadata": {},
     "output_type": "display_data"
    }
   ],
   "source": [
    "# Plot Tree \n",
    "fig,axes = plt.subplots(1,1,figsize=(12,6))\n",
    "treep = Phylogeny.from_tree(tree)\n",
    "Phylo.draw(treep,axes=axes)"
   ]
  },
  {
   "cell_type": "markdown",
   "metadata": {
    "papermill": {
     "duration": 0.133137,
     "end_time": "2023-03-08T16:05:23.447338",
     "exception": false,
     "start_time": "2023-03-08T16:05:23.314201",
     "status": "completed"
    },
    "tags": []
   },
   "source": [
    "### APPROACH 2 - PARSIMONY BASED APPROACH"
   ]
  },
  {
   "cell_type": "code",
   "execution_count": 58,
   "metadata": {
    "execution": {
     "iopub.execute_input": "2023-03-08T16:05:23.726956Z",
     "iopub.status.busy": "2023-03-08T16:05:23.722982Z",
     "iopub.status.idle": "2023-03-08T16:05:23.729867Z",
     "shell.execute_reply": "2023-03-08T16:05:23.730396Z",
     "shell.execute_reply.started": "2023-03-08T13:53:07.518126Z"
    },
    "papermill": {
     "duration": 0.147908,
     "end_time": "2023-03-08T16:05:23.730696",
     "exception": false,
     "start_time": "2023-03-08T16:05:23.582788",
     "status": "completed"
    },
    "tags": []
   },
   "outputs": [],
   "source": [
    "''' Create a starting tree '''\n",
    "\n",
    "# sub_alin2 =  \"/kaggle/working/sub_alin2.fasta\"\n",
    "sub_alin2 = AlignIO.read(\"/kaggle/working/sub_alin2.fasta\", \"fasta\")\n",
    "\n",
    "calculator = DistanceCalculator('identity') # create calculator\n",
    "dist_mat = calculator.get_distance(sub_alin2) # get the distance matrix of a given alignment object\n",
    "constructor = DistanceTreeConstructor(calculator,'nj') # initialise\n",
    "tree_0 = constructor.build_tree(sub_alin2) # main algorithm"
   ]
  },
  {
   "cell_type": "code",
   "execution_count": 59,
   "metadata": {
    "execution": {
     "iopub.execute_input": "2023-03-08T16:05:24.007617Z",
     "iopub.status.busy": "2023-03-08T16:05:24.006369Z",
     "iopub.status.idle": "2023-03-08T16:05:24.012556Z",
     "shell.execute_reply": "2023-03-08T16:05:24.013100Z",
     "shell.execute_reply.started": "2023-03-08T13:53:07.531284Z"
    },
    "papermill": {
     "duration": 0.146357,
     "end_time": "2023-03-08T16:05:24.013329",
     "exception": false,
     "start_time": "2023-03-08T16:05:23.866972",
     "status": "completed"
    },
    "tags": []
   },
   "outputs": [
    {
     "name": "stdout",
     "output_type": "stream",
     "text": [
      "Alignment with 7 rows and 52 columns\n",
      "AEPNAATNYATEAMDSLKTQAIDLISQTWPVVTTVVVAGLVIRL...SKA COATB_BPIKE/30-81\n",
      "AEPNAATNYATEAMDSLKTQAIDLISQTWPVVTTVVVAGLVIKL...SRA Q9T0Q8_BPIKE/1-52\n",
      "DGTSTATSYATEAMNSLKTQATDLIDQTWPVVTSVAVAGLAIRL...SKA COATB_BPI22/32-83\n",
      "AEGDDP---AKAAFNSLQASATEYIGYAWAMVVVIVGATIGIKL...SKA COATB_BPM13/24-72\n",
      "AEGDDP---AKAAFDSLQASATEYIGYAWAMVVVIVGATIGIKL...SKA COATB_BPZJ2/1-49\n",
      "AEGDDP---AKAAFDSLQASATEYIGYAWAMVVVIVGATIGIKL...SKA Q9T0Q9_BPFD/1-49\n",
      "FAADDATSQAKAAFDSLTAQATEMSGYAWALVVLVVGATVGIKL...SRA COATB_BPIF1/22-73 \n",
      "\n"
     ]
    }
   ],
   "source": [
    "# Recall Alignment\n",
    "print(alin2,'\\n')"
   ]
  },
  {
   "cell_type": "code",
   "execution_count": 60,
   "metadata": {
    "execution": {
     "iopub.execute_input": "2023-03-08T16:05:24.291310Z",
     "iopub.status.busy": "2023-03-08T16:05:24.290568Z",
     "iopub.status.idle": "2023-03-08T16:05:24.320113Z",
     "shell.execute_reply": "2023-03-08T16:05:24.319515Z",
     "shell.execute_reply.started": "2023-03-08T13:53:07.541888Z"
    },
    "papermill": {
     "duration": 0.168625,
     "end_time": "2023-03-08T16:05:24.320308",
     "exception": false,
     "start_time": "2023-03-08T16:05:24.151683",
     "status": "completed"
    },
    "tags": []
   },
   "outputs": [
    {
     "name": "stdout",
     "output_type": "stream",
     "text": [
      "Tree(rooted=True)\n",
      "    Clade(branch_length=0)\n",
      "        Clade(branch_length=0.1672676282051282, name='Inner2')\n",
      "            Clade(branch_length=0.15024038461538464, name='COATB_BPI22/32-83')\n",
      "            Clade(branch_length=0.08052884615384609, name='Inner1')\n",
      "                Clade(branch_length=0.028846153846153855, name='Q9T0Q8_BPIKE/1-52')\n",
      "                Clade(branch_length=0.028846153846153855, name='COATB_BPIKE/30-81')\n",
      "        Clade(branch_length=0.1203926282051282, name='Inner3')\n",
      "            Clade(branch_length=0.17307692307692302, name='Inner4')\n",
      "                Clade(branch_length=0.007211538461538464, name='Inner5')\n",
      "                    Clade(branch_length=0.002403846153846173, name='Q9T0Q9_BPFD/1-49')\n",
      "                    Clade(branch_length=0.0168269230769231, name='COATB_BPM13/24-72')\n",
      "                Clade(branch_length=0.012019230769230754, name='COATB_BPZJ2/1-49')\n",
      "            Clade(branch_length=0.14503205128205127, name='COATB_BPIF1/22-73')\n"
     ]
    }
   ],
   "source": [
    "from Bio.Phylo.TreeConstruction import ParsimonyScorer, NNITreeSearcher,ParsimonyTreeConstructor\n",
    "\n",
    "scorer = ParsimonyScorer()\n",
    "searcher = NNITreeSearcher(scorer)\n",
    "constructor = ParsimonyTreeConstructor(searcher,tree_0)\n",
    "pars_tree = constructor.build_tree(alin2)\n",
    "print(pars_tree)"
   ]
  },
  {
   "cell_type": "code",
   "execution_count": 61,
   "metadata": {
    "execution": {
     "iopub.execute_input": "2023-03-08T16:05:24.601972Z",
     "iopub.status.busy": "2023-03-08T16:05:24.601205Z",
     "iopub.status.idle": "2023-03-08T16:05:24.878471Z",
     "shell.execute_reply": "2023-03-08T16:05:24.879062Z",
     "shell.execute_reply.started": "2023-03-08T13:53:07.580480Z"
    },
    "papermill": {
     "duration": 0.422501,
     "end_time": "2023-03-08T16:05:24.879285",
     "exception": false,
     "start_time": "2023-03-08T16:05:24.456784",
     "status": "completed"
    },
    "tags": []
   },
   "outputs": [
    {
     "data": {
      "image/png": "[encoded data removed]",
      "text/plain": [
       "<Figure size 864x432 with 1 Axes>"
      ]
     },
     "metadata": {},
     "output_type": "display_data"
    }
   ],
   "source": [
    "# Plot Tree \n",
    "fig,axes = plt.subplots(1,1,figsize=(12,6))\n",
    "treep = Phylogeny.from_tree(pars_tree)\n",
    "Phylo.draw(treep,axes=axes)"
   ]
  },
  {
   "cell_type": "markdown",
   "metadata": {
    "papermill": {
     "duration": 0.137762,
     "end_time": "2023-03-08T16:05:25.157348",
     "exception": false,
     "start_time": "2023-03-08T16:05:25.019586",
     "status": "completed"
    },
    "tags": []
   },
   "source": [
    "## Tree Visualisation"
   ]
  },
  {
   "cell_type": "code",
   "execution_count": 62,
   "metadata": {
    "execution": {
     "iopub.execute_input": "2023-03-08T16:05:25.436171Z",
     "iopub.status.busy": "2023-03-08T16:05:25.435418Z",
     "iopub.status.idle": "2023-03-08T16:05:25.443124Z",
     "shell.execute_reply": "2023-03-08T16:05:25.443768Z",
     "shell.execute_reply.started": "2023-03-08T13:53:07.866725Z"
    },
    "papermill": {
     "duration": 0.150082,
     "end_time": "2023-03-08T16:05:25.443991",
     "exception": false,
     "start_time": "2023-03-08T16:05:25.293909",
     "status": "completed"
    },
    "tags": []
   },
   "outputs": [
    {
     "name": "stdout",
     "output_type": "stream",
     "text": [
      "Tree(rooted=False, weight=1.0)\n",
      "    Clade()\n",
      "        Clade()\n",
      "            Clade()\n",
      "                Clade(name='A')\n",
      "                Clade(name='B')\n",
      "            Clade()\n",
      "                Clade(name='C')\n",
      "                Clade(name='D')\n",
      "            Clade()\n",
      "                Clade(name='E')\n",
      "                Clade(name='F')\n",
      "                Clade(name='G')\n"
     ]
    }
   ],
   "source": [
    "simple = open(\"/kaggle/working/example.dnd\", \"w\")\n",
    "simple.write('(((A,B),(C,D),(E,F,G)));')\n",
    "simple.close()\n",
    "\n",
    "tree = Phylo.read('/kaggle/working/example.dnd','newick')\n",
    "print(tree)"
   ]
  },
  {
   "cell_type": "code",
   "execution_count": 63,
   "metadata": {
    "execution": {
     "iopub.execute_input": "2023-03-08T16:05:25.722869Z",
     "iopub.status.busy": "2023-03-08T16:05:25.722149Z",
     "iopub.status.idle": "2023-03-08T16:05:25.728389Z",
     "shell.execute_reply": "2023-03-08T16:05:25.728909Z",
     "shell.execute_reply.started": "2023-03-08T13:53:07.875108Z"
    },
    "papermill": {
     "duration": 0.146715,
     "end_time": "2023-03-08T16:05:25.729143",
     "exception": false,
     "start_time": "2023-03-08T16:05:25.582428",
     "status": "completed"
    },
    "tags": []
   },
   "outputs": [
    {
     "name": "stdout",
     "output_type": "stream",
     "text": [
      "                                                    ________________________ A\n",
      "                           ________________________|\n",
      "                          |                        |________________________ B\n",
      "                          |\n",
      "                          |                         ________________________ C\n",
      "_ ________________________|________________________|\n",
      "                          |                        |________________________ D\n",
      "                          |\n",
      "                          |                         ________________________ E\n",
      "                          |                        |\n",
      "                          |________________________|________________________ F\n",
      "                                                   |\n",
      "                                                   |________________________ G\n",
      "\n"
     ]
    }
   ],
   "source": [
    "Phylo.draw_ascii(tree)"
   ]
  },
  {
   "cell_type": "code",
   "execution_count": 64,
   "metadata": {
    "execution": {
     "iopub.execute_input": "2023-03-08T16:05:26.012396Z",
     "iopub.status.busy": "2023-03-08T16:05:26.011167Z",
     "iopub.status.idle": "2023-03-08T16:05:26.018748Z",
     "shell.execute_reply": "2023-03-08T16:05:26.018151Z",
     "shell.execute_reply.started": "2023-03-08T13:53:07.891382Z"
    },
    "papermill": {
     "duration": 0.152485,
     "end_time": "2023-03-08T16:05:26.018934",
     "exception": false,
     "start_time": "2023-03-08T16:05:25.866449",
     "status": "completed"
    },
    "tags": []
   },
   "outputs": [
    {
     "name": "stdout",
     "output_type": "stream",
     "text": [
      "Phylogeny(rooted=False)\n",
      "    Clade()\n",
      "        Clade()\n",
      "            Clade()\n",
      "                Clade(name='A')\n",
      "                Clade(name='B')\n",
      "            Clade()\n",
      "                Clade(name='C')\n",
      "                Clade(name='D')\n",
      "            Clade()\n",
      "                Clade(name='E')\n",
      "                Clade(name='F')\n",
      "                Clade(name='G')\n"
     ]
    }
   ],
   "source": [
    "Phylo.convert('/kaggle/working/example.dnd','newick',\n",
    "              '/kaggle/working/tree.xml','phyloxml')\n",
    "trees = Phylo.parse('/kaggle/working/tree.xml','phyloxml')\n",
    "for t in trees:\n",
    "    print(t)"
   ]
  },
  {
   "cell_type": "code",
   "execution_count": 65,
   "metadata": {
    "execution": {
     "iopub.execute_input": "2023-03-08T16:05:26.301905Z",
     "iopub.status.busy": "2023-03-08T16:05:26.301160Z",
     "iopub.status.idle": "2023-03-08T16:05:26.533664Z",
     "shell.execute_reply": "2023-03-08T16:05:26.532794Z",
     "shell.execute_reply.started": "2023-03-08T13:53:07.908270Z"
    },
    "papermill": {
     "duration": 0.373827,
     "end_time": "2023-03-08T16:05:26.533861",
     "exception": false,
     "start_time": "2023-03-08T16:05:26.160034",
     "status": "completed"
    },
    "tags": []
   },
   "outputs": [
    {
     "data": {
      "image/png": "[encoded data removed]",
      "text/plain": [
       "<Figure size 432x288 with 1 Axes>"
      ]
     },
     "metadata": {},
     "output_type": "display_data"
    }
   ],
   "source": [
    "treep = Phylogeny.from_tree(tree)\n",
    "Phylo.draw(treep)"
   ]
  },
  {
   "cell_type": "code",
   "execution_count": 66,
   "metadata": {
    "execution": {
     "iopub.execute_input": "2023-03-08T16:05:26.831243Z",
     "iopub.status.busy": "2023-03-08T16:05:26.830469Z",
     "iopub.status.idle": "2023-03-08T16:05:27.060894Z",
     "shell.execute_reply": "2023-03-08T16:05:27.060081Z",
     "shell.execute_reply.started": "2023-03-08T13:53:08.151978Z"
    },
    "papermill": {
     "duration": 0.382783,
     "end_time": "2023-03-08T16:05:27.061229",
     "exception": false,
     "start_time": "2023-03-08T16:05:26.678446",
     "status": "completed"
    },
    "tags": []
   },
   "outputs": [
    {
     "data": {
      "image/png": "[encoded data removed]",
      "text/plain": [
       "<Figure size 432x288 with 1 Axes>"
      ]
     },
     "metadata": {},
     "output_type": "display_data"
    }
   ],
   "source": [
    "treep.root.color = 'gray'\n",
    "mrca = treep.common_ancestor({'name':'E'},{'name':'F'})\n",
    "mrca.color = 'salmon'\n",
    "treep.clade[0,1].color = 'blue'\n",
    "Phylo.draw(treep)"
   ]
  },
  {
   "cell_type": "code",
   "execution_count": null,
   "metadata": {
    "papermill": {
     "duration": 0.138515,
     "end_time": "2023-03-08T16:05:27.339569",
     "exception": false,
     "start_time": "2023-03-08T16:05:27.201054",
     "status": "completed"
    },
    "tags": []
   },
   "outputs": [],
   "source": []
  },
  {
   "cell_type": "code",
   "execution_count": 67,
   "metadata": {
    "execution": {
     "iopub.execute_input": "2023-03-08T16:05:27.634075Z",
     "iopub.status.busy": "2023-03-08T16:05:27.633011Z",
     "iopub.status.idle": "2023-03-08T16:05:28.645275Z",
     "shell.execute_reply": "2023-03-08T16:05:28.646086Z",
     "shell.execute_reply.started": "2023-03-08T13:53:08.391393Z"
    },
    "papermill": {
     "duration": 1.16729,
     "end_time": "2023-03-08T16:05:28.646339",
     "exception": false,
     "start_time": "2023-03-08T16:05:27.479049",
     "status": "completed"
    },
    "tags": []
   },
   "outputs": [
    {
     "data": {
      "application/javascript": [
       "\n",
       "(function(root) {\n",
       "  function now() {\n",
       "    return new Date();\n",
       "  }\n",
       "\n",
       "  var force = true;\n",
       "\n",
       "  if (typeof root._bokeh_onload_callbacks === \"undefined\" || force === true) {\n",
       "    root._bokeh_onload_callbacks = [];\n",
       "    root._bokeh_is_loading = undefined;\n",
       "  }\n",
       "\n",
       "  if (typeof (root._bokeh_timeout) === \"undefined\" || force === true) {\n",
       "    root._bokeh_timeout = Date.now() + 5000;\n",
       "    root._bokeh_failed_load = false;\n",
       "  }\n",
       "\n",
       "  function run_callbacks() {\n",
       "    try {\n",
       "      root._bokeh_onload_callbacks.forEach(function(callback) {\n",
       "        if (callback != null)\n",
       "          callback();\n",
       "      });\n",
       "    } finally {\n",
       "      delete root._bokeh_onload_callbacks\n",
       "    }\n",
       "    console.debug(\"Bokeh: all callbacks have finished\");\n",
       "  }\n",
       "\n",
       "  function load_libs(css_urls, js_urls, callback) {\n",
       "    if (css_urls == null) css_urls = [];\n",
       "    if (js_urls == null) js_urls = [];\n",
       "\n",
       "    root._bokeh_onload_callbacks.push(callback);\n",
       "    if (root._bokeh_is_loading > 0) {\n",
       "      console.debug(\"Bokeh: BokehJS is being loaded, scheduling callback at\", now());\n",
       "      return null;\n",
       "    }\n",
       "    if (js_urls == null || js_urls.length === 0) {\n",
       "      run_callbacks();\n",
       "      return null;\n",
       "    }\n",
       "    console.debug(\"Bokeh: BokehJS not loaded, scheduling load and callback at\", now());\n",
       "    root._bokeh_is_loading = css_urls.length + js_urls.length;\n",
       "\n",
       "    function on_load() {\n",
       "      root._bokeh_is_loading--;\n",
       "      if (root._bokeh_is_loading === 0) {\n",
       "        console.debug(\"Bokeh: all BokehJS libraries/stylesheets loaded\");\n",
       "        run_callbacks()\n",
       "      }\n",
       "    }\n",
       "\n",
       "    function on_error() {\n",
       "      console.error(\"failed to load \" + url);\n",
       "    }\n",
       "\n",
       "    for (var i = 0; i < css_urls.length; i++) {\n",
       "      var url = css_urls[i];\n",
       "      const element = document.createElement(\"link\");\n",
       "      element.onload = on_load;\n",
       "      element.onerror = on_error;\n",
       "      element.rel = \"stylesheet\";\n",
       "      element.type = \"text/css\";\n",
       "      element.href = url;\n",
       "      console.debug(\"Bokeh: injecting link tag for BokehJS stylesheet: \", url);\n",
       "      document.body.appendChild(element);\n",
       "    }\n",
       "\n",
       "    var skip = [];\n",
       "    if (window.requirejs) {\n",
       "      require([], function() {\n",
       "      })\n",
       "    }\n",
       "    for (var i = 0; i < js_urls.length; i++) {\n",
       "      var url = js_urls[i];\n",
       "      if (skip.indexOf(url) >= 0) { on_load(); continue; }\n",
       "      var element = document.createElement('script');\n",
       "      element.onload = on_load;\n",
       "      element.onerror = on_error;\n",
       "      element.async = false;\n",
       "      element.src = url;\n",
       "      console.debug(\"Bokeh: injecting script tag for BokehJS library: \", url);\n",
       "      document.head.appendChild(element);\n",
       "    }\n",
       "\tif (!js_urls.length) {\n",
       "      on_load()\n",
       "    }\n",
       "  };\n",
       "\n",
       "  function inject_raw_css(css) {\n",
       "    const element = document.createElement(\"style\");\n",
       "    element.appendChild(document.createTextNode(css));\n",
       "    document.body.appendChild(element);\n",
       "  }\n",
       "\n",
       "  var js_urls = [\"https://cdn.bokeh.org/bokeh/release/bokeh-2.2.3.min.js\", \"https://cdn.bokeh.org/bokeh/release/bokeh-widgets-2.2.3.min.js\", \"https://cdn.bokeh.org/bokeh/release/bokeh-tables-2.2.3.min.js\", \"https://unpkg.com/@holoviz/panel@^0.10.3/dist/panel.min.js\"];\n",
       "  var css_urls = [\"https://unpkg.com/@holoviz/panel@0.10.3/dist/css/markdown.css\", \"https://unpkg.com/@holoviz/panel@0.10.3/dist/css/alerts.css\", \"https://unpkg.com/@holoviz/panel@0.10.3/dist/css/json.css\", \"https://unpkg.com/@holoviz/panel@0.10.3/dist/css/widgets.css\", \"https://unpkg.com/@holoviz/panel@0.10.3/dist/css/card.css\", \"https://unpkg.com/@holoviz/panel@0.10.3/dist/css/dataframe.css\"];\n",
       "\n",
       "  var inline_js = [\n",
       "    function(Bokeh) {\n",
       "      Bokeh.set_log_level(\"info\");\n",
       "    },\n",
       "    function(Bokeh) {} // ensure no trailing comma for IE\n",
       "  ];\n",
       "\n",
       "  function run_inline_js() {\n",
       "    if ((root.Bokeh !== undefined) || (force === true)) {\n",
       "      for (var i = 0; i < inline_js.length; i++) {\n",
       "        inline_js[i].call(root, root.Bokeh);\n",
       "      }} else if (Date.now() < root._bokeh_timeout) {\n",
       "      setTimeout(run_inline_js, 100);\n",
       "    } else if (!root._bokeh_failed_load) {\n",
       "      console.log(\"Bokeh: BokehJS failed to load within specified timeout.\");\n",
       "      root._bokeh_failed_load = true;\n",
       "    }\n",
       "  }\n",
       "\n",
       "  if (root._bokeh_is_loading === 0) {\n",
       "    console.debug(\"Bokeh: BokehJS loaded, going straight to plotting\");\n",
       "    run_inline_js();\n",
       "  } else {\n",
       "    load_libs(css_urls, js_urls, function() {\n",
       "      console.debug(\"Bokeh: BokehJS plotting callback run at\", now());\n",
       "      run_inline_js();\n",
       "    });\n",
       "  }\n",
       "}(window));"
      ],
      "application/vnd.holoviews_load.v0+json": "\n(function(root) {\n  function now() {\n    return new Date();\n  }\n\n  var force = true;\n\n  if (typeof root._bokeh_onload_callbacks === \"undefined\" || force === true) {\n    root._bokeh_onload_callbacks = [];\n    root._bokeh_is_loading = undefined;\n  }\n\n  if (typeof (root._bokeh_timeout) === \"undefined\" || force === true) {\n    root._bokeh_timeout = Date.now() + 5000;\n    root._bokeh_failed_load = false;\n  }\n\n  function run_callbacks() {\n    try {\n      root._bokeh_onload_callbacks.forEach(function(callback) {\n        if (callback != null)\n          callback();\n      });\n    } finally {\n      delete root._bokeh_onload_callbacks\n    }\n    console.debug(\"Bokeh: all callbacks have finished\");\n  }\n\n  function load_libs(css_urls, js_urls, callback) {\n    if (css_urls == null) css_urls = [];\n    if (js_urls == null) js_urls = [];\n\n    root._bokeh_onload_callbacks.push(callback);\n    if (root._bokeh_is_loading > 0) {\n      console.debug(\"Bokeh: BokehJS is being loaded, scheduling callback at\", now());\n      return null;\n    }\n    if (js_urls == null || js_urls.length === 0) {\n      run_callbacks();\n      return null;\n    }\n    console.debug(\"Bokeh: BokehJS not loaded, scheduling load and callback at\", now());\n    root._bokeh_is_loading = css_urls.length + js_urls.length;\n\n    function on_load() {\n      root._bokeh_is_loading--;\n      if (root._bokeh_is_loading === 0) {\n        console.debug(\"Bokeh: all BokehJS libraries/stylesheets loaded\");\n        run_callbacks()\n      }\n    }\n\n    function on_error() {\n      console.error(\"failed to load \" + url);\n    }\n\n    for (var i = 0; i < css_urls.length; i++) {\n      var url = css_urls[i];\n      const element = document.createElement(\"link\");\n      element.onload = on_load;\n      element.onerror = on_error;\n      element.rel = \"stylesheet\";\n      element.type = \"text/css\";\n      element.href = url;\n      console.debug(\"Bokeh: injecting link tag for BokehJS stylesheet: \", url);\n      document.body.appendChild(element);\n    }\n\n    var skip = [];\n    if (window.requirejs) {\n      require([], function() {\n      })\n    }\n    for (var i = 0; i < js_urls.length; i++) {\n      var url = js_urls[i];\n      if (skip.indexOf(url) >= 0) { on_load(); continue; }\n      var element = document.createElement('script');\n      element.onload = on_load;\n      element.onerror = on_error;\n      element.async = false;\n      element.src = url;\n      console.debug(\"Bokeh: injecting script tag for BokehJS library: \", url);\n      document.head.appendChild(element);\n    }\n\tif (!js_urls.length) {\n      on_load()\n    }\n  };\n\n  function inject_raw_css(css) {\n    const element = document.createElement(\"style\");\n    element.appendChild(document.createTextNode(css));\n    document.body.appendChild(element);\n  }\n\n  var js_urls = [\"https://cdn.bokeh.org/bokeh/release/bokeh-2.2.3.min.js\", \"https://cdn.bokeh.org/bokeh/release/bokeh-widgets-2.2.3.min.js\", \"https://cdn.bokeh.org/bokeh/release/bokeh-tables-2.2.3.min.js\", \"https://unpkg.com/@holoviz/panel@^0.10.3/dist/panel.min.js\"];\n  var css_urls = [\"https://unpkg.com/@holoviz/panel@0.10.3/dist/css/markdown.css\", \"https://unpkg.com/@holoviz/panel@0.10.3/dist/css/alerts.css\", \"https://unpkg.com/@holoviz/panel@0.10.3/dist/css/json.css\", \"https://unpkg.com/@holoviz/panel@0.10.3/dist/css/widgets.css\", \"https://unpkg.com/@holoviz/panel@0.10.3/dist/css/card.css\", \"https://unpkg.com/@holoviz/panel@0.10.3/dist/css/dataframe.css\"];\n\n  var inline_js = [\n    function(Bokeh) {\n      Bokeh.set_log_level(\"info\");\n    },\n    function(Bokeh) {} // ensure no trailing comma for IE\n  ];\n\n  function run_inline_js() {\n    if ((root.Bokeh !== undefined) || (force === true)) {\n      for (var i = 0; i < inline_js.length; i++) {\n        inline_js[i].call(root, root.Bokeh);\n      }} else if (Date.now() < root._bokeh_timeout) {\n      setTimeout(run_inline_js, 100);\n    } else if (!root._bokeh_failed_load) {\n      console.log(\"Bokeh: BokehJS failed to load within specified timeout.\");\n      root._bokeh_failed_load = true;\n    }\n  }\n\n  if (root._bokeh_is_loading === 0) {\n    console.debug(\"Bokeh: BokehJS loaded, going straight to plotting\");\n    run_inline_js();\n  } else {\n    load_libs(css_urls, js_urls, function() {\n      console.debug(\"Bokeh: BokehJS plotting callback run at\", now());\n      run_inline_js();\n    });\n  }\n}(window));"
     },
     "metadata": {},
     "output_type": "display_data"
    },
    {
     "data": {
      "application/javascript": [
       "\n",
       "if ((window.PyViz === undefined) || (window.PyViz instanceof HTMLElement)) {\n",
       "  window.PyViz = {comms: {}, comm_status:{}, kernels:{}, receivers: {}, plot_index: []}\n",
       "}\n",
       "\n",
       "\n",
       "    function JupyterCommManager() {\n",
       "    }\n",
       "\n",
       "    JupyterCommManager.prototype.register_target = function(plot_id, comm_id, msg_handler) {\n",
       "      if (window.comm_manager || ((window.Jupyter !== undefined) && (Jupyter.notebook.kernel != null))) {\n",
       "        var comm_manager = window.comm_manager || Jupyter.notebook.kernel.comm_manager;\n",
       "        comm_manager.register_target(comm_id, function(comm) {\n",
       "          comm.on_msg(msg_handler);\n",
       "        });\n",
       "      } else if ((plot_id in window.PyViz.kernels) && (window.PyViz.kernels[plot_id])) {\n",
       "        window.PyViz.kernels[plot_id].registerCommTarget(comm_id, function(comm) {\n",
       "          comm.onMsg = msg_handler;\n",
       "        });\n",
       "      } else if (typeof google != 'undefined' && google.colab.kernel != null) {\n",
       "        google.colab.kernel.comms.registerTarget(comm_id, (comm) => {\n",
       "          var messages = comm.messages[Symbol.asyncIterator]();\n",
       "          function processIteratorResult(result) {\n",
       "            var message = result.value;\n",
       "            console.log(message)\n",
       "            var content = {data: message.data, comm_id};\n",
       "            var buffers = []\n",
       "            for (var buffer of message.buffers || []) {\n",
       "              buffers.push(new DataView(buffer))\n",
       "            }\n",
       "            var metadata = message.metadata || {};\n",
       "            var msg = {content, buffers, metadata}\n",
       "            msg_handler(msg);\n",
       "            return messages.next().then(processIteratorResult);\n",
       "          }\n",
       "          return messages.next().then(processIteratorResult);\n",
       "        })\n",
       "      }\n",
       "    }\n",
       "\n",
       "    JupyterCommManager.prototype.get_client_comm = function(plot_id, comm_id, msg_handler) {\n",
       "      if (comm_id in window.PyViz.comms) {\n",
       "        return window.PyViz.comms[comm_id];\n",
       "      } else if (window.comm_manager || ((window.Jupyter !== undefined) && (Jupyter.notebook.kernel != null))) {\n",
       "        var comm_manager = window.comm_manager || Jupyter.notebook.kernel.comm_manager;\n",
       "        var comm = comm_manager.new_comm(comm_id, {}, {}, {}, comm_id);\n",
       "        if (msg_handler) {\n",
       "          comm.on_msg(msg_handler);\n",
       "        }\n",
       "      } else if ((plot_id in window.PyViz.kernels) && (window.PyViz.kernels[plot_id])) {\n",
       "        var comm = window.PyViz.kernels[plot_id].connectToComm(comm_id);\n",
       "        comm.open();\n",
       "        if (msg_handler) {\n",
       "          comm.onMsg = msg_handler;\n",
       "        }\n",
       "      } else if (typeof google != 'undefined' && google.colab.kernel != null) {\n",
       "        var comm_promise = google.colab.kernel.comms.open(comm_id)\n",
       "        comm_promise.then((comm) => {\n",
       "          window.PyViz.comms[comm_id] = comm;\n",
       "          if (msg_handler) {\n",
       "            var messages = comm.messages[Symbol.asyncIterator]();\n",
       "            function processIteratorResult(result) {\n",
       "              var message = result.value;\n",
       "              var content = {data: message.data};\n",
       "              var metadata = message.metadata || {comm_id};\n",
       "              var msg = {content, metadata}\n",
       "              msg_handler(msg);\n",
       "              return messages.next().then(processIteratorResult);\n",
       "            }\n",
       "            return messages.next().then(processIteratorResult);\n",
       "          }\n",
       "        }) \n",
       "        var sendClosure = (data, metadata, buffers, disposeOnDone) => {\n",
       "          return comm_promise.then((comm) => {\n",
       "            comm.send(data, metadata, buffers, disposeOnDone);\n",
       "          });\n",
       "        };\n",
       "        var comm = {\n",
       "          send: sendClosure\n",
       "        };\n",
       "      }\n",
       "      window.PyViz.comms[comm_id] = comm;\n",
       "      return comm;\n",
       "    }\n",
       "    window.PyViz.comm_manager = new JupyterCommManager();\n",
       "    \n",
       "\n",
       "\n",
       "var JS_MIME_TYPE = 'application/javascript';\n",
       "var HTML_MIME_TYPE = 'text/html';\n",
       "var EXEC_MIME_TYPE = 'application/vnd.holoviews_exec.v0+json';\n",
       "var CLASS_NAME = 'output';\n",
       "\n",
       "/**\n",
       " * Render data to the DOM node\n",
       " */\n",
       "function render(props, node) {\n",
       "  var div = document.createElement(\"div\");\n",
       "  var script = document.createElement(\"script\");\n",
       "  node.appendChild(div);\n",
       "  node.appendChild(script);\n",
       "}\n",
       "\n",
       "/**\n",
       " * Handle when a new output is added\n",
       " */\n",
       "function handle_add_output(event, handle) {\n",
       "  var output_area = handle.output_area;\n",
       "  var output = handle.output;\n",
       "  if ((output.data == undefined) || (!output.data.hasOwnProperty(EXEC_MIME_TYPE))) {\n",
       "    return\n",
       "  }\n",
       "  var id = output.metadata[EXEC_MIME_TYPE][\"id\"];\n",
       "  var toinsert = output_area.element.find(\".\" + CLASS_NAME.split(' ')[0]);\n",
       "  if (id !== undefined) {\n",
       "    var nchildren = toinsert.length;\n",
       "    var html_node = toinsert[nchildren-1].children[0];\n",
       "    html_node.innerHTML = output.data[HTML_MIME_TYPE];\n",
       "    var scripts = [];\n",
       "    var nodelist = html_node.querySelectorAll(\"script\");\n",
       "    for (var i in nodelist) {\n",
       "      if (nodelist.hasOwnProperty(i)) {\n",
       "        scripts.push(nodelist[i])\n",
       "      }\n",
       "    }\n",
       "\n",
       "    scripts.forEach( function (oldScript) {\n",
       "      var newScript = document.createElement(\"script\");\n",
       "      var attrs = [];\n",
       "      var nodemap = oldScript.attributes;\n",
       "      for (var j in nodemap) {\n",
       "        if (nodemap.hasOwnProperty(j)) {\n",
       "          attrs.push(nodemap[j])\n",
       "        }\n",
       "      }\n",
       "      attrs.forEach(function(attr) { newScript.setAttribute(attr.name, attr.value) });\n",
       "      newScript.appendChild(document.createTextNode(oldScript.innerHTML));\n",
       "      oldScript.parentNode.replaceChild(newScript, oldScript);\n",
       "    });\n",
       "    if (JS_MIME_TYPE in output.data) {\n",
       "      toinsert[nchildren-1].children[1].textContent = output.data[JS_MIME_TYPE];\n",
       "    }\n",
       "    output_area._hv_plot_id = id;\n",
       "    if ((window.Bokeh !== undefined) && (id in Bokeh.index)) {\n",
       "      window.PyViz.plot_index[id] = Bokeh.index[id];\n",
       "    } else {\n",
       "      window.PyViz.plot_index[id] = null;\n",
       "    }\n",
       "  } else if (output.metadata[EXEC_MIME_TYPE][\"server_id\"] !== undefined) {\n",
       "    var bk_div = document.createElement(\"div\");\n",
       "    bk_div.innerHTML = output.data[HTML_MIME_TYPE];\n",
       "    var script_attrs = bk_div.children[0].attributes;\n",
       "    for (var i = 0; i < script_attrs.length; i++) {\n",
       "      toinsert[toinsert.length - 1].childNodes[1].setAttribute(script_attrs[i].name, script_attrs[i].value);\n",
       "    }\n",
       "    // store reference to server id on output_area\n",
       "    output_area._bokeh_server_id = output.metadata[EXEC_MIME_TYPE][\"server_id\"];\n",
       "  }\n",
       "}\n",
       "\n",
       "/**\n",
       " * Handle when an output is cleared or removed\n",
       " */\n",
       "function handle_clear_output(event, handle) {\n",
       "  var id = handle.cell.output_area._hv_plot_id;\n",
       "  var server_id = handle.cell.output_area._bokeh_server_id;\n",
       "  if (((id === undefined) || !(id in PyViz.plot_index)) && (server_id !== undefined)) { return; }\n",
       "  var comm = window.PyViz.comm_manager.get_client_comm(\"hv-extension-comm\", \"hv-extension-comm\", function () {});\n",
       "  if (server_id !== null) {\n",
       "    comm.send({event_type: 'server_delete', 'id': server_id});\n",
       "    return;\n",
       "  } else if (comm !== null) {\n",
       "    comm.send({event_type: 'delete', 'id': id});\n",
       "  }\n",
       "  delete PyViz.plot_index[id];\n",
       "  if ((window.Bokeh !== undefined) & (id in window.Bokeh.index)) {\n",
       "    var doc = window.Bokeh.index[id].model.document\n",
       "    doc.clear();\n",
       "    const i = window.Bokeh.documents.indexOf(doc);\n",
       "    if (i > -1) {\n",
       "      window.Bokeh.documents.splice(i, 1);\n",
       "    }\n",
       "  }\n",
       "}\n",
       "\n",
       "/**\n",
       " * Handle kernel restart event\n",
       " */\n",
       "function handle_kernel_cleanup(event, handle) {\n",
       "  delete PyViz.comms[\"hv-extension-comm\"];\n",
       "  window.PyViz.plot_index = {}\n",
       "}\n",
       "\n",
       "/**\n",
       " * Handle update_display_data messages\n",
       " */\n",
       "function handle_update_output(event, handle) {\n",
       "  handle_clear_output(event, {cell: {output_area: handle.output_area}})\n",
       "  handle_add_output(event, handle)\n",
       "}\n",
       "\n",
       "function register_renderer(events, OutputArea) {\n",
       "  function append_mime(data, metadata, element) {\n",
       "    // create a DOM node to render to\n",
       "    var toinsert = this.create_output_subarea(\n",
       "    metadata,\n",
       "    CLASS_NAME,\n",
       "    EXEC_MIME_TYPE\n",
       "    );\n",
       "    this.keyboard_manager.register_events(toinsert);\n",
       "    // Render to node\n",
       "    var props = {data: data, metadata: metadata[EXEC_MIME_TYPE]};\n",
       "    render(props, toinsert[0]);\n",
       "    element.append(toinsert);\n",
       "    return toinsert\n",
       "  }\n",
       "\n",
       "  events.on('output_added.OutputArea', handle_add_output);\n",
       "  events.on('output_updated.OutputArea', handle_update_output);\n",
       "  events.on('clear_output.CodeCell', handle_clear_output);\n",
       "  events.on('delete.Cell', handle_clear_output);\n",
       "  events.on('kernel_ready.Kernel', handle_kernel_cleanup);\n",
       "\n",
       "  OutputArea.prototype.register_mime_type(EXEC_MIME_TYPE, append_mime, {\n",
       "    safe: true,\n",
       "    index: 0\n",
       "  });\n",
       "}\n",
       "\n",
       "if (window.Jupyter !== undefined) {\n",
       "  try {\n",
       "    var events = require('base/js/events');\n",
       "    var OutputArea = require('notebook/js/outputarea').OutputArea;\n",
       "    if (OutputArea.prototype.mime_types().indexOf(EXEC_MIME_TYPE) == -1) {\n",
       "      register_renderer(events, OutputArea);\n",
       "    }\n",
       "  } catch(err) {\n",
       "  }\n",
       "}\n"
      ],
      "application/vnd.holoviews_load.v0+json": "\nif ((window.PyViz === undefined) || (window.PyViz instanceof HTMLElement)) {\n  window.PyViz = {comms: {}, comm_status:{}, kernels:{}, receivers: {}, plot_index: []}\n}\n\n\n    function JupyterCommManager() {\n    }\n\n    JupyterCommManager.prototype.register_target = function(plot_id, comm_id, msg_handler) {\n      if (window.comm_manager || ((window.Jupyter !== undefined) && (Jupyter.notebook.kernel != null))) {\n        var comm_manager = window.comm_manager || Jupyter.notebook.kernel.comm_manager;\n        comm_manager.register_target(comm_id, function(comm) {\n          comm.on_msg(msg_handler);\n        });\n      } else if ((plot_id in window.PyViz.kernels) && (window.PyViz.kernels[plot_id])) {\n        window.PyViz.kernels[plot_id].registerCommTarget(comm_id, function(comm) {\n          comm.onMsg = msg_handler;\n        });\n      } else if (typeof google != 'undefined' && google.colab.kernel != null) {\n        google.colab.kernel.comms.registerTarget(comm_id, (comm) => {\n          var messages = comm.messages[Symbol.asyncIterator]();\n          function processIteratorResult(result) {\n            var message = result.value;\n            console.log(message)\n            var content = {data: message.data, comm_id};\n            var buffers = []\n            for (var buffer of message.buffers || []) {\n              buffers.push(new DataView(buffer))\n            }\n            var metadata = message.metadata || {};\n            var msg = {content, buffers, metadata}\n            msg_handler(msg);\n            return messages.next().then(processIteratorResult);\n          }\n          return messages.next().then(processIteratorResult);\n        })\n      }\n    }\n\n    JupyterCommManager.prototype.get_client_comm = function(plot_id, comm_id, msg_handler) {\n      if (comm_id in window.PyViz.comms) {\n        return window.PyViz.comms[comm_id];\n      } else if (window.comm_manager || ((window.Jupyter !== undefined) && (Jupyter.notebook.kernel != null))) {\n        var comm_manager = window.comm_manager || Jupyter.notebook.kernel.comm_manager;\n        var comm = comm_manager.new_comm(comm_id, {}, {}, {}, comm_id);\n        if (msg_handler) {\n          comm.on_msg(msg_handler);\n        }\n      } else if ((plot_id in window.PyViz.kernels) && (window.PyViz.kernels[plot_id])) {\n        var comm = window.PyViz.kernels[plot_id].connectToComm(comm_id);\n        comm.open();\n        if (msg_handler) {\n          comm.onMsg = msg_handler;\n        }\n      } else if (typeof google != 'undefined' && google.colab.kernel != null) {\n        var comm_promise = google.colab.kernel.comms.open(comm_id)\n        comm_promise.then((comm) => {\n          window.PyViz.comms[comm_id] = comm;\n          if (msg_handler) {\n            var messages = comm.messages[Symbol.asyncIterator]();\n            function processIteratorResult(result) {\n              var message = result.value;\n              var content = {data: message.data};\n              var metadata = message.metadata || {comm_id};\n              var msg = {content, metadata}\n              msg_handler(msg);\n              return messages.next().then(processIteratorResult);\n            }\n            return messages.next().then(processIteratorResult);\n          }\n        }) \n        var sendClosure = (data, metadata, buffers, disposeOnDone) => {\n          return comm_promise.then((comm) => {\n            comm.send(data, metadata, buffers, disposeOnDone);\n          });\n        };\n        var comm = {\n          send: sendClosure\n        };\n      }\n      window.PyViz.comms[comm_id] = comm;\n      return comm;\n    }\n    window.PyViz.comm_manager = new JupyterCommManager();\n    \n\n\nvar JS_MIME_TYPE = 'application/javascript';\nvar HTML_MIME_TYPE = 'text/html';\nvar EXEC_MIME_TYPE = 'application/vnd.holoviews_exec.v0+json';\nvar CLASS_NAME = 'output';\n\n/**\n * Render data to the DOM node\n */\nfunction render(props, node) {\n  var div = document.createElement(\"div\");\n  var script = document.createElement(\"script\");\n  node.appendChild(div);\n  node.appendChild(script);\n}\n\n/**\n * Handle when a new output is added\n */\nfunction handle_add_output(event, handle) {\n  var output_area = handle.output_area;\n  var output = handle.output;\n  if ((output.data == undefined) || (!output.data.hasOwnProperty(EXEC_MIME_TYPE))) {\n    return\n  }\n  var id = output.metadata[EXEC_MIME_TYPE][\"id\"];\n  var toinsert = output_area.element.find(\".\" + CLASS_NAME.split(' ')[0]);\n  if (id !== undefined) {\n    var nchildren = toinsert.length;\n    var html_node = toinsert[nchildren-1].children[0];\n    html_node.innerHTML = output.data[HTML_MIME_TYPE];\n    var scripts = [];\n    var nodelist = html_node.querySelectorAll(\"script\");\n    for (var i in nodelist) {\n      if (nodelist.hasOwnProperty(i)) {\n        scripts.push(nodelist[i])\n      }\n    }\n\n    scripts.forEach( function (oldScript) {\n      var newScript = document.createElement(\"script\");\n      var attrs = [];\n      var nodemap = oldScript.attributes;\n      for (var j in nodemap) {\n        if (nodemap.hasOwnProperty(j)) {\n          attrs.push(nodemap[j])\n        }\n      }\n      attrs.forEach(function(attr) { newScript.setAttribute(attr.name, attr.value) });\n      newScript.appendChild(document.createTextNode(oldScript.innerHTML));\n      oldScript.parentNode.replaceChild(newScript, oldScript);\n    });\n    if (JS_MIME_TYPE in output.data) {\n      toinsert[nchildren-1].children[1].textContent = output.data[JS_MIME_TYPE];\n    }\n    output_area._hv_plot_id = id;\n    if ((window.Bokeh !== undefined) && (id in Bokeh.index)) {\n      window.PyViz.plot_index[id] = Bokeh.index[id];\n    } else {\n      window.PyViz.plot_index[id] = null;\n    }\n  } else if (output.metadata[EXEC_MIME_TYPE][\"server_id\"] !== undefined) {\n    var bk_div = document.createElement(\"div\");\n    bk_div.innerHTML = output.data[HTML_MIME_TYPE];\n    var script_attrs = bk_div.children[0].attributes;\n    for (var i = 0; i < script_attrs.length; i++) {\n      toinsert[toinsert.length - 1].childNodes[1].setAttribute(script_attrs[i].name, script_attrs[i].value);\n    }\n    // store reference to server id on output_area\n    output_area._bokeh_server_id = output.metadata[EXEC_MIME_TYPE][\"server_id\"];\n  }\n}\n\n/**\n * Handle when an output is cleared or removed\n */\nfunction handle_clear_output(event, handle) {\n  var id = handle.cell.output_area._hv_plot_id;\n  var server_id = handle.cell.output_area._bokeh_server_id;\n  if (((id === undefined) || !(id in PyViz.plot_index)) && (server_id !== undefined)) { return; }\n  var comm = window.PyViz.comm_manager.get_client_comm(\"hv-extension-comm\", \"hv-extension-comm\", function () {});\n  if (server_id !== null) {\n    comm.send({event_type: 'server_delete', 'id': server_id});\n    return;\n  } else if (comm !== null) {\n    comm.send({event_type: 'delete', 'id': id});\n  }\n  delete PyViz.plot_index[id];\n  if ((window.Bokeh !== undefined) & (id in window.Bokeh.index)) {\n    var doc = window.Bokeh.index[id].model.document\n    doc.clear();\n    const i = window.Bokeh.documents.indexOf(doc);\n    if (i > -1) {\n      window.Bokeh.documents.splice(i, 1);\n    }\n  }\n}\n\n/**\n * Handle kernel restart event\n */\nfunction handle_kernel_cleanup(event, handle) {\n  delete PyViz.comms[\"hv-extension-comm\"];\n  window.PyViz.plot_index = {}\n}\n\n/**\n * Handle update_display_data messages\n */\nfunction handle_update_output(event, handle) {\n  handle_clear_output(event, {cell: {output_area: handle.output_area}})\n  handle_add_output(event, handle)\n}\n\nfunction register_renderer(events, OutputArea) {\n  function append_mime(data, metadata, element) {\n    // create a DOM node to render to\n    var toinsert = this.create_output_subarea(\n    metadata,\n    CLASS_NAME,\n    EXEC_MIME_TYPE\n    );\n    this.keyboard_manager.register_events(toinsert);\n    // Render to node\n    var props = {data: data, metadata: metadata[EXEC_MIME_TYPE]};\n    render(props, toinsert[0]);\n    element.append(toinsert);\n    return toinsert\n  }\n\n  events.on('output_added.OutputArea', handle_add_output);\n  events.on('output_updated.OutputArea', handle_update_output);\n  events.on('clear_output.CodeCell', handle_clear_output);\n  events.on('delete.Cell', handle_clear_output);\n  events.on('kernel_ready.Kernel', handle_kernel_cleanup);\n\n  OutputArea.prototype.register_mime_type(EXEC_MIME_TYPE, append_mime, {\n    safe: true,\n    index: 0\n  });\n}\n\nif (window.Jupyter !== undefined) {\n  try {\n    var events = require('base/js/events');\n    var OutputArea = require('notebook/js/outputarea').OutputArea;\n    if (OutputArea.prototype.mime_types().indexOf(EXEC_MIME_TYPE) == -1) {\n      register_renderer(events, OutputArea);\n    }\n  } catch(err) {\n  }\n}\n"
     },
     "metadata": {},
     "output_type": "display_data"
    }
   ],
   "source": [
    "import numpy as np\n",
    "import plotly.express as px\n",
    "import plotly.graph_objects as go\n",
    "from collections import Counter\n",
    "import pandas as pd\n",
    "import matplotlib.pyplot as plt\n",
    "import seaborn as sns\n",
    "from re import finditer,sub,search\n",
    "import os, math, random\n",
    "from colorama import Back, Style, Fore\n",
    "\n",
    "# For blastwww\n",
    "\n",
    "from Bio import SeqIO, SearchIO\n",
    "from Bio.Blast import NCBIWWW \n",
    "from Bio.Seq import Seq\n",
    "import pandas as pd\n",
    "import panel as pn\n",
    "import panel.widgets as pnw\n",
    "pn.extension()\n",
    "from bokeh.plotting import figure\n",
    "from bokeh.models import ColumnDataSource, Plot, Grid, Range1d\n",
    "from bokeh.models.glyphs import Text, Rect\n",
    "from bokeh.layouts import gridplot\n",
    "from bokeh.transform import dodge\n",
    "import bokeh\n",
    "\n",
    "''' Display List '''\n",
    "\n",
    "def lstcol(obj, cols=4, columnwise=True, gap=4):\n",
    "    sobj = [str(item) for item in obj]\n",
    "    if cols > len(sobj): cols = len(sobj)\n",
    "    max_len = max([len(item) for item in sobj])\n",
    "    if columnwise: cols = int(math.ceil(float(len(sobj)) / float(cols)))\n",
    "    plist = [sobj[i: i+cols] for i in range(0, len(sobj), cols)]\n",
    "    if columnwise:\n",
    "        if not len(plist[-1]) == cols:\n",
    "            plist[-1].extend(['']*(len(sobj) - len(plist[-1])))\n",
    "        plist = zip(*plist)\n",
    "    printer ='\\n'.join([\n",
    "        ''.join([c.ljust(max_len + gap) for c in p])\n",
    "        for p in plist])\n",
    "    print (printer)"
   ]
  },
  {
   "cell_type": "code",
   "execution_count": 68,
   "metadata": {
    "execution": {
     "iopub.execute_input": "2023-03-08T16:05:28.959750Z",
     "iopub.status.busy": "2023-03-08T16:05:28.958614Z",
     "iopub.status.idle": "2023-03-08T16:05:28.966936Z",
     "shell.execute_reply": "2023-03-08T16:05:28.966158Z",
     "shell.execute_reply.started": "2023-03-08T13:53:09.277090Z"
    },
    "papermill": {
     "duration": 0.162155,
     "end_time": "2023-03-08T16:05:28.967140",
     "exception": false,
     "start_time": "2023-03-08T16:05:28.804985",
     "status": "completed"
    },
    "tags": []
   },
   "outputs": [
    {
     "data": {
      "text/html": [
       "<style>\n",
       "div #notebook {\n",
       "background-color: white;\n",
       "line-height: 20px;\n",
       "}\n",
       "\n",
       "#notebook-container {\n",
       "width: 95%;\n",
       "margin-top: 2em;\n",
       "padding-top: 2em;\n",
       "border-top: 4px solid #FFFFFF;\n",
       "-webkit-box-shadow: 0px 0px 8px 2px rgba(224, 212, 226, 0.5);\n",
       "    box-shadow: 0px 0px 8px 2px rgba(224, 212, 226, 0.5);\n",
       "}\n",
       "\n",
       "div .input {\n",
       "margin-bottom: 1em;\n",
       "}\n",
       "\n",
       ".rendered_html h1, .rendered_html h2, .rendered_html h3, .rendered_html h4, .rendered_html h5, .rendered_html h6 {\n",
       "color: #FFFFFF;\n",
       "font-weight: 600;\n",
       "}\n",
       "\n",
       "div.input_area {\n",
       "border: none;\n",
       "    background-color: rgba(255, 255, 255, 0.1);\n",
       "    border-top: 2px solid #FFFFFF;\n",
       "}\n",
       "\n",
       "div.input_prompt {\n",
       "color: #FFFFFF;\n",
       "}\n",
       "\n",
       "div.output_prompt {\n",
       "color: #FF5733; \n",
       "}\n",
       "\n",
       "div.cell.selected:before, div.cell.selected.jupyter-soft-selected:before {\n",
       "background: #FFFFFF;\n",
       "}\n",
       "\n",
       "div.cell.selected, div.cell.selected.jupyter-soft-selected {\n",
       "    border-color: #FFFFFF;\n",
       "}\n",
       "\n",
       ".edit_mode div.cell.selected:before {\n",
       "background: #FFFFFF;\n",
       "}\n",
       "\n",
       ".edit_mode div.cell.selected {\n",
       "border-color: #FFFFFF;\n",
       "\n",
       "}\n",
       "</style>"
      ],
      "text/plain": [
       "<IPython.core.display.HTML object>"
      ]
     },
     "execution_count": 68,
     "metadata": {},
     "output_type": "execute_result"
    }
   ],
   "source": [
    "from IPython.core.display import display, HTML, Javascript\n",
    "\n",
    "color_map = ['#FFFFFF','#FF5733']\n",
    "\n",
    "prompt = color_map[-1]\n",
    "main_color = color_map[0]\n",
    "strong_main_color = color_map[1]\n",
    "custom_colors = [strong_main_color, main_color]\n",
    "\n",
    "css_file = '''\n",
    "div #notebook {\n",
    "background-color: white;\n",
    "line-height: 20px;\n",
    "}\n",
    "\n",
    "#notebook-container {\n",
    "%s\n",
    "margin-top: 2em;\n",
    "padding-top: 2em;\n",
    "border-top: 4px solid %s;\n",
    "-webkit-box-shadow: 0px 0px 8px 2px rgba(224, 212, 226, 0.5);\n",
    "    box-shadow: 0px 0px 8px 2px rgba(224, 212, 226, 0.5);\n",
    "}\n",
    "\n",
    "div .input {\n",
    "margin-bottom: 1em;\n",
    "}\n",
    "\n",
    ".rendered_html h1, .rendered_html h2, .rendered_html h3, .rendered_html h4, .rendered_html h5, .rendered_html h6 {\n",
    "color: %s;\n",
    "font-weight: 600;\n",
    "}\n",
    "\n",
    "div.input_area {\n",
    "border: none;\n",
    "    background-color: %s;\n",
    "    border-top: 2px solid %s;\n",
    "}\n",
    "\n",
    "div.input_prompt {\n",
    "color: %s;\n",
    "}\n",
    "\n",
    "div.output_prompt {\n",
    "color: %s; \n",
    "}\n",
    "\n",
    "div.cell.selected:before, div.cell.selected.jupyter-soft-selected:before {\n",
    "background: %s;\n",
    "}\n",
    "\n",
    "div.cell.selected, div.cell.selected.jupyter-soft-selected {\n",
    "    border-color: %s;\n",
    "}\n",
    "\n",
    ".edit_mode div.cell.selected:before {\n",
    "background: %s;\n",
    "}\n",
    "\n",
    ".edit_mode div.cell.selected {\n",
    "border-color: %s;\n",
    "\n",
    "}\n",
    "'''\n",
    "\n",
    "def to_rgb(h): \n",
    "    return tuple(int(h[i:i+2], 16) for i in [0, 2, 4])\n",
    "\n",
    "main_color_rgba = 'rgba(%s, %s, %s, 0.1)' % (to_rgb(main_color[1:]))\n",
    "open('notebook.css', 'w').write(css_file % ('width: 95%;', main_color, main_color, main_color_rgba, \n",
    "                                            main_color,  main_color, prompt, main_color, main_color, \n",
    "                                            main_color, main_color))\n",
    "\n",
    "def nb(): \n",
    "    return HTML(\"<style>\" + open(\"notebook.css\", \"r\").read() + \"</style>\")\n",
    "nb()"
   ]
  },
  {
   "cell_type": "markdown",
   "metadata": {
    "papermill": {
     "duration": 0.140658,
     "end_time": "2023-03-08T16:05:29.252636",
     "exception": false,
     "start_time": "2023-03-08T16:05:29.111978",
     "status": "completed"
    },
    "tags": []
   },
   "source": [
    "whl is the format of packages used on pip & these files can be uploaded to datasets, installed via pip "
   ]
  },
  {
   "cell_type": "code",
   "execution_count": 69,
   "metadata": {
    "execution": {
     "iopub.execute_input": "2023-03-08T16:05:29.586458Z",
     "iopub.status.busy": "2023-03-08T16:05:29.554350Z",
     "iopub.status.idle": "2023-03-08T16:05:29.645831Z",
     "shell.execute_reply": "2023-03-08T16:05:29.645184Z",
     "shell.execute_reply.started": "2023-03-08T13:53:09.298601Z"
    },
    "papermill": {
     "duration": 0.251084,
     "end_time": "2023-03-08T16:05:29.646030",
     "exception": false,
     "start_time": "2023-03-08T16:05:29.394946",
     "status": "completed"
    },
    "tags": []
   },
   "outputs": [],
   "source": [
    "'''\n",
    "\n",
    "#####################################################\n",
    "\n",
    "# General SQ Methods\n",
    "\n",
    "# info - show sequence information\n",
    "# view - visualise the sequence\n",
    "# validate - check if the sequence contains no errors\n",
    "# reverse_comp - reverse complement strand of DNA \n",
    "# add_annotation - add annotation to sequence\n",
    "\n",
    "#####################################################\n",
    "\n",
    "'''\n",
    "\n",
    "class SQ(): \n",
    "    \n",
    "    # Constructor\n",
    "    def __init__ (self, seq=None,           # Sequence String\n",
    "                        seq_type = \"dna\",   # Sequence Type \n",
    "                        id=None,            # Sequence Identifier\n",
    "                        name=None,          # Sequene Name\n",
    "                        description=None):  # Sequence Description\n",
    "        \n",
    "        # Core SQ \n",
    "        self.seq = seq.upper()\n",
    "        self.seq_type = seq_type\n",
    "        \n",
    "        # If more detail is provided\n",
    "        self.id = id  # sequence identifier (eg. database id)\n",
    "        self.name = name   # name of sequence (eg. polyprotein)\n",
    "        self.description = description # give the sequence some description\n",
    "        self.annotations = {} # Annotate some parts of the seqence\n",
    "        \n",
    "        # if some fields are not filled\n",
    "        if(self.id is None):\n",
    "            self.id = f'sequence_{random.randint(1,1000)}'\n",
    "        if(self.description is None):\n",
    "            self.description = 'description not given'\n",
    "        if(self.name is None):\n",
    "            self.name = 'name not given'\n",
    "        \n",
    "        # Instantiate \n",
    "        self.decode = Decode(self.seq,self.seq_type) \n",
    "        self.count = Count(self.seq,self.seq_type,self.id)\n",
    "        self.cut = Cut(self.seq,self.seq_type)\n",
    "        self.pattern = Pattern(self.seq,self.seq_type)\n",
    "    \n",
    "    # class instance operations\n",
    "    def __len__(self):\n",
    "        return len(self.seq)\n",
    "    def __getitem__(self, n):\n",
    "        return self.seq[n]\n",
    "    def __getslice__(self, i, j):\n",
    "        return self.seq[i:j]\n",
    "    def __str__(self):\n",
    "        return self.seq\n",
    "    def __add__(self,other):\n",
    "        if(self.seq_type == other.seq_type):\n",
    "            return SQ(self.seq + other.seq,seq_type=self.seq_type)\n",
    "        else:\n",
    "            print('sequences must of be same type')\n",
    "            \n",
    "    @staticmethod\n",
    "    def colored(lseq):\n",
    "        \n",
    "        bcolors = {'A': '\\033[92m','C': '\\033[94m','G':'\\033[93m',\n",
    "            'T': '\\033[91m','U': '\\033[91m','reset': '\\033[0;0m'}\n",
    "        tmpStr = \"\"\n",
    "        for nuc in lseq:\n",
    "            if nuc in bcolors:\n",
    "                tmpStr += bcolors[nuc] + nuc\n",
    "            else:\n",
    "                tmpStr += bcolors['reset'] + nuc\n",
    "        return tmpStr + '\\033[0;0m'\n",
    "    \n",
    "    @staticmethod\n",
    "    def split_nucleotide_seq(genome,cut_id):\n",
    "        genes = []\n",
    "        for ix, char in enumerate(genome):\n",
    "            if ix != 0 and ix%cut_id == 0:\n",
    "                genes.append(' ')\n",
    "            genes.append(char)\n",
    "        return ''.join(genes)\n",
    "    \n",
    "    def seq_repr(self,genome_str, strand ='dna',split_id=10):\n",
    "        \n",
    "        nu_clr_switcher = {\n",
    "            # standard color-codes\n",
    "            'A': Back.GREEN,\n",
    "            'a': Back.GREEN,\n",
    "            'C': Back.YELLOW,\n",
    "            'c': Back.YELLOW,\n",
    "            'G': Back.RED,\n",
    "            'g': Back.RED,\n",
    "            'T': Back.BLUE,\n",
    "            't': Back.BLUE,\n",
    "            ' ': Style.RESET_ALL\n",
    "        }\n",
    "        \n",
    "        if strand == 'dna':\n",
    "            genome_str = self.split_nucleotide_seq(genome=genome_str,\n",
    "                                                   cut_id=split_id)\n",
    "            line_break_cntr = 0\n",
    "            for i in range(len(genome_str)):\n",
    "                if genome_str[i] == ' ':\n",
    "                    line_break_cntr += 1\n",
    "                    if line_break_cntr>0 and line_break_cntr%6==0:\n",
    "                        text = \"\\n\"\n",
    "                    else:\n",
    "                        text = nu_clr_switcher[genome_str[i]] + genome_str[i]\n",
    "                else:\n",
    "                    text = nu_clr_switcher[genome_str[i]] + genome_str[i]\n",
    "                print(text, end=\"\")\n",
    "            Style.RESET_ALL\n",
    "    \n",
    "    def info(self):\n",
    "        if(self.seq_type is 'dna' or self.seq_type is 'rna'):\n",
    "            print (f\"SEQ: {self.colored(self.seq)}\" + \\\n",
    "                   \" \"+ f\"TYPE: {self.seq_type}\")\n",
    "        else:\n",
    "            print (f\"SEQ: {self.seq}\" +\" \" + \\\n",
    "                   f\"TYPE: {self.seq_type}\")\n",
    "    \n",
    "    # Visualise the nucleotide sequence\n",
    "            \n",
    "    def view(self,split_id=10):\n",
    "        self.seq_repr(self.seq,self.seq_type,split_id)\n",
    "        \n",
    "    # Check Validity\n",
    "    def validate(self,verbose=False):\n",
    "        alp = self.count.abc()\n",
    "        res = True; i = 0\n",
    "        while (res and i < len(self.seq)):\n",
    "            if self.seq[i] not in alp: \n",
    "                res = False\n",
    "            else: i += 1\n",
    "        if(res):\n",
    "            if(verbose):\n",
    "                print(f'{self.seq_type} is valid')\n",
    "            return res\n",
    "        else:\n",
    "            if(verbose):\n",
    "                print(f'{self.seq_type} is invalid')\n",
    "            return res\n",
    "        \n",
    "    # Reverse Complement\n",
    "    def reverse_comp(self):\n",
    "        \n",
    "        if (self.seq_type != \"dna\"): \n",
    "            print('input not DNA')\n",
    "            return None\n",
    "        \n",
    "        lst_seq = ['A','T','G','C']\n",
    "        lst_comp = ['T','A','C','G']\n",
    "        \n",
    "        comp = ''\n",
    "        for char in self.seq:\n",
    "            ii=-1\n",
    "            for c in lst_seq:\n",
    "                ii+=1\n",
    "                if(char == c ):\n",
    "                    comp = lst_comp[ii] + comp\n",
    "                    \n",
    "        return SQ(comp,\"dna\")\n",
    "    \n",
    "    #####################################################\n",
    "            \n",
    "    # Annotating Sequence, Notes\n",
    "    # add_annotation - add_annotation\n",
    "            \n",
    "    #####################################################\n",
    "    \n",
    "    # method to add annotation to the current detailed sequence\n",
    "    def add_annotation(self,inSQ):\n",
    "        lseq = inSQ \n",
    "        lid = inSQ.id\n",
    "        ldesc = inSQ.description\n",
    "        idx = self.pattern.find(pattern=str(lseq),\n",
    "                                   find_id='all',                                            \n",
    "                                   search_id='standard',\n",
    "                                   verbose=False)\n",
    "        for i in idx:\n",
    "            ln = len(lseq)\n",
    "            self.annotations[f'sq_{i}:{i+ln}'] = f\"{lid}_{ldesc}\"\n",
    "'''\n",
    "\n",
    "########################################################\n",
    "\n",
    "Cutting the Sequence\n",
    "cut_pattern - cut sequence based on particular pattern\n",
    "dnaseq_features - cut the sequence \n",
    "\n",
    "########################################################\n",
    "\n",
    "'''\n",
    "\n",
    "class Cut:\n",
    "    \n",
    "    # Constructor\n",
    "    def __init__(self,seq,seq_type):\n",
    "        self.seq = seq\n",
    "        self.seq_type = seq_type\n",
    "            \n",
    "    # converts IUB ambiguity code into RE\n",
    "    # returns cut position of a restriction enzyme \n",
    "    # (in IUB code) in a sequence\n",
    "            \n",
    "    @staticmethod\n",
    "    def divide_loc(enzyme, sequence):\n",
    "        \n",
    "        def iubrex(IUB):   \n",
    "            \n",
    "            # main 4 bases\n",
    "            # purine, pyrimidine, amino\n",
    "            # keto, strong, weak\n",
    "            # not A, not C, not G, not T\n",
    "            #  not T, any \n",
    "            \n",
    "            dic = {\"A\":\"A\", \"C\":\"C\", \"G\":\"G\", \"T\":\"T\", \n",
    "                    # Additional Cases\n",
    "                    \"R\":\"[GA]\", \"Y\":\"[CT]\", \"M\":\"[AC]\", \n",
    "                    \"K\":\"[GT]\", \"S\":\"[GC]\", \"W\": \"[AT]\",\n",
    "                    \"B\":\"[CGT]\", \"D\":\"[AGT]\", \"H\":\"[ACT]\",\n",
    "                    \"V\":\"[ACG]\", \"N\":\"[ACGT]\"}\n",
    "            \n",
    "            site = IUB.replace(\"|\",\"\")\n",
    "            rex = \"\"\n",
    "            \n",
    "            for c in site:\n",
    "                rex += dic[c]\n",
    "            return rex\n",
    "        \n",
    "        regexp = iubrex(enzyme) # convert pattern to IUB format\n",
    "        matches = finditer(regexp, sequence)\n",
    "        locs = []\n",
    "        for match in matches:\n",
    "            locs.append(match.start() + enzyme.find(\"|\"))\n",
    "            \n",
    "        return locs # indicies of cuts\n",
    "    \n",
    "    # determines subsequences resulting from a sequence \n",
    "    # cut in a list of positions\n",
    "    def cut_pattern(self,cut_pattern=None):\n",
    "        \n",
    "        if(cut_pattern is not None):\n",
    "        \n",
    "            res = []\n",
    "            positions = self.divide_loc(cut_pattern,self.seq)\n",
    "            positions.insert(0,0)\n",
    "            positions.append(len(self.seq))\n",
    "            for i in range(len(positions)-1):\n",
    "                res.append(self.seq[positions[i]:positions[i+1]])\n",
    "            return res\n",
    "        \n",
    "        else:\n",
    "            print('[note] enter cut_pattern')\n",
    "    \n",
    "    # Function for when you want to prepare DNA sequence \n",
    "    # feature for ML applications\n",
    "    def dnaseq_features(self,start=0,n_segs=101,seq_name=None):\n",
    "        \n",
    "        print(f'[note] cutting @{start} w/ {n_segs} segments')\n",
    "        \n",
    "        print(f\"Input Sequence Length: {len(self.seq)}\")\n",
    "        remaind = len(self.seq)%n_segs\n",
    "        if(remaind is not 0):\n",
    "            last_id = len(self.seq) - remaind\n",
    "        print(f\"# Bases cut-off: {int(remaind)}\")\n",
    "        \n",
    "        upd_seq = self.seq[start:last_id]\n",
    "        \n",
    "        print(f\"Updated sequence length: {len(upd_seq)}\")\n",
    "        print(f\"# Segments: {int(len(upd_seq)/n_segs)} created\")\n",
    "        if(seq_name is None):\n",
    "            seq_name = 'seq'\n",
    "            \n",
    "        # store sequence subsets in a dictionary\n",
    "        dic_seq = {}\n",
    "        for i in range(0,3):\n",
    "            a = int(i*n_segs) ; b = int(i*n_segs)+n_segs \n",
    "            identifier = f\"{seq_name}_{a}:{b}\"\n",
    "            dic_seq[identifier] = upd_seq[a:b]\n",
    "            \n",
    "        lst_seq = dic_seq.values()\n",
    "        index = list(dic_seq.keys())\n",
    "        \n",
    "        # One hot encode\n",
    "        \n",
    "        ii=-1\n",
    "        for data in lst_seq:\n",
    "            \n",
    "            ii+=1; abc = 'acgt'.upper()\n",
    "            \n",
    "            char_to_int = dict((c, i) for i, c in enumerate(abc))\n",
    "            int_enc = [char_to_int[char] for char in data]\n",
    "            \n",
    "            ohe = []\n",
    "            for value in int_enc:\n",
    "                base = [0 for _ in range(len(abc))]\n",
    "                base[value] = 1\n",
    "                ohe.append(base)\n",
    "            np_mat = np.array(ohe)\n",
    "            np_mat = np.expand_dims(np_mat,axis=0)\n",
    "            \n",
    "            if(ii is not 0):\n",
    "                matrix = np.concatenate([np_mat,matrix],axis=0)\n",
    "            else:\n",
    "                matrix = np_mat\n",
    "                \n",
    "        return matrix,index\n",
    "'''\n",
    "#######################################################\n",
    "\n",
    "# Attributes:\n",
    "- seq - sequence in string format (passed from SQ)\n",
    "- seq_type - sequence type (passed from SQ)\n",
    "\n",
    "# Methods:\n",
    "- transcription() - Change DNA to RNA\n",
    "- protein(mins=0) - Decode all amino acid chains for \n",
    "                    all 6 reading frames\n",
    "\n",
    "# Decoding of instructions for making proteins from DNA\n",
    "# transcription (DNA -> RNA)\n",
    "# get_protein (RNA -> AA chains containing proteins)\n",
    "\n",
    "#######################################################\n",
    "'''\n",
    "\n",
    "class Decode(SQ):\n",
    "    \n",
    "    # constructor\n",
    "    def __init__(self,seq,seq_type):\n",
    "        self.seq = seq\n",
    "        self.seq_type = seq_type\n",
    "        \n",
    "    @staticmethod\n",
    "    def dictmap(tid=None):\n",
    "\n",
    "        tc = {\n",
    "            \"GCT\":\"A\", \"GCC\":\"A\", \"GCA\":\"A\",\"GCG\":\"A\",\n",
    "            \"TGT\":\"C\", \"TGC\":\"C\",\"GAT\":\"D\",\"GAC\":\"D\",   \n",
    "            \"GAA\":\"E\", \"GAG\":\"E\",\"TTT\":\"F\",\"TTC\":\"F\",   \n",
    "            \"GGT\":\"G\", \"GGC\":\"G\",\"GGA\":\"G\",\"GGG\":\"G\",\n",
    "            \"CAT\":\"H\", \"CAC\":\"H\",\"ATA\":\"I\",\"ATT\":\"I\", \"ATC\":\"I\",  \n",
    "            \"AAA\":\"K\", \"AAG\":\"K\",\"TTA\":\"L\",\"TTG\":\"L\", \"CTT\":\"L\",  \n",
    "            \"CTC\":\"L\", \"CTA\":\"L\",\"CTG\":\"L\",\n",
    "            \"ATG\":\"M\", # starting codon\n",
    "            \"AAT\":\"N\", \"AAC\":\"N\",\"CCT\":\"P\",\"CCC\":\"P\", \"CCA\":\"P\", \"CCG\":\"P\",\n",
    "            \"CAA\":\"Q\", \"CAG\":\"Q\",\"CGT\":\"R\",\"CGC\":\"R\", \"CGA\":\"R\",\n",
    "            \"CGG\":\"R\", \"AGA\":\"R\",\"AGG\":\"R\",\"TCT\":\"S\", \"TCC\":\"S\", \"TCA\":\"S\",\n",
    "            \"TCG\":\"S\", \"AGT\":\"S\",\"AGC\":\"S\",\"ACT\":\"T\", \"ACC\":\"T\", \"ACA\":\"T\", \n",
    "            \"ACG\":\"T\",\"GTT\":\"V\", \"GTC\":\"V\",\"GTA\":\"V\",\"GTG\":\"V\",\"TGG\":\"W\",\n",
    "            \"TAT\":\"Y\", \"TAC\":\"Y\",\n",
    "            \"TAA\":\"_\",\"TAG\":\"_\",\"TGA\":\"_\" # ending codon\n",
    "            }\n",
    "\n",
    "        if tid in tc: \n",
    "          return tc[tid]\n",
    "        else: \n",
    "          return None\n",
    "        \n",
    "    ''' DNA Transcription '''\n",
    "    # Convert DNA -> RNA chain\n",
    "    \n",
    "    def transcription(self):\n",
    "        if (self.seq_type == \"dna\"):\n",
    "            return SQ(self.seq.replace(\"T\",\"U\"), \"rna\")\n",
    "        else:\n",
    "            print('[note] seq_type != dna')\n",
    "            return None\n",
    "        \n",
    "    # Translate sequence\n",
    "    def trans(self,seq,p0=0):\n",
    "        seq_aa = \"\"\n",
    "        for pos in range(p0,len(seq)-2,3):\n",
    "            cod = seq[pos:pos+3]\n",
    "            seq_aa += self.dictmap(tid=cod)\n",
    "        return seq_aa\n",
    "    \n",
    "    '''Get All Possible open reading frames (ORF)'''\n",
    "    # store all possible collections of aa\n",
    "    # groups in all 6 frames\n",
    "    \n",
    "    def frames(self):\n",
    "        res = []\n",
    "        for i in range(0,3):\n",
    "            res.append(self.trans(self.seq,i))\n",
    "        rc = self.reverse_comp()\n",
    "        for i in range(0,3):\n",
    "            res.append(self.trans(rc,i)) \n",
    "        return res\n",
    "    \n",
    "    ''' Computes all possible proteins in an aa sequence in RF '''\n",
    "    # using the knowledge that it starts with M and ends with _, \n",
    "    # filter out rule breaking ORFs\n",
    "    # aa_seq -> full converted amino acid sequence\n",
    "    \n",
    "    @staticmethod\n",
    "    def all_rf(aa_seq):\n",
    "        \n",
    "        current_prot = []; proteins = []\n",
    "        for aa in aa_seq:\n",
    "            if(aa == \"_\"): # stopping gap\n",
    "                if(current_prot):\n",
    "                    for p in current_prot:\n",
    "                        proteins.append(p)\n",
    "                    current_prot = []\n",
    "            else: # not stopping gap\n",
    "                if(aa == \"M\"):      # starting amino acid            \n",
    "                    current_prot.append(\"\")\n",
    "                for i in range(len(current_prot)):\n",
    "                    current_prot[i] += aa\n",
    "                    \n",
    "        return proteins\n",
    "    \n",
    "    ''' Computes all possible putative proteins for all ORF '''\n",
    "    # and sort them based on size\n",
    "    \n",
    "    def protein(self,mins=0):\n",
    "        \n",
    "        # order \n",
    "        def insert_prot_ord(prot, lst_prot):\n",
    "            i = 0\n",
    "            while(i < len(lst_prot) and len(prot)<len(lst_prot[i])):\n",
    "                i += 1\n",
    "            lst_prot.insert(i, prot)\n",
    "            \n",
    "        # get all ORF conversions\n",
    "        rfs = self.frames();res = []\n",
    "        for rf in rfs:\n",
    "            # return only protein cases\n",
    "            prots = self.all_rf(rf) \n",
    "            # additionally sort based on protein size\n",
    "            for p in prots: \n",
    "                if(len(p) > mins): \n",
    "                    insert_prot_ord(p,res)\n",
    "        return res\n",
    "'''\n",
    "\n",
    "#####################################################\n",
    "\n",
    "# Counting\n",
    "# freq - count bases in sequence\n",
    "# count_purines - count purines & pyrimidines\n",
    "# groupfreq - count grouped bases\n",
    "\n",
    "#####################################################\n",
    "\n",
    "'''\n",
    "\n",
    "class Count:\n",
    "    \n",
    "    def __init__(self,seq,seq_type,id):\n",
    "        self.seq = seq\n",
    "        self.seq_type = seq_type\n",
    "        self.id = id\n",
    "        \n",
    "    @staticmethod\n",
    "    def dict_sum(dictlist):\n",
    "        outdic = {}\n",
    "        for d in dictlist:\n",
    "            for k in d.keys():\n",
    "                outdic[k] = 0\n",
    "        for d in dictlist:\n",
    "            for k in d.keys():\n",
    "                outdic[k]+=d[k]\n",
    "        return outdic\n",
    "        \n",
    "    # Get ABC\n",
    "    def abc(self):\n",
    "        if(self.seq_type==\"dna\"): \n",
    "          return \"ACGT\"\n",
    "        elif(self.seq_type==\"rna\"):\n",
    "          return \"ACGU\"\n",
    "        elif (self.seq_type==\"aa\"): \n",
    "          return \"ACDEFGHIKLMNPQRSTVWY\"\n",
    "        else: \n",
    "          return None\n",
    "    \n",
    "    # Mapping Dictionary\n",
    "    @staticmethod\n",
    "    def dictmap(map_id='iupac_amino',tid=None):\n",
    "\n",
    "        # IUPAC Amino Acids\n",
    "        if(map_id is 'iupac_amino'):\n",
    "            tc   = {'A':'Alanine','C':'Cysteine','D':'Aspartic Acid',\n",
    "                    'E':'Glutamic Acid','F':'Phenylalanine','G':'Glycine',\n",
    "                    'H':'Histidine','I':'Isoleucine','L':'Lysine',\n",
    "                    'M':'Methionine','N':'Asparagine','P':'Proline',\n",
    "                    'Q':'Glutamine','R':'Arginine','S':'Serine',\n",
    "                    'T':'Threonine','V':'Valine','W':'Tryptophan',\n",
    "                    'Y':'Tryosine','_':'Gap'}\n",
    "\n",
    "        # IUPAC nuceotides\n",
    "        elif(map_id is 'iupac_nucleotide'):\n",
    "            tc  = {'A':'Adenine','C':'Cytosine','G':'Guanine','T':'Thymine',\n",
    "                   'U':'Uracil'}\n",
    "\n",
    "        if tid in tc: \n",
    "          return tc[tid]\n",
    "        else: \n",
    "          return None\n",
    "        \n",
    "    ''' Frequency of Alphabet '''\n",
    "    # nucleotide or amino acid sequences\n",
    "    \n",
    "    def freq(self,compare:list=None,       # list of comparing sequences\n",
    "                  show_id:str='perc',     # perc/count\n",
    "                  fsize:list=[None,None],  # figure size\n",
    "                  title:str=None,\n",
    "                  barmode:str='group'): \n",
    "        \n",
    "        c1 = dict(Counter(self.seq))  # abc counter for s1\n",
    "        abc = list(self.abc())\n",
    "        count = Counter(abc)\n",
    "        abc_c = dict(Counter({x:0 for x in count}))\n",
    "        c_all1 = self.dict_sum([c1,abc_c])\n",
    "            \n",
    "        lst = []\n",
    "        for i in c_all1.keys():\n",
    "           if(self.seq_type == 'dna' or self.seq_type == 'rna'):\n",
    "               lst.append(self.dictmap('iupac_nucleotide',i))\n",
    "           elif(self.seq_type == 'aa'):\n",
    "               lst.append(self.dictmap('iupac_amino',i))\n",
    "                    \n",
    "        perc = [round(x/len(self.seq),3)*100 for x in [*c_all1.values()]]\n",
    "        if(show_id is 'perc'):\n",
    "            show1 = lst; show2 = perc;\n",
    "            xaxis_id = 'Character (%)'\n",
    "        elif(show_id is 'count'):\n",
    "            show1 = lst; show2 = [*c_all1.values()]\n",
    "            xaxis_id = 'Count'\n",
    "            \n",
    "        if(self.id is not None):\n",
    "            lname = self.id\n",
    "        else:\n",
    "            lname = 'main seq'\n",
    "            \n",
    "        fig = go.Figure(go.Bar(y=show1,x=show2,\n",
    "                               orientation='h',name=lname))\n",
    "        \n",
    "        # Compare other sequences\n",
    "        if(compare is not None):\n",
    "            \n",
    "            # Cycle through all SQ in list\n",
    "            \n",
    "            for ii,lseq in enumerate(compare):\n",
    "                \n",
    "                ii+=1;\n",
    "                c2 = dict(Counter(lseq.seq))  # abc counter for s2\n",
    "                c_all2 = self.dict_sum([c2,abc_c])    \n",
    "            \n",
    "                lst2 = []\n",
    "                for i in c_all2.keys():\n",
    "                   if(self.seq_type == 'dna' or self.seq_type == 'rna'):\n",
    "                       lst2.append(self.dictmap('iupac_nucleotide',i))\n",
    "                   elif(self.seq_type == 'aa'):\n",
    "                       lst2.append(self.dictmap('iupac_amino',i))\n",
    "                \n",
    "                perc = [round(x/len(lseq.seq),3)*100 for x in [*c_all2.values()]]\n",
    "                if(show_id is 'perc'):\n",
    "                    show1 = lst2;show2 = perc\n",
    "                elif(show_id is 'count'):\n",
    "                    show1 = lst2; show2 = [*c_all2.values()]\n",
    "                \n",
    "                if(lseq.id is not None):\n",
    "                    lname = lseq.id\n",
    "                else:\n",
    "                    lname = f'seq{ii}'\n",
    "                    \n",
    "                fig.add_trace(go.Bar(y=show1,x=show2,\n",
    "                                     orientation='h',\n",
    "                                     name=lname))\n",
    "                \n",
    "        # Set title\n",
    "        \n",
    "        if(title is None):\n",
    "            title = f'{self.seq_type} sequence content'\n",
    "        else:\n",
    "            title = title\n",
    "            \n",
    "        fig.update_layout(template='plotly_white',\n",
    "                          barmode=barmode, # stack,group,overlay,relative\n",
    "                          height=fsize[0],width=fsize[1],\n",
    "                          bargroupgap=0.2, \n",
    "                          font=dict(size=11),title=title)\n",
    "        fig.update_traces(width=0.25,\n",
    "#                           marker_color='rgb(158,202,225)', \n",
    "                          marker_line_color='#212121',\n",
    "                          marker_line_width=1.0, opacity=0.6)\n",
    "        fig.update_xaxes(nticks=20,title_text=xaxis_id);fig.show()\n",
    "        \n",
    "    # Count frequency of grouped nucleotides\n",
    "    \n",
    "    def gfreq(self,compare:list=None,\n",
    "                   count_id='di',\n",
    "                   fsize=[None,None],\n",
    "                   barmode='group',\n",
    "                   xlim=20):\n",
    "        \n",
    "        if(count_id is 'di'):\n",
    "            lst_count_id = ['AA','AC','AG','AT',\n",
    "                            'CA','CC','CG','CT',\n",
    "                            'GA','GC','GG','GT',\n",
    "                            'TA','TC','TG','TT']\n",
    "            \n",
    "        elif(count_id is 'tri'):\n",
    "            lst_count_id = ['AAA','AAC','AAG','AAT','ACA','ACC','ACG',\n",
    "                            'ACT','AGA','AGC','AGG','AGT','ATA','ATC',\n",
    "                            'ATG','ATT','CAA','CAC','CAG','CAT','CCA',\n",
    "                            'CCC','CCG','CCT','CGA','CGC','CGG','CGT',\n",
    "                            'CTA','CTC','CTG','CTT','GAA','GAC','GAG',\n",
    "                            'GAT','GCA','GCC','GCG','GCT','GGA','GGC',\n",
    "                            'GGG','GGT','GTA','GTC','GTG','GTT','TAA',\n",
    "                            'TAC','TAG','TAT','TCA','TCC','TCG','TCT',\n",
    "                            'TGA','TGC','TGG','TGT','TTA','TTC','TTG',\n",
    "                            'TTT']\n",
    "            \n",
    "        if(self.seq_type is 'dna'):\n",
    "            \n",
    "            lst_c = []\n",
    "            for i in lst_count_id:\n",
    "                lst_c.append(self.seq.count(i))\n",
    "                \n",
    "            df = pd.DataFrame(data=lst_c,\n",
    "                              index=lst_count_id).T\n",
    "            df.index = [self.id]\n",
    "            \n",
    "            if(compare is not None):\n",
    "                \n",
    "                ii=-1\n",
    "                for seq in compare: # cycle through all SQ\n",
    "                \n",
    "                    ii+=1;lst_c = []\n",
    "                    for jj in lst_count_id:\n",
    "                        lst_c.append(compare[ii].seq.count(jj))\n",
    "                        \n",
    "                    ldf = pd.DataFrame(data=lst_c,\n",
    "                                       index=lst_count_id).T\n",
    "                    ldf.index = [seq.id]\n",
    "                    df = pd.concat([df,ldf],axis=0)\n",
    "            \n",
    "            if(count_id is 'tri'):\n",
    "                xaxis=dict(rangeslider=dict(visible=True))\n",
    "            else:\n",
    "                xaxis = None\n",
    "                \n",
    "            # Plot\n",
    "            fig = px.bar(df.T,\n",
    "                         x=df.T.index,\n",
    "                         y=df.T.columns)\n",
    "            fig.update_layout(template='plotly_white',\n",
    "                              barmode=barmode,\n",
    "                              title=f'{count_id} nucleotide | count',\n",
    "                              font={'size':11},\n",
    "#                               margin=dict(l=20, r=20, t=80, b=20),\n",
    "                              xaxis=xaxis,\n",
    "                              height=fsize[0],width=fsize[1]); \n",
    "            fig.update_traces(width=0.25,\n",
    "    #                           marker_color='rgb(158,202,225)', \n",
    "                              marker_line_color='#212121',\n",
    "                              marker_line_width=1.0, opacity=0.6)\n",
    "            \n",
    "            if(count_id is 'tri'):\n",
    "                fig['layout']['xaxis'].update(title='', \n",
    "                                              range=[-1,xlim], \n",
    "                                              autorange=False) # range slider\n",
    "            \n",
    "            fig.show()\n",
    "        else:\n",
    "            print('[note] input must be dna type')\n",
    "            \n",
    "    # Return purines & pyrimidines (%)\n",
    "    def purines(self):\n",
    "        \n",
    "        if (self.seq_type == \"dna\" or self.seq_type == \"rna\"):        \n",
    "        \n",
    "            dic_count = {}\n",
    "            purines1 = self.seq.count(\"A\") + self.seq.count(\"G\")\n",
    "            pyrimidines1 = self.seq.count(\"C\") + self.seq.count(\"T\")\n",
    "            purines1 = purines1/len(self.seq)\n",
    "            pyrimidines1 = pyrimidines1/len(self.seq)\n",
    "            dic_count['purines'] = round(purines1,4)\n",
    "            dic_count['pyrimidine'] = round(pyrimidines1,4)\n",
    "            return dic_count\n",
    "    \n",
    "    # Return GC nucleotide (%)\n",
    "    def gc(self):\n",
    "        \n",
    "        if (self.seq_type == \"dna\" or self.seq_type == \"rna\"):\n",
    "            ii = 0\n",
    "            for s in self.seq:\n",
    "                if(s in \"GC\"):\n",
    "                    ii += 1\n",
    "\n",
    "            val = round(ii/len(self.seq),4)\n",
    "            return val\n",
    "''' \n",
    "\n",
    "#####################################################\n",
    "    \n",
    "# Finding Patterns in Sequence\n",
    "# find - find index(ies) of particular pattern \n",
    "    \n",
    "#####################################################\n",
    "\n",
    "'''\n",
    "\n",
    "class Pattern:\n",
    "    \n",
    "    def __init__(self,seq,seq_type):\n",
    "        self.seq = seq\n",
    "        self.seq_type = seq_type\n",
    "    \n",
    "    # Prosite Pattern Lines\n",
    "    # - Standard IUPAC amino acid used to as bases in pattern, separated by -\n",
    "    # - x -> any amino acid acceptable\n",
    "    # - [] -> ambiguity represented by list, any aa in that list acceptable\n",
    "    # - {} -> ambiguity represented by list, any aa other than in {} accepted\n",
    "    # - repetition of pattern element shown below:\n",
    "    #   x(3) -> x-x-x, x(2,4) -> to x-x or x-x-x or x-x-x-x\n",
    "    \n",
    "    @staticmethod\n",
    "    def prosite_process(rex):\n",
    "        # adjust prosite to RE format\n",
    "        rex = rex.replace(\"(\",\"{\")\n",
    "        rex = rex.replace(\")\",\"}\")\n",
    "        rex = rex.replace(\"x\",\".\")\n",
    "        rex = rex.replace(\"-\",\"\")\n",
    "        return rex\n",
    "    \n",
    "    ''' Find Substring Pattern in Sequence '''\n",
    "    \n",
    "    def find(self,pattern,          # subsequence pattern\n",
    "                  find_id='first',  # first,all,overlap\n",
    "                  search_id=None,   # search pattern option (prosite)\n",
    "                  verbose=True):    # Verbal Output\n",
    "        \n",
    "        ''' [1] Find First Match Only '''\n",
    "        \n",
    "        if(find_id is 'first'):\n",
    "            \n",
    "            if(search_id is 'prosite'):\n",
    "                pattern = self.prosite_process(pattern)\n",
    "                \n",
    "            # General search as well\n",
    "            re_search = search(pattern,self.seq)\n",
    "            if (re_search != None):\n",
    "                if(verbose):\n",
    "                    print(f\"showing first for {pattern}\")\n",
    "                result = re_search.span()[0]\n",
    "                return result\n",
    "            else:\n",
    "                if(verbose):\n",
    "                    print(f'no matches for {pattern} found')\n",
    "                \n",
    "        elif(find_id == 'all'):\n",
    "            \n",
    "            if(search_id is 'prosite'):\n",
    "                pattern = self.prosite_process(pattern)\n",
    "                \n",
    "            re_search = finditer(pattern,self.seq)\n",
    "            result = []\n",
    "            for x in re_search:\n",
    "                result.append(x.span()[0])\n",
    "                \n",
    "            if(len(result) is not 0):\n",
    "                if(verbose):\n",
    "                    print(f\"found {len(result)} matches\")\n",
    "                return result\n",
    "            else:\n",
    "                if(verbose):\n",
    "                    print(f'no matches for {pattern} found')\n",
    "                \n",
    "        elif(find_id == 'overlap'):\n",
    "            \n",
    "            if(search_id is 'prosite'):\n",
    "                pattern = self.prosite_process(pattern)\n",
    "            mos = finditer(\"(?=\"+pattern+\")\",self.seq)\n",
    "            result = []\n",
    "            for x in mos:\n",
    "                result.append(x.span()[0])\n",
    "                \n",
    "            if(len(result) is not 0):\n",
    "                if(verbose):\n",
    "                    print(f\"found {len(result)} matches\")\n",
    "                return result\n",
    "            else:\n",
    "                if(verbose):\n",
    "                    print(f'no matches for {pattern} found')\n",
    "        else:\n",
    "            print('first,all,overlap options')"
   ]
  },
  {
   "cell_type": "code",
   "execution_count": 70,
   "metadata": {
    "execution": {
     "iopub.execute_input": "2023-03-08T16:05:29.936699Z",
     "iopub.status.busy": "2023-03-08T16:05:29.935863Z",
     "iopub.status.idle": "2023-03-08T16:05:29.940375Z",
     "shell.execute_reply": "2023-03-08T16:05:29.939454Z",
     "shell.execute_reply.started": "2023-03-08T13:53:09.540549Z"
    },
    "papermill": {
     "duration": 0.152225,
     "end_time": "2023-03-08T16:05:29.940617",
     "exception": false,
     "start_time": "2023-03-08T16:05:29.788392",
     "status": "completed"
    },
    "tags": []
   },
   "outputs": [
    {
     "name": "stdout",
     "output_type": "stream",
     "text": [
      "SEQ: \u001b[92mA\u001b[91mT\u001b[93mG\u001b[92mA\u001b[94mC\u001b[93mG\u001b[93mG\u001b[92mA\u001b[91mT\u001b[94mC\u001b[92mA\u001b[93mG\u001b[94mC\u001b[94mC\u001b[93mG\u001b[94mC\u001b[92mA\u001b[92mA\u001b[93mG\u001b[94mC\u001b[93mG\u001b[93mG\u001b[92mA\u001b[92mA\u001b[91mT\u001b[91mT\u001b[93mG\u001b[93mG\u001b[94mC\u001b[93mG\u001b[91mT\u001b[91mT\u001b[91mT\u001b[92mA\u001b[94mC\u001b[93mG\u001b[91mT\u001b[92mA\u001b[94mC\u001b[93mG\u001b[92mA\u001b[91mT\u001b[93mG\u001b[94mC\u001b[93mG\u001b[94mC\u001b[94mC\u001b[93mG\u001b[91mT\u001b[92mA\u001b[92mA\u001b[0;0m TYPE: dna\n",
      "SEQ: MMMELQHQRLMALAGQLQLESLISAAPALSQQAVDQEWSYMDFLEHLLHDFTF TYPE: aa\n"
     ]
    }
   ],
   "source": [
    "# Define sequences in string format\n",
    "seqn = 'ATGACGGATCAGCCGCAAGCGGAATTGGCGTTTACGTACGATGCGCCGTAA'\n",
    "seqaa = 'MMMELQHQRLMALAGQLQLESLISAAPALSQQAVDQEWSYMDFLEHLLHDFTF'\n",
    "\n",
    "# Define Two DNA sequences (instances)\n",
    "sq_n = SQ(seqn,'dna')\n",
    "# define new protein sequence \n",
    "sq_aa = SQ(seqaa,'aa')\n",
    "\n",
    "# Show class variables\n",
    "sq_n.info()\n",
    "sq_aa.info()"
   ]
  },
  {
   "cell_type": "code",
   "execution_count": 71,
   "metadata": {
    "execution": {
     "iopub.execute_input": "2023-03-08T16:05:30.234285Z",
     "iopub.status.busy": "2023-03-08T16:05:30.233226Z",
     "iopub.status.idle": "2023-03-08T16:05:30.236921Z",
     "shell.execute_reply": "2023-03-08T16:05:30.237440Z",
     "shell.execute_reply.started": "2023-03-08T13:53:09.559715Z"
    },
    "papermill": {
     "duration": 0.151453,
     "end_time": "2023-03-08T16:05:30.237701",
     "exception": false,
     "start_time": "2023-03-08T16:05:30.086248",
     "status": "completed"
    },
    "tags": []
   },
   "outputs": [
    {
     "name": "stdout",
     "output_type": "stream",
     "text": [
      "SEQ: \u001b[91mT\u001b[91mT\u001b[92mA\u001b[94mC\u001b[93mG\u001b[93mG\u001b[94mC\u001b[93mG\u001b[94mC\u001b[92mA\u001b[91mT\u001b[94mC\u001b[93mG\u001b[91mT\u001b[92mA\u001b[94mC\u001b[93mG\u001b[91mT\u001b[92mA\u001b[92mA\u001b[92mA\u001b[94mC\u001b[93mG\u001b[94mC\u001b[94mC\u001b[92mA\u001b[92mA\u001b[91mT\u001b[91mT\u001b[94mC\u001b[94mC\u001b[93mG\u001b[94mC\u001b[91mT\u001b[91mT\u001b[93mG\u001b[94mC\u001b[93mG\u001b[93mG\u001b[94mC\u001b[91mT\u001b[93mG\u001b[92mA\u001b[91mT\u001b[94mC\u001b[94mC\u001b[93mG\u001b[91mT\u001b[94mC\u001b[92mA\u001b[91mT\u001b[0;0m TYPE: dna\n"
     ]
    }
   ],
   "source": [
    "rev_comp = sq_n.reverse_comp()\n",
    "rev_comp.info()"
   ]
  },
  {
   "cell_type": "code",
   "execution_count": 72,
   "metadata": {
    "execution": {
     "iopub.execute_input": "2023-03-08T16:05:30.530455Z",
     "iopub.status.busy": "2023-03-08T16:05:30.529364Z",
     "iopub.status.idle": "2023-03-08T16:05:30.532799Z",
     "shell.execute_reply": "2023-03-08T16:05:30.533791Z",
     "shell.execute_reply.started": "2023-03-08T13:54:47.475918Z"
    },
    "papermill": {
     "duration": 0.153346,
     "end_time": "2023-03-08T16:05:30.534078",
     "exception": false,
     "start_time": "2023-03-08T16:05:30.380732",
     "status": "completed"
    },
    "tags": []
   },
   "outputs": [
    {
     "name": "stdout",
     "output_type": "stream",
     "text": [
      "Extracting SQ when needed: ACTTTTGACCTCAA\n",
      "Sequence ID: sequence\n",
      "Sequence Annotations for subsequence labeling: {}\n",
      "A note describing the sequence: mysequence\n"
     ]
    }
   ],
   "source": [
    "# Defining some extra detail\n",
    "seq_det = SQ(seq='ACTTTTGACCTCAA',     # sequence\n",
    "            id='sequence',             # give the sequence some identifier \n",
    "            description='mysequence')  # write a short description about the sequence\n",
    "\n",
    "# When required, we can call the SQ object by using .seq\n",
    "print(f'Extracting SQ when needed: {seq_det.seq}')\n",
    "\n",
    "print(f'Sequence ID: {seq_det.id}') # used for alignment naming etc\n",
    "print(f'Sequence Annotations for subsequence labeling: {seq_det.annotations}')\n",
    "print(f'A note describing the sequence: {seq_det.description}')"
   ]
  },
  {
   "cell_type": "code",
   "execution_count": 73,
   "metadata": {
    "execution": {
     "iopub.execute_input": "2023-03-08T16:05:30.828796Z",
     "iopub.status.busy": "2023-03-08T16:05:30.828018Z",
     "iopub.status.idle": "2023-03-08T16:05:30.832350Z",
     "shell.execute_reply": "2023-03-08T16:05:30.831814Z",
     "shell.execute_reply.started": "2023-03-08T13:54:47.488001Z"
    },
    "papermill": {
     "duration": 0.152637,
     "end_time": "2023-03-08T16:05:30.832539",
     "exception": false,
     "start_time": "2023-03-08T16:05:30.679902",
     "status": "completed"
    },
    "tags": []
   },
   "outputs": [
    {
     "data": {
      "text/plain": [
       "{'sq_2:6': 'db|1_subseq', 'sq_8:13': 'db|2_subseq'}"
      ]
     },
     "execution_count": 73,
     "metadata": {},
     "output_type": "execute_result"
    }
   ],
   "source": [
    "subsequence1 = SQ('TTTT',id='db|1',description='subseq') \n",
    "subsequence2 = SQ('CCTCA',id='db|2',description='subseq')\n",
    "seq_det.add_annotation(subsequence1)\n",
    "seq_det.add_annotation(subsequence2)\n",
    "seq_det.annotations"
   ]
  },
  {
   "cell_type": "code",
   "execution_count": 74,
   "metadata": {
    "execution": {
     "iopub.execute_input": "2023-03-08T16:05:31.126467Z",
     "iopub.status.busy": "2023-03-08T16:05:31.125429Z",
     "iopub.status.idle": "2023-03-08T16:05:32.085692Z",
     "shell.execute_reply": "2023-03-08T16:05:32.085069Z",
     "shell.execute_reply.started": "2023-03-08T13:54:47.505701Z"
    },
    "papermill": {
     "duration": 1.109616,
     "end_time": "2023-03-08T16:05:32.085876",
     "exception": false,
     "start_time": "2023-03-08T16:05:30.976260",
     "status": "completed"
    },
    "tags": []
   },
   "outputs": [
    {
     "data": {
      "text/html": [
       "        <script type=\"text/javascript\">\n",
       "        window.PlotlyConfig = {MathJaxConfig: 'local'};\n",
       "        if (window.MathJax) {MathJax.Hub.Config({SVG: {font: \"STIX-Web\"}});}\n",
       "        if (typeof require !== 'undefined') {\n",
       "        require.undef(\"plotly\");\n",
       "        requirejs.config({\n",
       "            paths: {\n",
       "                'plotly': ['https://cdn.plot.ly/plotly-latest.min']\n",
       "            }\n",
       "        });\n",
       "        require(['plotly'], function(Plotly) {\n",
       "            window._Plotly = Plotly;\n",
       "        });\n",
       "        }\n",
       "        </script>\n",
       "        "
      ]
     },
     "metadata": {},
     "output_type": "display_data"
    },
    {
     "data": {
      "text/html": [
       "<div>                            <div id=\"40c34b70-c8c2-4955-8a1b-13ad347a226a\" class=\"plotly-graph-div\" style=\"height:400px; width:800px;\"></div>            <script type=\"text/javascript\">                require([\"plotly\"], function(Plotly) {                    window.PLOTLYENV=window.PLOTLYENV || {};                                    if (document.getElementById(\"40c34b70-c8c2-4955-8a1b-13ad347a226a\")) {                    Plotly.newPlot(                        \"40c34b70-c8c2-4955-8a1b-13ad347a226a\",                        [{\"marker\": {\"line\": {\"color\": \"#212121\", \"width\": 1.0}}, \"name\": \"sequence_928\", \"opacity\": 0.6, \"orientation\": \"h\", \"type\": \"bar\", \"width\": 0.25, \"x\": [13, 10, 16, 12], \"y\": [\"Adenine\", \"Thymine\", \"Guanine\", \"Cytosine\"]}, {\"marker\": {\"line\": {\"color\": \"#212121\", \"width\": 1.0}}, \"name\": \"sequence A\", \"opacity\": 0.6, \"orientation\": \"h\", \"type\": \"bar\", \"width\": 0.25, \"x\": [4, 6, 4, 4], \"y\": [\"Adenine\", \"Cytosine\", \"Thymine\", \"Guanine\"]}, {\"marker\": {\"line\": {\"color\": \"#212121\", \"width\": 1.0}}, \"name\": \"sequence_438\", \"opacity\": 0.6, \"orientation\": \"h\", \"type\": \"bar\", \"width\": 0.25, \"x\": [8, 6, 3, 0], \"y\": [\"Adenine\", \"Cytosine\", \"Thymine\", \"Guanine\"]}],                        {\"bargroupgap\": 0.2, \"barmode\": \"group\", \"font\": {\"size\": 11}, \"height\": 400, \"template\": {\"data\": {\"bar\": [{\"error_x\": {\"color\": \"#2a3f5f\"}, \"error_y\": {\"color\": \"#2a3f5f\"}, \"marker\": {\"line\": {\"color\": \"white\", \"width\": 0.5}}, \"type\": \"bar\"}], \"barpolar\": [{\"marker\": {\"line\": {\"color\": \"white\", \"width\": 0.5}}, \"type\": \"barpolar\"}], \"carpet\": [{\"aaxis\": {\"endlinecolor\": \"#2a3f5f\", \"gridcolor\": \"#C8D4E3\", \"linecolor\": \"#C8D4E3\", \"minorgridcolor\": \"#C8D4E3\", \"startlinecolor\": \"#2a3f5f\"}, \"baxis\": {\"endlinecolor\": \"#2a3f5f\", \"gridcolor\": \"#C8D4E3\", \"linecolor\": \"#C8D4E3\", \"minorgridcolor\": \"#C8D4E3\", \"startlinecolor\": \"#2a3f5f\"}, \"type\": \"carpet\"}], \"choropleth\": [{\"colorbar\": {\"outlinewidth\": 0, \"ticks\": \"\"}, \"type\": \"choropleth\"}], \"contour\": [{\"colorbar\": {\"outlinewidth\": 0, \"ticks\": \"\"}, \"colorscale\": [[0.0, \"#0d0887\"], [0.1111111111111111, \"#46039f\"], [0.2222222222222222, \"#7201a8\"], [0.3333333333333333, \"#9c179e\"], [0.4444444444444444, \"#bd3786\"], [0.5555555555555556, \"#d8576b\"], [0.6666666666666666, \"#ed7953\"], [0.7777777777777778, \"#fb9f3a\"], [0.8888888888888888, \"#fdca26\"], [1.0, \"#f0f921\"]], \"type\": \"contour\"}], \"contourcarpet\": [{\"colorbar\": {\"outlinewidth\": 0, \"ticks\": \"\"}, \"type\": \"contourcarpet\"}], \"heatmap\": [{\"colorbar\": {\"outlinewidth\": 0, \"ticks\": \"\"}, \"colorscale\": [[0.0, \"#0d0887\"], [0.1111111111111111, \"#46039f\"], [0.2222222222222222, \"#7201a8\"], [0.3333333333333333, \"#9c179e\"], [0.4444444444444444, \"#bd3786\"], [0.5555555555555556, \"#d8576b\"], [0.6666666666666666, \"#ed7953\"], [0.7777777777777778, \"#fb9f3a\"], [0.8888888888888888, \"#fdca26\"], [1.0, \"#f0f921\"]], \"type\": \"heatmap\"}], \"heatmapgl\": [{\"colorbar\": {\"outlinewidth\": 0, \"ticks\": \"\"}, \"colorscale\": [[0.0, \"#0d0887\"], [0.1111111111111111, \"#46039f\"], [0.2222222222222222, \"#7201a8\"], [0.3333333333333333, \"#9c179e\"], [0.4444444444444444, \"#bd3786\"], [0.5555555555555556, \"#d8576b\"], [0.6666666666666666, \"#ed7953\"], [0.7777777777777778, \"#fb9f3a\"], [0.8888888888888888, \"#fdca26\"], [1.0, \"#f0f921\"]], \"type\": \"heatmapgl\"}], \"histogram\": [{\"marker\": {\"colorbar\": {\"outlinewidth\": 0, \"ticks\": \"\"}}, \"type\": \"histogram\"}], \"histogram2d\": [{\"colorbar\": {\"outlinewidth\": 0, \"ticks\": \"\"}, \"colorscale\": [[0.0, \"#0d0887\"], [0.1111111111111111, \"#46039f\"], [0.2222222222222222, \"#7201a8\"], [0.3333333333333333, \"#9c179e\"], [0.4444444444444444, \"#bd3786\"], [0.5555555555555556, \"#d8576b\"], [0.6666666666666666, \"#ed7953\"], [0.7777777777777778, \"#fb9f3a\"], [0.8888888888888888, \"#fdca26\"], [1.0, \"#f0f921\"]], \"type\": \"histogram2d\"}], \"histogram2dcontour\": [{\"colorbar\": {\"outlinewidth\": 0, \"ticks\": \"\"}, \"colorscale\": [[0.0, \"#0d0887\"], [0.1111111111111111, \"#46039f\"], [0.2222222222222222, \"#7201a8\"], [0.3333333333333333, \"#9c179e\"], [0.4444444444444444, \"#bd3786\"], [0.5555555555555556, \"#d8576b\"], [0.6666666666666666, \"#ed7953\"], [0.7777777777777778, \"#fb9f3a\"], [0.8888888888888888, \"#fdca26\"], [1.0, \"#f0f921\"]], \"type\": \"histogram2dcontour\"}], \"mesh3d\": [{\"colorbar\": {\"outlinewidth\": 0, \"ticks\": \"\"}, \"type\": \"mesh3d\"}], \"parcoords\": [{\"line\": {\"colorbar\": {\"outlinewidth\": 0, \"ticks\": \"\"}}, \"type\": \"parcoords\"}], \"pie\": [{\"automargin\": true, \"type\": \"pie\"}], \"scatter\": [{\"marker\": {\"colorbar\": {\"outlinewidth\": 0, \"ticks\": \"\"}}, \"type\": \"scatter\"}], \"scatter3d\": [{\"line\": {\"colorbar\": {\"outlinewidth\": 0, \"ticks\": \"\"}}, \"marker\": {\"colorbar\": {\"outlinewidth\": 0, \"ticks\": \"\"}}, \"type\": \"scatter3d\"}], \"scattercarpet\": [{\"marker\": {\"colorbar\": {\"outlinewidth\": 0, \"ticks\": \"\"}}, \"type\": \"scattercarpet\"}], \"scattergeo\": [{\"marker\": {\"colorbar\": {\"outlinewidth\": 0, \"ticks\": \"\"}}, \"type\": \"scattergeo\"}], \"scattergl\": [{\"marker\": {\"colorbar\": {\"outlinewidth\": 0, \"ticks\": \"\"}}, \"type\": \"scattergl\"}], \"scattermapbox\": [{\"marker\": {\"colorbar\": {\"outlinewidth\": 0, \"ticks\": \"\"}}, \"type\": \"scattermapbox\"}], \"scatterpolar\": [{\"marker\": {\"colorbar\": {\"outlinewidth\": 0, \"ticks\": \"\"}}, \"type\": \"scatterpolar\"}], \"scatterpolargl\": [{\"marker\": {\"colorbar\": {\"outlinewidth\": 0, \"ticks\": \"\"}}, \"type\": \"scatterpolargl\"}], \"scatterternary\": [{\"marker\": {\"colorbar\": {\"outlinewidth\": 0, \"ticks\": \"\"}}, \"type\": \"scatterternary\"}], \"surface\": [{\"colorbar\": {\"outlinewidth\": 0, \"ticks\": \"\"}, \"colorscale\": [[0.0, \"#0d0887\"], [0.1111111111111111, \"#46039f\"], [0.2222222222222222, \"#7201a8\"], [0.3333333333333333, \"#9c179e\"], [0.4444444444444444, \"#bd3786\"], [0.5555555555555556, \"#d8576b\"], [0.6666666666666666, \"#ed7953\"], [0.7777777777777778, \"#fb9f3a\"], [0.8888888888888888, \"#fdca26\"], [1.0, \"#f0f921\"]], \"type\": \"surface\"}], \"table\": [{\"cells\": {\"fill\": {\"color\": \"#EBF0F8\"}, \"line\": {\"color\": \"white\"}}, \"header\": {\"fill\": {\"color\": \"#C8D4E3\"}, \"line\": {\"color\": \"white\"}}, \"type\": \"table\"}]}, \"layout\": {\"annotationdefaults\": {\"arrowcolor\": \"#2a3f5f\", \"arrowhead\": 0, \"arrowwidth\": 1}, \"autotypenumbers\": \"strict\", \"coloraxis\": {\"colorbar\": {\"outlinewidth\": 0, \"ticks\": \"\"}}, \"colorscale\": {\"diverging\": [[0, \"#8e0152\"], [0.1, \"#c51b7d\"], [0.2, \"#de77ae\"], [0.3, \"#f1b6da\"], [0.4, \"#fde0ef\"], [0.5, \"#f7f7f7\"], [0.6, \"#e6f5d0\"], [0.7, \"#b8e186\"], [0.8, \"#7fbc41\"], [0.9, \"#4d9221\"], [1, \"#276419\"]], \"sequential\": [[0.0, \"#0d0887\"], [0.1111111111111111, \"#46039f\"], [0.2222222222222222, \"#7201a8\"], [0.3333333333333333, \"#9c179e\"], [0.4444444444444444, \"#bd3786\"], [0.5555555555555556, \"#d8576b\"], [0.6666666666666666, \"#ed7953\"], [0.7777777777777778, \"#fb9f3a\"], [0.8888888888888888, \"#fdca26\"], [1.0, \"#f0f921\"]], \"sequentialminus\": [[0.0, \"#0d0887\"], [0.1111111111111111, \"#46039f\"], [0.2222222222222222, \"#7201a8\"], [0.3333333333333333, \"#9c179e\"], [0.4444444444444444, \"#bd3786\"], [0.5555555555555556, \"#d8576b\"], [0.6666666666666666, \"#ed7953\"], [0.7777777777777778, \"#fb9f3a\"], [0.8888888888888888, \"#fdca26\"], [1.0, \"#f0f921\"]]}, \"colorway\": [\"#636efa\", \"#EF553B\", \"#00cc96\", \"#ab63fa\", \"#FFA15A\", \"#19d3f3\", \"#FF6692\", \"#B6E880\", \"#FF97FF\", \"#FECB52\"], \"font\": {\"color\": \"#2a3f5f\"}, \"geo\": {\"bgcolor\": \"white\", \"lakecolor\": \"white\", \"landcolor\": \"white\", \"showlakes\": true, \"showland\": true, \"subunitcolor\": \"#C8D4E3\"}, \"hoverlabel\": {\"align\": \"left\"}, \"hovermode\": \"closest\", \"mapbox\": {\"style\": \"light\"}, \"paper_bgcolor\": \"white\", \"plot_bgcolor\": \"white\", \"polar\": {\"angularaxis\": {\"gridcolor\": \"#EBF0F8\", \"linecolor\": \"#EBF0F8\", \"ticks\": \"\"}, \"bgcolor\": \"white\", \"radialaxis\": {\"gridcolor\": \"#EBF0F8\", \"linecolor\": \"#EBF0F8\", \"ticks\": \"\"}}, \"scene\": {\"xaxis\": {\"backgroundcolor\": \"white\", \"gridcolor\": \"#DFE8F3\", \"gridwidth\": 2, \"linecolor\": \"#EBF0F8\", \"showbackground\": true, \"ticks\": \"\", \"zerolinecolor\": \"#EBF0F8\"}, \"yaxis\": {\"backgroundcolor\": \"white\", \"gridcolor\": \"#DFE8F3\", \"gridwidth\": 2, \"linecolor\": \"#EBF0F8\", \"showbackground\": true, \"ticks\": \"\", \"zerolinecolor\": \"#EBF0F8\"}, \"zaxis\": {\"backgroundcolor\": \"white\", \"gridcolor\": \"#DFE8F3\", \"gridwidth\": 2, \"linecolor\": \"#EBF0F8\", \"showbackground\": true, \"ticks\": \"\", \"zerolinecolor\": \"#EBF0F8\"}}, \"shapedefaults\": {\"line\": {\"color\": \"#2a3f5f\"}}, \"ternary\": {\"aaxis\": {\"gridcolor\": \"#DFE8F3\", \"linecolor\": \"#A2B1C6\", \"ticks\": \"\"}, \"baxis\": {\"gridcolor\": \"#DFE8F3\", \"linecolor\": \"#A2B1C6\", \"ticks\": \"\"}, \"bgcolor\": \"white\", \"caxis\": {\"gridcolor\": \"#DFE8F3\", \"linecolor\": \"#A2B1C6\", \"ticks\": \"\"}}, \"title\": {\"x\": 0.05}, \"xaxis\": {\"automargin\": true, \"gridcolor\": \"#EBF0F8\", \"linecolor\": \"#EBF0F8\", \"ticks\": \"\", \"title\": {\"standoff\": 15}, \"zerolinecolor\": \"#EBF0F8\", \"zerolinewidth\": 2}, \"yaxis\": {\"automargin\": true, \"gridcolor\": \"#EBF0F8\", \"linecolor\": \"#EBF0F8\", \"ticks\": \"\", \"title\": {\"standoff\": 15}, \"zerolinecolor\": \"#EBF0F8\", \"zerolinewidth\": 2}}}, \"title\": {\"text\": \"Comparing Nucleotide Content (%)\"}, \"width\": 800, \"xaxis\": {\"nticks\": 20, \"title\": {\"text\": \"Count\"}}},                        {\"responsive\": true}                    ).then(function(){\n",
       "                            \n",
       "var gd = document.getElementById('40c34b70-c8c2-4955-8a1b-13ad347a226a');\n",
       "var x = new MutationObserver(function (mutations, observer) {{\n",
       "        var display = window.getComputedStyle(gd).display;\n",
       "        if (!display || display === 'none') {{\n",
       "            console.log([gd, 'removed!']);\n",
       "            Plotly.purge(gd);\n",
       "            observer.disconnect();\n",
       "        }}\n",
       "}});\n",
       "\n",
       "// Listen for the removal of the full notebook cells\n",
       "var notebookContainer = gd.closest('#notebook-container');\n",
       "if (notebookContainer) {{\n",
       "    x.observe(notebookContainer, {childList: true});\n",
       "}}\n",
       "\n",
       "// Listen for the clearing of the current output cell\n",
       "var outputEl = gd.closest('.output');\n",
       "if (outputEl) {{\n",
       "    x.observe(outputEl, {childList: true});\n",
       "}}\n",
       "\n",
       "                        })                };                });            </script>        </div>"
      ]
     },
     "metadata": {},
     "output_type": "display_data"
    }
   ],
   "source": [
    "# compare content percentage (default)\n",
    "\n",
    "sq_n_compare = SQ('ACTCCCTGAGGATCATGC',id='sequence A') # sequence with identifier shows up in graph\n",
    "sq_n_compare2 = SQ('ACATACATAACACATCC')                 # sequences w/o id are set to default names\n",
    "\n",
    "# Compare the nucleotide % of three sequences\n",
    "\n",
    "sq_n.count.freq(compare=[sq_n_compare,sq_n_compare2], # list of sequences\n",
    "                fsize=[400,800],\n",
    "                show_id='count',\n",
    "                title='Comparing Nucleotide Content (%)')"
   ]
  },
  {
   "cell_type": "code",
   "execution_count": 75,
   "metadata": {
    "execution": {
     "iopub.execute_input": "2023-03-08T16:05:32.389560Z",
     "iopub.status.busy": "2023-03-08T16:05:32.388791Z",
     "iopub.status.idle": "2023-03-08T16:05:32.430286Z",
     "shell.execute_reply": "2023-03-08T16:05:32.429341Z",
     "shell.execute_reply.started": "2023-03-08T13:54:48.657251Z"
    },
    "papermill": {
     "duration": 0.198443,
     "end_time": "2023-03-08T16:05:32.430609",
     "exception": false,
     "start_time": "2023-03-08T16:05:32.232166",
     "status": "completed"
    },
    "tags": []
   },
   "outputs": [
    {
     "data": {
      "text/html": [
       "<div>                            <div id=\"64eedb17-c16a-4a45-999d-14e9004955d8\" class=\"plotly-graph-div\" style=\"height:500px; width:800px;\"></div>            <script type=\"text/javascript\">                require([\"plotly\"], function(Plotly) {                    window.PLOTLYENV=window.PLOTLYENV || {};                                    if (document.getElementById(\"64eedb17-c16a-4a45-999d-14e9004955d8\")) {                    Plotly.newPlot(                        \"64eedb17-c16a-4a45-999d-14e9004955d8\",                        [{\"marker\": {\"line\": {\"color\": \"#212121\", \"width\": 1.0}}, \"name\": \"sequence_423\", \"opacity\": 0.6, \"orientation\": \"h\", \"type\": \"bar\", \"width\": 0.25, \"x\": [9.4, 7.5, 18.9, 13.200000000000001, 5.7, 1.9, 11.3, 1.9, 7.5, 1.9, 1.9, 1.9, 5.7, 1.9, 1.9, 5.7, 1.9, 0.0, 0.0, 0.0], \"y\": [\"Methionine\", \"Glutamic Acid\", \"Lysine\", \"Glutamine\", \"Histidine\", \"Arginine\", \"Alanine\", \"Glycine\", \"Serine\", \"Isoleucine\", \"Proline\", \"Valine\", \"Aspartic Acid\", \"Tryptophan\", \"Tryosine\", \"Phenylalanine\", \"Threonine\", \"Cysteine\", null, \"Asparagine\"]}],                        {\"bargroupgap\": 0.2, \"barmode\": \"group\", \"font\": {\"size\": 11}, \"height\": 500, \"template\": {\"data\": {\"bar\": [{\"error_x\": {\"color\": \"#2a3f5f\"}, \"error_y\": {\"color\": \"#2a3f5f\"}, \"marker\": {\"line\": {\"color\": \"white\", \"width\": 0.5}}, \"type\": \"bar\"}], \"barpolar\": [{\"marker\": {\"line\": {\"color\": \"white\", \"width\": 0.5}}, \"type\": \"barpolar\"}], \"carpet\": [{\"aaxis\": {\"endlinecolor\": \"#2a3f5f\", \"gridcolor\": \"#C8D4E3\", \"linecolor\": \"#C8D4E3\", \"minorgridcolor\": \"#C8D4E3\", \"startlinecolor\": \"#2a3f5f\"}, \"baxis\": {\"endlinecolor\": \"#2a3f5f\", \"gridcolor\": \"#C8D4E3\", \"linecolor\": \"#C8D4E3\", \"minorgridcolor\": \"#C8D4E3\", \"startlinecolor\": \"#2a3f5f\"}, \"type\": \"carpet\"}], \"choropleth\": [{\"colorbar\": {\"outlinewidth\": 0, \"ticks\": \"\"}, \"type\": \"choropleth\"}], \"contour\": [{\"colorbar\": {\"outlinewidth\": 0, \"ticks\": \"\"}, \"colorscale\": [[0.0, \"#0d0887\"], [0.1111111111111111, \"#46039f\"], [0.2222222222222222, \"#7201a8\"], [0.3333333333333333, \"#9c179e\"], [0.4444444444444444, \"#bd3786\"], [0.5555555555555556, \"#d8576b\"], [0.6666666666666666, \"#ed7953\"], [0.7777777777777778, \"#fb9f3a\"], [0.8888888888888888, \"#fdca26\"], [1.0, \"#f0f921\"]], \"type\": \"contour\"}], \"contourcarpet\": [{\"colorbar\": {\"outlinewidth\": 0, \"ticks\": \"\"}, \"type\": \"contourcarpet\"}], \"heatmap\": [{\"colorbar\": {\"outlinewidth\": 0, \"ticks\": \"\"}, \"colorscale\": [[0.0, \"#0d0887\"], [0.1111111111111111, \"#46039f\"], [0.2222222222222222, \"#7201a8\"], [0.3333333333333333, \"#9c179e\"], [0.4444444444444444, \"#bd3786\"], [0.5555555555555556, \"#d8576b\"], [0.6666666666666666, \"#ed7953\"], [0.7777777777777778, \"#fb9f3a\"], [0.8888888888888888, \"#fdca26\"], [1.0, \"#f0f921\"]], \"type\": \"heatmap\"}], \"heatmapgl\": [{\"colorbar\": {\"outlinewidth\": 0, \"ticks\": \"\"}, \"colorscale\": [[0.0, \"#0d0887\"], [0.1111111111111111, \"#46039f\"], [0.2222222222222222, \"#7201a8\"], [0.3333333333333333, \"#9c179e\"], [0.4444444444444444, \"#bd3786\"], [0.5555555555555556, \"#d8576b\"], [0.6666666666666666, \"#ed7953\"], [0.7777777777777778, \"#fb9f3a\"], [0.8888888888888888, \"#fdca26\"], [1.0, \"#f0f921\"]], \"type\": \"heatmapgl\"}], \"histogram\": [{\"marker\": {\"colorbar\": {\"outlinewidth\": 0, \"ticks\": \"\"}}, \"type\": \"histogram\"}], \"histogram2d\": [{\"colorbar\": {\"outlinewidth\": 0, \"ticks\": \"\"}, \"colorscale\": [[0.0, \"#0d0887\"], [0.1111111111111111, \"#46039f\"], [0.2222222222222222, \"#7201a8\"], [0.3333333333333333, \"#9c179e\"], [0.4444444444444444, \"#bd3786\"], [0.5555555555555556, \"#d8576b\"], [0.6666666666666666, \"#ed7953\"], [0.7777777777777778, \"#fb9f3a\"], [0.8888888888888888, \"#fdca26\"], [1.0, \"#f0f921\"]], \"type\": \"histogram2d\"}], \"histogram2dcontour\": [{\"colorbar\": {\"outlinewidth\": 0, \"ticks\": \"\"}, \"colorscale\": [[0.0, \"#0d0887\"], [0.1111111111111111, \"#46039f\"], [0.2222222222222222, \"#7201a8\"], [0.3333333333333333, \"#9c179e\"], [0.4444444444444444, \"#bd3786\"], [0.5555555555555556, \"#d8576b\"], [0.6666666666666666, \"#ed7953\"], [0.7777777777777778, \"#fb9f3a\"], [0.8888888888888888, \"#fdca26\"], [1.0, \"#f0f921\"]], \"type\": \"histogram2dcontour\"}], \"mesh3d\": [{\"colorbar\": {\"outlinewidth\": 0, \"ticks\": \"\"}, \"type\": \"mesh3d\"}], \"parcoords\": [{\"line\": {\"colorbar\": {\"outlinewidth\": 0, \"ticks\": \"\"}}, \"type\": \"parcoords\"}], \"pie\": [{\"automargin\": true, \"type\": \"pie\"}], \"scatter\": [{\"marker\": {\"colorbar\": {\"outlinewidth\": 0, \"ticks\": \"\"}}, \"type\": \"scatter\"}], \"scatter3d\": [{\"line\": {\"colorbar\": {\"outlinewidth\": 0, \"ticks\": \"\"}}, \"marker\": {\"colorbar\": {\"outlinewidth\": 0, \"ticks\": \"\"}}, \"type\": \"scatter3d\"}], \"scattercarpet\": [{\"marker\": {\"colorbar\": {\"outlinewidth\": 0, \"ticks\": \"\"}}, \"type\": \"scattercarpet\"}], \"scattergeo\": [{\"marker\": {\"colorbar\": {\"outlinewidth\": 0, \"ticks\": \"\"}}, \"type\": \"scattergeo\"}], \"scattergl\": [{\"marker\": {\"colorbar\": {\"outlinewidth\": 0, \"ticks\": \"\"}}, \"type\": \"scattergl\"}], \"scattermapbox\": [{\"marker\": {\"colorbar\": {\"outlinewidth\": 0, \"ticks\": \"\"}}, \"type\": \"scattermapbox\"}], \"scatterpolar\": [{\"marker\": {\"colorbar\": {\"outlinewidth\": 0, \"ticks\": \"\"}}, \"type\": \"scatterpolar\"}], \"scatterpolargl\": [{\"marker\": {\"colorbar\": {\"outlinewidth\": 0, \"ticks\": \"\"}}, \"type\": \"scatterpolargl\"}], \"scatterternary\": [{\"marker\": {\"colorbar\": {\"outlinewidth\": 0, \"ticks\": \"\"}}, \"type\": \"scatterternary\"}], \"surface\": [{\"colorbar\": {\"outlinewidth\": 0, \"ticks\": \"\"}, \"colorscale\": [[0.0, \"#0d0887\"], [0.1111111111111111, \"#46039f\"], [0.2222222222222222, \"#7201a8\"], [0.3333333333333333, \"#9c179e\"], [0.4444444444444444, \"#bd3786\"], [0.5555555555555556, \"#d8576b\"], [0.6666666666666666, \"#ed7953\"], [0.7777777777777778, \"#fb9f3a\"], [0.8888888888888888, \"#fdca26\"], [1.0, \"#f0f921\"]], \"type\": \"surface\"}], \"table\": [{\"cells\": {\"fill\": {\"color\": \"#EBF0F8\"}, \"line\": {\"color\": \"white\"}}, \"header\": {\"fill\": {\"color\": \"#C8D4E3\"}, \"line\": {\"color\": \"white\"}}, \"type\": \"table\"}]}, \"layout\": {\"annotationdefaults\": {\"arrowcolor\": \"#2a3f5f\", \"arrowhead\": 0, \"arrowwidth\": 1}, \"autotypenumbers\": \"strict\", \"coloraxis\": {\"colorbar\": {\"outlinewidth\": 0, \"ticks\": \"\"}}, \"colorscale\": {\"diverging\": [[0, \"#8e0152\"], [0.1, \"#c51b7d\"], [0.2, \"#de77ae\"], [0.3, \"#f1b6da\"], [0.4, \"#fde0ef\"], [0.5, \"#f7f7f7\"], [0.6, \"#e6f5d0\"], [0.7, \"#b8e186\"], [0.8, \"#7fbc41\"], [0.9, \"#4d9221\"], [1, \"#276419\"]], \"sequential\": [[0.0, \"#0d0887\"], [0.1111111111111111, \"#46039f\"], [0.2222222222222222, \"#7201a8\"], [0.3333333333333333, \"#9c179e\"], [0.4444444444444444, \"#bd3786\"], [0.5555555555555556, \"#d8576b\"], [0.6666666666666666, \"#ed7953\"], [0.7777777777777778, \"#fb9f3a\"], [0.8888888888888888, \"#fdca26\"], [1.0, \"#f0f921\"]], \"sequentialminus\": [[0.0, \"#0d0887\"], [0.1111111111111111, \"#46039f\"], [0.2222222222222222, \"#7201a8\"], [0.3333333333333333, \"#9c179e\"], [0.4444444444444444, \"#bd3786\"], [0.5555555555555556, \"#d8576b\"], [0.6666666666666666, \"#ed7953\"], [0.7777777777777778, \"#fb9f3a\"], [0.8888888888888888, \"#fdca26\"], [1.0, \"#f0f921\"]]}, \"colorway\": [\"#636efa\", \"#EF553B\", \"#00cc96\", \"#ab63fa\", \"#FFA15A\", \"#19d3f3\", \"#FF6692\", \"#B6E880\", \"#FF97FF\", \"#FECB52\"], \"font\": {\"color\": \"#2a3f5f\"}, \"geo\": {\"bgcolor\": \"white\", \"lakecolor\": \"white\", \"landcolor\": \"white\", \"showlakes\": true, \"showland\": true, \"subunitcolor\": \"#C8D4E3\"}, \"hoverlabel\": {\"align\": \"left\"}, \"hovermode\": \"closest\", \"mapbox\": {\"style\": \"light\"}, \"paper_bgcolor\": \"white\", \"plot_bgcolor\": \"white\", \"polar\": {\"angularaxis\": {\"gridcolor\": \"#EBF0F8\", \"linecolor\": \"#EBF0F8\", \"ticks\": \"\"}, \"bgcolor\": \"white\", \"radialaxis\": {\"gridcolor\": \"#EBF0F8\", \"linecolor\": \"#EBF0F8\", \"ticks\": \"\"}}, \"scene\": {\"xaxis\": {\"backgroundcolor\": \"white\", \"gridcolor\": \"#DFE8F3\", \"gridwidth\": 2, \"linecolor\": \"#EBF0F8\", \"showbackground\": true, \"ticks\": \"\", \"zerolinecolor\": \"#EBF0F8\"}, \"yaxis\": {\"backgroundcolor\": \"white\", \"gridcolor\": \"#DFE8F3\", \"gridwidth\": 2, \"linecolor\": \"#EBF0F8\", \"showbackground\": true, \"ticks\": \"\", \"zerolinecolor\": \"#EBF0F8\"}, \"zaxis\": {\"backgroundcolor\": \"white\", \"gridcolor\": \"#DFE8F3\", \"gridwidth\": 2, \"linecolor\": \"#EBF0F8\", \"showbackground\": true, \"ticks\": \"\", \"zerolinecolor\": \"#EBF0F8\"}}, \"shapedefaults\": {\"line\": {\"color\": \"#2a3f5f\"}}, \"ternary\": {\"aaxis\": {\"gridcolor\": \"#DFE8F3\", \"linecolor\": \"#A2B1C6\", \"ticks\": \"\"}, \"baxis\": {\"gridcolor\": \"#DFE8F3\", \"linecolor\": \"#A2B1C6\", \"ticks\": \"\"}, \"bgcolor\": \"white\", \"caxis\": {\"gridcolor\": \"#DFE8F3\", \"linecolor\": \"#A2B1C6\", \"ticks\": \"\"}}, \"title\": {\"x\": 0.05}, \"xaxis\": {\"automargin\": true, \"gridcolor\": \"#EBF0F8\", \"linecolor\": \"#EBF0F8\", \"ticks\": \"\", \"title\": {\"standoff\": 15}, \"zerolinecolor\": \"#EBF0F8\", \"zerolinewidth\": 2}, \"yaxis\": {\"automargin\": true, \"gridcolor\": \"#EBF0F8\", \"linecolor\": \"#EBF0F8\", \"ticks\": \"\", \"title\": {\"standoff\": 15}, \"zerolinecolor\": \"#EBF0F8\", \"zerolinewidth\": 2}}}, \"title\": {\"text\": \"aa sequence content\"}, \"width\": 800, \"xaxis\": {\"nticks\": 20, \"title\": {\"text\": \"Character (%)\"}}},                        {\"responsive\": true}                    ).then(function(){\n",
       "                            \n",
       "var gd = document.getElementById('64eedb17-c16a-4a45-999d-14e9004955d8');\n",
       "var x = new MutationObserver(function (mutations, observer) {{\n",
       "        var display = window.getComputedStyle(gd).display;\n",
       "        if (!display || display === 'none') {{\n",
       "            console.log([gd, 'removed!']);\n",
       "            Plotly.purge(gd);\n",
       "            observer.disconnect();\n",
       "        }}\n",
       "}});\n",
       "\n",
       "// Listen for the removal of the full notebook cells\n",
       "var notebookContainer = gd.closest('#notebook-container');\n",
       "if (notebookContainer) {{\n",
       "    x.observe(notebookContainer, {childList: true});\n",
       "}}\n",
       "\n",
       "// Listen for the clearing of the current output cell\n",
       "var outputEl = gd.closest('.output');\n",
       "if (outputEl) {{\n",
       "    x.observe(outputEl, {childList: true});\n",
       "}}\n",
       "\n",
       "                        })                };                });            </script>        </div>"
      ]
     },
     "metadata": {},
     "output_type": "display_data"
    }
   ],
   "source": [
    "# show the amino acid content of the protein\n",
    "\n",
    "sq_aa.count.freq(show_id='perc', \n",
    "                 fsize=[500,800])"
   ]
  },
  {
   "cell_type": "code",
   "execution_count": 76,
   "metadata": {
    "execution": {
     "iopub.execute_input": "2023-03-08T16:05:32.763541Z",
     "iopub.status.busy": "2023-03-08T16:05:32.762528Z",
     "iopub.status.idle": "2023-03-08T16:05:33.058811Z",
     "shell.execute_reply": "2023-03-08T16:05:33.059627Z",
     "shell.execute_reply.started": "2023-03-08T13:54:48.702608Z"
    },
    "papermill": {
     "duration": 0.454424,
     "end_time": "2023-03-08T16:05:33.059903",
     "exception": false,
     "start_time": "2023-03-08T16:05:32.605479",
     "status": "completed"
    },
    "tags": []
   },
   "outputs": [
    {
     "data": {
      "text/html": [
       "<div>                            <div id=\"6b198a1c-d244-4d57-b08a-1f5ada6a6afd\" class=\"plotly-graph-div\" style=\"height:300px; width:800px;\"></div>            <script type=\"text/javascript\">                require([\"plotly\"], function(Plotly) {                    window.PLOTLYENV=window.PLOTLYENV || {};                                    if (document.getElementById(\"6b198a1c-d244-4d57-b08a-1f5ada6a6afd\")) {                    Plotly.newPlot(                        \"6b198a1c-d244-4d57-b08a-1f5ada6a6afd\",                        [{\"alignmentgroup\": \"True\", \"hovertemplate\": \"variable=seq1<br>index=%{x}<br>value=%{y}<extra></extra>\", \"legendgroup\": \"seq1\", \"marker\": {\"color\": \"#636efa\", \"line\": {\"color\": \"#212121\", \"width\": 1.0}}, \"name\": \"seq1\", \"offsetgroup\": \"seq1\", \"opacity\": 0.6, \"orientation\": \"v\", \"showlegend\": true, \"textposition\": \"auto\", \"type\": \"bar\", \"width\": 0.25, \"x\": [\"AAA\", \"AAC\", \"AAG\", \"AAT\", \"ACA\", \"ACC\", \"ACG\", \"ACT\", \"AGA\", \"AGC\", \"AGG\", \"AGT\", \"ATA\", \"ATC\", \"ATG\", \"ATT\", \"CAA\", \"CAC\", \"CAG\", \"CAT\", \"CCA\", \"CCC\", \"CCG\", \"CCT\", \"CGA\", \"CGC\", \"CGG\", \"CGT\", \"CTA\", \"CTC\", \"CTG\", \"CTT\", \"GAA\", \"GAC\", \"GAG\", \"GAT\", \"GCA\", \"GCC\", \"GCG\", \"GCT\", \"GGA\", \"GGC\", \"GGG\", \"GGT\", \"GTA\", \"GTC\", \"GTG\", \"GTT\", \"TAA\", \"TAC\", \"TAG\", \"TAT\", \"TCA\", \"TCC\", \"TCG\", \"TCT\", \"TGA\", \"TGC\", \"TGG\", \"TGT\", \"TTA\", \"TTC\", \"TTG\", \"TTT\"], \"xaxis\": \"x\", \"y\": [0, 0, 1, 1, 1, 0, 3, 0, 0, 2, 0, 0, 0, 1, 2, 2, 1, 1, 1, 1, 0, 0, 2, 0, 1, 3, 2, 2, 0, 0, 0, 0, 1, 1, 0, 2, 2, 2, 3, 0, 2, 1, 0, 0, 2, 0, 0, 0, 1, 2, 0, 0, 1, 0, 0, 0, 1, 1, 1, 0, 1, 0, 1, 1], \"yaxis\": \"y\"}, {\"alignmentgroup\": \"True\", \"hovertemplate\": \"variable=seq2<br>index=%{x}<br>value=%{y}<extra></extra>\", \"legendgroup\": \"seq2\", \"marker\": {\"color\": \"#EF553B\", \"line\": {\"color\": \"#212121\", \"width\": 1.0}}, \"name\": \"seq2\", \"offsetgroup\": \"seq2\", \"opacity\": 0.6, \"orientation\": \"v\", \"showlegend\": true, \"textposition\": \"auto\", \"type\": \"bar\", \"width\": 0.25, \"x\": [\"AAA\", \"AAC\", \"AAG\", \"AAT\", \"ACA\", \"ACC\", \"ACG\", \"ACT\", \"AGA\", \"AGC\", \"AGG\", \"AGT\", \"ATA\", \"ATC\", \"ATG\", \"ATT\", \"CAA\", \"CAC\", \"CAG\", \"CAT\", \"CCA\", \"CCC\", \"CCG\", \"CCT\", \"CGA\", \"CGC\", \"CGG\", \"CGT\", \"CTA\", \"CTC\", \"CTG\", \"CTT\", \"GAA\", \"GAC\", \"GAG\", \"GAT\", \"GCA\", \"GCC\", \"GCG\", \"GCT\", \"GGA\", \"GGC\", \"GGG\", \"GGT\", \"GTA\", \"GTC\", \"GTG\", \"GTT\", \"TAA\", \"TAC\", \"TAG\", \"TAT\", \"TCA\", \"TCC\", \"TCG\", \"TCT\", \"TGA\", \"TGC\", \"TGG\", \"TGT\", \"TTA\", \"TTC\", \"TTG\", \"TTT\"], \"xaxis\": \"x\", \"y\": [0, 0, 2, 1, 1, 1, 3, 0, 1, 2, 0, 0, 0, 1, 1, 1, 1, 1, 1, 0, 0, 1, 2, 0, 1, 1, 2, 3, 0, 0, 0, 0, 2, 2, 1, 1, 1, 1, 2, 0, 2, 1, 0, 0, 2, 0, 0, 1, 1, 2, 0, 0, 1, 0, 0, 0, 1, 0, 1, 0, 1, 0, 1, 1], \"yaxis\": \"y\"}, {\"alignmentgroup\": \"True\", \"hovertemplate\": \"variable=seq3<br>index=%{x}<br>value=%{y}<extra></extra>\", \"legendgroup\": \"seq3\", \"marker\": {\"color\": \"#00cc96\", \"line\": {\"color\": \"#212121\", \"width\": 1.0}}, \"name\": \"seq3\", \"offsetgroup\": \"seq3\", \"opacity\": 0.6, \"orientation\": \"v\", \"showlegend\": true, \"textposition\": \"auto\", \"type\": \"bar\", \"width\": 0.25, \"x\": [\"AAA\", \"AAC\", \"AAG\", \"AAT\", \"ACA\", \"ACC\", \"ACG\", \"ACT\", \"AGA\", \"AGC\", \"AGG\", \"AGT\", \"ATA\", \"ATC\", \"ATG\", \"ATT\", \"CAA\", \"CAC\", \"CAG\", \"CAT\", \"CCA\", \"CCC\", \"CCG\", \"CCT\", \"CGA\", \"CGC\", \"CGG\", \"CGT\", \"CTA\", \"CTC\", \"CTG\", \"CTT\", \"GAA\", \"GAC\", \"GAG\", \"GAT\", \"GCA\", \"GCC\", \"GCG\", \"GCT\", \"GGA\", \"GGC\", \"GGG\", \"GGT\", \"GTA\", \"GTC\", \"GTG\", \"GTT\", \"TAA\", \"TAC\", \"TAG\", \"TAT\", \"TCA\", \"TCC\", \"TCG\", \"TCT\", \"TGA\", \"TGC\", \"TGG\", \"TGT\", \"TTA\", \"TTC\", \"TTG\", \"TTT\"], \"xaxis\": \"x\", \"y\": [0, 0, 1, 2, 1, 1, 2, 0, 1, 0, 0, 0, 0, 2, 0, 3, 0, 1, 0, 1, 0, 1, 2, 0, 1, 0, 1, 4, 0, 0, 0, 0, 2, 1, 1, 0, 0, 1, 1, 0, 1, 1, 0, 0, 2, 0, 0, 2, 2, 2, 0, 1, 1, 0, 1, 0, 0, 1, 1, 0, 3, 0, 2, 2], \"yaxis\": \"y\"}],                        {\"barmode\": \"group\", \"font\": {\"size\": 11}, \"height\": 300, \"legend\": {\"title\": {\"text\": \"variable\"}, \"tracegroupgap\": 0}, \"margin\": {\"t\": 60}, \"template\": {\"data\": {\"bar\": [{\"error_x\": {\"color\": \"#2a3f5f\"}, \"error_y\": {\"color\": \"#2a3f5f\"}, \"marker\": {\"line\": {\"color\": \"white\", \"width\": 0.5}}, \"type\": \"bar\"}], \"barpolar\": [{\"marker\": {\"line\": {\"color\": \"white\", \"width\": 0.5}}, \"type\": \"barpolar\"}], \"carpet\": [{\"aaxis\": {\"endlinecolor\": \"#2a3f5f\", \"gridcolor\": \"#C8D4E3\", \"linecolor\": \"#C8D4E3\", \"minorgridcolor\": \"#C8D4E3\", \"startlinecolor\": \"#2a3f5f\"}, \"baxis\": {\"endlinecolor\": \"#2a3f5f\", \"gridcolor\": \"#C8D4E3\", \"linecolor\": \"#C8D4E3\", \"minorgridcolor\": \"#C8D4E3\", \"startlinecolor\": \"#2a3f5f\"}, \"type\": \"carpet\"}], \"choropleth\": [{\"colorbar\": {\"outlinewidth\": 0, \"ticks\": \"\"}, \"type\": \"choropleth\"}], \"contour\": [{\"colorbar\": {\"outlinewidth\": 0, \"ticks\": \"\"}, \"colorscale\": [[0.0, \"#0d0887\"], [0.1111111111111111, \"#46039f\"], [0.2222222222222222, \"#7201a8\"], [0.3333333333333333, \"#9c179e\"], [0.4444444444444444, \"#bd3786\"], [0.5555555555555556, \"#d8576b\"], [0.6666666666666666, \"#ed7953\"], [0.7777777777777778, \"#fb9f3a\"], [0.8888888888888888, \"#fdca26\"], [1.0, \"#f0f921\"]], \"type\": \"contour\"}], \"contourcarpet\": [{\"colorbar\": {\"outlinewidth\": 0, \"ticks\": \"\"}, \"type\": \"contourcarpet\"}], \"heatmap\": [{\"colorbar\": {\"outlinewidth\": 0, \"ticks\": \"\"}, \"colorscale\": [[0.0, \"#0d0887\"], [0.1111111111111111, \"#46039f\"], [0.2222222222222222, \"#7201a8\"], [0.3333333333333333, \"#9c179e\"], [0.4444444444444444, \"#bd3786\"], [0.5555555555555556, \"#d8576b\"], [0.6666666666666666, \"#ed7953\"], [0.7777777777777778, \"#fb9f3a\"], [0.8888888888888888, \"#fdca26\"], [1.0, \"#f0f921\"]], \"type\": \"heatmap\"}], \"heatmapgl\": [{\"colorbar\": {\"outlinewidth\": 0, \"ticks\": \"\"}, \"colorscale\": [[0.0, \"#0d0887\"], [0.1111111111111111, \"#46039f\"], [0.2222222222222222, \"#7201a8\"], [0.3333333333333333, \"#9c179e\"], [0.4444444444444444, \"#bd3786\"], [0.5555555555555556, \"#d8576b\"], [0.6666666666666666, \"#ed7953\"], [0.7777777777777778, \"#fb9f3a\"], [0.8888888888888888, \"#fdca26\"], [1.0, \"#f0f921\"]], \"type\": \"heatmapgl\"}], \"histogram\": [{\"marker\": {\"colorbar\": {\"outlinewidth\": 0, \"ticks\": \"\"}}, \"type\": \"histogram\"}], \"histogram2d\": [{\"colorbar\": {\"outlinewidth\": 0, \"ticks\": \"\"}, \"colorscale\": [[0.0, \"#0d0887\"], [0.1111111111111111, \"#46039f\"], [0.2222222222222222, \"#7201a8\"], [0.3333333333333333, \"#9c179e\"], [0.4444444444444444, \"#bd3786\"], [0.5555555555555556, \"#d8576b\"], [0.6666666666666666, \"#ed7953\"], [0.7777777777777778, \"#fb9f3a\"], [0.8888888888888888, \"#fdca26\"], [1.0, \"#f0f921\"]], \"type\": \"histogram2d\"}], \"histogram2dcontour\": [{\"colorbar\": {\"outlinewidth\": 0, \"ticks\": \"\"}, \"colorscale\": [[0.0, \"#0d0887\"], [0.1111111111111111, \"#46039f\"], [0.2222222222222222, \"#7201a8\"], [0.3333333333333333, \"#9c179e\"], [0.4444444444444444, \"#bd3786\"], [0.5555555555555556, \"#d8576b\"], [0.6666666666666666, \"#ed7953\"], [0.7777777777777778, \"#fb9f3a\"], [0.8888888888888888, \"#fdca26\"], [1.0, \"#f0f921\"]], \"type\": \"histogram2dcontour\"}], \"mesh3d\": [{\"colorbar\": {\"outlinewidth\": 0, \"ticks\": \"\"}, \"type\": \"mesh3d\"}], \"parcoords\": [{\"line\": {\"colorbar\": {\"outlinewidth\": 0, \"ticks\": \"\"}}, \"type\": \"parcoords\"}], \"pie\": [{\"automargin\": true, \"type\": \"pie\"}], \"scatter\": [{\"marker\": {\"colorbar\": {\"outlinewidth\": 0, \"ticks\": \"\"}}, \"type\": \"scatter\"}], \"scatter3d\": [{\"line\": {\"colorbar\": {\"outlinewidth\": 0, \"ticks\": \"\"}}, \"marker\": {\"colorbar\": {\"outlinewidth\": 0, \"ticks\": \"\"}}, \"type\": \"scatter3d\"}], \"scattercarpet\": [{\"marker\": {\"colorbar\": {\"outlinewidth\": 0, \"ticks\": \"\"}}, \"type\": \"scattercarpet\"}], \"scattergeo\": [{\"marker\": {\"colorbar\": {\"outlinewidth\": 0, \"ticks\": \"\"}}, \"type\": \"scattergeo\"}], \"scattergl\": [{\"marker\": {\"colorbar\": {\"outlinewidth\": 0, \"ticks\": \"\"}}, \"type\": \"scattergl\"}], \"scattermapbox\": [{\"marker\": {\"colorbar\": {\"outlinewidth\": 0, \"ticks\": \"\"}}, \"type\": \"scattermapbox\"}], \"scatterpolar\": [{\"marker\": {\"colorbar\": {\"outlinewidth\": 0, \"ticks\": \"\"}}, \"type\": \"scatterpolar\"}], \"scatterpolargl\": [{\"marker\": {\"colorbar\": {\"outlinewidth\": 0, \"ticks\": \"\"}}, \"type\": \"scatterpolargl\"}], \"scatterternary\": [{\"marker\": {\"colorbar\": {\"outlinewidth\": 0, \"ticks\": \"\"}}, \"type\": \"scatterternary\"}], \"surface\": [{\"colorbar\": {\"outlinewidth\": 0, \"ticks\": \"\"}, \"colorscale\": [[0.0, \"#0d0887\"], [0.1111111111111111, \"#46039f\"], [0.2222222222222222, \"#7201a8\"], [0.3333333333333333, \"#9c179e\"], [0.4444444444444444, \"#bd3786\"], [0.5555555555555556, \"#d8576b\"], [0.6666666666666666, \"#ed7953\"], [0.7777777777777778, \"#fb9f3a\"], [0.8888888888888888, \"#fdca26\"], [1.0, \"#f0f921\"]], \"type\": \"surface\"}], \"table\": [{\"cells\": {\"fill\": {\"color\": \"#EBF0F8\"}, \"line\": {\"color\": \"white\"}}, \"header\": {\"fill\": {\"color\": \"#C8D4E3\"}, \"line\": {\"color\": \"white\"}}, \"type\": \"table\"}]}, \"layout\": {\"annotationdefaults\": {\"arrowcolor\": \"#2a3f5f\", \"arrowhead\": 0, \"arrowwidth\": 1}, \"autotypenumbers\": \"strict\", \"coloraxis\": {\"colorbar\": {\"outlinewidth\": 0, \"ticks\": \"\"}}, \"colorscale\": {\"diverging\": [[0, \"#8e0152\"], [0.1, \"#c51b7d\"], [0.2, \"#de77ae\"], [0.3, \"#f1b6da\"], [0.4, \"#fde0ef\"], [0.5, \"#f7f7f7\"], [0.6, \"#e6f5d0\"], [0.7, \"#b8e186\"], [0.8, \"#7fbc41\"], [0.9, \"#4d9221\"], [1, \"#276419\"]], \"sequential\": [[0.0, \"#0d0887\"], [0.1111111111111111, \"#46039f\"], [0.2222222222222222, \"#7201a8\"], [0.3333333333333333, \"#9c179e\"], [0.4444444444444444, \"#bd3786\"], [0.5555555555555556, \"#d8576b\"], [0.6666666666666666, \"#ed7953\"], [0.7777777777777778, \"#fb9f3a\"], [0.8888888888888888, \"#fdca26\"], [1.0, \"#f0f921\"]], \"sequentialminus\": [[0.0, \"#0d0887\"], [0.1111111111111111, \"#46039f\"], [0.2222222222222222, \"#7201a8\"], [0.3333333333333333, \"#9c179e\"], [0.4444444444444444, \"#bd3786\"], [0.5555555555555556, \"#d8576b\"], [0.6666666666666666, \"#ed7953\"], [0.7777777777777778, \"#fb9f3a\"], [0.8888888888888888, \"#fdca26\"], [1.0, \"#f0f921\"]]}, \"colorway\": [\"#636efa\", \"#EF553B\", \"#00cc96\", \"#ab63fa\", \"#FFA15A\", \"#19d3f3\", \"#FF6692\", \"#B6E880\", \"#FF97FF\", \"#FECB52\"], \"font\": {\"color\": \"#2a3f5f\"}, \"geo\": {\"bgcolor\": \"white\", \"lakecolor\": \"white\", \"landcolor\": \"white\", \"showlakes\": true, \"showland\": true, \"subunitcolor\": \"#C8D4E3\"}, \"hoverlabel\": {\"align\": \"left\"}, \"hovermode\": \"closest\", \"mapbox\": {\"style\": \"light\"}, \"paper_bgcolor\": \"white\", \"plot_bgcolor\": \"white\", \"polar\": {\"angularaxis\": {\"gridcolor\": \"#EBF0F8\", \"linecolor\": \"#EBF0F8\", \"ticks\": \"\"}, \"bgcolor\": \"white\", \"radialaxis\": {\"gridcolor\": \"#EBF0F8\", \"linecolor\": \"#EBF0F8\", \"ticks\": \"\"}}, \"scene\": {\"xaxis\": {\"backgroundcolor\": \"white\", \"gridcolor\": \"#DFE8F3\", \"gridwidth\": 2, \"linecolor\": \"#EBF0F8\", \"showbackground\": true, \"ticks\": \"\", \"zerolinecolor\": \"#EBF0F8\"}, \"yaxis\": {\"backgroundcolor\": \"white\", \"gridcolor\": \"#DFE8F3\", \"gridwidth\": 2, \"linecolor\": \"#EBF0F8\", \"showbackground\": true, \"ticks\": \"\", \"zerolinecolor\": \"#EBF0F8\"}, \"zaxis\": {\"backgroundcolor\": \"white\", \"gridcolor\": \"#DFE8F3\", \"gridwidth\": 2, \"linecolor\": \"#EBF0F8\", \"showbackground\": true, \"ticks\": \"\", \"zerolinecolor\": \"#EBF0F8\"}}, \"shapedefaults\": {\"line\": {\"color\": \"#2a3f5f\"}}, \"ternary\": {\"aaxis\": {\"gridcolor\": \"#DFE8F3\", \"linecolor\": \"#A2B1C6\", \"ticks\": \"\"}, \"baxis\": {\"gridcolor\": \"#DFE8F3\", \"linecolor\": \"#A2B1C6\", \"ticks\": \"\"}, \"bgcolor\": \"white\", \"caxis\": {\"gridcolor\": \"#DFE8F3\", \"linecolor\": \"#A2B1C6\", \"ticks\": \"\"}}, \"title\": {\"x\": 0.05}, \"xaxis\": {\"automargin\": true, \"gridcolor\": \"#EBF0F8\", \"linecolor\": \"#EBF0F8\", \"ticks\": \"\", \"title\": {\"standoff\": 15}, \"zerolinecolor\": \"#EBF0F8\", \"zerolinewidth\": 2}, \"yaxis\": {\"automargin\": true, \"gridcolor\": \"#EBF0F8\", \"linecolor\": \"#EBF0F8\", \"ticks\": \"\", \"title\": {\"standoff\": 15}, \"zerolinecolor\": \"#EBF0F8\", \"zerolinewidth\": 2}}}, \"title\": {\"text\": \"tri nucleotide | count\"}, \"width\": 800, \"xaxis\": {\"anchor\": \"y\", \"autorange\": false, \"domain\": [0.0, 1.0], \"range\": [-1, 20], \"rangeslider\": {\"visible\": true}, \"title\": {\"text\": \"\"}}, \"yaxis\": {\"anchor\": \"x\", \"domain\": [0.0, 1.0], \"title\": {\"text\": \"value\"}}},                        {\"responsive\": true}                    ).then(function(){\n",
       "                            \n",
       "var gd = document.getElementById('6b198a1c-d244-4d57-b08a-1f5ada6a6afd');\n",
       "var x = new MutationObserver(function (mutations, observer) {{\n",
       "        var display = window.getComputedStyle(gd).display;\n",
       "        if (!display || display === 'none') {{\n",
       "            console.log([gd, 'removed!']);\n",
       "            Plotly.purge(gd);\n",
       "            observer.disconnect();\n",
       "        }}\n",
       "}});\n",
       "\n",
       "// Listen for the removal of the full notebook cells\n",
       "var notebookContainer = gd.closest('#notebook-container');\n",
       "if (notebookContainer) {{\n",
       "    x.observe(notebookContainer, {childList: true});\n",
       "}}\n",
       "\n",
       "// Listen for the clearing of the current output cell\n",
       "var outputEl = gd.closest('.output');\n",
       "if (outputEl) {{\n",
       "    x.observe(outputEl, {childList: true});\n",
       "}}\n",
       "\n",
       "                        })                };                });            </script>        </div>"
      ]
     },
     "metadata": {},
     "output_type": "display_data"
    }
   ],
   "source": [
    "# Define Two DNA sequences (instances)\n",
    "sq_1 = SQ('ATGACGGATCAGCCGCAAGCGGAATTGGCGCACATTTACGTACGATGCGCCGTAA','dna',id='seq1')\n",
    "sq_2 = SQ('ATGACGGATCAGCCGCAAGCGGAATTGGCGTTTACGTACGAAGAGACACCCGTAA','dna',id='seq2')\n",
    "sq_3 = SQ('ATTTAATCATTGCCGTTATCGGAATTGGCGTTTACGTACGAAGAGACACCCGTAA','dna',id='seq3')\n",
    "\n",
    "# Compare Trinucleotides of two sequences\n",
    "sq_1.count.gfreq(compare=[sq_2,sq_3],\n",
    "                 count_id='tri',\n",
    "                 barmode = 'group', # group,stack\n",
    "                 fsize=[300,800])"
   ]
  },
  {
   "cell_type": "code",
   "execution_count": 77,
   "metadata": {
    "execution": {
     "iopub.execute_input": "2023-03-08T16:05:33.365674Z",
     "iopub.status.busy": "2023-03-08T16:05:33.364905Z",
     "iopub.status.idle": "2023-03-08T16:05:33.490312Z",
     "shell.execute_reply": "2023-03-08T16:05:33.489737Z",
     "shell.execute_reply.started": "2023-03-08T13:54:48.995399Z"
    },
    "papermill": {
     "duration": 0.27713,
     "end_time": "2023-03-08T16:05:33.490500",
     "exception": false,
     "start_time": "2023-03-08T16:05:33.213370",
     "status": "completed"
    },
    "tags": []
   },
   "outputs": [
    {
     "data": {
      "text/html": [
       "<div>                            <div id=\"f59401e1-f623-40a8-96ec-ab0e3d92ca9a\" class=\"plotly-graph-div\" style=\"height:400px; width:800px;\"></div>            <script type=\"text/javascript\">                require([\"plotly\"], function(Plotly) {                    window.PLOTLYENV=window.PLOTLYENV || {};                                    if (document.getElementById(\"f59401e1-f623-40a8-96ec-ab0e3d92ca9a\")) {                    Plotly.newPlot(                        \"f59401e1-f623-40a8-96ec-ab0e3d92ca9a\",                        [{\"alignmentgroup\": \"True\", \"hovertemplate\": \"variable=sequence_928<br>index=%{x}<br>value=%{y}<extra></extra>\", \"legendgroup\": \"sequence_928\", \"marker\": {\"color\": \"#636efa\", \"line\": {\"color\": \"#212121\", \"width\": 1.0}}, \"name\": \"sequence_928\", \"offsetgroup\": \"sequence_928\", \"opacity\": 0.6, \"orientation\": \"v\", \"showlegend\": true, \"textposition\": \"auto\", \"type\": \"bar\", \"width\": 0.25, \"x\": [\"AA\", \"AC\", \"AG\", \"AT\", \"CA\", \"CC\", \"CG\", \"CT\", \"GA\", \"GC\", \"GG\", \"GT\", \"TA\", \"TC\", \"TG\", \"TT\"], \"xaxis\": \"x\", \"y\": [3, 3, 2, 4, 2, 2, 8, 0, 4, 6, 3, 3, 3, 1, 3, 2], \"yaxis\": \"y\"}, {\"alignmentgroup\": \"True\", \"hovertemplate\": \"variable=seq1<br>index=%{x}<br>value=%{y}<extra></extra>\", \"legendgroup\": \"seq1\", \"marker\": {\"color\": \"#EF553B\", \"line\": {\"color\": \"#212121\", \"width\": 1.0}}, \"name\": \"seq1\", \"offsetgroup\": \"seq1\", \"opacity\": 0.6, \"orientation\": \"v\", \"showlegend\": true, \"textposition\": \"auto\", \"type\": \"bar\", \"width\": 0.25, \"x\": [\"AA\", \"AC\", \"AG\", \"AT\", \"CA\", \"CC\", \"CG\", \"CT\", \"GA\", \"GC\", \"GG\", \"GT\", \"TA\", \"TC\", \"TG\", \"TT\"], \"xaxis\": \"x\", \"y\": [3, 4, 2, 5, 4, 2, 8, 0, 4, 7, 3, 2, 3, 1, 3, 2], \"yaxis\": \"y\"}, {\"alignmentgroup\": \"True\", \"hovertemplate\": \"variable=seq2<br>index=%{x}<br>value=%{y}<extra></extra>\", \"legendgroup\": \"seq2\", \"marker\": {\"color\": \"#00cc96\", \"line\": {\"color\": \"#212121\", \"width\": 1.0}}, \"name\": \"seq2\", \"offsetgroup\": \"seq2\", \"opacity\": 0.6, \"orientation\": \"v\", \"showlegend\": true, \"textposition\": \"auto\", \"type\": \"bar\", \"width\": 0.25, \"x\": [\"AA\", \"AC\", \"AG\", \"AT\", \"CA\", \"CC\", \"CG\", \"CT\", \"GA\", \"GC\", \"GG\", \"GT\", \"TA\", \"TC\", \"TG\", \"TT\"], \"xaxis\": \"x\", \"y\": [4, 5, 4, 3, 3, 2, 7, 0, 6, 4, 3, 3, 3, 1, 2, 2], \"yaxis\": \"y\"}, {\"alignmentgroup\": \"True\", \"hovertemplate\": \"variable=seq3<br>index=%{x}<br>value=%{y}<extra></extra>\", \"legendgroup\": \"seq3\", \"marker\": {\"color\": \"#ab63fa\", \"line\": {\"color\": \"#212121\", \"width\": 1.0}}, \"name\": \"seq3\", \"offsetgroup\": \"seq3\", \"opacity\": 0.6, \"orientation\": \"v\", \"showlegend\": true, \"textposition\": \"auto\", \"type\": \"bar\", \"width\": 0.25, \"x\": [\"AA\", \"AC\", \"AG\", \"AT\", \"CA\", \"CC\", \"CG\", \"CT\", \"GA\", \"GC\", \"GG\", \"GT\", \"TA\", \"TC\", \"TG\", \"TT\"], \"xaxis\": \"x\", \"y\": [4, 4, 2, 5, 2, 2, 6, 0, 4, 2, 2, 4, 5, 2, 2, 5], \"yaxis\": \"y\"}],                        {\"barmode\": \"stack\", \"font\": {\"size\": 11}, \"height\": 400, \"legend\": {\"title\": {\"text\": \"variable\"}, \"tracegroupgap\": 0}, \"margin\": {\"t\": 60}, \"template\": {\"data\": {\"bar\": [{\"error_x\": {\"color\": \"#2a3f5f\"}, \"error_y\": {\"color\": \"#2a3f5f\"}, \"marker\": {\"line\": {\"color\": \"white\", \"width\": 0.5}}, \"type\": \"bar\"}], \"barpolar\": [{\"marker\": {\"line\": {\"color\": \"white\", \"width\": 0.5}}, \"type\": \"barpolar\"}], \"carpet\": [{\"aaxis\": {\"endlinecolor\": \"#2a3f5f\", \"gridcolor\": \"#C8D4E3\", \"linecolor\": \"#C8D4E3\", \"minorgridcolor\": \"#C8D4E3\", \"startlinecolor\": \"#2a3f5f\"}, \"baxis\": {\"endlinecolor\": \"#2a3f5f\", \"gridcolor\": \"#C8D4E3\", \"linecolor\": \"#C8D4E3\", \"minorgridcolor\": \"#C8D4E3\", \"startlinecolor\": \"#2a3f5f\"}, \"type\": \"carpet\"}], \"choropleth\": [{\"colorbar\": {\"outlinewidth\": 0, \"ticks\": \"\"}, \"type\": \"choropleth\"}], \"contour\": [{\"colorbar\": {\"outlinewidth\": 0, \"ticks\": \"\"}, \"colorscale\": [[0.0, \"#0d0887\"], [0.1111111111111111, \"#46039f\"], [0.2222222222222222, \"#7201a8\"], [0.3333333333333333, \"#9c179e\"], [0.4444444444444444, \"#bd3786\"], [0.5555555555555556, \"#d8576b\"], [0.6666666666666666, \"#ed7953\"], [0.7777777777777778, \"#fb9f3a\"], [0.8888888888888888, \"#fdca26\"], [1.0, \"#f0f921\"]], \"type\": \"contour\"}], \"contourcarpet\": [{\"colorbar\": {\"outlinewidth\": 0, \"ticks\": \"\"}, \"type\": \"contourcarpet\"}], \"heatmap\": [{\"colorbar\": {\"outlinewidth\": 0, \"ticks\": \"\"}, \"colorscale\": [[0.0, \"#0d0887\"], [0.1111111111111111, \"#46039f\"], [0.2222222222222222, \"#7201a8\"], [0.3333333333333333, \"#9c179e\"], [0.4444444444444444, \"#bd3786\"], [0.5555555555555556, \"#d8576b\"], [0.6666666666666666, \"#ed7953\"], [0.7777777777777778, \"#fb9f3a\"], [0.8888888888888888, \"#fdca26\"], [1.0, \"#f0f921\"]], \"type\": \"heatmap\"}], \"heatmapgl\": [{\"colorbar\": {\"outlinewidth\": 0, \"ticks\": \"\"}, \"colorscale\": [[0.0, \"#0d0887\"], [0.1111111111111111, \"#46039f\"], [0.2222222222222222, \"#7201a8\"], [0.3333333333333333, \"#9c179e\"], [0.4444444444444444, \"#bd3786\"], [0.5555555555555556, \"#d8576b\"], [0.6666666666666666, \"#ed7953\"], [0.7777777777777778, \"#fb9f3a\"], [0.8888888888888888, \"#fdca26\"], [1.0, \"#f0f921\"]], \"type\": \"heatmapgl\"}], \"histogram\": [{\"marker\": {\"colorbar\": {\"outlinewidth\": 0, \"ticks\": \"\"}}, \"type\": \"histogram\"}], \"histogram2d\": [{\"colorbar\": {\"outlinewidth\": 0, \"ticks\": \"\"}, \"colorscale\": [[0.0, \"#0d0887\"], [0.1111111111111111, \"#46039f\"], [0.2222222222222222, \"#7201a8\"], [0.3333333333333333, \"#9c179e\"], [0.4444444444444444, \"#bd3786\"], [0.5555555555555556, \"#d8576b\"], [0.6666666666666666, \"#ed7953\"], [0.7777777777777778, \"#fb9f3a\"], [0.8888888888888888, \"#fdca26\"], [1.0, \"#f0f921\"]], \"type\": \"histogram2d\"}], \"histogram2dcontour\": [{\"colorbar\": {\"outlinewidth\": 0, \"ticks\": \"\"}, \"colorscale\": [[0.0, \"#0d0887\"], [0.1111111111111111, \"#46039f\"], [0.2222222222222222, \"#7201a8\"], [0.3333333333333333, \"#9c179e\"], [0.4444444444444444, \"#bd3786\"], [0.5555555555555556, \"#d8576b\"], [0.6666666666666666, \"#ed7953\"], [0.7777777777777778, \"#fb9f3a\"], [0.8888888888888888, \"#fdca26\"], [1.0, \"#f0f921\"]], \"type\": \"histogram2dcontour\"}], \"mesh3d\": [{\"colorbar\": {\"outlinewidth\": 0, \"ticks\": \"\"}, \"type\": \"mesh3d\"}], \"parcoords\": [{\"line\": {\"colorbar\": {\"outlinewidth\": 0, \"ticks\": \"\"}}, \"type\": \"parcoords\"}], \"pie\": [{\"automargin\": true, \"type\": \"pie\"}], \"scatter\": [{\"marker\": {\"colorbar\": {\"outlinewidth\": 0, \"ticks\": \"\"}}, \"type\": \"scatter\"}], \"scatter3d\": [{\"line\": {\"colorbar\": {\"outlinewidth\": 0, \"ticks\": \"\"}}, \"marker\": {\"colorbar\": {\"outlinewidth\": 0, \"ticks\": \"\"}}, \"type\": \"scatter3d\"}], \"scattercarpet\": [{\"marker\": {\"colorbar\": {\"outlinewidth\": 0, \"ticks\": \"\"}}, \"type\": \"scattercarpet\"}], \"scattergeo\": [{\"marker\": {\"colorbar\": {\"outlinewidth\": 0, \"ticks\": \"\"}}, \"type\": \"scattergeo\"}], \"scattergl\": [{\"marker\": {\"colorbar\": {\"outlinewidth\": 0, \"ticks\": \"\"}}, \"type\": \"scattergl\"}], \"scattermapbox\": [{\"marker\": {\"colorbar\": {\"outlinewidth\": 0, \"ticks\": \"\"}}, \"type\": \"scattermapbox\"}], \"scatterpolar\": [{\"marker\": {\"colorbar\": {\"outlinewidth\": 0, \"ticks\": \"\"}}, \"type\": \"scatterpolar\"}], \"scatterpolargl\": [{\"marker\": {\"colorbar\": {\"outlinewidth\": 0, \"ticks\": \"\"}}, \"type\": \"scatterpolargl\"}], \"scatterternary\": [{\"marker\": {\"colorbar\": {\"outlinewidth\": 0, \"ticks\": \"\"}}, \"type\": \"scatterternary\"}], \"surface\": [{\"colorbar\": {\"outlinewidth\": 0, \"ticks\": \"\"}, \"colorscale\": [[0.0, \"#0d0887\"], [0.1111111111111111, \"#46039f\"], [0.2222222222222222, \"#7201a8\"], [0.3333333333333333, \"#9c179e\"], [0.4444444444444444, \"#bd3786\"], [0.5555555555555556, \"#d8576b\"], [0.6666666666666666, \"#ed7953\"], [0.7777777777777778, \"#fb9f3a\"], [0.8888888888888888, \"#fdca26\"], [1.0, \"#f0f921\"]], \"type\": \"surface\"}], \"table\": [{\"cells\": {\"fill\": {\"color\": \"#EBF0F8\"}, \"line\": {\"color\": \"white\"}}, \"header\": {\"fill\": {\"color\": \"#C8D4E3\"}, \"line\": {\"color\": \"white\"}}, \"type\": \"table\"}]}, \"layout\": {\"annotationdefaults\": {\"arrowcolor\": \"#2a3f5f\", \"arrowhead\": 0, \"arrowwidth\": 1}, \"autotypenumbers\": \"strict\", \"coloraxis\": {\"colorbar\": {\"outlinewidth\": 0, \"ticks\": \"\"}}, \"colorscale\": {\"diverging\": [[0, \"#8e0152\"], [0.1, \"#c51b7d\"], [0.2, \"#de77ae\"], [0.3, \"#f1b6da\"], [0.4, \"#fde0ef\"], [0.5, \"#f7f7f7\"], [0.6, \"#e6f5d0\"], [0.7, \"#b8e186\"], [0.8, \"#7fbc41\"], [0.9, \"#4d9221\"], [1, \"#276419\"]], \"sequential\": [[0.0, \"#0d0887\"], [0.1111111111111111, \"#46039f\"], [0.2222222222222222, \"#7201a8\"], [0.3333333333333333, \"#9c179e\"], [0.4444444444444444, \"#bd3786\"], [0.5555555555555556, \"#d8576b\"], [0.6666666666666666, \"#ed7953\"], [0.7777777777777778, \"#fb9f3a\"], [0.8888888888888888, \"#fdca26\"], [1.0, \"#f0f921\"]], \"sequentialminus\": [[0.0, \"#0d0887\"], [0.1111111111111111, \"#46039f\"], [0.2222222222222222, \"#7201a8\"], [0.3333333333333333, \"#9c179e\"], [0.4444444444444444, \"#bd3786\"], [0.5555555555555556, \"#d8576b\"], [0.6666666666666666, \"#ed7953\"], [0.7777777777777778, \"#fb9f3a\"], [0.8888888888888888, \"#fdca26\"], [1.0, \"#f0f921\"]]}, \"colorway\": [\"#636efa\", \"#EF553B\", \"#00cc96\", \"#ab63fa\", \"#FFA15A\", \"#19d3f3\", \"#FF6692\", \"#B6E880\", \"#FF97FF\", \"#FECB52\"], \"font\": {\"color\": \"#2a3f5f\"}, \"geo\": {\"bgcolor\": \"white\", \"lakecolor\": \"white\", \"landcolor\": \"white\", \"showlakes\": true, \"showland\": true, \"subunitcolor\": \"#C8D4E3\"}, \"hoverlabel\": {\"align\": \"left\"}, \"hovermode\": \"closest\", \"mapbox\": {\"style\": \"light\"}, \"paper_bgcolor\": \"white\", \"plot_bgcolor\": \"white\", \"polar\": {\"angularaxis\": {\"gridcolor\": \"#EBF0F8\", \"linecolor\": \"#EBF0F8\", \"ticks\": \"\"}, \"bgcolor\": \"white\", \"radialaxis\": {\"gridcolor\": \"#EBF0F8\", \"linecolor\": \"#EBF0F8\", \"ticks\": \"\"}}, \"scene\": {\"xaxis\": {\"backgroundcolor\": \"white\", \"gridcolor\": \"#DFE8F3\", \"gridwidth\": 2, \"linecolor\": \"#EBF0F8\", \"showbackground\": true, \"ticks\": \"\", \"zerolinecolor\": \"#EBF0F8\"}, \"yaxis\": {\"backgroundcolor\": \"white\", \"gridcolor\": \"#DFE8F3\", \"gridwidth\": 2, \"linecolor\": \"#EBF0F8\", \"showbackground\": true, \"ticks\": \"\", \"zerolinecolor\": \"#EBF0F8\"}, \"zaxis\": {\"backgroundcolor\": \"white\", \"gridcolor\": \"#DFE8F3\", \"gridwidth\": 2, \"linecolor\": \"#EBF0F8\", \"showbackground\": true, \"ticks\": \"\", \"zerolinecolor\": \"#EBF0F8\"}}, \"shapedefaults\": {\"line\": {\"color\": \"#2a3f5f\"}}, \"ternary\": {\"aaxis\": {\"gridcolor\": \"#DFE8F3\", \"linecolor\": \"#A2B1C6\", \"ticks\": \"\"}, \"baxis\": {\"gridcolor\": \"#DFE8F3\", \"linecolor\": \"#A2B1C6\", \"ticks\": \"\"}, \"bgcolor\": \"white\", \"caxis\": {\"gridcolor\": \"#DFE8F3\", \"linecolor\": \"#A2B1C6\", \"ticks\": \"\"}}, \"title\": {\"x\": 0.05}, \"xaxis\": {\"automargin\": true, \"gridcolor\": \"#EBF0F8\", \"linecolor\": \"#EBF0F8\", \"ticks\": \"\", \"title\": {\"standoff\": 15}, \"zerolinecolor\": \"#EBF0F8\", \"zerolinewidth\": 2}, \"yaxis\": {\"automargin\": true, \"gridcolor\": \"#EBF0F8\", \"linecolor\": \"#EBF0F8\", \"ticks\": \"\", \"title\": {\"standoff\": 15}, \"zerolinecolor\": \"#EBF0F8\", \"zerolinewidth\": 2}}}, \"title\": {\"text\": \"di nucleotide | count\"}, \"width\": 800, \"xaxis\": {}, \"yaxis\": {\"anchor\": \"x\", \"domain\": [0.0, 1.0], \"title\": {\"text\": \"value\"}}},                        {\"responsive\": true}                    ).then(function(){\n",
       "                            \n",
       "var gd = document.getElementById('f59401e1-f623-40a8-96ec-ab0e3d92ca9a');\n",
       "var x = new MutationObserver(function (mutations, observer) {{\n",
       "        var display = window.getComputedStyle(gd).display;\n",
       "        if (!display || display === 'none') {{\n",
       "            console.log([gd, 'removed!']);\n",
       "            Plotly.purge(gd);\n",
       "            observer.disconnect();\n",
       "        }}\n",
       "}});\n",
       "\n",
       "// Listen for the removal of the full notebook cells\n",
       "var notebookContainer = gd.closest('#notebook-container');\n",
       "if (notebookContainer) {{\n",
       "    x.observe(notebookContainer, {childList: true});\n",
       "}}\n",
       "\n",
       "// Listen for the clearing of the current output cell\n",
       "var outputEl = gd.closest('.output');\n",
       "if (outputEl) {{\n",
       "    x.observe(outputEl, {childList: true});\n",
       "}}\n",
       "\n",
       "                        })                };                });            </script>        </div>"
      ]
     },
     "metadata": {},
     "output_type": "display_data"
    }
   ],
   "source": [
    "## Compare Dinucleotides of two sequences\n",
    "sq_n.count.gfreq(compare=[sq_1,sq_2,sq_3],\n",
    "                   count_id='di',\n",
    "                   barmode = 'stack', # group,stack\n",
    "                   fsize=[400,800])\n"
   ]
  },
  {
   "cell_type": "code",
   "execution_count": 78,
   "metadata": {
    "execution": {
     "iopub.execute_input": "2023-03-08T16:05:33.789525Z",
     "iopub.status.busy": "2023-03-08T16:05:33.788787Z",
     "iopub.status.idle": "2023-03-08T16:05:33.797290Z",
     "shell.execute_reply": "2023-03-08T16:05:33.797865Z",
     "shell.execute_reply.started": "2023-03-08T13:54:49.119717Z"
    },
    "papermill": {
     "duration": 0.159285,
     "end_time": "2023-03-08T16:05:33.798088",
     "exception": false,
     "start_time": "2023-03-08T16:05:33.638803",
     "status": "completed"
    },
    "tags": []
   },
   "outputs": [
    {
     "name": "stdout",
     "output_type": "stream",
     "text": [
      "dict w/ percentages:\n"
     ]
    },
    {
     "data": {
      "text/plain": [
       "{'purines': 0.5686, 'pyrimidine': 0.4314}"
      ]
     },
     "execution_count": 78,
     "metadata": {},
     "output_type": "execute_result"
    }
   ],
   "source": [
    "print('dict w/ percentages:')\n",
    "sq_n.count.purines()"
   ]
  },
  {
   "cell_type": "code",
   "execution_count": 79,
   "metadata": {
    "execution": {
     "iopub.execute_input": "2023-03-08T16:05:34.099579Z",
     "iopub.status.busy": "2023-03-08T16:05:34.098557Z",
     "iopub.status.idle": "2023-03-08T16:05:34.102243Z",
     "shell.execute_reply": "2023-03-08T16:05:34.102953Z",
     "shell.execute_reply.started": "2023-03-08T13:54:49.132172Z"
    },
    "papermill": {
     "duration": 0.159027,
     "end_time": "2023-03-08T16:05:34.103235",
     "exception": false,
     "start_time": "2023-03-08T16:05:33.944208",
     "status": "completed"
    },
    "tags": []
   },
   "outputs": [
    {
     "name": "stdout",
     "output_type": "stream",
     "text": [
      "Correct ORF: MTDQPQAELAFTYDAP_\n",
      "All ORF:\n",
      "MTDQPQAELAFTYDAP_    DGSAASGIGVYVRCAV     YGASYVNANSACG_SV     \n",
      "_RISRKRNWRLRTMRR     LRRIVRKRQFRLRLIRH    TAHRT_TPIPLAADPS     \n"
     ]
    }
   ],
   "source": [
    "''' Don't actually have to call (just for demonstration) '''\n",
    "\n",
    "# Sequence with initial codon coinciding with start codon &\n",
    "# end w/ end codon (ATG & TAA respectively)\n",
    "seq = 'ATGACGGATCAGCCGCAAGCGGAATTGGCGTTTACGTACGATGCGCCGTAA'\n",
    "strand = SQ(seq=seq,seq_type='dna')\n",
    "print(f'Correct ORF: {strand.decode.trans(strand.seq,p0=0)}')\n",
    "\n",
    "print(f'All ORF:')\n",
    "lst_ORF = strand.decode.frames()\n",
    "lstcol(lst_ORF)"
   ]
  },
  {
   "cell_type": "code",
   "execution_count": 80,
   "metadata": {
    "execution": {
     "iopub.execute_input": "2023-03-08T16:05:34.400157Z",
     "iopub.status.busy": "2023-03-08T16:05:34.399468Z",
     "iopub.status.idle": "2023-03-08T16:05:34.406211Z",
     "shell.execute_reply": "2023-03-08T16:05:34.406750Z",
     "shell.execute_reply.started": "2023-03-08T13:54:49.145014Z"
    },
    "papermill": {
     "duration": 0.156796,
     "end_time": "2023-03-08T16:05:34.406981",
     "exception": false,
     "start_time": "2023-03-08T16:05:34.250185",
     "status": "completed"
    },
    "tags": []
   },
   "outputs": [
    {
     "name": "stdout",
     "output_type": "stream",
     "text": [
      "['MTDQPQAELAFTYDAP']\n",
      "16 characters\n"
     ]
    }
   ],
   "source": [
    "# Only one of the ORFs meets the requirement, so only one putative protein is found\n",
    "proteins = strand.decode.protein()\n",
    "print(proteins)\n",
    "print(f'{len(proteins[0])} characters')"
   ]
  },
  {
   "cell_type": "code",
   "execution_count": 81,
   "metadata": {
    "execution": {
     "iopub.execute_input": "2023-03-08T16:05:34.769643Z",
     "iopub.status.busy": "2023-03-08T16:05:34.768807Z",
     "iopub.status.idle": "2023-03-08T16:05:34.785284Z",
     "shell.execute_reply": "2023-03-08T16:05:34.784554Z",
     "shell.execute_reply.started": "2023-03-08T13:54:49.160778Z"
    },
    "papermill": {
     "duration": 0.169445,
     "end_time": "2023-03-08T16:05:34.785467",
     "exception": false,
     "start_time": "2023-03-08T16:05:34.616022",
     "status": "completed"
    },
    "tags": []
   },
   "outputs": [],
   "source": [
    "# NCBI identifiers\n",
    "identifiers_dic = {'lcl':'local(nodb)','bbs':'GenInfo backbone seqid',\n",
    "                   'bbm':'GenInfo backbone moltype','gim':'GenInfo import ID',\n",
    "                   'gb':'GenBank','emb':'EMBL','pir':'PIR','sp':'SWISS-PROT',\n",
    "                   'pat':'patent','pgp':'pre-grant patent','ref':'RefSeq',\n",
    "                   'gnl':'general database reference','prf':'PRF','pdb':'PDB',\n",
    "                   'gi':'GenInfo integrated database','dbj':'DDBJ'}\n",
    "\n",
    "# FASTA formats\n",
    "FASTA_dic = {'fa':'generic','fasta':'generic','fna':'nucleic acid',\n",
    "             'ffn':'nucleotide of gene regions','faa':'amino acid',\n",
    "             'frn':'non-coding RNA'}\n",
    "\n",
    "# Class to read different files and store info only\n",
    "class read_seq(SQ):\n",
    "    \n",
    "    def __init__(self,name):\n",
    "        self.name = name\n",
    "        self.format = name.rsplit('.',1)[1]    \n",
    "        if(self.format in FASTA_dic):      # if one of the fasta formats\n",
    "            self.read_FASTA(self.name)\n",
    "\n",
    "    # read FASTA format\n",
    "    def read_FASTA(self,filename):\n",
    "\n",
    "        tseq = None; self.lst_seq = []     # list of sequences\n",
    "        thead = None; self.lst_header = [] # list of sequence identifications\n",
    "        ff = FASTA_dic[filename.rsplit('.',1)[1]]\n",
    "        file = open(filename,'r')\n",
    "\n",
    "        for line in file:\n",
    "            if(search(\">.*\", line)): # get lines w/ >\n",
    "                    if(tseq != None and thead != None and tseq != \"\"):\n",
    "                        self.lst_seq.append(tseq)\n",
    "                    thead = line; self.lst_header.append(line)              \n",
    "                    tseq = \"\"\n",
    "            else:\n",
    "                if(tseq == None):\n",
    "                    return None\n",
    "                else: \n",
    "                    tseq += sub(\"\\s\",\"\",line)\n",
    "\n",
    "        if(tseq != None and thead != None and tseq != \"\"):\n",
    "            self.lst_seq.append(tseq)\n",
    "            \n",
    "        print(f'READ -> FASTA [{ff}] | #SEQ: {len(self.lst_seq)}')\n",
    "        file.close()\n",
    "        \n",
    "    # get read sequences\n",
    "    def get_sq(self):\n",
    "        lst_out = []\n",
    "        \n",
    "        # If there's more than one sequence\n",
    "        if(len(self.lst_seq) > 1):\n",
    "            for i in range(0,len(self.lst_seq)):\n",
    "                lst_types = ['dna','rna','aa']\n",
    "                for check in lst_types:\n",
    "                    if(SQ(seq=self.lst_seq[i],seq_type=check).validate()):\n",
    "                        lst_out.append(SQ(self.lst_seq[i],seq_type=check,\n",
    "                                          description=self.lst_header[i]))\n",
    "            return lst_out\n",
    "        \n",
    "        # return just the one file\n",
    "        else:\n",
    "            lst_types = ['dna','rna','aa']\n",
    "            for check in lst_types:\n",
    "                if(SQ(self.lst_seq[0],check).validate()): # if valid sq\n",
    "                    return SQ(seq=self.lst_seq[0],seq_type=check,\n",
    "                              description=self.lst_header[0])"
   ]
  },
  {
   "cell_type": "code",
   "execution_count": 82,
   "metadata": {
    "execution": {
     "iopub.execute_input": "2023-03-08T16:05:35.092949Z",
     "iopub.status.busy": "2023-03-08T16:05:35.092076Z",
     "iopub.status.idle": "2023-03-08T16:05:35.113445Z",
     "shell.execute_reply": "2023-03-08T16:05:35.112810Z",
     "shell.execute_reply.started": "2023-03-08T13:55:18.868692Z"
    },
    "papermill": {
     "duration": 0.178045,
     "end_time": "2023-03-08T16:05:35.113683",
     "exception": false,
     "start_time": "2023-03-08T16:05:34.935638",
     "status": "completed"
    },
    "tags": []
   },
   "outputs": [
    {
     "name": "stdout",
     "output_type": "stream",
     "text": [
      "READ -> FASTA [amino acid] | #SEQ: 10\n",
      "READ -> FASTA [nucleic acid] | #SEQ: 1\n"
     ]
    },
    {
     "data": {
      "text/plain": [
       "'>gi|45478712|ref|NP_995567.1| putative transposase [Yersinia pestis biovar Microtus str. 91001]\\n'"
      ]
     },
     "execution_count": 82,
     "metadata": {},
     "output_type": "execute_result"
    }
   ],
   "source": [
    "# define pathway to FASTA file\n",
    "file_faa = '/kaggle/input/bioinformatics/sequences/NC_005816.faa' # amino acid chain sequence\n",
    "file_fna = '/kaggle/input/bioinformatics/sequences/NC_005816.fna' # nucleotide sequence \n",
    "\n",
    "# fetch sequence from file and store each in sequence class, SQ\n",
    "col_seq_aa = read_seq(file_faa).get_sq()\n",
    "col_seq_n = read_seq(file_fna).get_sq()\n",
    "\n",
    "# sequence description\n",
    "col_seq_aa[0].description"
   ]
  },
  {
   "cell_type": "code",
   "execution_count": 83,
   "metadata": {
    "execution": {
     "iopub.execute_input": "2023-03-08T16:05:35.414311Z",
     "iopub.status.busy": "2023-03-08T16:05:35.413194Z",
     "iopub.status.idle": "2023-03-08T16:05:35.419906Z",
     "shell.execute_reply": "2023-03-08T16:05:35.419241Z",
     "shell.execute_reply.started": "2023-03-08T13:55:18.888428Z"
    },
    "papermill": {
     "duration": 0.158185,
     "end_time": "2023-03-08T16:05:35.420079",
     "exception": false,
     "start_time": "2023-03-08T16:05:35.261894",
     "status": "completed"
    },
    "tags": []
   },
   "outputs": [
    {
     "name": "stdout",
     "output_type": "stream",
     "text": [
      "SEQ: MMMELQHQRLMALAGQLQLESLISAAPALSQQAVDQEWSYMDFLEHLLHEEKLARHQRKQAMYTRMAAFPAVKTFEEYDFTFATGAPQKQLQSLRSLSFIERNENIVLLGPSGVGKTHLAIAMGYEAVRAGIKVRFTTAADLLLQLSTAQRQGRYKTTLQRGVMAPRLLIIDEIGYLPFSQEEAKLFFQVIAKRYEKSAMILTSNLPFGQWDQTFAGDAALTSAMLDRILHHSHVVQIKGESYRLRQKRKAGVIAEANPE TYPE: aa\n"
     ]
    }
   ],
   "source": [
    "# show sequence information; seq and type\n",
    "col_seq_aa[1].info()"
   ]
  },
  {
   "cell_type": "code",
   "execution_count": 84,
   "metadata": {
    "execution": {
     "iopub.execute_input": "2023-03-08T16:05:35.721820Z",
     "iopub.status.busy": "2023-03-08T16:05:35.720932Z",
     "iopub.status.idle": "2023-03-08T16:05:35.727508Z",
     "shell.execute_reply": "2023-03-08T16:05:35.727993Z",
     "shell.execute_reply.started": "2023-03-08T13:55:18.894340Z"
    },
    "papermill": {
     "duration": 0.15941,
     "end_time": "2023-03-08T16:05:35.728240",
     "exception": false,
     "start_time": "2023-03-08T16:05:35.568830",
     "status": "completed"
    },
    "tags": []
   },
   "outputs": [
    {
     "name": "stdout",
     "output_type": "stream",
     "text": [
      "Number of Sequences stored: 10\n",
      "List of Sequences Type: <class 'list'>\n",
      "List Content Type: <class '__main__.SQ'>\n",
      "Single Fetched Sequence Type: <class '__main__.SQ'>\n"
     ]
    }
   ],
   "source": [
    "print(f'Number of Sequences stored: {len(col_seq_aa)}'); \n",
    "print(f'List of Sequences Type: {type(col_seq_aa)}')\n",
    "print(f'List Content Type: {type(col_seq_aa[0])}')\n",
    "print(f'Single Fetched Sequence Type: {type(col_seq_n)}') # seqrec objects"
   ]
  },
  {
   "cell_type": "code",
   "execution_count": 85,
   "metadata": {
    "execution": {
     "iopub.execute_input": "2023-03-08T16:05:36.037668Z",
     "iopub.status.busy": "2023-03-08T16:05:36.036865Z",
     "iopub.status.idle": "2023-03-08T16:05:36.040873Z",
     "shell.execute_reply": "2023-03-08T16:05:36.040316Z",
     "shell.execute_reply.started": "2023-03-08T13:55:18.911585Z"
    },
    "papermill": {
     "duration": 0.162495,
     "end_time": "2023-03-08T16:05:36.041067",
     "exception": false,
     "start_time": "2023-03-08T16:05:35.878572",
     "status": "completed"
    },
    "tags": []
   },
   "outputs": [
    {
     "name": "stdout",
     "output_type": "stream",
     "text": [
      "Create subsequence:\n",
      "\n",
      "SEQ: \u001b[93mG\u001b[92mA\u001b[94mC\u001b[92mA\u001b[93mG\u001b[91mT\u001b[91mT\u001b[92mA\u001b[91mT\u001b[93mG\u001b[93mG\u001b[92mA\u001b[92mA\u001b[92mA\u001b[91mT\u001b[91mT\u001b[92mA\u001b[92mA\u001b[92mA\u001b[92mA\u001b[91mT\u001b[94mC\u001b[94mC\u001b[91mT\u001b[93mG\u001b[94mC\u001b[92mA\u001b[94mC\u001b[92mA\u001b[92mA\u001b[93mG\u001b[94mC\u001b[92mA\u001b[93mG\u001b[93mG\u001b[93mG\u001b[92mA\u001b[92mA\u001b[91mT\u001b[93mG\u001b[92mA\u001b[93mG\u001b[91mT\u001b[92mA\u001b[93mG\u001b[94mC\u001b[94mC\u001b[93mG\u001b[93mG\u001b[93mG\u001b[94mC\u001b[93mG\u001b[92mA\u001b[91mT\u001b[91mT\u001b[93mG\u001b[94mC\u001b[94mC\u001b[92mA\u001b[93mG\u001b[92mA\u001b[93mG\u001b[92mA\u001b[92mA\u001b[94mC\u001b[91mT\u001b[93mG\u001b[93mG\u001b[93mG\u001b[93mG\u001b[92mA\u001b[91mT\u001b[94mC\u001b[91mT\u001b[94mC\u001b[94mC\u001b[94mC\u001b[93mG\u001b[94mC\u001b[92mA\u001b[92mA\u001b[91mT\u001b[92mA\u001b[94mC\u001b[94mC\u001b[93mG\u001b[91mT\u001b[91mT\u001b[92mA\u001b[92mA\u001b[92mA\u001b[94mC\u001b[93mG\u001b[91mT\u001b[91mT\u001b[92mA\u001b[91mT\u001b[91mT\u001b[91mT\u001b[93mG\u001b[94mC\u001b[92mA\u001b[93mG\u001b[93mG\u001b[94mC\u001b[92mA\u001b[92mA\u001b[92mA\u001b[92mA\u001b[91mT\u001b[94mC\u001b[91mT\u001b[93mG\u001b[92mA\u001b[93mG\u001b[94mC\u001b[94mC\u001b[93mG\u001b[94mC\u001b[94mC\u001b[92mA\u001b[92mA\u001b[92mA\u001b[92mA\u001b[91mT\u001b[92mA\u001b[91mT\u001b[92mA\u001b[94mC\u001b[93mG\u001b[94mC\u001b[94mC\u001b[93mG\u001b[94mC\u001b[93mG\u001b[92mA\u001b[94mC\u001b[94mC\u001b[91mT\u001b[93mG\u001b[94mC\u001b[91mT\u001b[93mG\u001b[91mT\u001b[91mT\u001b[93mG\u001b[94mC\u001b[91mT\u001b[91mT\u001b[94mC\u001b[92mA\u001b[94mC\u001b[91mT\u001b[94mC\u001b[94mC\u001b[91mT\u001b[93mG\u001b[93mG\u001b[92mA\u001b[91mT\u001b[93mG\u001b[92mA\u001b[92mA\u001b[91mT\u001b[92mA\u001b[94mC\u001b[94mC\u001b[93mG\u001b[93mG\u001b[93mG\u001b[92mA\u001b[91mT\u001b[91mT\u001b[92mA\u001b[91mT\u001b[92mA\u001b[91mT\u001b[91mT\u001b[94mC\u001b[93mG\u001b[91mT\u001b[94mC\u001b[92mA\u001b[92mA\u001b[94mC\u001b[93mG\u001b[94mC\u001b[92mA\u001b[91mT\u001b[94mC\u001b[93mG\u001b[94mC\u001b[94mC\u001b[93mG\u001b[92mA\u001b[91mT\u001b[93mG\u001b[94mC\u001b[91mT\u001b[94mC\u001b[92mA\u001b[91mT\u001b[94mC\u001b[94mC\u001b[91mT\u001b[91mT\u001b[92mA\u001b[94mC\u001b[92mA\u001b[92mA\u001b[92mA\u001b[92mA\u001b[91mT\u001b[94mC\u001b[94mC\u001b[94mC\u001b[93mG\u001b[93mG\u001b[94mC\u001b[92mA\u001b[92mA\u001b[94mC\u001b[93mG\u001b[93mG\u001b[91mT\u001b[92mA\u001b[92mA\u001b[91mT\u001b[94mC\u001b[93mG\u001b[94mC\u001b[91mT\u001b[94mC\u001b[93mG\u001b[94mC\u001b[93mG\u001b[92mA\u001b[93mG\u001b[92mA\u001b[91mT\u001b[94mC\u001b[92mA\u001b[93mG\u001b[92mA\u001b[93mG\u001b[92mA\u001b[94mC\u001b[94mC\u001b[92mA\u001b[93mG\u001b[93mG\u001b[93mG\u001b[92mA\u001b[91mT\u001b[92mA\u001b[91mT\u001b[94mC\u001b[93mG\u001b[91mT\u001b[93mG\u001b[93mG\u001b[94mC\u001b[93mG\u001b[93mG\u001b[92mA\u001b[92mA\u001b[91mT\u001b[93mG\u001b[92mA\u001b[94mC\u001b[94mC\u001b[92mA\u001b[91mT\u001b[91mT\u001b[94mC\u001b[91mT\u001b[94mC\u001b[92mA\u001b[93mG\u001b[93mG\u001b[93mG\u001b[94mC\u001b[92mA\u001b[91mT\u001b[91mT\u001b[94mC\u001b[92mA\u001b[91mT\u001b[91mT\u001b[94mC\u001b[93mG\u001b[91mT\u001b[91mT\u001b[94mC\u001b[91mT\u001b[94mC\u001b[91mT\u001b[94mC\u001b[91mT\u001b[94mC\u001b[93mG\u001b[93mG\u001b[91mT\u001b[91mT\u001b[94mC\u001b[94mC\u001b[91mT\u001b[94mC\u001b[92mA\u001b[93mG\u001b[93mG\u001b[92mA\u001b[93mG\u001b[94mC\u001b[92mA\u001b[93mG\u001b[93mG\u001b[92mA\u001b[93mG\u001b[94mC\u001b[94mC\u001b[91mT\u001b[93mG\u001b[94mC\u001b[94mC\u001b[93mG\u001b[91mT\u001b[91mT\u001b[94mC\u001b[93mG\u001b[93mG\u001b[91mT\u001b[91mT\u001b[94mC\u001b[93mG\u001b[92mA\u001b[92mA\u001b[92mA\u001b[94mC\u001b[91mT\u001b[93mG\u001b[92mA\u001b[92mA\u001b[94mC\u001b[94mC\u001b[94mC\u001b[93mG\u001b[93mG\u001b[92mA\u001b[94mC\u001b[93mG\u001b[92mA\u001b[94mC\u001b[92mA\u001b[93mG\u001b[92mA\u001b[91mT\u001b[93mG\u001b[94mC\u001b[92mA\u001b[93mG\u001b[93mG\u001b[91mT\u001b[91mT\u001b[93mG\u001b[92mA\u001b[94mC\u001b[91mT\u001b[93mG\u001b[93mG\u001b[93mG\u001b[93mG\u001b[94mC\u001b[92mA\u001b[94mC\u001b[91mT\u001b[92mA\u001b[91mT\u001b[93mG\u001b[94mC\u001b[93mG\u001b[91mT\u001b[92mA\u001b[92mA\u001b[91mT\u001b[93mG\u001b[93mG\u001b[91mT\u001b[94mC\u001b[93mG\u001b[94mC\u001b[91mT\u001b[94mC\u001b[92mA\u001b[94mC\u001b[94mC\u001b[93mG\u001b[94mC\u001b[91mT\u001b[91mT\u001b[0;0m TYPE: dna\n",
      "\n",
      "Decode DNA: \n",
      "\n",
      "Proteins in Sequence col_seq_subset:\n",
      "MNALRMVIPPRYPWSLISRAITVAGIL    MLILTKSRQR                     \n",
      "MVIPPRYPWSLISRAITVAGIL         MP                             \n",
      "MNTGIIFVNASPMLILTKSRQR         MR                             \n",
      "MSIGDALTNIIPVFIQE                                             \n"
     ]
    }
   ],
   "source": [
    "# Select only a subset as the strand is a little too big (arbitrarily selected)\n",
    "print('Create subsequence:\\n')\n",
    "subseq_string = col_seq_n.seq[100:500]\n",
    "col_seq_subset = SQ(seq=subseq_string,\n",
    "                    seq_type=col_seq_n.seq_type)\n",
    "col_seq_subset.info()\n",
    "\n",
    "print('\\nDecode DNA: \\n')\n",
    "# get all proteins with a length of more than 1\n",
    "proteins = col_seq_subset.decode.protein()\n",
    "\n",
    "# # list all found proteins above a length of 2 \n",
    "print('Proteins in Sequence col_seq_subset:')\n",
    "lstcol(proteins,2)"
   ]
  },
  {
   "cell_type": "code",
   "execution_count": 86,
   "metadata": {
    "execution": {
     "iopub.execute_input": "2023-03-08T16:05:36.345563Z",
     "iopub.status.busy": "2023-03-08T16:05:36.344769Z",
     "iopub.status.idle": "2023-03-08T16:05:36.353187Z",
     "shell.execute_reply": "2023-03-08T16:05:36.352519Z",
     "shell.execute_reply.started": "2023-03-08T13:55:18.932587Z"
    },
    "papermill": {
     "duration": 0.162358,
     "end_time": "2023-03-08T16:05:36.353364",
     "exception": false,
     "start_time": "2023-03-08T16:05:36.191006",
     "status": "completed"
    },
    "tags": []
   },
   "outputs": [
    {
     "name": "stdout",
     "output_type": "stream",
     "text": [
      "READ -> FASTA [generic] | #SEQ: 1\n"
     ]
    }
   ],
   "source": [
    "# read sequence from file\n",
    "file_fasta = '/kaggle/input/bioinformatics/sequences/P38398.fasta'\n",
    "aa_seq = read_seq(file_fasta).get_sq()"
   ]
  },
  {
   "cell_type": "code",
   "execution_count": 87,
   "metadata": {
    "execution": {
     "iopub.execute_input": "2023-03-08T16:05:36.659923Z",
     "iopub.status.busy": "2023-03-08T16:05:36.659196Z",
     "iopub.status.idle": "2023-03-08T16:05:36.664278Z",
     "shell.execute_reply": "2023-03-08T16:05:36.664928Z",
     "shell.execute_reply.started": "2023-03-08T13:55:18.948080Z"
    },
    "papermill": {
     "duration": 0.16114,
     "end_time": "2023-03-08T16:05:36.665163",
     "exception": false,
     "start_time": "2023-03-08T16:05:36.504023",
     "status": "completed"
    },
    "tags": []
   },
   "outputs": [
    {
     "data": {
      "text/plain": [
       "'>sp|P38398|BRCA1_HUMAN Breast cancer type 1 susceptibility protein OS=Homo sapiens OX=9606 GN=BRCA1 PE=1 SV=2\\n'"
      ]
     },
     "execution_count": 87,
     "metadata": {},
     "output_type": "execute_result"
    }
   ],
   "source": [
    "# sequence description\n",
    "aa_seq.description"
   ]
  },
  {
   "cell_type": "code",
   "execution_count": 88,
   "metadata": {
    "execution": {
     "iopub.execute_input": "2023-03-08T16:05:36.972867Z",
     "iopub.status.busy": "2023-03-08T16:05:36.972032Z",
     "iopub.status.idle": "2023-03-08T16:05:36.978225Z",
     "shell.execute_reply": "2023-03-08T16:05:36.978857Z",
     "shell.execute_reply.started": "2023-03-08T13:55:18.954993Z"
    },
    "papermill": {
     "duration": 0.159941,
     "end_time": "2023-03-08T16:05:36.979073",
     "exception": false,
     "start_time": "2023-03-08T16:05:36.819132",
     "status": "completed"
    },
    "tags": []
   },
   "outputs": [
    {
     "data": {
      "text/plain": [
       "'MDLSALRVEEVQNVINAMQKILECPICLELIKEPVSTKCDHIFCKFCMLKLLNQKKGPSQCPLCKNDITKRSLQESTRFSQLVEELLKIICAFQLDTGLEYANSYNFAKKENNSPEHLKDEVSIIQSMGYRNRAKRLLQSEPENPSLQETSLSVQLSNLGTVRTLRTKQRIQPQKTSVYIELGSDSSEDTVNKATYCSVGDQELLQITPQGTRDEISLDSAKKAACEFSETDVTNTEHHQPSNNDLNTTEKRAAERHPEKYQGSSVSNLHVEPCGTNTHASSLQHENSSLLLTKDRMNVEKAEFCNKSKQPGLARSQHNRWAGSKETCNDRRTPSTEKKVDLNADPLCERKEWNKQKLPCSENPRDTEDVPWITLNSSIQKVNEWFSRSDELLGSDDSHDGESESNAKVADVLDVLNEVDEYSGSSEKIDLLASDPHEALICKSERVHSKSVESNIEDKIFGKTYRKKASLPNLSHVTENLIIGAFVTEPQIIQERPLTNKLKRKRRPTSGLHPEDFIKKADLAVQKTPEMINQGTNQTEQNGQVMNITNSGHENKTKGDSIQNEKNPNPIESLEKESAFKTKAEPISSSISNMELELNIHNSKAPKKNRLRRKSSTRHIHALELVVSRNLSPPNCTELQIDSCSSSEEIKKKKYNQMPVRHSRNLQLMEGKEPATGAKKSNKPNEQTSKRHDSDTFPELKLTNAPGSFTKCSNTSELKEFVNPSLPREEKEEKLETVKVSNNAEDPKDLMLSGERVLQTERSVESSSISLVPGTDYGTQESISLLEVSTLGKAKTEPNKCVSQCAAFENPKGLIHGCSKDNRNDTEGFKYPLGHEVNHSRETSIEMEESELDAQYLQNTFKVSKRQSFAPFSNPGNAEEECATFSAHSGSLKKQSPKVTFECEQKEENQGKNESNIKPVQTVNITAGFPVVGQKDKPVDNAKCSIKGGSRFCLSSQFRGNETGLITPNKHGLLQNPYRIPPLFPIKSFVKTKCKKNLLEENFEEHSMSPEREMGNENIPSTVSTISRNNIRENVFKEASSSNINEVGSSTNEVGSSINEIGSSDENIQAELGRNRGPKLNAMLRLGVLQPEVYKQSLPGSNCKHPEIKKQEYEEVVQTVNTDFSPYLISDNLEQPMGSSHASQVCSETPDDLLDDGEIKEDTSFAENDIKESSAVFSKSVQKGELSRSPSPFTHTHLAQGYRRGAKKLESSEENLSSEDEELPCFQHLLFGKVNNIPSQSTRHSTVATECLSKNTEENLLSLKNSLNDCSNQVILAKASQEHHLSEETKCSASLFSSQCSELEDLTANTNTQDPFLIGSSKQMRHQSESQGVGLSDKELVSDDEERGTGLEENNQEEQSMDSNLGEAASGCESETSVSEDCSGLSSQSDILTTQQRDTMQHNLIKLQQEMAELEAVLEQHGSQPSNSYPSIISDSSALEDLRNPEQSTSEKAVLTSQKSSEYPISQNPEGLSADKFEVSADSSTSKNKEPGVERSSPSKCPSLDDRWYMHSCSGSLQNRNYPSQEELIKVVDVEEQQLEESGPHDLTETSYLPRQDLEGTPYLESGISLFSDDPESDPSEDRAPESARVGNIPSSTSALKVPQLKVAESAQSPAAAHTTDTAGYNAMEESVSREKPELTASTERVNKRMSMVVSGLTPEEFMLVYKFARKHHITLTNLITEETTHVVMKTDAEFVCERTLKYFLGIAGGKWVVSYFWVTQSIKERKMLNEHDFEVRGDVVNGRNHQGPKRARESQDRKIFRGLEICCYGPFTNMPTDQLEWMVQLCGASVVKELSSFTLGTGVHPIVVVQPDAWTEDNGFHAIGQMCEAPVVTREWVLDSVALYQCQELDTYLIPQIPHSHY'"
      ]
     },
     "execution_count": 88,
     "metadata": {},
     "output_type": "execute_result"
    }
   ],
   "source": [
    "# sequence string\n",
    "aa_seq.seq"
   ]
  },
  {
   "cell_type": "code",
   "execution_count": 89,
   "metadata": {
    "execution": {
     "iopub.execute_input": "2023-03-08T16:05:37.287468Z",
     "iopub.status.busy": "2023-03-08T16:05:37.282924Z",
     "iopub.status.idle": "2023-03-08T16:05:37.293150Z",
     "shell.execute_reply": "2023-03-08T16:05:37.292512Z",
     "shell.execute_reply.started": "2023-03-08T13:55:18.968033Z"
    },
    "papermill": {
     "duration": 0.163407,
     "end_time": "2023-03-08T16:05:37.293331",
     "exception": false,
     "start_time": "2023-03-08T16:05:37.129924",
     "status": "completed"
    },
    "tags": []
   },
   "outputs": [
    {
     "name": "stdout",
     "output_type": "stream",
     "text": [
      "showing first for C.H.[LIVMFY]C.{2}C[LIVMYA]\n"
     ]
    },
    {
     "data": {
      "text/plain": [
       "38"
      ]
     },
     "execution_count": 89,
     "metadata": {},
     "output_type": "execute_result"
    }
   ],
   "source": [
    "# find_id -> 'first' (find the first match index)\n",
    "# find id -> 'all' (find all non overlapping indicies)\n",
    "# find_id -> 'overlap' (find all overlapping indicies)\n",
    "\n",
    "aa_seq.pattern.find(pattern='C-x-H-x-[LIVMFY]-C-x(2)-C-[LIVMYA]',\n",
    "                    find_id='first',                                            \n",
    "                    search_id='prosite')"
   ]
  },
  {
   "cell_type": "code",
   "execution_count": 90,
   "metadata": {
    "execution": {
     "iopub.execute_input": "2023-03-08T16:05:37.599983Z",
     "iopub.status.busy": "2023-03-08T16:05:37.599288Z",
     "iopub.status.idle": "2023-03-08T16:05:37.607924Z",
     "shell.execute_reply": "2023-03-08T16:05:37.608453Z",
     "shell.execute_reply.started": "2023-03-08T13:55:18.982311Z"
    },
    "papermill": {
     "duration": 0.165763,
     "end_time": "2023-03-08T16:05:37.608684",
     "exception": false,
     "start_time": "2023-03-08T16:05:37.442921",
     "status": "completed"
    },
    "tags": []
   },
   "outputs": [
    {
     "name": "stdout",
     "output_type": "stream",
     "text": [
      "found 3 matches\n"
     ]
    },
    {
     "data": {
      "text/plain": [
       "[847, 1539, 1628]"
      ]
     },
     "execution_count": 90,
     "metadata": {},
     "output_type": "execute_result"
    }
   ],
   "source": [
    "# find all EES patterns\n",
    "aa_seq.pattern.find(pattern='EES',\n",
    "                    find_id='all',                                            \n",
    "                    search_id='standard')"
   ]
  },
  {
   "cell_type": "code",
   "execution_count": 91,
   "metadata": {
    "execution": {
     "iopub.execute_input": "2023-03-08T16:05:37.917419Z",
     "iopub.status.busy": "2023-03-08T16:05:37.916673Z",
     "iopub.status.idle": "2023-03-08T16:05:37.922312Z",
     "shell.execute_reply": "2023-03-08T16:05:37.922878Z",
     "shell.execute_reply.started": "2023-03-08T13:55:18.994694Z"
    },
    "papermill": {
     "duration": 0.161816,
     "end_time": "2023-03-08T16:05:37.923094",
     "exception": false,
     "start_time": "2023-03-08T16:05:37.761278",
     "status": "completed"
    },
    "tags": []
   },
   "outputs": [
    {
     "data": {
      "text/plain": [
       "['AAGATTCGAGC', 'ATGCAAACCGGATACA']"
      ]
     },
     "execution_count": 91,
     "metadata": {},
     "output_type": "execute_result"
    }
   ],
   "source": [
    "# Arbitrary cut pattern at |\n",
    "n_seq = SQ('AAGATTCGAGCATGCAAACCGGATACA',seq_type='dna')\n",
    "n_seq.cut.cut_pattern('AGC|AT')"
   ]
  },
  {
   "cell_type": "code",
   "execution_count": 92,
   "metadata": {
    "execution": {
     "iopub.execute_input": "2023-03-08T16:05:38.231925Z",
     "iopub.status.busy": "2023-03-08T16:05:38.231060Z",
     "iopub.status.idle": "2023-03-08T16:05:38.242752Z",
     "shell.execute_reply": "2023-03-08T16:05:38.242087Z",
     "shell.execute_reply.started": "2023-03-08T13:55:19.062200Z"
    },
    "papermill": {
     "duration": 0.166571,
     "end_time": "2023-03-08T16:05:38.242939",
     "exception": false,
     "start_time": "2023-03-08T16:05:38.076368",
     "status": "completed"
    },
    "tags": []
   },
   "outputs": [
    {
     "name": "stdout",
     "output_type": "stream",
     "text": [
      "[note] cutting @0 w/ 10 segments\n",
      "Input Sequence Length: 51\n",
      "# Bases cut-off: 1\n",
      "Updated sequence length: 50\n",
      "# Segments: 5 created\n"
     ]
    },
    {
     "data": {
      "text/plain": [
       "array([[[0, 0, 1, 0],\n",
       "        [0, 0, 1, 0],\n",
       "        [1, 0, 0, 0],\n",
       "        [1, 0, 0, 0],\n",
       "        [0, 0, 0, 1],\n",
       "        [0, 0, 0, 1],\n",
       "        [0, 0, 1, 0],\n",
       "        [0, 0, 1, 0],\n",
       "        [0, 1, 0, 0],\n",
       "        [0, 0, 1, 0]],\n",
       "\n",
       "       [[1, 0, 0, 0],\n",
       "        [0, 0, 1, 0],\n",
       "        [0, 1, 0, 0],\n",
       "        [0, 1, 0, 0],\n",
       "        [0, 0, 1, 0],\n",
       "        [0, 1, 0, 0],\n",
       "        [1, 0, 0, 0],\n",
       "        [1, 0, 0, 0],\n",
       "        [0, 0, 1, 0],\n",
       "        [0, 1, 0, 0]],\n",
       "\n",
       "       [[1, 0, 0, 0],\n",
       "        [0, 0, 0, 1],\n",
       "        [0, 0, 1, 0],\n",
       "        [1, 0, 0, 0],\n",
       "        [0, 1, 0, 0],\n",
       "        [0, 0, 1, 0],\n",
       "        [0, 0, 1, 0],\n",
       "        [1, 0, 0, 0],\n",
       "        [0, 0, 0, 1],\n",
       "        [0, 1, 0, 0]]])"
      ]
     },
     "execution_count": 92,
     "metadata": {},
     "output_type": "execute_result"
    }
   ],
   "source": [
    "# define sequence and create OHE features\n",
    "seqn = SQ('ATGACGGATCAGCCGCAAGCGGAATTGGCGTTTACGTACGATGCGCCGTAA',seq_type='dna')\n",
    "features, index = seqn.cut.dnaseq_features(0,10,'dna_features')\n",
    "features"
   ]
  },
  {
   "cell_type": "code",
   "execution_count": 93,
   "metadata": {
    "execution": {
     "iopub.execute_input": "2023-03-08T16:05:38.553182Z",
     "iopub.status.busy": "2023-03-08T16:05:38.552044Z",
     "iopub.status.idle": "2023-03-08T16:05:38.555768Z",
     "shell.execute_reply": "2023-03-08T16:05:38.556290Z",
     "shell.execute_reply.started": "2023-03-08T13:55:19.077001Z"
    },
    "papermill": {
     "duration": 0.161542,
     "end_time": "2023-03-08T16:05:38.556519",
     "exception": false,
     "start_time": "2023-03-08T16:05:38.394977",
     "status": "completed"
    },
    "tags": []
   },
   "outputs": [
    {
     "data": {
      "text/plain": [
       "['dna_features_0:10', 'dna_features_10:20', 'dna_features_20:30']"
      ]
     },
     "execution_count": 93,
     "metadata": {},
     "output_type": "execute_result"
    }
   ],
   "source": [
    "# show index of cut segments\n",
    "index"
   ]
  },
  {
   "cell_type": "code",
   "execution_count": 94,
   "metadata": {
    "execution": {
     "iopub.execute_input": "2023-03-08T16:05:38.874034Z",
     "iopub.status.busy": "2023-03-08T16:05:38.873165Z",
     "iopub.status.idle": "2023-03-08T16:05:38.897517Z",
     "shell.execute_reply": "2023-03-08T16:05:38.896899Z",
     "shell.execute_reply.started": "2023-03-08T13:55:19.087315Z"
    },
    "papermill": {
     "duration": 0.184893,
     "end_time": "2023-03-08T16:05:38.897708",
     "exception": false,
     "start_time": "2023-03-08T16:05:38.712815",
     "status": "completed"
    },
    "tags": []
   },
   "outputs": [],
   "source": [
    "# Class to access BioPython's blastwww & plot alignments \n",
    "class BLASTwww:\n",
    "    \n",
    "    # Constructor\n",
    "    def __init__(self,seq=None,        # input sequence (Seq/string)\n",
    "                      program='blastp', # BLAST program (blastn/blastp)\n",
    "                      database='pdb',  # BLAST query database\n",
    "                      verbose=False,   # write outputs\n",
    "                      show_top=10,     # maximum number of hits\n",
    "                      hit_id=0,        # show query match id #\n",
    "                      read_xml=False,   # read XML BLAST query over new query\n",
    "                      name=None):      # query identifier\n",
    "        \n",
    "        self.seq = seq \n",
    "        self.database = database\n",
    "        self.verbose = verbose\n",
    "        self.show_top = show_top\n",
    "        self.hit_id = hit_id\n",
    "        self.read_xml = read_xml # if present -> read xml\n",
    "        self.name = name  # search identifier (used for save)\n",
    "        self.program = program # blast search program\n",
    "        self.query_df = None   # dataframe that stored query data\n",
    "        \n",
    "        # Colourcoding dictionary\n",
    "        self.dict_cc = {'A':'#3386FF','C':'#3386FF','D':'#B842B2','E':'#B842B2',\n",
    "                        'F':'#3386FF','G':'#FF5733','H':'#37ADBB','I':'#3386FF',\n",
    "                        'L':'#3386FF','M':'#3386FF','N':'#24CE5D','P':'#E3E710',\n",
    "                        'Q':'#24CE5D','R':'#D3385E','S':'#24CE5D','T':'#24CE5D',\n",
    "                        'V':'#3386FF','W':'#3386FF','Y':'#37ADBB','_':'white',\n",
    "                        'K':'#D3385E'}\n",
    "        \n",
    "    ''' Save BLAST search in CSV format '''\n",
    "    # read xml & convert to pandas dataframe\n",
    "    \n",
    "    def save(self):\n",
    "        \n",
    "        # save search xml\n",
    "        sf = open(f\"/kaggle/working/blast_{self.name}.xml\", \"w\")\n",
    "        sf.write(self.__result_handle.read()) \n",
    "        self.__result_handle.close()\n",
    "        sf.close() \n",
    "\n",
    "        # save metadata\n",
    "        self.df.to_csv(f'/kaggle/working/csv_{self.name}.csv')\n",
    "        \n",
    "    ''' Search for aminoacid chain in database '''\n",
    "    # Find amino acid sequence in NCBI databases\n",
    "    # by default, program -> blastp (protein/aa chain search)\n",
    "    # To prevent multiple fetches, read xml is active & reads xml if fetched\n",
    "    # more than once\n",
    "    \n",
    "    def fetch(self):\n",
    "\n",
    "        # Input in BioPython Sequence Format\n",
    "        if(type(self.seq) is str):\n",
    "            self.seq = Seq(self.seq)\n",
    "        \n",
    "        if(self.read_xml == True):\n",
    "            self.__result_handle = open(f\"/kaggle/working/blast_{self.name}.xml\")\n",
    "            blast_qresult = SearchIO.read(self.__result_handle,\"blast-xml\")\n",
    "        else:\n",
    "            self.__result_handle = NCBIWWW.qblast(self.program,\n",
    "                                                  self.database,\n",
    "                                                  self.seq)\n",
    "            \n",
    "            blast_qresult = SearchIO.read(self.__result_handle,\"blast-xml\")\n",
    "            self.read_xml = True # blast query has been saved\n",
    " \n",
    "        ii=-1\n",
    "        lst_id = []; lst_descr = []; lst_bitscore = []\n",
    "        lst_ali = []; lst_eval = []\n",
    "        \n",
    "        for f in blast_qresult: \n",
    "            ii+=1\n",
    "            seqid = blast_qresult[ii]\n",
    "            details = seqid[0]\n",
    "\n",
    "            lst_id.append(seqid.id)\n",
    "            lst_descr.append(seqid.description)\n",
    "            lst_eval.append(details.evalue)\n",
    "            lst_bitscore.append(details.bitscore)\n",
    "            lst_ali.append(details.aln)\n",
    "\n",
    "        dic_data = {'id':lst_id,'description':lst_descr,\n",
    "                    'evalue':lst_eval,'bitscore':lst_bitscore,\n",
    "                    'alignment':lst_ali}\n",
    "\n",
    "        self.__query_df = pd.DataFrame(dic_data)\n",
    "\n",
    "        if(self.verbose):\n",
    "\n",
    "            print(blast_qresult[0:self.show_top])\n",
    "            #fetch the id, description, evalue, bitscore & alignment\n",
    "            print(f'\\nShowing BLAST query result #{hit_id}')\n",
    "            print('------------------------------------------------------------')\n",
    "            seqid = blast_qresult[hit_id]\n",
    "            details = seqid[hit_id]\n",
    "\n",
    "            print(f'Sequence ID: {seqid.id}')\n",
    "            print(f'Description: {seqid.description}')\n",
    "            print(f'e-value: {details.evalue}')\n",
    "            print(f'Bit Score: {details.bitscore}')\n",
    "\n",
    "            print('\\nShowing Alignment:')\n",
    "            print('------------------------------------------------------------')\n",
    "            print(f\"Alignment:\\n{details.aln}\")\n",
    "            \n",
    "    def __get_colors(self,seqs):\n",
    "        \"\"\"make colors for bases in sequence\"\"\"\n",
    "        text = [i for s in list(seqs) for i in s]\n",
    "        colors = [self.dict_cc[i] for i in text]\n",
    "        return colors\n",
    "    \n",
    "    ''' Visualise BLAST query '''\n",
    "    # After fetch, view result dataframe\n",
    "    \n",
    "    def view_query(self):\n",
    "        \n",
    "        if(self.__query_df is not None):\n",
    "            return self.__query_df\n",
    "            \n",
    "    ''' View Alignment '''\n",
    "    # View BLAST alignment using Bokeh\n",
    "    \n",
    "    def view_alignment(self,aln_id,\n",
    "                  fontsize=\"9pt\",\n",
    "                  plot_width=800):\n",
    "        \n",
    "        # Choose Alignment \n",
    "        if(self.__query_df is not None):\n",
    "            aln_id = self.__query_df.loc[aln_id,'alignment']\n",
    "            \n",
    "        #make sequence and id lists from the aln object\n",
    "        seqs = [rec.seq for rec in (aln_id)]\n",
    "        ids = [rec.id for rec in aln_id]    \n",
    "        text = [i for s in list(seqs) for i in s]\n",
    "        colors = self.__get_colors(seqs)    \n",
    "        N = len(seqs[0])\n",
    "        S = len(seqs)    \n",
    "\n",
    "        x = np.arange(0.5,N+0.5)\n",
    "        y = np.arange(0,S,1)\n",
    "        #creates a 2D grid of coords from the 1D arrays\n",
    "        xx, yy = np.meshgrid(x, y)\n",
    "        #flattens the arrays\n",
    "        gx = xx.ravel()\n",
    "        gy = yy.flatten()\n",
    "        #use recty for rect coords with an offset\n",
    "        recty = gy+0.5\n",
    "        h= 1/S\n",
    "        #now we can create the ColumnDataSource with all the arrays\n",
    "        source = ColumnDataSource(dict(x=gx, y=gy, recty=recty, text=text, colors=colors))\n",
    "        plot_height = len(seqs)*15+25\n",
    "        x_range = Range1d(0,N+1, bounds='auto')\n",
    "        if N>100:\n",
    "            viewlen=50\n",
    "        else:\n",
    "            viewlen=N\n",
    "        #view_range is for the close up view\n",
    "        view_range = (0,viewlen)\n",
    "        tools=\"xpan, xwheel_zoom, reset, save\" \n",
    "\n",
    "        #entire sequence view (no text, with zoom)\n",
    "        p = figure(title=None, plot_width= plot_width, plot_height=50,\n",
    "                   x_range=x_range, y_range=(0,S), tools=tools,\n",
    "                   min_border=0, toolbar_location='below')\n",
    "        rects = Rect(x=\"x\", y=\"recty\",  width=1, height=1, fill_color=\"colors\",\n",
    "                     line_color=None, fill_alpha=0.6)\n",
    "        p.add_glyph(source, rects)\n",
    "        p.yaxis.visible = False\n",
    "        p.grid.visible = False  \n",
    "\n",
    "        #sequence text view with ability to scroll along x axis\n",
    "        p1 = figure(title=None, plot_width=plot_width, plot_height=plot_height,\n",
    "                    x_range=view_range, y_range=ids, tools=\"xpan,reset\",\n",
    "                    min_border=0, toolbar_location='below')#, lod_factor=1)          \n",
    "        glyph = Text(x=\"x\", y=\"y\", text=\"text\", text_align='center',text_color=\"black\",\n",
    "                    text_font_size=fontsize,text_font_style='bold')\n",
    "        rects = Rect(x=\"x\", y=\"recty\",  width=1.0, height=1, fill_color=\"colors\",\n",
    "                    line_color=None, fill_alpha=0.4)\n",
    "        p1.add_glyph(source, glyph)\n",
    "        p1.add_glyph(source, rects)\n",
    "\n",
    "        p1.grid.visible = False\n",
    "        p1.xaxis.major_label_text_font_style = \"bold\"\n",
    "        p1.yaxis.minor_tick_line_width = 0\n",
    "        p1.yaxis.major_tick_line_width = 0\n",
    "        \n",
    "        return gridplot([[p],[p1]],toolbar_location='below') "
   ]
  },
  {
   "cell_type": "code",
   "execution_count": 95,
   "metadata": {
    "execution": {
     "iopub.execute_input": "2023-03-08T16:05:39.207220Z",
     "iopub.status.busy": "2023-03-08T16:05:39.206306Z",
     "iopub.status.idle": "2023-03-08T16:05:39.214691Z",
     "shell.execute_reply": "2023-03-08T16:05:39.215233Z",
     "shell.execute_reply.started": "2023-03-08T13:55:19.125384Z"
    },
    "papermill": {
     "duration": 0.166375,
     "end_time": "2023-03-08T16:05:39.215451",
     "exception": false,
     "start_time": "2023-03-08T16:05:39.049076",
     "status": "completed"
    },
    "tags": []
   },
   "outputs": [
    {
     "name": "stdout",
     "output_type": "stream",
     "text": [
      "READ -> FASTA [nucleic acid] | #SEQ: 1\n",
      "Sequence Header: >MN908947.3 Severe acute respiratory syndrome coronavirus 2 isolate Wuhan-Hu-1, complete genome\n",
      "\n"
     ]
    }
   ],
   "source": [
    "# Read FASTA format containing Covid Genome\n",
    "virus_fna = '/kaggle/input/coronavirus-genome-sequence/MN908947.fna'\n",
    "virus_n = read_seq(virus_fna) # read and store FNA data \n",
    "print(f'Sequence Header: {virus_n.lst_header[0]}')"
   ]
  },
  {
   "cell_type": "code",
   "execution_count": 96,
   "metadata": {
    "execution": {
     "iopub.execute_input": "2023-03-08T16:05:39.523307Z",
     "iopub.status.busy": "2023-03-08T16:05:39.522592Z",
     "iopub.status.idle": "2023-03-08T16:05:39.538003Z",
     "shell.execute_reply": "2023-03-08T16:05:39.538749Z",
     "shell.execute_reply.started": "2023-03-08T13:55:19.141482Z"
    },
    "papermill": {
     "duration": 0.171704,
     "end_time": "2023-03-08T16:05:39.539020",
     "exception": false,
     "start_time": "2023-03-08T16:05:39.367316",
     "status": "completed"
    },
    "tags": []
   },
   "outputs": [
    {
     "name": "stdout",
     "output_type": "stream",
     "text": [
      "Sequence length: 29903 nucleotides\n"
     ]
    },
    {
     "data": {
      "text/plain": [
       "'ATTAAAGGTTTATACCTTCCCAGGTAACAAACCAACCAACTTTCGATCTCTTGTAGATCTGTTCTCTAAACGAACTTTAAAATCTGTGTGGCTGTCACTCGGCTGCATGCTTAGTGCACTCACGCAGTATAATTAATAACTAATTACTGTCGTTGACAGGACACGAGTAACTCGTCTATCTTCTGCAGGCTGCTTACGGTTTCGTCCGTGTTGCAGCCGATCATCAGCACATCTAGGTTTCGTCCGGGTGTGACCGAAAGGTAAGATGGAGAGCCTTGTCCCTGGTTTCAACGAGAAAACACACGTCCAACTCAGTTTGCCTGTTTTACAGGTTCGCGACGTGCTCGTACGTGGCTTTGGAGACTCCGTGGAGGAGGTCTTATCAGAGGCACGTCAACATCTTAAAGATGGCACTTGTGGCTTAGTAGAAGTTGAAAAAGGCGTTTTGCCTCAACTTGAACAGCCCTATGTGTTCATCAAACGTTCGGATGCTCGAACTG'"
      ]
     },
     "execution_count": 96,
     "metadata": {},
     "output_type": "execute_result"
    }
   ],
   "source": [
    "# Store the sequence, defining a SQ class instance\n",
    "virus_sq = virus_n.get_sq()\n",
    "print(f'Sequence length: {len(virus_sq)} nucleotides')\n",
    "\n",
    "# The sequence is a bit too long, lets show the first 1000 characters\n",
    "virus_sq[0:500]"
   ]
  },
  {
   "cell_type": "markdown",
   "metadata": {
    "papermill": {
     "duration": 0.157201,
     "end_time": "2023-03-08T16:05:39.882316",
     "exception": false,
     "start_time": "2023-03-08T16:05:39.725115",
     "status": "completed"
    },
    "tags": []
   },
   "source": [
    "We visualise the nucleotide frequency in the entire sequence & also check the GC content (% wise)"
   ]
  },
  {
   "cell_type": "code",
   "execution_count": 97,
   "metadata": {
    "execution": {
     "iopub.execute_input": "2023-03-08T16:05:40.193873Z",
     "iopub.status.busy": "2023-03-08T16:05:40.193173Z",
     "iopub.status.idle": "2023-03-08T16:05:40.237883Z",
     "shell.execute_reply": "2023-03-08T16:05:40.236987Z",
     "shell.execute_reply.started": "2023-03-08T13:55:19.162368Z"
    },
    "papermill": {
     "duration": 0.201447,
     "end_time": "2023-03-08T16:05:40.238129",
     "exception": false,
     "start_time": "2023-03-08T16:05:40.036682",
     "status": "completed"
    },
    "tags": []
   },
   "outputs": [
    {
     "data": {
      "text/html": [
       "<div>                            <div id=\"79f793b1-d982-42ed-bc0f-197491b8dee2\" class=\"plotly-graph-div\" style=\"height:300px; width:800px;\"></div>            <script type=\"text/javascript\">                require([\"plotly\"], function(Plotly) {                    window.PLOTLYENV=window.PLOTLYENV || {};                                    if (document.getElementById(\"79f793b1-d982-42ed-bc0f-197491b8dee2\")) {                    Plotly.newPlot(                        \"79f793b1-d982-42ed-bc0f-197491b8dee2\",                        [{\"marker\": {\"line\": {\"color\": \"#212121\", \"width\": 1.0}}, \"name\": \"sequence_183\", \"opacity\": 0.6, \"orientation\": \"h\", \"type\": \"bar\", \"width\": 0.25, \"x\": [29.9, 32.1, 19.6, 18.4], \"y\": [\"Adenine\", \"Thymine\", \"Guanine\", \"Cytosine\"]}],                        {\"bargroupgap\": 0.2, \"barmode\": \"group\", \"font\": {\"size\": 11}, \"height\": 300, \"template\": {\"data\": {\"bar\": [{\"error_x\": {\"color\": \"#2a3f5f\"}, \"error_y\": {\"color\": \"#2a3f5f\"}, \"marker\": {\"line\": {\"color\": \"white\", \"width\": 0.5}}, \"type\": \"bar\"}], \"barpolar\": [{\"marker\": {\"line\": {\"color\": \"white\", \"width\": 0.5}}, \"type\": \"barpolar\"}], \"carpet\": [{\"aaxis\": {\"endlinecolor\": \"#2a3f5f\", \"gridcolor\": \"#C8D4E3\", \"linecolor\": \"#C8D4E3\", \"minorgridcolor\": \"#C8D4E3\", \"startlinecolor\": \"#2a3f5f\"}, \"baxis\": {\"endlinecolor\": \"#2a3f5f\", \"gridcolor\": \"#C8D4E3\", \"linecolor\": \"#C8D4E3\", \"minorgridcolor\": \"#C8D4E3\", \"startlinecolor\": \"#2a3f5f\"}, \"type\": \"carpet\"}], \"choropleth\": [{\"colorbar\": {\"outlinewidth\": 0, \"ticks\": \"\"}, \"type\": \"choropleth\"}], \"contour\": [{\"colorbar\": {\"outlinewidth\": 0, \"ticks\": \"\"}, \"colorscale\": [[0.0, \"#0d0887\"], [0.1111111111111111, \"#46039f\"], [0.2222222222222222, \"#7201a8\"], [0.3333333333333333, \"#9c179e\"], [0.4444444444444444, \"#bd3786\"], [0.5555555555555556, \"#d8576b\"], [0.6666666666666666, \"#ed7953\"], [0.7777777777777778, \"#fb9f3a\"], [0.8888888888888888, \"#fdca26\"], [1.0, \"#f0f921\"]], \"type\": \"contour\"}], \"contourcarpet\": [{\"colorbar\": {\"outlinewidth\": 0, \"ticks\": \"\"}, \"type\": \"contourcarpet\"}], \"heatmap\": [{\"colorbar\": {\"outlinewidth\": 0, \"ticks\": \"\"}, \"colorscale\": [[0.0, \"#0d0887\"], [0.1111111111111111, \"#46039f\"], [0.2222222222222222, \"#7201a8\"], [0.3333333333333333, \"#9c179e\"], [0.4444444444444444, \"#bd3786\"], [0.5555555555555556, \"#d8576b\"], [0.6666666666666666, \"#ed7953\"], [0.7777777777777778, \"#fb9f3a\"], [0.8888888888888888, \"#fdca26\"], [1.0, \"#f0f921\"]], \"type\": \"heatmap\"}], \"heatmapgl\": [{\"colorbar\": {\"outlinewidth\": 0, \"ticks\": \"\"}, \"colorscale\": [[0.0, \"#0d0887\"], [0.1111111111111111, \"#46039f\"], [0.2222222222222222, \"#7201a8\"], [0.3333333333333333, \"#9c179e\"], [0.4444444444444444, \"#bd3786\"], [0.5555555555555556, \"#d8576b\"], [0.6666666666666666, \"#ed7953\"], [0.7777777777777778, \"#fb9f3a\"], [0.8888888888888888, \"#fdca26\"], [1.0, \"#f0f921\"]], \"type\": \"heatmapgl\"}], \"histogram\": [{\"marker\": {\"colorbar\": {\"outlinewidth\": 0, \"ticks\": \"\"}}, \"type\": \"histogram\"}], \"histogram2d\": [{\"colorbar\": {\"outlinewidth\": 0, \"ticks\": \"\"}, \"colorscale\": [[0.0, \"#0d0887\"], [0.1111111111111111, \"#46039f\"], [0.2222222222222222, \"#7201a8\"], [0.3333333333333333, \"#9c179e\"], [0.4444444444444444, \"#bd3786\"], [0.5555555555555556, \"#d8576b\"], [0.6666666666666666, \"#ed7953\"], [0.7777777777777778, \"#fb9f3a\"], [0.8888888888888888, \"#fdca26\"], [1.0, \"#f0f921\"]], \"type\": \"histogram2d\"}], \"histogram2dcontour\": [{\"colorbar\": {\"outlinewidth\": 0, \"ticks\": \"\"}, \"colorscale\": [[0.0, \"#0d0887\"], [0.1111111111111111, \"#46039f\"], [0.2222222222222222, \"#7201a8\"], [0.3333333333333333, \"#9c179e\"], [0.4444444444444444, \"#bd3786\"], [0.5555555555555556, \"#d8576b\"], [0.6666666666666666, \"#ed7953\"], [0.7777777777777778, \"#fb9f3a\"], [0.8888888888888888, \"#fdca26\"], [1.0, \"#f0f921\"]], \"type\": \"histogram2dcontour\"}], \"mesh3d\": [{\"colorbar\": {\"outlinewidth\": 0, \"ticks\": \"\"}, \"type\": \"mesh3d\"}], \"parcoords\": [{\"line\": {\"colorbar\": {\"outlinewidth\": 0, \"ticks\": \"\"}}, \"type\": \"parcoords\"}], \"pie\": [{\"automargin\": true, \"type\": \"pie\"}], \"scatter\": [{\"marker\": {\"colorbar\": {\"outlinewidth\": 0, \"ticks\": \"\"}}, \"type\": \"scatter\"}], \"scatter3d\": [{\"line\": {\"colorbar\": {\"outlinewidth\": 0, \"ticks\": \"\"}}, \"marker\": {\"colorbar\": {\"outlinewidth\": 0, \"ticks\": \"\"}}, \"type\": \"scatter3d\"}], \"scattercarpet\": [{\"marker\": {\"colorbar\": {\"outlinewidth\": 0, \"ticks\": \"\"}}, \"type\": \"scattercarpet\"}], \"scattergeo\": [{\"marker\": {\"colorbar\": {\"outlinewidth\": 0, \"ticks\": \"\"}}, \"type\": \"scattergeo\"}], \"scattergl\": [{\"marker\": {\"colorbar\": {\"outlinewidth\": 0, \"ticks\": \"\"}}, \"type\": \"scattergl\"}], \"scattermapbox\": [{\"marker\": {\"colorbar\": {\"outlinewidth\": 0, \"ticks\": \"\"}}, \"type\": \"scattermapbox\"}], \"scatterpolar\": [{\"marker\": {\"colorbar\": {\"outlinewidth\": 0, \"ticks\": \"\"}}, \"type\": \"scatterpolar\"}], \"scatterpolargl\": [{\"marker\": {\"colorbar\": {\"outlinewidth\": 0, \"ticks\": \"\"}}, \"type\": \"scatterpolargl\"}], \"scatterternary\": [{\"marker\": {\"colorbar\": {\"outlinewidth\": 0, \"ticks\": \"\"}}, \"type\": \"scatterternary\"}], \"surface\": [{\"colorbar\": {\"outlinewidth\": 0, \"ticks\": \"\"}, \"colorscale\": [[0.0, \"#0d0887\"], [0.1111111111111111, \"#46039f\"], [0.2222222222222222, \"#7201a8\"], [0.3333333333333333, \"#9c179e\"], [0.4444444444444444, \"#bd3786\"], [0.5555555555555556, \"#d8576b\"], [0.6666666666666666, \"#ed7953\"], [0.7777777777777778, \"#fb9f3a\"], [0.8888888888888888, \"#fdca26\"], [1.0, \"#f0f921\"]], \"type\": \"surface\"}], \"table\": [{\"cells\": {\"fill\": {\"color\": \"#EBF0F8\"}, \"line\": {\"color\": \"white\"}}, \"header\": {\"fill\": {\"color\": \"#C8D4E3\"}, \"line\": {\"color\": \"white\"}}, \"type\": \"table\"}]}, \"layout\": {\"annotationdefaults\": {\"arrowcolor\": \"#2a3f5f\", \"arrowhead\": 0, \"arrowwidth\": 1}, \"autotypenumbers\": \"strict\", \"coloraxis\": {\"colorbar\": {\"outlinewidth\": 0, \"ticks\": \"\"}}, \"colorscale\": {\"diverging\": [[0, \"#8e0152\"], [0.1, \"#c51b7d\"], [0.2, \"#de77ae\"], [0.3, \"#f1b6da\"], [0.4, \"#fde0ef\"], [0.5, \"#f7f7f7\"], [0.6, \"#e6f5d0\"], [0.7, \"#b8e186\"], [0.8, \"#7fbc41\"], [0.9, \"#4d9221\"], [1, \"#276419\"]], \"sequential\": [[0.0, \"#0d0887\"], [0.1111111111111111, \"#46039f\"], [0.2222222222222222, \"#7201a8\"], [0.3333333333333333, \"#9c179e\"], [0.4444444444444444, \"#bd3786\"], [0.5555555555555556, \"#d8576b\"], [0.6666666666666666, \"#ed7953\"], [0.7777777777777778, \"#fb9f3a\"], [0.8888888888888888, \"#fdca26\"], [1.0, \"#f0f921\"]], \"sequentialminus\": [[0.0, \"#0d0887\"], [0.1111111111111111, \"#46039f\"], [0.2222222222222222, \"#7201a8\"], [0.3333333333333333, \"#9c179e\"], [0.4444444444444444, \"#bd3786\"], [0.5555555555555556, \"#d8576b\"], [0.6666666666666666, \"#ed7953\"], [0.7777777777777778, \"#fb9f3a\"], [0.8888888888888888, \"#fdca26\"], [1.0, \"#f0f921\"]]}, \"colorway\": [\"#636efa\", \"#EF553B\", \"#00cc96\", \"#ab63fa\", \"#FFA15A\", \"#19d3f3\", \"#FF6692\", \"#B6E880\", \"#FF97FF\", \"#FECB52\"], \"font\": {\"color\": \"#2a3f5f\"}, \"geo\": {\"bgcolor\": \"white\", \"lakecolor\": \"white\", \"landcolor\": \"white\", \"showlakes\": true, \"showland\": true, \"subunitcolor\": \"#C8D4E3\"}, \"hoverlabel\": {\"align\": \"left\"}, \"hovermode\": \"closest\", \"mapbox\": {\"style\": \"light\"}, \"paper_bgcolor\": \"white\", \"plot_bgcolor\": \"white\", \"polar\": {\"angularaxis\": {\"gridcolor\": \"#EBF0F8\", \"linecolor\": \"#EBF0F8\", \"ticks\": \"\"}, \"bgcolor\": \"white\", \"radialaxis\": {\"gridcolor\": \"#EBF0F8\", \"linecolor\": \"#EBF0F8\", \"ticks\": \"\"}}, \"scene\": {\"xaxis\": {\"backgroundcolor\": \"white\", \"gridcolor\": \"#DFE8F3\", \"gridwidth\": 2, \"linecolor\": \"#EBF0F8\", \"showbackground\": true, \"ticks\": \"\", \"zerolinecolor\": \"#EBF0F8\"}, \"yaxis\": {\"backgroundcolor\": \"white\", \"gridcolor\": \"#DFE8F3\", \"gridwidth\": 2, \"linecolor\": \"#EBF0F8\", \"showbackground\": true, \"ticks\": \"\", \"zerolinecolor\": \"#EBF0F8\"}, \"zaxis\": {\"backgroundcolor\": \"white\", \"gridcolor\": \"#DFE8F3\", \"gridwidth\": 2, \"linecolor\": \"#EBF0F8\", \"showbackground\": true, \"ticks\": \"\", \"zerolinecolor\": \"#EBF0F8\"}}, \"shapedefaults\": {\"line\": {\"color\": \"#2a3f5f\"}}, \"ternary\": {\"aaxis\": {\"gridcolor\": \"#DFE8F3\", \"linecolor\": \"#A2B1C6\", \"ticks\": \"\"}, \"baxis\": {\"gridcolor\": \"#DFE8F3\", \"linecolor\": \"#A2B1C6\", \"ticks\": \"\"}, \"bgcolor\": \"white\", \"caxis\": {\"gridcolor\": \"#DFE8F3\", \"linecolor\": \"#A2B1C6\", \"ticks\": \"\"}}, \"title\": {\"x\": 0.05}, \"xaxis\": {\"automargin\": true, \"gridcolor\": \"#EBF0F8\", \"linecolor\": \"#EBF0F8\", \"ticks\": \"\", \"title\": {\"standoff\": 15}, \"zerolinecolor\": \"#EBF0F8\", \"zerolinewidth\": 2}, \"yaxis\": {\"automargin\": true, \"gridcolor\": \"#EBF0F8\", \"linecolor\": \"#EBF0F8\", \"ticks\": \"\", \"title\": {\"standoff\": 15}, \"zerolinecolor\": \"#EBF0F8\", \"zerolinewidth\": 2}}}, \"title\": {\"text\": \"Nucleotide Content (%)\"}, \"width\": 800, \"xaxis\": {\"nticks\": 20, \"title\": {\"text\": \"Character (%)\"}}},                        {\"responsive\": true}                    ).then(function(){\n",
       "                            \n",
       "var gd = document.getElementById('79f793b1-d982-42ed-bc0f-197491b8dee2');\n",
       "var x = new MutationObserver(function (mutations, observer) {{\n",
       "        var display = window.getComputedStyle(gd).display;\n",
       "        if (!display || display === 'none') {{\n",
       "            console.log([gd, 'removed!']);\n",
       "            Plotly.purge(gd);\n",
       "            observer.disconnect();\n",
       "        }}\n",
       "}});\n",
       "\n",
       "// Listen for the removal of the full notebook cells\n",
       "var notebookContainer = gd.closest('#notebook-container');\n",
       "if (notebookContainer) {{\n",
       "    x.observe(notebookContainer, {childList: true});\n",
       "}}\n",
       "\n",
       "// Listen for the clearing of the current output cell\n",
       "var outputEl = gd.closest('.output');\n",
       "if (outputEl) {{\n",
       "    x.observe(outputEl, {childList: true});\n",
       "}}\n",
       "\n",
       "                        })                };                });            </script>        </div>"
      ]
     },
     "metadata": {},
     "output_type": "display_data"
    },
    {
     "name": "stdout",
     "output_type": "stream",
     "text": [
      "GC-Content Sequence 1: 37.97%\n"
     ]
    }
   ],
   "source": [
    "# The virus contains a heavy portion of Thymine & Adenine (63%)\n",
    "virus_sq.count.freq(fsize=[300,800],\n",
    "                    title='Nucleotide Content (%)')\n",
    "\n",
    "print(f'GC-Content Sequence 1: {round(virus_sq.count.gc()*100,3)}%')"
   ]
  },
  {
   "cell_type": "markdown",
   "metadata": {
    "papermill": {
     "duration": 0.155327,
     "end_time": "2023-03-08T16:05:40.549755",
     "exception": false,
     "start_time": "2023-03-08T16:05:40.394428",
     "status": "completed"
    },
    "tags": []
   },
   "source": [
    "Using the get_protein method, we can obtain a list of amino acid chains by translating the sequence"
   ]
  },
  {
   "cell_type": "code",
   "execution_count": 98,
   "metadata": {
    "execution": {
     "iopub.execute_input": "2023-03-08T16:05:40.901059Z",
     "iopub.status.busy": "2023-03-08T16:05:40.890781Z",
     "iopub.status.idle": "2023-03-08T16:05:41.300987Z",
     "shell.execute_reply": "2023-03-08T16:05:41.300376Z",
     "shell.execute_reply.started": "2023-03-08T13:55:19.211889Z"
    },
    "papermill": {
     "duration": 0.591748,
     "end_time": "2023-03-08T16:05:41.301168",
     "exception": false,
     "start_time": "2023-03-08T16:05:40.709420",
     "status": "completed"
    },
    "tags": []
   },
   "outputs": [
    {
     "name": "stdout",
     "output_type": "stream",
     "text": [
      "Total Number of Amino Acid Chains: 1208\n"
     ]
    }
   ],
   "source": [
    "# Get all amino acid chains above default = 1\n",
    "lst_prot = virus_sq.decode.protein()\n",
    "print(f'Total Number of Amino Acid Chains: {len(lst_prot)}')"
   ]
  },
  {
   "cell_type": "markdown",
   "metadata": {
    "papermill": {
     "duration": 0.155156,
     "end_time": "2023-03-08T16:05:41.612511",
     "exception": false,
     "start_time": "2023-03-08T16:05:41.457355",
     "status": "completed"
    },
    "tags": []
   },
   "source": [
    "#### FUNCTIONAL PROTEINS & OLIGOPEPTIDES\n",
    "Upon translation, our amino acid chains aren't actually all proteins, some extra criteria these chains must meet in order to be classified as proteins exist:\n",
    "Functional proteins are chains above 20 amino acids.\n",
    "Smaller chains are called oligopeptides (2-20 amino acids) & have other functionalities.\n",
    "Let's select the largest amino acid chain found in the genome & search for it in a databse, so we can identify it."
   ]
  },
  {
   "cell_type": "code",
   "execution_count": 99,
   "metadata": {
    "execution": {
     "iopub.execute_input": "2023-03-08T16:05:41.958804Z",
     "iopub.status.busy": "2023-03-08T16:05:41.953606Z",
     "iopub.status.idle": "2023-03-08T16:05:42.873016Z",
     "shell.execute_reply": "2023-03-08T16:05:42.872284Z",
     "shell.execute_reply.started": "2023-03-08T13:55:19.668770Z"
    },
    "papermill": {
     "duration": 1.104403,
     "end_time": "2023-03-08T16:05:42.873192",
     "exception": false,
     "start_time": "2023-03-08T16:05:41.768789",
     "status": "completed"
    },
    "tags": []
   },
   "outputs": [
    {
     "name": "stdout",
     "output_type": "stream",
     "text": [
      "Amino Acid Chains: 243\n",
      "Largest Amino Acid: MESLVPGFNEKTHVQLSLPVLQVRDVLVRGFGDSVEEVLSEARQHLKDGTCGLVEVEKGVLPQLEQPYVFIKRSDARTAPHGHVMVELVAELEGIQYGRSGETLGVLVPHVGEIPVAYRKVLLRKNGNKGAGGHSYGADLKSFDLGDELGTDPYEDFQENWNTKHSSGVTRELMRELNGGAYTRYVDNNFCGPDGYPLECIKDLLARAGKASCTLSEQLDFIDTKRGVYCCREHEHEIAWYTERSEKSYELQTPFEIKLAKKFDTFNGECPNFVFPLNSIIKTIQPRVEKKKLDGFMGRIRSVYPVASPNECNQMCLSTLMKCDHCGETSWQTGDFVKATCEFCGTENLTKEGATTCGYLPQNAVVKIYCPACHNSEVGPEHSLAEYHNESGLKTILRKGGRTIAFGGCVFSYVGCHNKCAYWVPRASANIGCNHTGVVGEGSEGLNDNLLEILQKEKVNINIVGDFKLNEEIAIILASFSASTSAFVETVKGLDYKAFKQIVESCGNFKVTKGKAKKGAWNIGEQKSILSPLYAFASEAARVVRSIFSRTLETAQNSVRVLQKAAITILDGISQYSLRLIDAMMFTSDLATNNLVVMAYITGGVVQLTSQWLTNIFGTVYEKLKPVLDWLEEKFKEGVEFLRDGWEIVKFISTCACEIVGGQIVTCAKEIKESVQTFFKLVNKFLALCADSIIIGGAKLKALNLGETFVTHSKGLYRKCVKSREETGLLMPLKAPKEIIFLEGETLPTEVLTEEVVLKTGDLQPLEQPTSEAVEAPLVGTPVCINGLMLLEIKDTEKYCALAPNMMVTNNTFTLKGGAPTKVTFGDDTVIEVQGYKSVNITFELDERIDKVLNEKCSAYTVELGTEVNEFACVVADAVIKTLQPVSELLTPLGIDLDEWSMATYYLFDESGEFKLASHMYCSFYPPDEDEEEGDCEEEEFEPSTQYEYGTEDDYQGKPLEFGATSAALQPEEEQEEDWLDDDSQQTVGQQDGSEDNQTTTIQTIVEVQPQLEMELTPVVQTIEVNSFSGYLKLTDNVYIKNADIVEEAKKVKPTVVVNAANVYLKHGGGVAGALNKATNNAMQVESDDYIATNGPLKVGGSCVLSGHNLAKHCLHVVGPNVNKGEDIQLLKSAYENFNQHEVLLAPLLSAGIFGADPIHSLRVCVDTVRTNVYLAVFDKNLYDKLVSSFLEMKSEKQVEQKIAEIPKEEVKPFITESKPSVEQRKQDDKKIKACVEEVTTTLEETKFLTENLLLYIDINGNLHPDSATLVSDIDITFLKKDAPYIVGDVVQEGVLTAVVIPTKKAGGTTEMLAKALRKVPTDNYITTYPGQGLNGYTVEEAKTVLKKCKSAFYILPSIISNEKQEILGTVSWNLREMLAHAEETRKLMPVCVETKAIVSTIQRKYKGIKIQEGVVDYGARFYFYTSKTTVASLINTLNDLNETLVTMPLGYVTHGLNLEEAARYMRSLKVPATVSVSSPDAVTAYNGYLTSSSKTPEEHFIETISLAGSYKDWSYSGQSTQLGIEFLKRGDKSVYYTSNPTTFHLDGEVITFDNLKTLLSLREVRTIKVFTTVDNINLHTQVVDMSMTYGQQFGPTYLDGADVTKIKPHNSHEGKTFYVLPNDDTLRVEAFEYYHTTDPSFLGRYMSALNHTKKWKYPQVNGLTSIKWADNNCYLATALLTLQQIELKFNPPALQDAYYRARAGEAANFCALILAYCNKTVGELGDVRETMSYLFQHANLDSCKRVLNVVCKTCGQQQTTLKGVEAVMYMGTLSYEQFKKGVQIPCTCGKQATKYLVQQESPFVMMSAPPAQYELKHGTFTCASEYTGNYQCGHYKHITSKETLYCIDGALLTKSSEYKGPITDVFYKENSYTTTIKPVTYKLDGVVCTEIDPKLDNYYKKDNSYFTEQPIDLVPNQPYPNASFDNFKFVCDNIKFADDLNQLTGYKKPASRELKVTFFPDLNGDVVAIDYKHYTPSFKKGAKLLHKPIVWHVNNATNKATYKPNTWCIRCLWSTKPVETSNSFDVLKSEDAQGMDNLACEDLKPVSEEVVENPTIQKDVLECNVKTTEVVGDIILKPANNSLKITEEVGHTDLMAAYVDNSSLTIKKPNELSRVLGLKTLATHGLAAVNSVPWDTIANYAKPFLNKVVSTTTNIVTRCLNRVCTNYMPYFFTLLLQLCTFTRSTNSRIKASMPTTIAKNTVKSVGKFCLEASFNYLKSPNFSKLINIIIWFLLLSVCLGSLIYSTAALGVLMSNLGMPSYCTGYREGYLNSTNVTIATYCTGSIPCSVCLSGLDSLDTYPSLETIQITISSFKWDLTAFGLVAEWFLAYILFTRFFYVLGLAAIMQLFFSYFAVHFISNSWLMWLIINLVQMAPISAMVRMYIFFASFYYVWKSYVHVVDGCNSSTCMMCYKRNRATRVECTTIVNGVRRSFYVYANGGKGFCKLHNWNCVNCDTFCAGSTFISDEVARDLSLQFKRPINPTDQSSYIVDSVTVKNGSIHLYFDKAGQKTYERHSLSHFVNLDNLRANNTKGSLPINVIVFDGKSKCEESSAKSASVYYSQLMCQPILLLDQALVSDVGDSAEVAVKMFDAYVNTFSSTFNVPMEKLKTLVATAEAELAKNVSLDNVLSTFISAARQGFVDSDVETKDVVECLKLSHQSDIEVTGDSCNNYMLTYNKVENMTPRDLGACIDCSARHINAQVAKSHNIALIWNVKDFMSLSEQLRKQIRSAAKKNNLPFKLTCATTRQVVNVVTTKIALKGGKIVNNWLKQLIKVTLVFLFVAAIFYLITPVHVMSKHTDFSSEIIGYKAIDGGVTRDIASTDTCFANKHADFDTWFSQRGGSYTNDKACPLIAAVITREVGFVVPGLPGTILRTTNGDFLHFLPRVFSAVGNICYTPSKLIEYTDFATSACVLAAECTIFKDASGKPVPYCYDTNVLEGSVAYESLRPDTRYVLMDGSIIQFPNTYLEGSVRVVTTFDSEYCRHGTCERSEAGVCVSTSGRWVLNNDYYRSLPGVFCGVDAVNLLTNMFTPLIQPIGALDISASIVAGGIVAIVVTCLAYYFMRFRRAFGEYSHVVAFNTLLFLMSFTVLCLTPVYSFLPGVYSVIYLYLTFYLTNDVSFLAHIQWMVMFTPLVPFWITIAYIICISTKHFYWFFSNYLKRRVVFNGVSFSTFEEAALCTFLLNKEMYLKLRSDVLLPLTQYNRYLALYNKYKYFSGAMDTTSYREAACCHLAKALNDFSNSGSDVLYQPPQTSITSAVLQSGFRKMAFPSGKVEGCMVQVTCGTTTLNGLWLDDVVYCPRHVICTSEDMLNPNYEDLLIRKSNHNFLVQAGNVQLRVIGHSMQNCVLKLKVDTANPKTPKYKFVRIQPGQTFSVLACYNGSPSGVYQCAMRPNFTIKGSFLNGSCGSVGFNIDYDCVSFCYMHHMELPTGVHAGTDLEGNFYGPFVDRQTAQAAGTDTTITVNVLAWLYAAVINGDRWFLNRFTTTLNDFNLVAMKYNYEPLTQDHVDILGPLSAQTGIAVLDMCASLKELLQNGMNGRTILGSALLEDEFTPFDVVRQCSGVTFQSAVKRTIKGTHHWLLLTILTSLLVLVQSTQWSLFFFLYENAFLPFAMGIIAMSAFAMMFVKHKHAFLCLFLLPSLATVAYFNMVYMPASWVMRIMTWLDMVDTSLSGFKLKDCVMYASAVVLLILMTARTVYDDGARRVWTLMNVLTLVYKVYYGNALDQAISMWALIISVTSNYSGVVTTVMFLARGIVFMCVEYCPIFFITGNTLQCIMLVYCFLGYFCTCYFGLFCLLNRYFRLTLGVYDYLVSTQEFRYMNSQGLLPPKNSIDAFKLNIKLLGVGGKPCIKVATVQSKMSDVKCTSVVLLSVLQQLRVESSSKLWAQCVQLHNDILLAKDTTEAFEKMVSLLSVLLSMQGAVDINKLCEEMLDNRATLQAIASEFSSLPSYAAFATAQEAYEQAVANGDSEVVLKKLKKSLNVAKSEFDRDAAMQRKLEKMADQAMTQMYKQARSEDKRAKVTSAMQTMLFTMLRKLDNDALNNIINNARDGCVPLNIIPLTTAAKLMVVIPDYNTYKNTCDGTTFTYASALWEIQQVVDADSKIVQLSEISMDNSPNLAWPLIVTALRANSAVKLQNNELSPVALRQMSCAAGTTQTACTDDNALAYYNTTKGGRFVLALLSDLQDLKWARFPKSDGTGTIYTELEPPCRFVTDTPKGPKVKYLYFIKGLNNLNRGMVLGSLAATVRLQAGNATEVPANSTVLSFCAFAVDAAKAYKDYLASGGQPITNCVKMLCTHTGTGQAITVTPEANMDQESFGGASCCLYCRCHIDHPNPKGFCDLKGKYVQIPTTCANDPVGFTLKNTVCTVCGMWKGYGCSCDQLREPMLQSADAQSFLNGFAV\n",
      "Length of Largest Amino Acid: 4405\n"
     ]
    }
   ],
   "source": [
    "# For convenience, let's select a subset above 50 amino acids\n",
    "print(f'Amino Acid Chains: {len(virus_sq.decode.protein(mins=50))}')\n",
    "largest_aa = virus_sq.decode.protein(mins=50)[0]\n",
    "print(f'Largest Amino Acid: {largest_aa}')\n",
    "print(f'Length of Largest Amino Acid: {len(virus_sq.decode.protein(mins=50)[0])}')"
   ]
  },
  {
   "cell_type": "markdown",
   "metadata": {
    "papermill": {
     "duration": 0.157015,
     "end_time": "2023-03-08T16:05:43.189954",
     "exception": false,
     "start_time": "2023-03-08T16:05:43.032939",
     "status": "completed"
    },
    "tags": []
   },
   "source": [
    "### SEARCH DATABASE\n",
    "Let's search for one of the chains found in the list lst_prot, largest_aa using BLASTwww\n",
    "First we initialise class BLASTwww, at minimum providing the sequence which we want to find as an argument\n",
    "The BLAST query is then carried our when the fetch method is called\n",
    "The results are stored in method view_query, which contain the BioPython format alignment data as well"
   ]
  },
  {
   "cell_type": "code",
   "execution_count": 100,
   "metadata": {
    "execution": {
     "iopub.execute_input": "2023-03-08T16:05:43.506828Z",
     "iopub.status.busy": "2023-03-08T16:05:43.506047Z",
     "iopub.status.idle": "2023-03-08T16:05:43.509725Z",
     "shell.execute_reply": "2023-03-08T16:05:43.508973Z",
     "shell.execute_reply.started": "2023-03-08T13:55:20.624740Z"
    },
    "papermill": {
     "duration": 0.164576,
     "end_time": "2023-03-08T16:05:43.509908",
     "exception": false,
     "start_time": "2023-03-08T16:05:43.345332",
     "status": "completed"
    },
    "tags": []
   },
   "outputs": [],
   "source": [
    "blast_query = BLASTwww(largest_aa,name='c19')"
   ]
  },
  {
   "cell_type": "code",
   "execution_count": 101,
   "metadata": {
    "execution": {
     "iopub.execute_input": "2023-03-08T16:05:43.834532Z",
     "iopub.status.busy": "2023-03-08T16:05:43.833774Z",
     "iopub.status.idle": "2023-03-08T16:06:45.521977Z",
     "shell.execute_reply": "2023-03-08T16:06:45.521313Z"
    },
    "papermill": {
     "duration": 61.85567,
     "end_time": "2023-03-08T16:06:45.522180",
     "exception": false,
     "start_time": "2023-03-08T16:05:43.666510",
     "status": "completed"
    },
    "tags": []
   },
   "outputs": [],
   "source": [
    "blast_query.fetch()"
   ]
  },
  {
   "cell_type": "code",
   "execution_count": 102,
   "metadata": {
    "execution": {
     "iopub.execute_input": "2023-03-08T16:06:45.923601Z",
     "iopub.status.busy": "2023-03-08T16:06:45.907863Z",
     "iopub.status.idle": "2023-03-08T16:06:46.055413Z",
     "shell.execute_reply": "2023-03-08T16:06:46.055947Z"
    },
    "papermill": {
     "duration": 0.348252,
     "end_time": "2023-03-08T16:06:46.056189",
     "exception": false,
     "start_time": "2023-03-08T16:06:45.707937",
     "status": "completed"
    },
    "tags": []
   },
   "outputs": [
    {
     "data": {
      "text/html": [
       "<div>\n",
       "<style scoped>\n",
       "    .dataframe tbody tr th:only-of-type {\n",
       "        vertical-align: middle;\n",
       "    }\n",
       "\n",
       "    .dataframe tbody tr th {\n",
       "        vertical-align: top;\n",
       "    }\n",
       "\n",
       "    .dataframe thead th {\n",
       "        text-align: right;\n",
       "    }\n",
       "</style>\n",
       "<table border=\"1\" class=\"dataframe\">\n",
       "  <thead>\n",
       "    <tr style=\"text-align: right;\">\n",
       "      <th></th>\n",
       "      <th>id</th>\n",
       "      <th>description</th>\n",
       "      <th>evalue</th>\n",
       "      <th>bitscore</th>\n",
       "      <th>alignment</th>\n",
       "    </tr>\n",
       "  </thead>\n",
       "  <tbody>\n",
       "    <tr>\n",
       "      <th>0</th>\n",
       "      <td>pdb|7MSW|A</td>\n",
       "      <td>Chain A, Non-structural protein 2 [Severe acut...</td>\n",
       "      <td>0.0</td>\n",
       "      <td>1328.540</td>\n",
       "      <td>((A, Y, T, R, Y, V, D, N, N, F, C, G, P, D, G,...</td>\n",
       "    </tr>\n",
       "    <tr>\n",
       "      <th>1</th>\n",
       "      <td>pdb|7FAC|A</td>\n",
       "      <td>Chain A, Non-structural protein 2 [Severe acut...</td>\n",
       "      <td>0.0</td>\n",
       "      <td>746.503</td>\n",
       "      <td>((K, L, D, G, F, M, G, R, I, R, S, V, Y, P, V,...</td>\n",
       "    </tr>\n",
       "    <tr>\n",
       "      <th>2</th>\n",
       "      <td>pdb|6WUU|A</td>\n",
       "      <td>Chain A, Non-structural protein 3 [Severe acut...</td>\n",
       "      <td>0.0</td>\n",
       "      <td>674.855</td>\n",
       "      <td>((L, R, E, V, R, T, I, K, V, F, T, T, V, D, N,...</td>\n",
       "    </tr>\n",
       "    <tr>\n",
       "      <th>3</th>\n",
       "      <td>pdb|7CMD|A</td>\n",
       "      <td>Chain A, Non-structural protein 3 [Severe acut...</td>\n",
       "      <td>0.0</td>\n",
       "      <td>674.470</td>\n",
       "      <td>((E, V, R, T, I, K, V, F, T, T, V, D, N, I, N,...</td>\n",
       "    </tr>\n",
       "    <tr>\n",
       "      <th>4</th>\n",
       "      <td>pdb|7CJD|A</td>\n",
       "      <td>Chain A, Non-structural protein 3 [Severe acut...</td>\n",
       "      <td>0.0</td>\n",
       "      <td>671.389</td>\n",
       "      <td>((E, V, R, T, I, K, V, F, T, T, V, D, N, I, N,...</td>\n",
       "    </tr>\n",
       "    <tr>\n",
       "      <th>5</th>\n",
       "      <td>pdb|6XAA|A</td>\n",
       "      <td>Chain A, Non-structural protein 3 [Severe acut...</td>\n",
       "      <td>0.0</td>\n",
       "      <td>670.618</td>\n",
       "      <td>((R, E, V, R, T, I, K, V, F, T, T, V, D, N, I,...</td>\n",
       "    </tr>\n",
       "    <tr>\n",
       "      <th>6</th>\n",
       "      <td>pdb|6XA9|A</td>\n",
       "      <td>Chain A, Non-structural protein 3 [Severe acut...</td>\n",
       "      <td>0.0</td>\n",
       "      <td>669.463</td>\n",
       "      <td>((R, E, V, R, T, I, K, V, F, T, T, V, D, N, I,...</td>\n",
       "    </tr>\n",
       "    <tr>\n",
       "      <th>7</th>\n",
       "      <td>pdb|7D47|A</td>\n",
       "      <td>Chain A, Non-structural protein 3 [Severe acut...</td>\n",
       "      <td>0.0</td>\n",
       "      <td>669.078</td>\n",
       "      <td>((E, V, R, T, I, K, V, F, T, T, V, D, N, I, N,...</td>\n",
       "    </tr>\n",
       "    <tr>\n",
       "      <th>8</th>\n",
       "      <td>pdb|6W9C|A</td>\n",
       "      <td>Chain A, Non-structural protein 3 [Severe acut...</td>\n",
       "      <td>0.0</td>\n",
       "      <td>668.692</td>\n",
       "      <td>((E, V, R, T, I, K, V, F, T, T, V, D, N, I, N,...</td>\n",
       "    </tr>\n",
       "    <tr>\n",
       "      <th>9</th>\n",
       "      <td>pdb|7NT4|A</td>\n",
       "      <td>Chain A, Non-structural protein 3 [Severe acut...</td>\n",
       "      <td>0.0</td>\n",
       "      <td>668.307</td>\n",
       "      <td>((E, V, R, T, I, K, V, F, T, T, V, D, N, I, N,...</td>\n",
       "    </tr>\n",
       "    <tr>\n",
       "      <th>10</th>\n",
       "      <td>pdb|6WZU|A</td>\n",
       "      <td>Chain A, Non-structural protein 3 [Severe acut...</td>\n",
       "      <td>0.0</td>\n",
       "      <td>668.307</td>\n",
       "      <td>((E, V, R, T, I, K, V, F, T, T, V, D, N, I, N,...</td>\n",
       "    </tr>\n",
       "    <tr>\n",
       "      <th>11</th>\n",
       "      <td>pdb|7NFV|AAA</td>\n",
       "      <td>Chain AAA, Papain-like protease nsp3 [Severe a...</td>\n",
       "      <td>0.0</td>\n",
       "      <td>667.922</td>\n",
       "      <td>((E, V, R, T, I, K, V, F, T, T, V, D, N, I, N,...</td>\n",
       "    </tr>\n",
       "    <tr>\n",
       "      <th>12</th>\n",
       "      <td>pdb|7LBR|A</td>\n",
       "      <td>Chain A, Non-structural protein 3 [Severe acut...</td>\n",
       "      <td>0.0</td>\n",
       "      <td>667.922</td>\n",
       "      <td>((E, V, R, T, I, K, V, F, T, T, V, D, N, I, N,...</td>\n",
       "    </tr>\n",
       "    <tr>\n",
       "      <th>13</th>\n",
       "      <td>pdb|7JRN|A</td>\n",
       "      <td>Chain A, Non-structural protein 3 [Severe acut...</td>\n",
       "      <td>0.0</td>\n",
       "      <td>667.922</td>\n",
       "      <td>((E, V, R, T, I, K, V, F, T, T, V, D, N, I, N,...</td>\n",
       "    </tr>\n",
       "    <tr>\n",
       "      <th>14</th>\n",
       "      <td>pdb|8CX9|A</td>\n",
       "      <td>Chain A, Papain-like protease nsp3 [Severe acu...</td>\n",
       "      <td>0.0</td>\n",
       "      <td>667.152</td>\n",
       "      <td>((E, V, R, T, I, K, V, F, T, T, V, D, N, I, N,...</td>\n",
       "    </tr>\n",
       "    <tr>\n",
       "      <th>15</th>\n",
       "      <td>pdb|7D6H|A</td>\n",
       "      <td>Chain A, Papain-like protease [Severe acute re...</td>\n",
       "      <td>0.0</td>\n",
       "      <td>666.766</td>\n",
       "      <td>((R, E, V, R, T, I, K, V, F, T, T, V, D, N, I,...</td>\n",
       "    </tr>\n",
       "    <tr>\n",
       "      <th>16</th>\n",
       "      <td>pdb|6YVA|A</td>\n",
       "      <td>Chain A, Replicase polyprotein 1a [Severe acut...</td>\n",
       "      <td>0.0</td>\n",
       "      <td>665.226</td>\n",
       "      <td>((E, V, R, T, I, K, V, F, T, T, V, D, N, I, N,...</td>\n",
       "    </tr>\n",
       "    <tr>\n",
       "      <th>17</th>\n",
       "      <td>pdb|7CJM|B</td>\n",
       "      <td>Chain B, Non-structural protein 3 [Severe acut...</td>\n",
       "      <td>0.0</td>\n",
       "      <td>665.226</td>\n",
       "      <td>((E, V, R, T, I, K, V, F, T, T, V, D, N, I, N,...</td>\n",
       "    </tr>\n",
       "    <tr>\n",
       "      <th>18</th>\n",
       "      <td>pdb|6WRH|A</td>\n",
       "      <td>Chain A, Non-structural protein 3 [Severe acut...</td>\n",
       "      <td>0.0</td>\n",
       "      <td>665.226</td>\n",
       "      <td>((E, V, R, T, I, K, V, F, T, T, V, D, N, I, N,...</td>\n",
       "    </tr>\n",
       "    <tr>\n",
       "      <th>19</th>\n",
       "      <td>pdb|7QCG|A</td>\n",
       "      <td>Chain A, Papain-like protease nsp3 [Severe acu...</td>\n",
       "      <td>0.0</td>\n",
       "      <td>664.070</td>\n",
       "      <td>((E, V, R, T, I, K, V, F, T, T, V, D, N, I, N,...</td>\n",
       "    </tr>\n",
       "    <tr>\n",
       "      <th>20</th>\n",
       "      <td>pdb|7UV5|A</td>\n",
       "      <td>Chain A, Papain-like protease nsp3 [Severe acu...</td>\n",
       "      <td>0.0</td>\n",
       "      <td>663.300</td>\n",
       "      <td>((E, V, R, T, I, K, V, F, T, T, V, D, N, I, N,...</td>\n",
       "    </tr>\n",
       "    <tr>\n",
       "      <th>21</th>\n",
       "      <td>pdb|8E4J|A</td>\n",
       "      <td>Chain A, Replicase polyprotein 1ab [Severe acu...</td>\n",
       "      <td>0.0</td>\n",
       "      <td>659.062</td>\n",
       "      <td>((S, I, T, S, A, V, L, Q, S, G, F, R, K, M, A,...</td>\n",
       "    </tr>\n",
       "    <tr>\n",
       "      <th>22</th>\n",
       "      <td>pdb|7D7K|A</td>\n",
       "      <td>Chain A, Non-structural protein 3 [Severe acut...</td>\n",
       "      <td>0.0</td>\n",
       "      <td>659.062</td>\n",
       "      <td>((T, I, K, V, F, T, T, V, D, N, I, N, L, H, T,...</td>\n",
       "    </tr>\n",
       "    <tr>\n",
       "      <th>23</th>\n",
       "      <td>pdb|7N6N|A</td>\n",
       "      <td>Chain A, 3C-like proteinase [Severe acute resp...</td>\n",
       "      <td>0.0</td>\n",
       "      <td>658.292</td>\n",
       "      <td>((S, A, V, L, Q, S, G, F, R, K, M, A, F, P, S,...</td>\n",
       "    </tr>\n",
       "    <tr>\n",
       "      <th>24</th>\n",
       "      <td>pdb|7KFI|A</td>\n",
       "      <td>Chain A, 3C-like proteinase [Severe acute resp...</td>\n",
       "      <td>0.0</td>\n",
       "      <td>652.514</td>\n",
       "      <td>((S, G, F, R, K, M, A, F, P, S, G, K, V, E, G,...</td>\n",
       "    </tr>\n",
       "    <tr>\n",
       "      <th>25</th>\n",
       "      <td>pdb|7VTH|A</td>\n",
       "      <td>Chain A, 3C-like proteinase [Severe acute resp...</td>\n",
       "      <td>0.0</td>\n",
       "      <td>652.129</td>\n",
       "      <td>((S, G, F, R, K, M, A, F, P, S, G, K, V, E, G,...</td>\n",
       "    </tr>\n",
       "    <tr>\n",
       "      <th>26</th>\n",
       "      <td>pdb|7W9G|A</td>\n",
       "      <td>Chain A, 3C-like proteinase nsp5 [Severe acute...</td>\n",
       "      <td>0.0</td>\n",
       "      <td>652.129</td>\n",
       "      <td>((S, G, F, R, K, M, A, F, P, S, G, K, V, E, G,...</td>\n",
       "    </tr>\n",
       "    <tr>\n",
       "      <th>27</th>\n",
       "      <td>pdb|6XA4|A</td>\n",
       "      <td>Chain A, 3C-like proteinase [Severe acute resp...</td>\n",
       "      <td>0.0</td>\n",
       "      <td>652.129</td>\n",
       "      <td>((S, G, F, R, K, M, A, F, P, S, G, K, V, E, G,...</td>\n",
       "    </tr>\n",
       "    <tr>\n",
       "      <th>28</th>\n",
       "      <td>pdb|7VU6|A</td>\n",
       "      <td>Chain A, 3C-like proteinase [Severe acute resp...</td>\n",
       "      <td>0.0</td>\n",
       "      <td>652.129</td>\n",
       "      <td>((S, G, F, R, K, M, A, F, P, S, G, K, V, E, G,...</td>\n",
       "    </tr>\n",
       "    <tr>\n",
       "      <th>29</th>\n",
       "      <td>pdb|7CB7|A</td>\n",
       "      <td>Chain A, 3C-like proteinase [Severe acute resp...</td>\n",
       "      <td>0.0</td>\n",
       "      <td>652.129</td>\n",
       "      <td>((S, G, F, R, K, M, A, F, P, S, G, K, V, E, G,...</td>\n",
       "    </tr>\n",
       "    <tr>\n",
       "      <th>30</th>\n",
       "      <td>pdb|7CWC|A</td>\n",
       "      <td>Chain A, 3C-like proteinase [Severe acute resp...</td>\n",
       "      <td>0.0</td>\n",
       "      <td>652.129</td>\n",
       "      <td>((S, G, F, R, K, M, A, F, P, S, G, K, V, E, G,...</td>\n",
       "    </tr>\n",
       "    <tr>\n",
       "      <th>31</th>\n",
       "      <td>pdb|7BRO|A</td>\n",
       "      <td>Chain A, 3C-like proteinase [Severe acute resp...</td>\n",
       "      <td>0.0</td>\n",
       "      <td>652.129</td>\n",
       "      <td>((S, G, F, R, K, M, A, F, P, S, G, K, V, E, G,...</td>\n",
       "    </tr>\n",
       "    <tr>\n",
       "      <th>32</th>\n",
       "      <td>pdb|5R7Y|A</td>\n",
       "      <td>Chain A, 3C-like proteinase [Severe acute resp...</td>\n",
       "      <td>0.0</td>\n",
       "      <td>652.129</td>\n",
       "      <td>((S, G, F, R, K, M, A, F, P, S, G, K, V, E, G,...</td>\n",
       "    </tr>\n",
       "    <tr>\n",
       "      <th>33</th>\n",
       "      <td>pdb|7CBT|A</td>\n",
       "      <td>Chain A, 3C-like proteinase [Severe acute resp...</td>\n",
       "      <td>0.0</td>\n",
       "      <td>651.358</td>\n",
       "      <td>((S, G, F, R, K, M, A, F, P, S, G, K, V, E, G,...</td>\n",
       "    </tr>\n",
       "    <tr>\n",
       "      <th>34</th>\n",
       "      <td>pdb|7MPB|A</td>\n",
       "      <td>Chain A, 3C-like proteinase [Severe acute resp...</td>\n",
       "      <td>0.0</td>\n",
       "      <td>651.358</td>\n",
       "      <td>((S, G, F, R, K, M, A, F, P, S, G, K, V, E, G,...</td>\n",
       "    </tr>\n",
       "    <tr>\n",
       "      <th>35</th>\n",
       "      <td>pdb|7T2U|A</td>\n",
       "      <td>Chain A, 3C-Like Protease [Severe acute respir...</td>\n",
       "      <td>0.0</td>\n",
       "      <td>651.358</td>\n",
       "      <td>((L, Q, S, G, F, R, K, M, A, F, P, S, G, K, V,...</td>\n",
       "    </tr>\n",
       "    <tr>\n",
       "      <th>36</th>\n",
       "      <td>pdb|8EYJ|A</td>\n",
       "      <td>Chain A, 3C-like proteinase nsp5 [Severe acute...</td>\n",
       "      <td>0.0</td>\n",
       "      <td>650.973</td>\n",
       "      <td>((Q, S, G, F, R, K, M, A, F, P, S, G, K, V, E,...</td>\n",
       "    </tr>\n",
       "    <tr>\n",
       "      <th>37</th>\n",
       "      <td>pdb|7ZB7|A</td>\n",
       "      <td>Chain A, 3C-like proteinase nsp5 [Severe acute...</td>\n",
       "      <td>0.0</td>\n",
       "      <td>650.973</td>\n",
       "      <td>((S, G, F, R, K, M, A, F, P, S, G, K, V, E, G,...</td>\n",
       "    </tr>\n",
       "    <tr>\n",
       "      <th>38</th>\n",
       "      <td>pdb|7U29|A</td>\n",
       "      <td>Chain A, 3C-like proteinase nsp5 [Severe acute...</td>\n",
       "      <td>0.0</td>\n",
       "      <td>650.973</td>\n",
       "      <td>((S, G, F, R, K, M, A, F, P, S, G, K, V, E, G,...</td>\n",
       "    </tr>\n",
       "    <tr>\n",
       "      <th>39</th>\n",
       "      <td>pdb|8D4L|A</td>\n",
       "      <td>Chain A, 3C-like proteinase nsp5 [Severe acute...</td>\n",
       "      <td>0.0</td>\n",
       "      <td>650.973</td>\n",
       "      <td>((S, G, F, R, K, M, A, F, P, S, G, K, V, E, G,...</td>\n",
       "    </tr>\n",
       "    <tr>\n",
       "      <th>40</th>\n",
       "      <td>pdb|8D4N|A</td>\n",
       "      <td>Chain A, 3C-like proteinase nsp5 [Severe acute...</td>\n",
       "      <td>0.0</td>\n",
       "      <td>650.973</td>\n",
       "      <td>((S, G, F, R, K, M, A, F, P, S, G, K, V, E, G,...</td>\n",
       "    </tr>\n",
       "    <tr>\n",
       "      <th>41</th>\n",
       "      <td>pdb|8E1Y|A</td>\n",
       "      <td>Chain A, 3C-like proteinase nsp5 [Severe acute...</td>\n",
       "      <td>0.0</td>\n",
       "      <td>650.588</td>\n",
       "      <td>((S, G, F, R, K, M, A, F, P, S, G, K, V, E, G,...</td>\n",
       "    </tr>\n",
       "    <tr>\n",
       "      <th>42</th>\n",
       "      <td>pdb|8DZ6|A</td>\n",
       "      <td>Chain A, 3C-like proteinase nsp5 [Severe acute...</td>\n",
       "      <td>0.0</td>\n",
       "      <td>650.588</td>\n",
       "      <td>((S, G, F, R, K, M, A, F, P, S, G, K, V, E, G,...</td>\n",
       "    </tr>\n",
       "    <tr>\n",
       "      <th>43</th>\n",
       "      <td>pdb|8DZA|A</td>\n",
       "      <td>Chain A, 3C-like proteinase nsp5 [Severe acute...</td>\n",
       "      <td>0.0</td>\n",
       "      <td>650.588</td>\n",
       "      <td>((S, G, F, R, K, M, A, F, P, S, G, K, V, E, G,...</td>\n",
       "    </tr>\n",
       "    <tr>\n",
       "      <th>44</th>\n",
       "      <td>pdb|8DDM|A</td>\n",
       "      <td>Chain A, 3C-like proteinase nsp5 [Severe acute...</td>\n",
       "      <td>0.0</td>\n",
       "      <td>650.203</td>\n",
       "      <td>((S, G, F, R, K, M, A, F, P, S, G, K, V, E, G,...</td>\n",
       "    </tr>\n",
       "    <tr>\n",
       "      <th>45</th>\n",
       "      <td>pdb|8DZ1|A</td>\n",
       "      <td>Chain A, Replicase polyprotein 1ab [Severe acu...</td>\n",
       "      <td>0.0</td>\n",
       "      <td>650.203</td>\n",
       "      <td>((S, G, F, R, K, M, A, F, P, S, G, K, V, E, G,...</td>\n",
       "    </tr>\n",
       "    <tr>\n",
       "      <th>46</th>\n",
       "      <td>pdb|6XMK|A</td>\n",
       "      <td>Chain A, 3C-like proteinase [Severe acute resp...</td>\n",
       "      <td>0.0</td>\n",
       "      <td>650.203</td>\n",
       "      <td>((L, Q, S, G, F, R, K, M, A, F, P, S, G, K, V,...</td>\n",
       "    </tr>\n",
       "    <tr>\n",
       "      <th>47</th>\n",
       "      <td>pdb|8E26|A</td>\n",
       "      <td>Chain A, 3C-like proteinase nsp5 [Severe acute...</td>\n",
       "      <td>0.0</td>\n",
       "      <td>650.203</td>\n",
       "      <td>((S, G, F, R, K, M, A, F, P, S, G, K, V, E, G,...</td>\n",
       "    </tr>\n",
       "    <tr>\n",
       "      <th>48</th>\n",
       "      <td>pdb|7RVM|A</td>\n",
       "      <td>Chain A, 3C-like proteinase [Severe acute resp...</td>\n",
       "      <td>0.0</td>\n",
       "      <td>650.203</td>\n",
       "      <td>((S, G, F, R, K, M, A, F, P, S, G, K, V, E, G,...</td>\n",
       "    </tr>\n",
       "    <tr>\n",
       "      <th>49</th>\n",
       "      <td>pdb|7ZB8|A</td>\n",
       "      <td>Chain A, 3C-like proteinase nsp5 [Severe acute...</td>\n",
       "      <td>0.0</td>\n",
       "      <td>649.818</td>\n",
       "      <td>((S, G, F, R, K, M, A, F, P, S, G, K, V, E, G,...</td>\n",
       "    </tr>\n",
       "  </tbody>\n",
       "</table>\n",
       "</div>"
      ],
      "text/plain": [
       "              id                                        description  evalue  \\\n",
       "0     pdb|7MSW|A  Chain A, Non-structural protein 2 [Severe acut...     0.0   \n",
       "1     pdb|7FAC|A  Chain A, Non-structural protein 2 [Severe acut...     0.0   \n",
       "2     pdb|6WUU|A  Chain A, Non-structural protein 3 [Severe acut...     0.0   \n",
       "3     pdb|7CMD|A  Chain A, Non-structural protein 3 [Severe acut...     0.0   \n",
       "4     pdb|7CJD|A  Chain A, Non-structural protein 3 [Severe acut...     0.0   \n",
       "5     pdb|6XAA|A  Chain A, Non-structural protein 3 [Severe acut...     0.0   \n",
       "6     pdb|6XA9|A  Chain A, Non-structural protein 3 [Severe acut...     0.0   \n",
       "7     pdb|7D47|A  Chain A, Non-structural protein 3 [Severe acut...     0.0   \n",
       "8     pdb|6W9C|A  Chain A, Non-structural protein 3 [Severe acut...     0.0   \n",
       "9     pdb|7NT4|A  Chain A, Non-structural protein 3 [Severe acut...     0.0   \n",
       "10    pdb|6WZU|A  Chain A, Non-structural protein 3 [Severe acut...     0.0   \n",
       "11  pdb|7NFV|AAA  Chain AAA, Papain-like protease nsp3 [Severe a...     0.0   \n",
       "12    pdb|7LBR|A  Chain A, Non-structural protein 3 [Severe acut...     0.0   \n",
       "13    pdb|7JRN|A  Chain A, Non-structural protein 3 [Severe acut...     0.0   \n",
       "14    pdb|8CX9|A  Chain A, Papain-like protease nsp3 [Severe acu...     0.0   \n",
       "15    pdb|7D6H|A  Chain A, Papain-like protease [Severe acute re...     0.0   \n",
       "16    pdb|6YVA|A  Chain A, Replicase polyprotein 1a [Severe acut...     0.0   \n",
       "17    pdb|7CJM|B  Chain B, Non-structural protein 3 [Severe acut...     0.0   \n",
       "18    pdb|6WRH|A  Chain A, Non-structural protein 3 [Severe acut...     0.0   \n",
       "19    pdb|7QCG|A  Chain A, Papain-like protease nsp3 [Severe acu...     0.0   \n",
       "20    pdb|7UV5|A  Chain A, Papain-like protease nsp3 [Severe acu...     0.0   \n",
       "21    pdb|8E4J|A  Chain A, Replicase polyprotein 1ab [Severe acu...     0.0   \n",
       "22    pdb|7D7K|A  Chain A, Non-structural protein 3 [Severe acut...     0.0   \n",
       "23    pdb|7N6N|A  Chain A, 3C-like proteinase [Severe acute resp...     0.0   \n",
       "24    pdb|7KFI|A  Chain A, 3C-like proteinase [Severe acute resp...     0.0   \n",
       "25    pdb|7VTH|A  Chain A, 3C-like proteinase [Severe acute resp...     0.0   \n",
       "26    pdb|7W9G|A  Chain A, 3C-like proteinase nsp5 [Severe acute...     0.0   \n",
       "27    pdb|6XA4|A  Chain A, 3C-like proteinase [Severe acute resp...     0.0   \n",
       "28    pdb|7VU6|A  Chain A, 3C-like proteinase [Severe acute resp...     0.0   \n",
       "29    pdb|7CB7|A  Chain A, 3C-like proteinase [Severe acute resp...     0.0   \n",
       "30    pdb|7CWC|A  Chain A, 3C-like proteinase [Severe acute resp...     0.0   \n",
       "31    pdb|7BRO|A  Chain A, 3C-like proteinase [Severe acute resp...     0.0   \n",
       "32    pdb|5R7Y|A  Chain A, 3C-like proteinase [Severe acute resp...     0.0   \n",
       "33    pdb|7CBT|A  Chain A, 3C-like proteinase [Severe acute resp...     0.0   \n",
       "34    pdb|7MPB|A  Chain A, 3C-like proteinase [Severe acute resp...     0.0   \n",
       "35    pdb|7T2U|A  Chain A, 3C-Like Protease [Severe acute respir...     0.0   \n",
       "36    pdb|8EYJ|A  Chain A, 3C-like proteinase nsp5 [Severe acute...     0.0   \n",
       "37    pdb|7ZB7|A  Chain A, 3C-like proteinase nsp5 [Severe acute...     0.0   \n",
       "38    pdb|7U29|A  Chain A, 3C-like proteinase nsp5 [Severe acute...     0.0   \n",
       "39    pdb|8D4L|A  Chain A, 3C-like proteinase nsp5 [Severe acute...     0.0   \n",
       "40    pdb|8D4N|A  Chain A, 3C-like proteinase nsp5 [Severe acute...     0.0   \n",
       "41    pdb|8E1Y|A  Chain A, 3C-like proteinase nsp5 [Severe acute...     0.0   \n",
       "42    pdb|8DZ6|A  Chain A, 3C-like proteinase nsp5 [Severe acute...     0.0   \n",
       "43    pdb|8DZA|A  Chain A, 3C-like proteinase nsp5 [Severe acute...     0.0   \n",
       "44    pdb|8DDM|A  Chain A, 3C-like proteinase nsp5 [Severe acute...     0.0   \n",
       "45    pdb|8DZ1|A  Chain A, Replicase polyprotein 1ab [Severe acu...     0.0   \n",
       "46    pdb|6XMK|A  Chain A, 3C-like proteinase [Severe acute resp...     0.0   \n",
       "47    pdb|8E26|A  Chain A, 3C-like proteinase nsp5 [Severe acute...     0.0   \n",
       "48    pdb|7RVM|A  Chain A, 3C-like proteinase [Severe acute resp...     0.0   \n",
       "49    pdb|7ZB8|A  Chain A, 3C-like proteinase nsp5 [Severe acute...     0.0   \n",
       "\n",
       "    bitscore                                          alignment  \n",
       "0   1328.540  ((A, Y, T, R, Y, V, D, N, N, F, C, G, P, D, G,...  \n",
       "1    746.503  ((K, L, D, G, F, M, G, R, I, R, S, V, Y, P, V,...  \n",
       "2    674.855  ((L, R, E, V, R, T, I, K, V, F, T, T, V, D, N,...  \n",
       "3    674.470  ((E, V, R, T, I, K, V, F, T, T, V, D, N, I, N,...  \n",
       "4    671.389  ((E, V, R, T, I, K, V, F, T, T, V, D, N, I, N,...  \n",
       "5    670.618  ((R, E, V, R, T, I, K, V, F, T, T, V, D, N, I,...  \n",
       "6    669.463  ((R, E, V, R, T, I, K, V, F, T, T, V, D, N, I,...  \n",
       "7    669.078  ((E, V, R, T, I, K, V, F, T, T, V, D, N, I, N,...  \n",
       "8    668.692  ((E, V, R, T, I, K, V, F, T, T, V, D, N, I, N,...  \n",
       "9    668.307  ((E, V, R, T, I, K, V, F, T, T, V, D, N, I, N,...  \n",
       "10   668.307  ((E, V, R, T, I, K, V, F, T, T, V, D, N, I, N,...  \n",
       "11   667.922  ((E, V, R, T, I, K, V, F, T, T, V, D, N, I, N,...  \n",
       "12   667.922  ((E, V, R, T, I, K, V, F, T, T, V, D, N, I, N,...  \n",
       "13   667.922  ((E, V, R, T, I, K, V, F, T, T, V, D, N, I, N,...  \n",
       "14   667.152  ((E, V, R, T, I, K, V, F, T, T, V, D, N, I, N,...  \n",
       "15   666.766  ((R, E, V, R, T, I, K, V, F, T, T, V, D, N, I,...  \n",
       "16   665.226  ((E, V, R, T, I, K, V, F, T, T, V, D, N, I, N,...  \n",
       "17   665.226  ((E, V, R, T, I, K, V, F, T, T, V, D, N, I, N,...  \n",
       "18   665.226  ((E, V, R, T, I, K, V, F, T, T, V, D, N, I, N,...  \n",
       "19   664.070  ((E, V, R, T, I, K, V, F, T, T, V, D, N, I, N,...  \n",
       "20   663.300  ((E, V, R, T, I, K, V, F, T, T, V, D, N, I, N,...  \n",
       "21   659.062  ((S, I, T, S, A, V, L, Q, S, G, F, R, K, M, A,...  \n",
       "22   659.062  ((T, I, K, V, F, T, T, V, D, N, I, N, L, H, T,...  \n",
       "23   658.292  ((S, A, V, L, Q, S, G, F, R, K, M, A, F, P, S,...  \n",
       "24   652.514  ((S, G, F, R, K, M, A, F, P, S, G, K, V, E, G,...  \n",
       "25   652.129  ((S, G, F, R, K, M, A, F, P, S, G, K, V, E, G,...  \n",
       "26   652.129  ((S, G, F, R, K, M, A, F, P, S, G, K, V, E, G,...  \n",
       "27   652.129  ((S, G, F, R, K, M, A, F, P, S, G, K, V, E, G,...  \n",
       "28   652.129  ((S, G, F, R, K, M, A, F, P, S, G, K, V, E, G,...  \n",
       "29   652.129  ((S, G, F, R, K, M, A, F, P, S, G, K, V, E, G,...  \n",
       "30   652.129  ((S, G, F, R, K, M, A, F, P, S, G, K, V, E, G,...  \n",
       "31   652.129  ((S, G, F, R, K, M, A, F, P, S, G, K, V, E, G,...  \n",
       "32   652.129  ((S, G, F, R, K, M, A, F, P, S, G, K, V, E, G,...  \n",
       "33   651.358  ((S, G, F, R, K, M, A, F, P, S, G, K, V, E, G,...  \n",
       "34   651.358  ((S, G, F, R, K, M, A, F, P, S, G, K, V, E, G,...  \n",
       "35   651.358  ((L, Q, S, G, F, R, K, M, A, F, P, S, G, K, V,...  \n",
       "36   650.973  ((Q, S, G, F, R, K, M, A, F, P, S, G, K, V, E,...  \n",
       "37   650.973  ((S, G, F, R, K, M, A, F, P, S, G, K, V, E, G,...  \n",
       "38   650.973  ((S, G, F, R, K, M, A, F, P, S, G, K, V, E, G,...  \n",
       "39   650.973  ((S, G, F, R, K, M, A, F, P, S, G, K, V, E, G,...  \n",
       "40   650.973  ((S, G, F, R, K, M, A, F, P, S, G, K, V, E, G,...  \n",
       "41   650.588  ((S, G, F, R, K, M, A, F, P, S, G, K, V, E, G,...  \n",
       "42   650.588  ((S, G, F, R, K, M, A, F, P, S, G, K, V, E, G,...  \n",
       "43   650.588  ((S, G, F, R, K, M, A, F, P, S, G, K, V, E, G,...  \n",
       "44   650.203  ((S, G, F, R, K, M, A, F, P, S, G, K, V, E, G,...  \n",
       "45   650.203  ((S, G, F, R, K, M, A, F, P, S, G, K, V, E, G,...  \n",
       "46   650.203  ((L, Q, S, G, F, R, K, M, A, F, P, S, G, K, V,...  \n",
       "47   650.203  ((S, G, F, R, K, M, A, F, P, S, G, K, V, E, G,...  \n",
       "48   650.203  ((S, G, F, R, K, M, A, F, P, S, G, K, V, E, G,...  \n",
       "49   649.818  ((S, G, F, R, K, M, A, F, P, S, G, K, V, E, G,...  "
      ]
     },
     "execution_count": 102,
     "metadata": {},
     "output_type": "execute_result"
    }
   ],
   "source": [
    "blast_query.view_query()"
   ]
  },
  {
   "cell_type": "markdown",
   "metadata": {
    "papermill": {
     "duration": 0.160151,
     "end_time": "2023-03-08T16:06:46.373911",
     "exception": false,
     "start_time": "2023-03-08T16:06:46.213760",
     "status": "completed"
    },
    "tags": []
   },
   "source": [
    "Next, let's choose a few search hit results & plot them, visualising the results: pdb|7MSW|A, pdb|6WUU|A\n",
    "If we have a hit, we of course can search & find more about this specific sequence in literature or databases\n",
    "We can see that our perfect hit case; pdb|7WUU|A is not the entire sequence that we input & visually can see its much smaller than our input\n",
    "We got a match for the the entire sequence, using the UniProt database.\n",
    "However as we can see with the pdb, we only managed to identify sequences representing part of the protein, which still gave us 100% match locally."
   ]
  },
  {
   "cell_type": "code",
   "execution_count": 103,
   "metadata": {
    "execution": {
     "iopub.execute_input": "2023-03-08T16:06:46.696113Z",
     "iopub.status.busy": "2023-03-08T16:06:46.695347Z",
     "iopub.status.idle": "2023-03-08T16:06:46.771988Z",
     "shell.execute_reply": "2023-03-08T16:06:46.772606Z",
     "shell.execute_reply.started": "2023-03-08T13:56:21.977756Z"
    },
    "papermill": {
     "duration": 0.240617,
     "end_time": "2023-03-08T16:06:46.772843",
     "exception": false,
     "start_time": "2023-03-08T16:06:46.532226",
     "status": "completed"
    },
    "tags": []
   },
   "outputs": [
    {
     "data": {},
     "metadata": {},
     "output_type": "display_data"
    },
    {
     "data": {
      "application/vnd.holoviews_exec.v0+json": "",
      "text/html": [
       "<div id='1202'>\n",
       "\n",
       "\n",
       "\n",
       "\n",
       "\n",
       "  <div class=\"bk-root\" id=\"60e7e701-d58c-4d9c-b6f9-bd5b0f027efd\" data-root-id=\"1202\"></div>\n",
       "</div>\n",
       "<script type=\"application/javascript\">(function(root) {\n",
       "  function embed_document(root) {\n",
       "    var docs_json = {\"5f898819-e9cd-422c-a605-438bbc6f2c6d\":{\"roots\":{\"references\":[{\"attributes\":{\"toolbars\":[{\"id\":\"1146\"},{\"id\":\"1173\"}],\"tools\":[{\"id\":\"1142\"},{\"id\":\"1143\"},{\"id\":\"1144\"},{\"id\":\"1145\"},{\"id\":\"1171\"},{\"id\":\"1172\"}]},\"id\":\"1199\",\"type\":\"ProxyToolbar\"},{\"attributes\":{\"data_source\":{\"id\":\"1123\"},\"glyph\":{\"id\":\"1177\"},\"hover_glyph\":null,\"muted_glyph\":null,\"view\":{\"id\":\"1181\"}},\"id\":\"1180\",\"type\":\"GlyphRenderer\"},{\"attributes\":{},\"id\":\"1169\",\"type\":\"CategoricalTicker\"},{\"attributes\":{\"data_source\":{\"id\":\"1123\"},\"glyph\":{\"id\":\"1176\"},\"hover_glyph\":null,\"muted_glyph\":null,\"view\":{\"id\":\"1179\"}},\"id\":\"1178\",\"type\":\"GlyphRenderer\"},{\"attributes\":{\"dimensions\":\"width\"},\"id\":\"1142\",\"type\":\"PanTool\"},{\"attributes\":{\"fill_alpha\":{\"value\":0.6},\"fill_color\":{\"field\":\"colors\"},\"height\":{\"units\":\"data\",\"value\":1},\"line_color\":{\"value\":null},\"width\":{\"units\":\"data\",\"value\":1},\"x\":{\"field\":\"x\"},\"y\":{\"field\":\"recty\"}},\"id\":\"1151\",\"type\":\"Rect\"},{\"attributes\":{\"axis\":{\"id\":\"1164\"},\"ticker\":null,\"visible\":false},\"id\":\"1167\",\"type\":\"Grid\"},{\"attributes\":{\"source\":{\"id\":\"1123\"}},\"id\":\"1181\",\"type\":\"CDSView\"},{\"attributes\":{\"source\":{\"id\":\"1123\"}},\"id\":\"1179\",\"type\":\"CDSView\"},{\"attributes\":{\"fill_alpha\":{\"value\":0.4},\"fill_color\":{\"field\":\"colors\"},\"height\":{\"units\":\"data\",\"value\":1},\"line_color\":{\"value\":null},\"width\":{\"units\":\"data\",\"value\":1.0},\"x\":{\"field\":\"x\"},\"y\":{\"field\":\"recty\"}},\"id\":\"1177\",\"type\":\"Rect\"},{\"attributes\":{},\"id\":\"1132\",\"type\":\"LinearScale\"},{\"attributes\":{\"formatter\":{\"id\":\"1193\"},\"major_label_text_font_style\":\"bold\",\"ticker\":{\"id\":\"1165\"}},\"id\":\"1164\",\"type\":\"LinearAxis\"},{\"attributes\":{\"children\":[{\"id\":\"1198\"},{\"id\":\"1200\"}]},\"id\":\"1201\",\"type\":\"Column\"},{\"attributes\":{\"below\":[{\"id\":\"1164\"}],\"center\":[{\"id\":\"1167\"},{\"id\":\"1170\"}],\"left\":[{\"id\":\"1168\"}],\"min_border\":0,\"plot_height\":55,\"plot_width\":800,\"renderers\":[{\"id\":\"1178\"},{\"id\":\"1180\"}],\"title\":null,\"toolbar\":{\"id\":\"1173\"},\"toolbar_location\":null,\"x_range\":{\"id\":\"1156\"},\"x_scale\":{\"id\":\"1160\"},\"y_range\":{\"id\":\"1158\"},\"y_scale\":{\"id\":\"1162\"}},\"id\":\"1154\",\"subtype\":\"Figure\",\"type\":\"Plot\"},{\"attributes\":{},\"id\":\"1135\",\"type\":\"BasicTicker\"},{\"attributes\":{\"axis\":{\"id\":\"1138\"},\"dimension\":1,\"ticker\":null,\"visible\":false},\"id\":\"1141\",\"type\":\"Grid\"},{\"attributes\":{\"formatter\":{\"id\":\"1191\"},\"major_tick_line_width\":0,\"minor_tick_line_width\":0,\"ticker\":{\"id\":\"1169\"}},\"id\":\"1168\",\"type\":\"CategoricalAxis\"},{\"attributes\":{\"data\":{\"colors\":[\"#3386FF\",\"#37ADBB\",\"#24CE5D\",\"#D3385E\",\"#37ADBB\",\"#3386FF\",\"#B842B2\",\"#24CE5D\",\"#24CE5D\",\"#3386FF\",\"#3386FF\",\"#FF5733\",\"#E3E710\",\"#B842B2\",\"#FF5733\",\"#37ADBB\",\"#E3E710\",\"#3386FF\",\"#B842B2\",\"#3386FF\",\"#3386FF\",\"#D3385E\",\"#B842B2\",\"#3386FF\",\"#3386FF\",\"#3386FF\",\"#D3385E\",\"#3386FF\",\"#FF5733\",\"#D3385E\",\"#3386FF\",\"#24CE5D\",\"#3386FF\",\"#24CE5D\",\"#3386FF\",\"#24CE5D\",\"#B842B2\",\"#24CE5D\",\"#3386FF\",\"#B842B2\",\"#3386FF\",\"#3386FF\",\"#B842B2\",\"#24CE5D\",\"#D3385E\",\"#D3385E\",\"#FF5733\",\"#3386FF\",\"#37ADBB\",\"#3386FF\",\"#3386FF\",\"#D3385E\",\"#B842B2\",\"#37ADBB\",\"#B842B2\",\"#37ADBB\",\"#B842B2\",\"#3386FF\",\"#3386FF\",\"#3386FF\",\"#37ADBB\",\"#24CE5D\",\"#B842B2\",\"#D3385E\",\"#24CE5D\",\"#B842B2\",\"#D3385E\",\"#24CE5D\",\"#37ADBB\",\"#B842B2\",\"#3386FF\",\"#24CE5D\",\"#24CE5D\",\"#E3E710\",\"#3386FF\",\"#B842B2\",\"#3386FF\",\"#D3385E\",\"#3386FF\",\"#3386FF\",\"#D3385E\",\"#D3385E\",\"#3386FF\",\"#B842B2\",\"#24CE5D\",\"#3386FF\",\"#24CE5D\",\"#FF5733\",\"#B842B2\",\"#3386FF\",\"#E3E710\",\"#24CE5D\",\"#3386FF\",\"#3386FF\",\"#3386FF\",\"#E3E710\",\"#3386FF\",\"#24CE5D\",\"#24CE5D\",\"#3386FF\",\"#3386FF\",\"#D3385E\",\"#24CE5D\",\"#3386FF\",\"#24CE5D\",\"#E3E710\",\"#D3385E\",\"#3386FF\",\"#B842B2\",\"#D3385E\",\"#D3385E\",\"#D3385E\",\"#3386FF\",\"#B842B2\",\"#FF5733\",\"#3386FF\",\"#3386FF\",\"#FF5733\",\"#D3385E\",\"#3386FF\",\"#D3385E\",\"#24CE5D\",\"#3386FF\",\"#37ADBB\",\"#E3E710\",\"#3386FF\",\"#3386FF\",\"#24CE5D\",\"#E3E710\",\"#24CE5D\",\"#B842B2\",\"#3386FF\",\"#24CE5D\",\"#24CE5D\",\"#3386FF\",\"#3386FF\",\"#3386FF\",\"#24CE5D\",\"#24CE5D\",\"#3386FF\",\"#3386FF\",\"#D3385E\",\"#3386FF\",\"#B842B2\",\"#37ADBB\",\"#3386FF\",\"#FF5733\",\"#B842B2\",\"#24CE5D\",\"#24CE5D\",\"#3386FF\",\"#24CE5D\",\"#24CE5D\",\"#FF5733\",\"#B842B2\",\"#3386FF\",\"#3386FF\",\"#D3385E\",\"#3386FF\",\"#24CE5D\",\"#3386FF\",\"#B842B2\",\"#3386FF\",\"#3386FF\",\"#FF5733\",\"#24CE5D\",\"#B842B2\",\"#24CE5D\",\"#3386FF\",\"#24CE5D\",\"#D3385E\",\"#B842B2\",\"#FF5733\",\"#3386FF\",\"#24CE5D\",\"#24CE5D\",\"#3386FF\",\"#FF5733\",\"#37ADBB\",\"#3386FF\",\"#E3E710\",\"#24CE5D\",\"#24CE5D\",\"#3386FF\",\"#3386FF\",\"#3386FF\",\"#D3385E\",\"#3386FF\",\"#37ADBB\",\"#3386FF\",\"#E3E710\",\"#3386FF\",\"#3386FF\",\"#37ADBB\",\"#24CE5D\",\"#24CE5D\",\"#B842B2\",\"#3386FF\",\"#FF5733\",\"#E3E710\",\"#B842B2\",\"#37ADBB\",\"#24CE5D\",\"#3386FF\",\"#3386FF\",\"#B842B2\",\"#37ADBB\",\"#37ADBB\",\"#24CE5D\",\"#B842B2\",\"#24CE5D\",\"#FF5733\",\"#3386FF\",\"#D3385E\",\"#24CE5D\",\"#3386FF\",\"#3386FF\",\"#D3385E\",\"#D3385E\",\"#FF5733\",\"#FF5733\",\"#D3385E\",\"#24CE5D\",\"#3386FF\",\"#3386FF\",\"#3386FF\",\"#FF5733\",\"#FF5733\",\"#3386FF\",\"#3386FF\",\"#3386FF\",\"#24CE5D\",\"#37ADBB\",\"#3386FF\",\"#FF5733\",\"#3386FF\",\"#37ADBB\",\"#24CE5D\",\"#D3385E\",\"#3386FF\",\"#3386FF\",\"#37ADBB\",\"#3386FF\",\"#3386FF\",\"#E3E710\",\"#D3385E\",\"#3386FF\",\"#24CE5D\",\"#3386FF\",\"#24CE5D\",\"#3386FF\",\"#FF5733\",\"#3386FF\",\"#24CE5D\",\"#37ADBB\",\"#24CE5D\",\"#FF5733\",\"#3386FF\",\"#3386FF\",\"#FF5733\",\"#B842B2\",\"#FF5733\",\"#24CE5D\",\"#B842B2\",\"#FF5733\",\"#3386FF\",\"#24CE5D\",\"#B842B2\",\"#24CE5D\",\"#3386FF\",\"#3386FF\",\"#B842B2\",\"#3386FF\",\"#3386FF\",\"#24CE5D\",\"#D3385E\",\"#B842B2\",\"#D3385E\",\"#3386FF\",\"#24CE5D\",\"#3386FF\",\"#24CE5D\",\"#3386FF\",\"#3386FF\",\"#FF5733\",\"#B842B2\",\"#3386FF\",\"#D3385E\",\"#3386FF\",\"#24CE5D\",\"#B842B2\",\"#B842B2\",\"#3386FF\",\"#3386FF\",\"#3386FF\",\"#3386FF\",\"#3386FF\",\"#3386FF\",\"#24CE5D\",\"#3386FF\",\"#24CE5D\",\"#3386FF\",\"#24CE5D\",\"#24CE5D\",\"#24CE5D\",\"#3386FF\",\"#3386FF\",\"#3386FF\",\"#B842B2\",\"#24CE5D\",\"#3386FF\",\"#D3385E\",\"#FF5733\",\"#3386FF\",\"#B842B2\",\"#37ADBB\",\"#D3385E\",\"#3386FF\",\"#3386FF\",\"#D3385E\",\"#24CE5D\",\"#3386FF\",\"#3386FF\",\"#B842B2\",\"#24CE5D\",\"#3386FF\",\"#FF5733\",\"#24CE5D\",\"#3386FF\",\"#D3385E\",\"#3386FF\",\"#24CE5D\",\"#D3385E\",\"#FF5733\",\"#D3385E\",\"#3386FF\",\"#D3385E\",\"#D3385E\",\"#FF5733\",\"#3386FF\",\"#3386FF\",\"#24CE5D\",\"#3386FF\",\"#FF5733\",\"#B842B2\",\"#24CE5D\",\"#D3385E\",\"#24CE5D\",\"#3386FF\",\"#3386FF\",\"#24CE5D\",\"#E3E710\",\"#3386FF\",\"#37ADBB\",\"#3386FF\",\"#3386FF\",\"#3386FF\",\"#24CE5D\",\"#B842B2\",\"#3386FF\",\"#3386FF\",\"#D3385E\",\"#3386FF\",\"#3386FF\",\"#D3385E\",\"#24CE5D\",\"#3386FF\",\"#3386FF\",\"#24CE5D\",\"#D3385E\",\"#24CE5D\",\"#3386FF\",\"#B842B2\",\"#24CE5D\",\"#3386FF\",\"#24CE5D\",\"#24CE5D\",\"#24CE5D\",\"#3386FF\",\"#D3385E\",\"#3386FF\",\"#3386FF\",\"#24CE5D\",\"#D3385E\",\"#3386FF\",\"#3386FF\",\"#3386FF\",\"#24CE5D\",\"#3386FF\",\"#3386FF\",\"#B842B2\",\"#FF5733\",\"#3386FF\",\"#24CE5D\",\"#24CE5D\",\"#37ADBB\",\"#24CE5D\",\"#3386FF\",\"#D3385E\",\"#3386FF\",\"#3386FF\",\"#B842B2\",\"#3386FF\",\"#3386FF\",\"#3386FF\",\"#3386FF\",\"#24CE5D\",\"#24CE5D\",\"#B842B2\",\"#3386FF\",\"#3386FF\",\"#24CE5D\",\"#24CE5D\",\"#24CE5D\",\"#3386FF\",\"#3386FF\",\"#3386FF\",\"#3386FF\",\"#3386FF\",\"#37ADBB\",\"#3386FF\",\"#24CE5D\",\"#FF5733\",\"#FF5733\",\"#3386FF\",\"#3386FF\",\"#24CE5D\",\"#3386FF\",\"#24CE5D\",\"#24CE5D\",\"#24CE5D\",\"#3386FF\",\"#3386FF\",\"#24CE5D\",\"#24CE5D\",\"#3386FF\",\"#3386FF\",\"#FF5733\",\"#24CE5D\",\"#3386FF\",\"#37ADBB\",\"#B842B2\",\"#D3385E\",\"#3386FF\",\"#D3385E\",\"#E3E710\",\"#3386FF\",\"#3386FF\",\"#B842B2\",\"#3386FF\",\"#3386FF\",\"#B842B2\",\"#B842B2\",\"#D3385E\",\"#3386FF\",\"#D3385E\",\"#B842B2\",\"#FF5733\",\"#3386FF\",\"#B842B2\",\"#3386FF\",\"#3386FF\",\"#D3385E\",\"#B842B2\",\"#FF5733\",\"#3386FF\",\"#B842B2\",\"#3386FF\",\"#3386FF\",\"#D3385E\",\"#3386FF\",\"#3386FF\",\"#24CE5D\",\"#24CE5D\",\"#3386FF\",\"#3386FF\",\"#3386FF\",\"#B842B2\",\"#3386FF\",\"#3386FF\",\"#FF5733\",\"#FF5733\",\"#24CE5D\",\"#3386FF\",\"#3386FF\",\"#24CE5D\",\"#3386FF\",\"#3386FF\",\"#D3385E\",\"#B842B2\",\"#3386FF\",\"#D3385E\",\"#B842B2\",\"#24CE5D\",\"#3386FF\",\"#24CE5D\",\"#24CE5D\",\"#3386FF\",\"#3386FF\",\"#D3385E\",\"#3386FF\",\"#3386FF\",\"#24CE5D\",\"#D3385E\",\"#3386FF\",\"#3386FF\",\"#3386FF\",\"#3386FF\",\"#3386FF\",\"#3386FF\",\"#B842B2\",\"#24CE5D\",\"#3386FF\",\"#3386FF\",\"#3386FF\",\"#FF5733\",\"#FF5733\",\"#3386FF\",\"#D3385E\",\"#3386FF\",\"#D3385E\",\"#3386FF\",\"#3386FF\",\"#24CE5D\",\"#3386FF\",\"#FF5733\",\"#B842B2\",\"#24CE5D\",\"#3386FF\",\"#3386FF\",\"#24CE5D\",\"#37ADBB\",\"#24CE5D\",\"#D3385E\",\"#FF5733\",\"#3386FF\",\"#37ADBB\",\"#D3385E\",\"#D3385E\",\"#3386FF\",\"#3386FF\",\"#D3385E\",\"#24CE5D\",\"#D3385E\",\"#B842B2\",\"#B842B2\",\"#24CE5D\",\"#FF5733\",\"#3386FF\",\"#3386FF\",\"#3386FF\",\"#E3E710\",\"#3386FF\",\"#D3385E\",\"#3386FF\",\"#E3E710\",\"#D3385E\",\"#B842B2\",\"#3386FF\",\"#3386FF\",\"#3386FF\",\"#3386FF\",\"#B842B2\",\"#FF5733\",\"#B842B2\",\"#24CE5D\",\"#3386FF\",\"#E3E710\",\"#24CE5D\",\"#B842B2\",\"#3386FF\",\"#3386FF\",\"#24CE5D\",\"#B842B2\",\"#B842B2\",\"#3386FF\",\"#3386FF\",\"#3386FF\",\"#D3385E\",\"#24CE5D\",\"#FF5733\",\"#B842B2\",\"#3386FF\",\"#24CE5D\",\"#E3E710\",\"#3386FF\",\"#B842B2\",\"#24CE5D\",\"#E3E710\",\"#24CE5D\",\"#24CE5D\",\"#B842B2\",\"#3386FF\",\"#3386FF\",\"#B842B2\",\"#3386FF\",\"#E3E710\",\"#3386FF\",\"#3386FF\",\"#FF5733\",\"#24CE5D\",\"#E3E710\",\"#3386FF\",\"#3386FF\",\"#3386FF\",\"#24CE5D\",\"#FF5733\",\"#3386FF\",\"#3386FF\",\"#3386FF\",\"#3386FF\",\"#B842B2\",\"#3386FF\",\"#D3385E\",\"#B842B2\",\"#24CE5D\",\"#B842B2\",\"#D3385E\",\"#37ADBB\",\"#3386FF\",\"#3386FF\",\"#3386FF\",\"#3386FF\",\"#E3E710\",\"#24CE5D\",\"#3386FF\",\"#3386FF\",\"#3386FF\",\"#24CE5D\",\"#24CE5D\",\"#24CE5D\",\"#24CE5D\",\"#3386FF\",\"#24CE5D\",\"#3386FF\",\"#D3385E\",\"#FF5733\",\"#FF5733\",\"#3386FF\",\"#37ADBB\",\"#24CE5D\",\"#D3385E\",\"#37ADBB\",\"#3386FF\",\"#B842B2\",\"#24CE5D\",\"#24CE5D\",\"#3386FF\",\"#3386FF\",\"#FF5733\",\"#E3E710\",\"#B842B2\",\"#FF5733\",\"#37ADBB\",\"#E3E710\",\"#3386FF\",\"#B842B2\",\"#3386FF\",\"#3386FF\",\"#D3385E\",\"#B842B2\",\"#3386FF\",\"#3386FF\",\"#3386FF\",\"#D3385E\",\"#3386FF\",\"#FF5733\",\"#D3385E\",\"#3386FF\",\"#24CE5D\",\"#3386FF\",\"#24CE5D\",\"#3386FF\",\"#24CE5D\",\"#B842B2\",\"#24CE5D\",\"#3386FF\",\"#B842B2\",\"#3386FF\",\"#3386FF\",\"#B842B2\",\"#24CE5D\",\"#D3385E\",\"#D3385E\",\"#FF5733\",\"#3386FF\",\"#37ADBB\",\"#3386FF\",\"#3386FF\",\"#D3385E\",\"#B842B2\",\"#37ADBB\",\"#B842B2\",\"#37ADBB\",\"#B842B2\",\"#3386FF\",\"#3386FF\",\"#3386FF\",\"#37ADBB\",\"#24CE5D\",\"#B842B2\",\"#D3385E\",\"#24CE5D\",\"#B842B2\",\"#D3385E\",\"#24CE5D\",\"#37ADBB\",\"#B842B2\",\"#3386FF\",\"#24CE5D\",\"#24CE5D\",\"#E3E710\",\"#3386FF\",\"#B842B2\",\"#3386FF\",\"#D3385E\",\"#3386FF\",\"#3386FF\",\"#D3385E\",\"#D3385E\",\"#3386FF\",\"#B842B2\",\"#24CE5D\",\"#3386FF\",\"#24CE5D\",\"#FF5733\",\"#B842B2\",\"#3386FF\",\"#E3E710\",\"#24CE5D\",\"#3386FF\",\"#3386FF\",\"#3386FF\",\"#E3E710\",\"#3386FF\",\"#24CE5D\",\"#24CE5D\",\"#3386FF\",\"#3386FF\",\"#D3385E\",\"#24CE5D\",\"#3386FF\",\"#24CE5D\",\"#E3E710\",\"#D3385E\",\"#3386FF\",\"#B842B2\",\"#D3385E\",\"#D3385E\",\"#D3385E\",\"#3386FF\",\"#B842B2\",\"#FF5733\",\"#3386FF\",\"#3386FF\",\"#FF5733\",\"#D3385E\",\"#3386FF\",\"#D3385E\",\"#24CE5D\",\"#3386FF\",\"#37ADBB\",\"#E3E710\",\"#3386FF\",\"#3386FF\",\"#24CE5D\",\"#E3E710\",\"#24CE5D\",\"#B842B2\",\"#3386FF\",\"#24CE5D\",\"#24CE5D\",\"#3386FF\",\"#3386FF\",\"#3386FF\",\"#24CE5D\",\"#24CE5D\",\"#3386FF\",\"#3386FF\",\"#D3385E\",\"#3386FF\",\"#B842B2\",\"#37ADBB\",\"#3386FF\",\"#FF5733\",\"#B842B2\",\"#24CE5D\",\"#24CE5D\",\"#3386FF\",\"#24CE5D\",\"#24CE5D\",\"#FF5733\",\"#B842B2\",\"#3386FF\",\"#3386FF\",\"#D3385E\",\"#3386FF\",\"#24CE5D\",\"#3386FF\",\"#B842B2\",\"#3386FF\",\"#3386FF\",\"#FF5733\",\"#24CE5D\",\"#B842B2\",\"#24CE5D\",\"#3386FF\",\"#24CE5D\",\"#D3385E\",\"#B842B2\",\"#FF5733\",\"#3386FF\",\"#24CE5D\",\"#24CE5D\",\"#3386FF\",\"#FF5733\",\"#37ADBB\",\"#3386FF\",\"#E3E710\",\"#24CE5D\",\"#24CE5D\",\"#3386FF\",\"#3386FF\",\"#3386FF\",\"#D3385E\",\"#3386FF\",\"#37ADBB\",\"#3386FF\",\"#E3E710\",\"#3386FF\",\"#3386FF\",\"#37ADBB\",\"#24CE5D\",\"#24CE5D\",\"#B842B2\",\"#3386FF\",\"#FF5733\",\"#E3E710\",\"#B842B2\",\"#37ADBB\",\"#24CE5D\",\"#3386FF\",\"#3386FF\",\"#B842B2\",\"#37ADBB\",\"#37ADBB\",\"#24CE5D\",\"#B842B2\",\"#24CE5D\",\"#FF5733\",\"#3386FF\",\"#D3385E\",\"#24CE5D\",\"#3386FF\",\"#3386FF\",\"#D3385E\",\"#D3385E\",\"#FF5733\",\"#FF5733\",\"#D3385E\",\"#24CE5D\",\"#3386FF\",\"#3386FF\",\"#3386FF\",\"#FF5733\",\"#FF5733\",\"#3386FF\",\"#3386FF\",\"#3386FF\",\"#24CE5D\",\"#37ADBB\",\"#3386FF\",\"#FF5733\",\"#3386FF\",\"#37ADBB\",\"#24CE5D\",\"#D3385E\",\"#3386FF\",\"#3386FF\",\"#37ADBB\",\"#3386FF\",\"#3386FF\",\"#E3E710\",\"#D3385E\",\"#3386FF\",\"#24CE5D\",\"#3386FF\",\"#24CE5D\",\"#3386FF\",\"#FF5733\",\"#3386FF\",\"#24CE5D\",\"#37ADBB\",\"#24CE5D\",\"#FF5733\",\"#3386FF\",\"#3386FF\",\"#FF5733\",\"#B842B2\",\"#FF5733\",\"#24CE5D\",\"#B842B2\",\"#FF5733\",\"#3386FF\",\"#24CE5D\",\"#B842B2\",\"#24CE5D\",\"#3386FF\",\"#3386FF\",\"#B842B2\",\"#3386FF\",\"#3386FF\",\"#24CE5D\",\"#D3385E\",\"#B842B2\",\"#D3385E\",\"#3386FF\",\"#24CE5D\",\"#3386FF\",\"#24CE5D\",\"#3386FF\",\"#3386FF\",\"#FF5733\",\"#B842B2\",\"#3386FF\",\"#D3385E\",\"#3386FF\",\"#24CE5D\",\"#B842B2\",\"#B842B2\",\"#3386FF\",\"#3386FF\",\"#3386FF\",\"#3386FF\",\"#3386FF\",\"#3386FF\",\"#24CE5D\",\"#3386FF\",\"#24CE5D\",\"#3386FF\",\"#24CE5D\",\"#24CE5D\",\"#24CE5D\",\"#3386FF\",\"#3386FF\",\"#3386FF\",\"#B842B2\",\"#24CE5D\",\"#3386FF\",\"#D3385E\",\"#FF5733\",\"#3386FF\",\"#B842B2\",\"#37ADBB\",\"#D3385E\",\"#3386FF\",\"#3386FF\",\"#D3385E\",\"#24CE5D\",\"#3386FF\",\"#3386FF\",\"#B842B2\",\"#24CE5D\",\"#3386FF\",\"#FF5733\",\"#24CE5D\",\"#3386FF\",\"#D3385E\",\"#3386FF\",\"#24CE5D\",\"#D3385E\",\"#FF5733\",\"#D3385E\",\"#3386FF\",\"#D3385E\",\"#D3385E\",\"#FF5733\",\"#3386FF\",\"#3386FF\",\"#24CE5D\",\"#3386FF\",\"#FF5733\",\"#B842B2\",\"#24CE5D\",\"#D3385E\",\"#24CE5D\",\"#3386FF\",\"#3386FF\",\"#24CE5D\",\"#E3E710\",\"#3386FF\",\"#37ADBB\",\"#3386FF\",\"#3386FF\",\"#3386FF\",\"#24CE5D\",\"#B842B2\",\"#3386FF\",\"#3386FF\",\"#D3385E\",\"#3386FF\",\"#3386FF\",\"#D3385E\",\"#24CE5D\",\"#3386FF\",\"#3386FF\",\"#24CE5D\",\"#D3385E\",\"#24CE5D\",\"#3386FF\",\"#B842B2\",\"#24CE5D\",\"#3386FF\",\"#24CE5D\",\"#24CE5D\",\"#24CE5D\",\"#3386FF\",\"#D3385E\",\"#3386FF\",\"#3386FF\",\"#24CE5D\",\"#D3385E\",\"#3386FF\",\"#3386FF\",\"#3386FF\",\"#24CE5D\",\"#3386FF\",\"#3386FF\",\"#B842B2\",\"#FF5733\",\"#3386FF\",\"#24CE5D\",\"#24CE5D\",\"#37ADBB\",\"#24CE5D\",\"#3386FF\",\"#D3385E\",\"#3386FF\",\"#3386FF\",\"#B842B2\",\"#3386FF\",\"#3386FF\",\"#3386FF\",\"#3386FF\",\"#24CE5D\",\"#24CE5D\",\"#B842B2\",\"#3386FF\",\"#3386FF\",\"#24CE5D\",\"#24CE5D\",\"#24CE5D\",\"#3386FF\",\"#3386FF\",\"#3386FF\",\"#3386FF\",\"#3386FF\",\"#37ADBB\",\"#3386FF\",\"#24CE5D\",\"#FF5733\",\"#FF5733\",\"#3386FF\",\"#3386FF\",\"#24CE5D\",\"#3386FF\",\"#24CE5D\",\"#24CE5D\",\"#24CE5D\",\"#3386FF\",\"#3386FF\",\"#24CE5D\",\"#24CE5D\",\"#3386FF\",\"#3386FF\",\"#FF5733\",\"#24CE5D\",\"#3386FF\",\"#37ADBB\",\"#B842B2\",\"#D3385E\",\"#3386FF\",\"#D3385E\",\"#E3E710\",\"#3386FF\",\"#3386FF\",\"#B842B2\",\"#3386FF\",\"#3386FF\",\"#B842B2\",\"#B842B2\",\"#D3385E\",\"#3386FF\",\"#D3385E\",\"#B842B2\",\"#FF5733\",\"#3386FF\",\"#B842B2\",\"#3386FF\",\"#3386FF\",\"#D3385E\",\"#B842B2\",\"#FF5733\",\"#3386FF\",\"#B842B2\",\"#3386FF\",\"#3386FF\",\"#D3385E\",\"#3386FF\",\"#3386FF\",\"#24CE5D\",\"#24CE5D\",\"#3386FF\",\"#3386FF\",\"#3386FF\",\"#B842B2\",\"#3386FF\",\"#3386FF\",\"#FF5733\",\"#FF5733\",\"#24CE5D\",\"#3386FF\",\"#3386FF\",\"#24CE5D\",\"#3386FF\",\"#3386FF\",\"#D3385E\",\"#B842B2\",\"#3386FF\",\"#D3385E\",\"#B842B2\",\"#24CE5D\",\"#3386FF\",\"#24CE5D\",\"#24CE5D\",\"#3386FF\",\"#3386FF\",\"#D3385E\",\"#3386FF\",\"#3386FF\",\"#24CE5D\",\"#D3385E\",\"#3386FF\",\"#3386FF\",\"#3386FF\",\"#3386FF\",\"#3386FF\",\"#3386FF\",\"#B842B2\",\"#24CE5D\",\"#3386FF\",\"#3386FF\",\"#3386FF\",\"#FF5733\",\"#FF5733\",\"#3386FF\",\"#D3385E\",\"#3386FF\",\"#D3385E\",\"#3386FF\",\"#3386FF\",\"#24CE5D\",\"#3386FF\",\"#FF5733\",\"#B842B2\",\"#24CE5D\",\"#3386FF\",\"#3386FF\",\"#24CE5D\",\"#37ADBB\",\"#24CE5D\",\"#D3385E\",\"#FF5733\",\"#3386FF\",\"#37ADBB\",\"#D3385E\",\"#D3385E\",\"#3386FF\",\"#3386FF\",\"#D3385E\",\"#24CE5D\",\"#D3385E\",\"#B842B2\",\"#B842B2\",\"#24CE5D\",\"#FF5733\",\"#3386FF\",\"#3386FF\",\"#3386FF\",\"#E3E710\",\"#3386FF\",\"#D3385E\",\"#3386FF\",\"#E3E710\",\"#D3385E\",\"#B842B2\",\"#3386FF\",\"#3386FF\",\"#3386FF\",\"#3386FF\",\"#B842B2\",\"#FF5733\",\"#B842B2\",\"#24CE5D\",\"#3386FF\",\"#E3E710\",\"#24CE5D\",\"#B842B2\",\"#3386FF\",\"#3386FF\",\"#24CE5D\",\"#B842B2\",\"#B842B2\",\"#3386FF\",\"#3386FF\",\"#3386FF\",\"#D3385E\",\"#24CE5D\",\"#FF5733\",\"#B842B2\",\"#3386FF\",\"#24CE5D\",\"#E3E710\",\"#3386FF\",\"#B842B2\",\"#24CE5D\",\"#E3E710\",\"#24CE5D\",\"#24CE5D\",\"#B842B2\",\"#3386FF\",\"#3386FF\",\"#B842B2\",\"#3386FF\",\"#E3E710\",\"#3386FF\",\"#3386FF\",\"#FF5733\",\"#24CE5D\",\"#E3E710\",\"#3386FF\",\"#3386FF\",\"#3386FF\",\"#24CE5D\",\"#FF5733\",\"#3386FF\",\"#3386FF\",\"#3386FF\",\"#3386FF\",\"#B842B2\",\"#3386FF\",\"#D3385E\",\"#B842B2\",\"#24CE5D\",\"#B842B2\",\"#D3385E\",\"#37ADBB\",\"#3386FF\",\"#3386FF\",\"#3386FF\",\"#3386FF\",\"#E3E710\",\"#24CE5D\",\"#3386FF\",\"#3386FF\",\"#3386FF\",\"#24CE5D\",\"#24CE5D\",\"#24CE5D\",\"#24CE5D\",\"#3386FF\",\"#24CE5D\",\"#3386FF\",\"#D3385E\",\"#FF5733\",\"#FF5733\"],\"recty\":{\"__ndarray__\":\"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\",\"dtype\":\"float64\",\"order\":\"little\",\"shape\":[1276]},\"text\":[\"A\",\"Y\",\"T\",\"R\",\"Y\",\"V\",\"D\",\"N\",\"N\",\"F\",\"C\",\"G\",\"P\",\"D\",\"G\",\"Y\",\"P\",\"L\",\"E\",\"C\",\"I\",\"K\",\"D\",\"L\",\"L\",\"A\",\"R\",\"A\",\"G\",\"K\",\"A\",\"S\",\"C\",\"T\",\"L\",\"S\",\"E\",\"Q\",\"L\",\"D\",\"F\",\"I\",\"D\",\"T\",\"K\",\"R\",\"G\",\"V\",\"Y\",\"C\",\"C\",\"R\",\"E\",\"H\",\"E\",\"H\",\"E\",\"I\",\"A\",\"W\",\"Y\",\"T\",\"E\",\"R\",\"S\",\"E\",\"K\",\"S\",\"Y\",\"E\",\"L\",\"Q\",\"T\",\"P\",\"F\",\"E\",\"I\",\"K\",\"L\",\"A\",\"K\",\"K\",\"F\",\"D\",\"T\",\"F\",\"N\",\"G\",\"E\",\"C\",\"P\",\"N\",\"F\",\"V\",\"F\",\"P\",\"L\",\"N\",\"S\",\"I\",\"I\",\"K\",\"T\",\"I\",\"Q\",\"P\",\"R\",\"V\",\"E\",\"K\",\"K\",\"K\",\"L\",\"D\",\"G\",\"F\",\"M\",\"G\",\"R\",\"I\",\"R\",\"S\",\"V\",\"Y\",\"P\",\"V\",\"A\",\"S\",\"P\",\"N\",\"E\",\"C\",\"N\",\"Q\",\"M\",\"C\",\"L\",\"S\",\"T\",\"L\",\"M\",\"K\",\"C\",\"D\",\"H\",\"C\",\"G\",\"E\",\"T\",\"S\",\"W\",\"Q\",\"T\",\"G\",\"D\",\"F\",\"V\",\"K\",\"A\",\"T\",\"C\",\"E\",\"F\",\"C\",\"G\",\"T\",\"E\",\"N\",\"L\",\"T\",\"K\",\"E\",\"G\",\"A\",\"T\",\"T\",\"C\",\"G\",\"Y\",\"L\",\"P\",\"Q\",\"N\",\"A\",\"V\",\"V\",\"K\",\"I\",\"Y\",\"C\",\"P\",\"A\",\"C\",\"H\",\"N\",\"S\",\"E\",\"V\",\"G\",\"P\",\"E\",\"H\",\"S\",\"L\",\"A\",\"E\",\"Y\",\"H\",\"N\",\"E\",\"S\",\"G\",\"L\",\"K\",\"T\",\"I\",\"L\",\"R\",\"K\",\"G\",\"G\",\"R\",\"T\",\"I\",\"A\",\"F\",\"G\",\"G\",\"C\",\"V\",\"F\",\"S\",\"Y\",\"V\",\"G\",\"C\",\"H\",\"N\",\"K\",\"C\",\"A\",\"Y\",\"W\",\"V\",\"P\",\"R\",\"A\",\"S\",\"A\",\"N\",\"I\",\"G\",\"C\",\"N\",\"H\",\"T\",\"G\",\"V\",\"V\",\"G\",\"E\",\"G\",\"S\",\"E\",\"G\",\"L\",\"N\",\"D\",\"N\",\"L\",\"L\",\"E\",\"I\",\"L\",\"Q\",\"K\",\"E\",\"K\",\"V\",\"N\",\"I\",\"N\",\"I\",\"V\",\"G\",\"D\",\"F\",\"K\",\"L\",\"N\",\"E\",\"E\",\"I\",\"A\",\"I\",\"I\",\"L\",\"A\",\"S\",\"F\",\"S\",\"A\",\"S\",\"T\",\"S\",\"A\",\"F\",\"V\",\"E\",\"T\",\"V\",\"K\",\"G\",\"L\",\"D\",\"Y\",\"K\",\"A\",\"F\",\"K\",\"Q\",\"I\",\"V\",\"E\",\"S\",\"C\",\"G\",\"N\",\"F\",\"K\",\"V\",\"T\",\"K\",\"G\",\"K\",\"A\",\"K\",\"K\",\"G\",\"A\",\"W\",\"N\",\"I\",\"G\",\"E\",\"Q\",\"K\",\"S\",\"I\",\"L\",\"S\",\"P\",\"L\",\"Y\",\"A\",\"F\",\"A\",\"S\",\"E\",\"A\",\"A\",\"R\",\"V\",\"V\",\"R\",\"S\",\"I\",\"F\",\"S\",\"R\",\"T\",\"L\",\"E\",\"T\",\"A\",\"Q\",\"N\",\"S\",\"V\",\"R\",\"V\",\"L\",\"Q\",\"K\",\"A\",\"A\",\"I\",\"T\",\"I\",\"L\",\"D\",\"G\",\"I\",\"S\",\"Q\",\"Y\",\"S\",\"L\",\"R\",\"L\",\"I\",\"D\",\"A\",\"M\",\"M\",\"F\",\"T\",\"S\",\"D\",\"L\",\"A\",\"T\",\"N\",\"N\",\"L\",\"V\",\"V\",\"M\",\"A\",\"Y\",\"I\",\"T\",\"G\",\"G\",\"V\",\"V\",\"Q\",\"L\",\"T\",\"S\",\"Q\",\"W\",\"L\",\"T\",\"N\",\"I\",\"F\",\"G\",\"T\",\"V\",\"Y\",\"E\",\"K\",\"L\",\"K\",\"P\",\"V\",\"L\",\"D\",\"W\",\"L\",\"E\",\"E\",\"K\",\"F\",\"K\",\"E\",\"G\",\"V\",\"E\",\"F\",\"L\",\"R\",\"D\",\"G\",\"W\",\"E\",\"I\",\"V\",\"K\",\"F\",\"I\",\"S\",\"T\",\"C\",\"A\",\"C\",\"E\",\"I\",\"V\",\"G\",\"G\",\"Q\",\"I\",\"V\",\"T\",\"C\",\"A\",\"K\",\"E\",\"I\",\"K\",\"E\",\"S\",\"V\",\"Q\",\"T\",\"F\",\"F\",\"K\",\"L\",\"V\",\"N\",\"K\",\"F\",\"L\",\"A\",\"L\",\"C\",\"A\",\"D\",\"S\",\"I\",\"I\",\"I\",\"G\",\"G\",\"A\",\"K\",\"L\",\"K\",\"A\",\"L\",\"N\",\"L\",\"G\",\"E\",\"T\",\"F\",\"V\",\"T\",\"H\",\"S\",\"K\",\"G\",\"L\",\"Y\",\"R\",\"K\",\"C\",\"V\",\"K\",\"S\",\"R\",\"E\",\"E\",\"T\",\"G\",\"L\",\"L\",\"M\",\"P\",\"L\",\"K\",\"A\",\"P\",\"K\",\"E\",\"I\",\"I\",\"F\",\"L\",\"E\",\"G\",\"E\",\"T\",\"L\",\"P\",\"T\",\"E\",\"V\",\"L\",\"T\",\"E\",\"E\",\"V\",\"V\",\"L\",\"K\",\"T\",\"G\",\"D\",\"L\",\"Q\",\"P\",\"L\",\"E\",\"Q\",\"P\",\"T\",\"S\",\"E\",\"A\",\"V\",\"E\",\"A\",\"P\",\"L\",\"V\",\"G\",\"T\",\"P\",\"V\",\"C\",\"I\",\"N\",\"G\",\"L\",\"M\",\"L\",\"L\",\"E\",\"I\",\"K\",\"D\",\"T\",\"E\",\"K\",\"Y\",\"C\",\"A\",\"L\",\"A\",\"P\",\"N\",\"M\",\"M\",\"V\",\"T\",\"N\",\"N\",\"T\",\"F\",\"T\",\"L\",\"K\",\"G\",\"G\",\"A\",\"Y\",\"T\",\"R\",\"Y\",\"V\",\"D\",\"N\",\"N\",\"F\",\"C\",\"G\",\"P\",\"D\",\"G\",\"Y\",\"P\",\"L\",\"E\",\"C\",\"I\",\"K\",\"D\",\"L\",\"L\",\"A\",\"R\",\"A\",\"G\",\"K\",\"A\",\"S\",\"C\",\"T\",\"L\",\"S\",\"E\",\"Q\",\"L\",\"D\",\"F\",\"I\",\"D\",\"T\",\"K\",\"R\",\"G\",\"V\",\"Y\",\"C\",\"C\",\"R\",\"E\",\"H\",\"E\",\"H\",\"E\",\"I\",\"A\",\"W\",\"Y\",\"T\",\"E\",\"R\",\"S\",\"E\",\"K\",\"S\",\"Y\",\"E\",\"L\",\"Q\",\"T\",\"P\",\"F\",\"E\",\"I\",\"K\",\"L\",\"A\",\"K\",\"K\",\"F\",\"D\",\"T\",\"F\",\"N\",\"G\",\"E\",\"C\",\"P\",\"N\",\"F\",\"V\",\"F\",\"P\",\"L\",\"N\",\"S\",\"I\",\"I\",\"K\",\"T\",\"I\",\"Q\",\"P\",\"R\",\"V\",\"E\",\"K\",\"K\",\"K\",\"L\",\"D\",\"G\",\"F\",\"M\",\"G\",\"R\",\"I\",\"R\",\"S\",\"V\",\"Y\",\"P\",\"V\",\"A\",\"S\",\"P\",\"N\",\"E\",\"C\",\"N\",\"Q\",\"M\",\"C\",\"L\",\"S\",\"T\",\"L\",\"M\",\"K\",\"C\",\"D\",\"H\",\"C\",\"G\",\"E\",\"T\",\"S\",\"W\",\"Q\",\"T\",\"G\",\"D\",\"F\",\"V\",\"K\",\"A\",\"T\",\"C\",\"E\",\"F\",\"C\",\"G\",\"T\",\"E\",\"N\",\"L\",\"T\",\"K\",\"E\",\"G\",\"A\",\"T\",\"T\",\"C\",\"G\",\"Y\",\"L\",\"P\",\"Q\",\"N\",\"A\",\"V\",\"V\",\"K\",\"I\",\"Y\",\"C\",\"P\",\"A\",\"C\",\"H\",\"N\",\"S\",\"E\",\"V\",\"G\",\"P\",\"E\",\"H\",\"S\",\"L\",\"A\",\"E\",\"Y\",\"H\",\"N\",\"E\",\"S\",\"G\",\"L\",\"K\",\"T\",\"I\",\"L\",\"R\",\"K\",\"G\",\"G\",\"R\",\"T\",\"I\",\"A\",\"F\",\"G\",\"G\",\"C\",\"V\",\"F\",\"S\",\"Y\",\"V\",\"G\",\"C\",\"H\",\"N\",\"K\",\"C\",\"A\",\"Y\",\"W\",\"V\",\"P\",\"R\",\"A\",\"S\",\"A\",\"N\",\"I\",\"G\",\"C\",\"N\",\"H\",\"T\",\"G\",\"V\",\"V\",\"G\",\"E\",\"G\",\"S\",\"E\",\"G\",\"L\",\"N\",\"D\",\"N\",\"L\",\"L\",\"E\",\"I\",\"L\",\"Q\",\"K\",\"E\",\"K\",\"V\",\"N\",\"I\",\"N\",\"I\",\"V\",\"G\",\"D\",\"F\",\"K\",\"L\",\"N\",\"E\",\"E\",\"I\",\"A\",\"I\",\"I\",\"L\",\"A\",\"S\",\"F\",\"S\",\"A\",\"S\",\"T\",\"S\",\"A\",\"F\",\"V\",\"E\",\"T\",\"V\",\"K\",\"G\",\"L\",\"D\",\"Y\",\"K\",\"A\",\"F\",\"K\",\"Q\",\"I\",\"V\",\"E\",\"S\",\"C\",\"G\",\"N\",\"F\",\"K\",\"V\",\"T\",\"K\",\"G\",\"K\",\"A\",\"K\",\"K\",\"G\",\"A\",\"W\",\"N\",\"I\",\"G\",\"E\",\"Q\",\"K\",\"S\",\"I\",\"L\",\"S\",\"P\",\"L\",\"Y\",\"A\",\"F\",\"A\",\"S\",\"E\",\"A\",\"A\",\"R\",\"V\",\"V\",\"R\",\"S\",\"I\",\"F\",\"S\",\"R\",\"T\",\"L\",\"E\",\"T\",\"A\",\"Q\",\"N\",\"S\",\"V\",\"R\",\"V\",\"L\",\"Q\",\"K\",\"A\",\"A\",\"I\",\"T\",\"I\",\"L\",\"D\",\"G\",\"I\",\"S\",\"Q\",\"Y\",\"S\",\"L\",\"R\",\"L\",\"I\",\"D\",\"A\",\"M\",\"M\",\"F\",\"T\",\"S\",\"D\",\"L\",\"A\",\"T\",\"N\",\"N\",\"L\",\"V\",\"V\",\"M\",\"A\",\"Y\",\"I\",\"T\",\"G\",\"G\",\"V\",\"V\",\"Q\",\"L\",\"T\",\"S\",\"Q\",\"W\",\"L\",\"T\",\"N\",\"I\",\"F\",\"G\",\"T\",\"V\",\"Y\",\"E\",\"K\",\"L\",\"K\",\"P\",\"V\",\"L\",\"D\",\"W\",\"L\",\"E\",\"E\",\"K\",\"F\",\"K\",\"E\",\"G\",\"V\",\"E\",\"F\",\"L\",\"R\",\"D\",\"G\",\"W\",\"E\",\"I\",\"V\",\"K\",\"F\",\"I\",\"S\",\"T\",\"C\",\"A\",\"C\",\"E\",\"I\",\"V\",\"G\",\"G\",\"Q\",\"I\",\"V\",\"T\",\"C\",\"A\",\"K\",\"E\",\"I\",\"K\",\"E\",\"S\",\"V\",\"Q\",\"T\",\"F\",\"F\",\"K\",\"L\",\"V\",\"N\",\"K\",\"F\",\"L\",\"A\",\"L\",\"C\",\"A\",\"D\",\"S\",\"I\",\"I\",\"I\",\"G\",\"G\",\"A\",\"K\",\"L\",\"K\",\"A\",\"L\",\"N\",\"L\",\"G\",\"E\",\"T\",\"F\",\"V\",\"T\",\"H\",\"S\",\"K\",\"G\",\"L\",\"Y\",\"R\",\"K\",\"C\",\"V\",\"K\",\"S\",\"R\",\"E\",\"E\",\"T\",\"G\",\"L\",\"L\",\"M\",\"P\",\"L\",\"K\",\"A\",\"P\",\"K\",\"E\",\"I\",\"I\",\"F\",\"L\",\"E\",\"G\",\"E\",\"T\",\"L\",\"P\",\"T\",\"E\",\"V\",\"L\",\"T\",\"E\",\"E\",\"V\",\"V\",\"L\",\"K\",\"T\",\"G\",\"D\",\"L\",\"Q\",\"P\",\"L\",\"E\",\"Q\",\"P\",\"T\",\"S\",\"E\",\"A\",\"V\",\"E\",\"A\",\"P\",\"L\",\"V\",\"G\",\"T\",\"P\",\"V\",\"C\",\"I\",\"N\",\"G\",\"L\",\"M\",\"L\",\"L\",\"E\",\"I\",\"K\",\"D\",\"T\",\"E\",\"K\",\"Y\",\"C\",\"A\",\"L\",\"A\",\"P\",\"N\",\"M\",\"M\",\"V\",\"T\",\"N\",\"N\",\"T\",\"F\",\"T\",\"L\",\"K\",\"G\",\"G\"],\"x\":{\"__ndarray__\":\"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\",\"dtype\":\"float64\",\"order\":\"little\",\"shape\":[1276]},\"y\":[0,0,0,0,0,0,0,0,0,0,0,0,0,0,0,0,0,0,0,0,0,0,0,0,0,0,0,0,0,0,0,0,0,0,0,0,0,0,0,0,0,0,0,0,0,0,0,0,0,0,0,0,0,0,0,0,0,0,0,0,0,0,0,0,0,0,0,0,0,0,0,0,0,0,0,0,0,0,0,0,0,0,0,0,0,0,0,0,0,0,0,0,0,0,0,0,0,0,0,0,0,0,0,0,0,0,0,0,0,0,0,0,0,0,0,0,0,0,0,0,0,0,0,0,0,0,0,0,0,0,0,0,0,0,0,0,0,0,0,0,0,0,0,0,0,0,0,0,0,0,0,0,0,0,0,0,0,0,0,0,0,0,0,0,0,0,0,0,0,0,0,0,0,0,0,0,0,0,0,0,0,0,0,0,0,0,0,0,0,0,0,0,0,0,0,0,0,0,0,0,0,0,0,0,0,0,0,0,0,0,0,0,0,0,0,0,0,0,0,0,0,0,0,0,0,0,0,0,0,0,0,0,0,0,0,0,0,0,0,0,0,0,0,0,0,0,0,0,0,0,0,0,0,0,0,0,0,0,0,0,0,0,0,0,0,0,0,0,0,0,0,0,0,0,0,0,0,0,0,0,0,0,0,0,0,0,0,0,0,0,0,0,0,0,0,0,0,0,0,0,0,0,0,0,0,0,0,0,0,0,0,0,0,0,0,0,0,0,0,0,0,0,0,0,0,0,0,0,0,0,0,0,0,0,0,0,0,0,0,0,0,0,0,0,0,0,0,0,0,0,0,0,0,0,0,0,0,0,0,0,0,0,0,0,0,0,0,0,0,0,0,0,0,0,0,0,0,0,0,0,0,0,0,0,0,0,0,0,0,0,0,0,0,0,0,0,0,0,0,0,0,0,0,0,0,0,0,0,0,0,0,0,0,0,0,0,0,0,0,0,0,0,0,0,0,0,0,0,0,0,0,0,0,0,0,0,0,0,0,0,0,0,0,0,0,0,0,0,0,0,0,0,0,0,0,0,0,0,0,0,0,0,0,0,0,0,0,0,0,0,0,0,0,0,0,0,0,0,0,0,0,0,0,0,0,0,0,0,0,0,0,0,0,0,0,0,0,0,0,0,0,0,0,0,0,0,0,0,0,0,0,0,0,0,0,0,0,0,0,0,0,0,0,0,0,0,0,0,0,0,0,0,0,0,0,0,0,0,0,0,0,0,0,0,0,0,0,0,0,0,0,0,0,0,0,0,0,0,0,0,0,0,0,0,0,0,0,0,0,0,0,0,0,0,0,0,0,0,0,0,0,0,0,0,0,0,0,0,0,0,0,0,0,0,0,0,0,0,0,0,0,0,0,0,0,0,0,0,0,0,0,0,0,0,0,0,0,0,0,0,0,0,0,0,0,0,0,0,0,0,0,0,0,0,0,0,0,0,1,1,1,1,1,1,1,1,1,1,1,1,1,1,1,1,1,1,1,1,1,1,1,1,1,1,1,1,1,1,1,1,1,1,1,1,1,1,1,1,1,1,1,1,1,1,1,1,1,1,1,1,1,1,1,1,1,1,1,1,1,1,1,1,1,1,1,1,1,1,1,1,1,1,1,1,1,1,1,1,1,1,1,1,1,1,1,1,1,1,1,1,1,1,1,1,1,1,1,1,1,1,1,1,1,1,1,1,1,1,1,1,1,1,1,1,1,1,1,1,1,1,1,1,1,1,1,1,1,1,1,1,1,1,1,1,1,1,1,1,1,1,1,1,1,1,1,1,1,1,1,1,1,1,1,1,1,1,1,1,1,1,1,1,1,1,1,1,1,1,1,1,1,1,1,1,1,1,1,1,1,1,1,1,1,1,1,1,1,1,1,1,1,1,1,1,1,1,1,1,1,1,1,1,1,1,1,1,1,1,1,1,1,1,1,1,1,1,1,1,1,1,1,1,1,1,1,1,1,1,1,1,1,1,1,1,1,1,1,1,1,1,1,1,1,1,1,1,1,1,1,1,1,1,1,1,1,1,1,1,1,1,1,1,1,1,1,1,1,1,1,1,1,1,1,1,1,1,1,1,1,1,1,1,1,1,1,1,1,1,1,1,1,1,1,1,1,1,1,1,1,1,1,1,1,1,1,1,1,1,1,1,1,1,1,1,1,1,1,1,1,1,1,1,1,1,1,1,1,1,1,1,1,1,1,1,1,1,1,1,1,1,1,1,1,1,1,1,1,1,1,1,1,1,1,1,1,1,1,1,1,1,1,1,1,1,1,1,1,1,1,1,1,1,1,1,1,1,1,1,1,1,1,1,1,1,1,1,1,1,1,1,1,1,1,1,1,1,1,1,1,1,1,1,1,1,1,1,1,1,1,1,1,1,1,1,1,1,1,1,1,1,1,1,1,1,1,1,1,1,1,1,1,1,1,1,1,1,1,1,1,1,1,1,1,1,1,1,1,1,1,1,1,1,1,1,1,1,1,1,1,1,1,1,1,1,1,1,1,1,1,1,1,1,1,1,1,1,1,1,1,1,1,1,1,1,1,1,1,1,1,1,1,1,1,1,1,1,1,1,1,1,1,1,1,1,1,1,1,1,1,1,1,1,1,1,1,1,1,1,1,1,1,1,1,1,1,1,1,1,1,1,1,1,1,1,1,1,1,1,1,1,1,1,1,1,1,1,1,1,1,1,1,1,1,1,1,1,1,1,1,1,1,1,1,1,1,1,1,1,1,1,1,1,1,1,1,1,1,1,1,1,1,1,1,1,1,1,1,1,1,1,1,1,1,1,1,1,1,1,1,1,1,1,1,1,1,1,1,1,1,1,1,1,1,1,1,1,1,1,1,1,1,1,1,1,1,1,1,1,1,1,1,1,1,1,1,1]},\"selected\":{\"id\":\"1188\"},\"selection_policy\":{\"id\":\"1187\"}},\"id\":\"1123\",\"type\":\"ColumnDataSource\"},{\"attributes\":{\"children\":[[{\"id\":\"1125\"},0,0],[{\"id\":\"1154\"},1,0]]},\"id\":\"1198\",\"type\":\"GridBox\"},{\"attributes\":{},\"id\":\"1165\",\"type\":\"BasicTicker\"},{\"attributes\":{\"children\":[{\"id\":\"1201\"}],\"margin\":[0,0,0,0],\"name\":\"Row00014\"},\"id\":\"1202\",\"type\":\"Row\"},{\"attributes\":{},\"id\":\"1187\",\"type\":\"UnionRenderers\"},{\"attributes\":{},\"id\":\"1162\",\"type\":\"CategoricalScale\"},{\"attributes\":{\"toolbar\":{\"id\":\"1199\"},\"toolbar_location\":\"below\"},\"id\":\"1200\",\"type\":\"ToolbarBox\"},{\"attributes\":{\"active_drag\":\"auto\",\"active_inspect\":\"auto\",\"active_multi\":null,\"active_scroll\":\"auto\",\"active_tap\":\"auto\",\"tools\":[{\"id\":\"1171\"},{\"id\":\"1172\"}]},\"id\":\"1173\",\"type\":\"Toolbar\"},{\"attributes\":{\"end\":50},\"id\":\"1156\",\"type\":\"Range1d\"},{\"attributes\":{},\"id\":\"1145\",\"type\":\"SaveTool\"},{\"attributes\":{\"bounds\":\"auto\",\"end\":639},\"id\":\"1124\",\"type\":\"Range1d\"},{\"attributes\":{},\"id\":\"1160\",\"type\":\"LinearScale\"},{\"attributes\":{},\"id\":\"1188\",\"type\":\"Selection\"},{\"attributes\":{},\"id\":\"1185\",\"type\":\"BasicTickFormatter\"},{\"attributes\":{\"active_drag\":\"auto\",\"active_inspect\":\"auto\",\"active_multi\":null,\"active_scroll\":\"auto\",\"active_tap\":\"auto\",\"tools\":[{\"id\":\"1142\"},{\"id\":\"1143\"},{\"id\":\"1144\"},{\"id\":\"1145\"}]},\"id\":\"1146\",\"type\":\"Toolbar\"},{\"attributes\":{},\"id\":\"1172\",\"type\":\"ResetTool\"},{\"attributes\":{\"axis\":{\"id\":\"1134\"},\"ticker\":null,\"visible\":false},\"id\":\"1137\",\"type\":\"Grid\"},{\"attributes\":{\"dimensions\":\"width\"},\"id\":\"1143\",\"type\":\"WheelZoomTool\"},{\"attributes\":{\"below\":[{\"id\":\"1134\"}],\"center\":[{\"id\":\"1137\"},{\"id\":\"1141\"}],\"left\":[{\"id\":\"1138\"}],\"min_border\":0,\"plot_height\":50,\"plot_width\":800,\"renderers\":[{\"id\":\"1152\"}],\"title\":null,\"toolbar\":{\"id\":\"1146\"},\"toolbar_location\":null,\"x_range\":{\"id\":\"1124\"},\"x_scale\":{\"id\":\"1130\"},\"y_range\":{\"id\":\"1128\"},\"y_scale\":{\"id\":\"1132\"}},\"id\":\"1125\",\"subtype\":\"Figure\",\"type\":\"Plot\"},{\"attributes\":{\"data_source\":{\"id\":\"1123\"},\"glyph\":{\"id\":\"1151\"},\"hover_glyph\":null,\"muted_glyph\":null,\"view\":{\"id\":\"1153\"}},\"id\":\"1152\",\"type\":\"GlyphRenderer\"},{\"attributes\":{\"end\":2},\"id\":\"1128\",\"type\":\"Range1d\"},{\"attributes\":{\"dimensions\":\"width\"},\"id\":\"1171\",\"type\":\"PanTool\"},{\"attributes\":{},\"id\":\"1193\",\"type\":\"BasicTickFormatter\"},{\"attributes\":{},\"id\":\"1144\",\"type\":\"ResetTool\"},{\"attributes\":{},\"id\":\"1130\",\"type\":\"LinearScale\"},{\"attributes\":{\"formatter\":{\"id\":\"1183\"},\"ticker\":{\"id\":\"1139\"},\"visible\":false},\"id\":\"1138\",\"type\":\"LinearAxis\"},{\"attributes\":{\"source\":{\"id\":\"1123\"}},\"id\":\"1153\",\"type\":\"CDSView\"},{\"attributes\":{},\"id\":\"1191\",\"type\":\"CategoricalTickFormatter\"},{\"attributes\":{},\"id\":\"1139\",\"type\":\"BasicTicker\"},{\"attributes\":{},\"id\":\"1183\",\"type\":\"BasicTickFormatter\"},{\"attributes\":{\"formatter\":{\"id\":\"1185\"},\"ticker\":{\"id\":\"1135\"}},\"id\":\"1134\",\"type\":\"LinearAxis\"},{\"attributes\":{\"text_align\":\"center\",\"text_color\":{\"value\":\"black\"},\"text_font_size\":{\"value\":\"9pt\"},\"text_font_style\":\"bold\",\"x\":{\"field\":\"x\"},\"y\":{\"field\":\"y\"}},\"id\":\"1176\",\"type\":\"Text\"},{\"attributes\":{\"client_comm_id\":\"4af93d380152489bb45f95cd365e36a8\",\"comm_id\":\"bf786a9829104d848f327e666a3f81cb\",\"plot_id\":\"1202\"},\"id\":\"1263\",\"type\":\"panel.models.comm_manager.CommManager\"},{\"attributes\":{\"axis\":{\"id\":\"1168\"},\"dimension\":1,\"ticker\":null,\"visible\":false},\"id\":\"1170\",\"type\":\"Grid\"},{\"attributes\":{\"factors\":[\"unnamed\",\"pdb|7MSW|A\"]},\"id\":\"1158\",\"type\":\"FactorRange\"}],\"root_ids\":[\"1202\",\"1263\"]},\"title\":\"Bokeh Application\",\"version\":\"2.2.3\"}};\n",
       "    var render_items = [{\"docid\":\"5f898819-e9cd-422c-a605-438bbc6f2c6d\",\"root_ids\":[\"1202\"],\"roots\":{\"1202\":\"60e7e701-d58c-4d9c-b6f9-bd5b0f027efd\"}}];\n",
       "    root.Bokeh.embed.embed_items_notebook(docs_json, render_items);\n",
       "  }\n",
       "  if (root.Bokeh !== undefined && root.Bokeh.Panel !== undefined) {\n",
       "    embed_document(root);\n",
       "  } else {\n",
       "    var attempts = 0;\n",
       "    var timer = setInterval(function(root) {\n",
       "      if (root.Bokeh !== undefined && root.Bokeh.Panel !== undefined) {\n",
       "        clearInterval(timer);\n",
       "        embed_document(root);\n",
       "      } else if (document.readyState == \"complete\") {\n",
       "        attempts++;\n",
       "        if (attempts > 100) {\n",
       "          clearInterval(timer);\n",
       "          console.log(\"Bokeh: ERROR: Unable to run BokehJS code because BokehJS library is missing\");\n",
       "        }\n",
       "      }\n",
       "    }, 10, root)\n",
       "  }\n",
       "})(window);</script>"
      ],
      "text/plain": [
       "Bokeh(Column)"
      ]
     },
     "execution_count": 103,
     "metadata": {
      "application/vnd.holoviews_exec.v0+json": {
       "id": "1202"
      }
     },
     "output_type": "execute_result"
    }
   ],
   "source": [
    "# Visualise the highest up on the list hit\n",
    "plot = blast_query.view_alignment(0) # view first alignment (index=0) \n",
    "pn.pane.Bokeh(plot)                  # plot using bokeh"
   ]
  },
  {
   "cell_type": "code",
   "execution_count": 104,
   "metadata": {
    "execution": {
     "iopub.execute_input": "2023-03-08T16:06:47.108450Z",
     "iopub.status.busy": "2023-03-08T16:06:47.107438Z",
     "iopub.status.idle": "2023-03-08T16:06:47.111343Z",
     "shell.execute_reply": "2023-03-08T16:06:47.111946Z",
     "shell.execute_reply.started": "2023-03-08T13:56:22.058499Z"
    },
    "papermill": {
     "duration": 0.175432,
     "end_time": "2023-03-08T16:06:47.112170",
     "exception": false,
     "start_time": "2023-03-08T16:06:46.936738",
     "status": "completed"
    },
    "tags": []
   },
   "outputs": [
    {
     "name": "stdout",
     "output_type": "stream",
     "text": [
      "Search hit sequence:\n",
      "length of hit sequence: 638 \n",
      "\n",
      "AYTRYVDNNFCGPDGYPLECIKDLLARAGKASCTLSEQLDFIDTKRGVYCCREHEHEIAWYTERSEKSYELQTPFEIKLAKKFDTFNGECPNFVFPLNSIIKTIQPRVEKKKLDGFMGRIRSVYPVASPNECNQMCLSTLMKCDHCGETSWQTGDFVKATCEFCGTENLTKEGATTCGYLPQNAVVKIYCPACHNSEVGPEHSLAEYHNESGLKTILRKGGRTIAFGGCVFSYVGCHNKCAYWVPRASANIGCNHTGVVGEGSEGLNDNLLEILQKEKVNINIVGDFKLNEEIAIILASFSASTSAFVETVKGLDYKAFKQIVESCGNFKVTKGKAKKGAWNIGEQKSILSPLYAFASEAARVVRSIFSRTLETAQNSVRVLQKAAITILDGISQYSLRLIDAMMFTSDLATNNLVVMAYITGGVVQLTSQWLTNIFGTVYEKLKPVLDWLEEKFKEGVEFLRDGWEIVKFISTCACEIVGGQIVTCAKEIKESVQTFFKLVNKFLALCADSIIIGGAKLKALNLGETFVTHSKGLYRKCVKSREETGLLMPLKAPKEIIFLEGETLPTEVLTEEVVLKTGDLQPLEQPTSEAVEAPLVGTPVCINGLMLLEIKDTEKYCALAPNMMVTNNTFTLKGG\n",
      "no matches for AYTRYVDNNFCGPDGYPLECIKDLLARAGKASCTLSEQLDFIDTKRGVYCCREHEHEIAWYTERSEKSYELQTPFEIKLAKKFDTFNGECPNFVFPLNSIIKTIQPRVEKKKLDGFMGRIRSVYPVASPNECNQMCLSTLMKCDHCGETSWQTGDFVKATCEFCGTENLTKEGATTCGYLPQNAVVKIYCPACHNSEVGPEHSLAEYHNESGLKTILRKGGRTIAFGGCVFSYVGCHNKCAYWVPRASANIGCNHTGVVGEGSEGLNDNLLEILQKEKVNINIVGDFKLNEEIAIILASFSASTSAFVETVKGLDYKAFKQIVESCGNFKVTKGKAKKGAWNIGEQKSILSPLYAFASEAARVVRSIFSRTLETAQNSVRVLQKAAITILDGISQYSLRLIDAMMFTSDLATNNLVVMAYITGGVVQLTSQWLTNIFGTVYEKLKPVLDWLEEKFKEGVEFLRDGWEIVKFISTCACEIVGGQIVTCAKEIKESVQTFFKLVNKFLALCADSIIIGGAKLKALNLGETFVTHSKGLYRKCVKSREETGLLMPLKAPKEIIFLEGETLPTEVLTEEVVLKTGDLQPLEQPTSEAVEAPLVGTPVCINGLMLLEIKDTEKYCALAPNMMVTNNTFTLKGG found\n"
     ]
    }
   ],
   "source": [
    "blast_df = blast_query.view_query()\n",
    "align0 = blast_df.loc[0,'alignment']\n",
    "\n",
    "print('Search hit sequence:')\n",
    "print(f'length of hit sequence: {len(align0[1].seq)}','\\n')\n",
    "print(align0[1].seq)\n",
    "\n",
    "as_seq = SQ(largest_aa)\n",
    "aa_seq.pattern.find(pattern=str(align0[1].seq),\n",
    "                    find_id='all',                                            \n",
    "                    search_id='standard')"
   ]
  },
  {
   "cell_type": "code",
   "execution_count": null,
   "metadata": {
    "papermill": {
     "duration": 0.167383,
     "end_time": "2023-03-08T16:06:47.440340",
     "exception": false,
     "start_time": "2023-03-08T16:06:47.272957",
     "status": "completed"
    },
    "tags": []
   },
   "outputs": [],
   "source": []
  },
  {
   "cell_type": "markdown",
   "metadata": {
    "papermill": {
     "duration": 0.160446,
     "end_time": "2023-03-08T16:06:47.826058",
     "exception": false,
     "start_time": "2023-03-08T16:06:47.665612",
     "status": "completed"
    },
    "tags": []
   },
   "source": [
    "Identify viral proteins in the novel COVID-19 genome, the genome was sequenced from a sample of bronchoalveolar lavage fluid from a single patient who was a worker at the market and who was admitted to the Central Hospital of Wuhan on 26 December 2019. Comparative analysis of the COVID-19 viral proteins with the SARS, MERS and other bat coronaviruses proteins is performed."
   ]
  },
  {
   "cell_type": "code",
   "execution_count": 105,
   "metadata": {
    "execution": {
     "iopub.execute_input": "2023-03-08T16:06:48.150428Z",
     "iopub.status.busy": "2023-03-08T16:06:48.149691Z",
     "iopub.status.idle": "2023-03-08T16:06:48.160554Z",
     "shell.execute_reply": "2023-03-08T16:06:48.159921Z",
     "shell.execute_reply.started": "2023-03-08T14:02:50.130479Z"
    },
    "papermill": {
     "duration": 0.174545,
     "end_time": "2023-03-08T16:06:48.160764",
     "exception": false,
     "start_time": "2023-03-08T16:06:47.986219",
     "status": "completed"
    },
    "tags": []
   },
   "outputs": [
    {
     "name": "stdout",
     "output_type": "stream",
     "text": [
      "The genome of the virus causing Covid-19 (known as SARS-CoV-2) consists of 29903 genetic bases or letters.\n"
     ]
    }
   ],
   "source": [
    "from Bio.SeqRecord import SeqRecord\n",
    "from Bio import SeqIO\n",
    "covid19 = SeqIO.read('/kaggle/input/coronavirus-genome-sequence/MN908947.fna', \"fasta\")\n",
    "print(f'The genome of the virus causing Covid-19 (known as SARS-CoV-2) consists of {len(covid19)} genetic bases or letters.')"
   ]
  },
  {
   "cell_type": "markdown",
   "metadata": {
    "papermill": {
     "duration": 0.159684,
     "end_time": "2023-03-08T16:06:48.482975",
     "exception": false,
     "start_time": "2023-03-08T16:06:48.323291",
     "status": "completed"
    },
    "tags": []
   },
   "source": [
    "The covid-19 genome has 29903 genetic letters (sequence of A T C and G), to have an idea of how small it is, the human genome has more than 3 billion genetic letters. The small size of the viruses and microorganisms make them easier to study compared to the human genome.\n",
    "\n",
    "The code below shows the Covid-19's first 200 genetic letters (out of 29903 letters)."
   ]
  },
  {
   "cell_type": "code",
   "execution_count": 106,
   "metadata": {
    "execution": {
     "iopub.execute_input": "2023-03-08T16:06:48.807631Z",
     "iopub.status.busy": "2023-03-08T16:06:48.806821Z",
     "iopub.status.idle": "2023-03-08T16:06:48.814167Z",
     "shell.execute_reply": "2023-03-08T16:06:48.813480Z",
     "shell.execute_reply.started": "2023-03-08T14:05:07.285771Z"
    },
    "papermill": {
     "duration": 0.17103,
     "end_time": "2023-03-08T16:06:48.814355",
     "exception": false,
     "start_time": "2023-03-08T16:06:48.643325",
     "status": "completed"
    },
    "tags": []
   },
   "outputs": [
    {
     "name": "stdout",
     "output_type": "stream",
     "text": [
      "ATTAAAGGTTTATACCTTCCCAGGTAACAAACCAACCAACTTTCGATCTCTTGTAGATCTGTTCTCTAAACGAACTTTAAAATCTGTGTGGCTGTCACTCGGCTGCATGCTTAGTGCACTCACGCAGTATAATTAATAACTAATTACTGTCGTTGACAGGACACGAGTAACTCGTCTATCTTCTGCAGGCTGCTTACGGT\n"
     ]
    }
   ],
   "source": [
    "covid_DNA= covid19.seq\n",
    "print( covid_DNA[:200])"
   ]
  },
  {
   "cell_type": "markdown",
   "metadata": {
    "papermill": {
     "duration": 0.159389,
     "end_time": "2023-03-08T16:06:49.138208",
     "exception": false,
     "start_time": "2023-03-08T16:06:48.978819",
     "status": "completed"
    },
    "tags": []
   },
   "source": [
    "Breakdown this long string to single characters and see the distribution of the nucleotides (A,T,C,G) over the Covid19's DNA."
   ]
  },
  {
   "cell_type": "code",
   "execution_count": 107,
   "metadata": {
    "execution": {
     "iopub.execute_input": "2023-03-08T16:06:49.466914Z",
     "iopub.status.busy": "2023-03-08T16:06:49.466095Z",
     "iopub.status.idle": "2023-03-08T16:06:49.488000Z",
     "shell.execute_reply": "2023-03-08T16:06:49.487368Z",
     "shell.execute_reply.started": "2023-03-08T14:05:11.513259Z"
    },
    "papermill": {
     "duration": 0.190442,
     "end_time": "2023-03-08T16:06:49.488195",
     "exception": false,
     "start_time": "2023-03-08T16:06:49.297753",
     "status": "completed"
    },
    "tags": []
   },
   "outputs": [
    {
     "name": "stdout",
     "output_type": "stream",
     "text": [
      "{'A': 8954, 'T': 9594, 'G': 5863, 'C': 5492}\n"
     ]
    }
   ],
   "source": [
    "#Count the nucleotides frequency in the DNA\n",
    "DNA= covid_DNA\n",
    "nucleotides={}\n",
    "for n in DNA:\n",
    "    if n in nucleotides:\n",
    "        nucleotides[n] += 1\n",
    "    else:\n",
    "        nucleotides[n] =  1\n",
    "print(nucleotides)\n",
    "\n",
    "#Create a dataframe\n",
    "nts= pd.DataFrame(data=nucleotides, index=[0]).T.reset_index()\n",
    "nts= nts.rename(columns={0: 'frequency', 'index': 'nucleotides'})\n",
    "nts=nts.sort_values(by=['frequency'], ascending=True)"
   ]
  },
  {
   "cell_type": "markdown",
   "metadata": {
    "papermill": {
     "duration": 0.16196,
     "end_time": "2023-03-08T16:06:49.811884",
     "exception": false,
     "start_time": "2023-03-08T16:06:49.649924",
     "status": "completed"
    },
    "tags": []
   },
   "source": [
    "The frequency of the nucleotides A and T is higher than the frequency of C and G. This is due to the nucleotides pairing.\n",
    "\n",
    "This sequence of genetic bases contain all the information encoded in the virus. Understanding this genetic information is the key to find cures and vaccines.  \n",
    "\n",
    "Gene expression is the process by which information from a gene is used in the synthesis of a functional gene product. \n",
    "\n",
    "* TRANSCRIPTION: DNA is copied out into a messenger RNA (mRNA)\n",
    "* TRANSLATION: mRNA is translated into amino acids\n",
    "* AMINO ACID FOLDING: A sequence of 20 or more amino acids (the building blocks of proteins) form a protein."
   ]
  },
  {
   "cell_type": "code",
   "execution_count": 108,
   "metadata": {
    "execution": {
     "iopub.execute_input": "2023-03-08T16:06:50.138228Z",
     "iopub.status.busy": "2023-03-08T16:06:50.137505Z",
     "iopub.status.idle": "2023-03-08T16:06:50.143784Z",
     "shell.execute_reply": "2023-03-08T16:06:50.144318Z",
     "shell.execute_reply.started": "2023-03-08T14:09:34.164042Z"
    },
    "papermill": {
     "duration": 0.172797,
     "end_time": "2023-03-08T16:06:50.144543",
     "exception": false,
     "start_time": "2023-03-08T16:06:49.971746",
     "status": "completed"
    },
    "tags": []
   },
   "outputs": [
    {
     "name": "stdout",
     "output_type": "stream",
     "text": [
      "AUUAAAGGUUUAUACCUUCCCAGGUAACAAACCAACCAACUUUCGAUCUCUUGUAGAUCUGUUCUCUAAACGAACUUUAAAAUCUGUGUGGCUGUCACUC\n"
     ]
    }
   ],
   "source": [
    "covid_mRNA = covid_DNA.transcribe()\n",
    "print(covid_mRNA[:100])"
   ]
  },
  {
   "cell_type": "code",
   "execution_count": 109,
   "metadata": {
    "execution": {
     "iopub.execute_input": "2023-03-08T16:06:50.472291Z",
     "iopub.status.busy": "2023-03-08T16:06:50.471168Z",
     "iopub.status.idle": "2023-03-08T16:06:50.476068Z",
     "shell.execute_reply": "2023-03-08T16:06:50.475333Z",
     "shell.execute_reply.started": "2023-03-08T14:09:54.334287Z"
    },
    "papermill": {
     "duration": 0.170454,
     "end_time": "2023-03-08T16:06:50.476257",
     "exception": false,
     "start_time": "2023-03-08T16:06:50.305803",
     "status": "completed"
    },
    "tags": []
   },
   "outputs": [
    {
     "name": "stdout",
     "output_type": "stream",
     "text": [
      "Covid-19 DNA: ATTAAAGGTTTATACCTTCCCAGGTAACAAACCAACCAACTTTCGATCTC\n",
      "Covid-19 RNA: AUUAAAGGUUUAUACCUUCCCAGGUAACAAACCAACCAACUUUCGAUCUC\n"
     ]
    }
   ],
   "source": [
    "print(f'Covid-19 DNA: {covid_DNA[:50]}')\n",
    "print(f'Covid-19 RNA: {covid_mRNA[:50]}')"
   ]
  },
  {
   "cell_type": "code",
   "execution_count": 110,
   "metadata": {
    "execution": {
     "iopub.execute_input": "2023-03-08T16:06:50.812689Z",
     "iopub.status.busy": "2023-03-08T16:06:50.811556Z",
     "iopub.status.idle": "2023-03-08T16:06:50.826634Z",
     "shell.execute_reply": "2023-03-08T16:06:50.825858Z",
     "shell.execute_reply.started": "2023-03-08T14:10:30.093965Z"
    },
    "papermill": {
     "duration": 0.187002,
     "end_time": "2023-03-08T16:06:50.826828",
     "exception": false,
     "start_time": "2023-03-08T16:06:50.639826",
     "status": "completed"
    },
    "tags": []
   },
   "outputs": [
    {
     "name": "stdout",
     "output_type": "stream",
     "text": [
      "IKGLYLPR*QTNQLSISCRSVL*TNFKICVAVTRLHA*CTHAV*LITNYCR*QDTSNSSIFCRLLTVSSVLQPIISTSRFRPGVTER*DGEPCPWFQRE\n"
     ]
    },
    {
     "name": "stderr",
     "output_type": "stream",
     "text": [
      "/opt/conda/lib/python3.7/site-packages/Bio/Seq.py:2338: BiopythonWarning:\n",
      "\n",
      "Partial codon, len(sequence) not a multiple of three. Explicitly trim the sequence or add trailing N before translation. This may become an error in future.\n",
      "\n"
     ]
    }
   ],
   "source": [
    "covid_aa = covid_mRNA.translate()\n",
    "print(covid_aa[:99])"
   ]
  },
  {
   "cell_type": "code",
   "execution_count": 111,
   "metadata": {
    "execution": {
     "iopub.execute_input": "2023-03-08T16:06:51.164171Z",
     "iopub.status.busy": "2023-03-08T16:06:51.163082Z",
     "iopub.status.idle": "2023-03-08T16:06:51.166589Z",
     "shell.execute_reply": "2023-03-08T16:06:51.167118Z",
     "shell.execute_reply.started": "2023-03-08T14:10:47.520683Z"
    },
    "papermill": {
     "duration": 0.176446,
     "end_time": "2023-03-08T16:06:51.167326",
     "exception": false,
     "start_time": "2023-03-08T16:06:50.990880",
     "status": "completed"
    },
    "tags": []
   },
   "outputs": [
    {
     "name": "stdout",
     "output_type": "stream",
     "text": [
      "Covid-19's genome has 9967 amino acids\n"
     ]
    }
   ],
   "source": [
    "print(f\"Covid-19's genome has {len(covid_aa)} amino acids\")"
   ]
  },
  {
   "cell_type": "markdown",
   "metadata": {
    "papermill": {
     "duration": 0.161613,
     "end_time": "2023-03-08T16:06:51.490844",
     "exception": false,
     "start_time": "2023-03-08T16:06:51.329231",
     "status": "completed"
    },
    "tags": []
   },
   "source": [
    "We have several chains of a total of 9967 amino acids separated with stop codons *\n",
    "The split() function splits the sequence at any stop codon and keeps the amino acids chains separated. This makes it easier for further analysis."
   ]
  },
  {
   "cell_type": "code",
   "execution_count": 112,
   "metadata": {
    "execution": {
     "iopub.execute_input": "2023-03-08T16:06:51.823370Z",
     "iopub.status.busy": "2023-03-08T16:06:51.822443Z",
     "iopub.status.idle": "2023-03-08T16:06:51.827110Z",
     "shell.execute_reply": "2023-03-08T16:06:51.826411Z",
     "shell.execute_reply.started": "2023-03-08T14:11:23.138760Z"
    },
    "papermill": {
     "duration": 0.173658,
     "end_time": "2023-03-08T16:06:51.827301",
     "exception": false,
     "start_time": "2023-03-08T16:06:51.653643",
     "status": "completed"
    },
    "tags": []
   },
   "outputs": [
    {
     "data": {
      "text/plain": [
       "[Seq('IKGLYLPR'),\n",
       " Seq('QTNQLSISCRSVL'),\n",
       " Seq('TNFKICVAVTRLHA'),\n",
       " Seq('CTHAV'),\n",
       " Seq('LITNYCR')]"
      ]
     },
     "execution_count": 112,
     "metadata": {},
     "output_type": "execute_result"
    }
   ],
   "source": [
    "Proteins = covid_aa.split('*')\n",
    "Proteins[:5]"
   ]
  },
  {
   "cell_type": "code",
   "execution_count": 113,
   "metadata": {
    "execution": {
     "iopub.execute_input": "2023-03-08T16:06:52.161450Z",
     "iopub.status.busy": "2023-03-08T16:06:52.160728Z",
     "iopub.status.idle": "2023-03-08T16:06:52.165608Z",
     "shell.execute_reply": "2023-03-08T16:06:52.164669Z",
     "shell.execute_reply.started": "2023-03-08T14:11:43.386248Z"
    },
    "papermill": {
     "duration": 0.17652,
     "end_time": "2023-03-08T16:06:52.165849",
     "exception": false,
     "start_time": "2023-03-08T16:06:51.989329",
     "status": "completed"
    },
    "tags": []
   },
   "outputs": [
    {
     "name": "stdout",
     "output_type": "stream",
     "text": [
      "We have 775 amino acid chains in the covid-19 genome\n"
     ]
    }
   ],
   "source": [
    "print(f'We have {len(Proteins)} amino acid chains in the covid-19 genome')"
   ]
  },
  {
   "cell_type": "markdown",
   "metadata": {
    "papermill": {
     "duration": 0.161664,
     "end_time": "2023-03-08T16:06:52.489975",
     "exception": false,
     "start_time": "2023-03-08T16:06:52.328311",
     "status": "completed"
    },
    "tags": []
   },
   "source": [
    "not all the amino acids sequences are proteins. Only the sequences with more than 20 amino acids code for functional proteins. The short amino acid sequences are oligopeptides and have other functionalities. We focus on the chains with more than 20 amino acid chains: Proteins.\n",
    "\n",
    "We filter and keep just the proteins with more than 50 amino acids to have a shorter list of proteins to analyse."
   ]
  },
  {
   "cell_type": "code",
   "execution_count": 114,
   "metadata": {
    "execution": {
     "iopub.execute_input": "2023-03-08T16:06:52.824770Z",
     "iopub.status.busy": "2023-03-08T16:06:52.824025Z",
     "iopub.status.idle": "2023-03-08T16:06:52.828855Z",
     "shell.execute_reply": "2023-03-08T16:06:52.827920Z",
     "shell.execute_reply.started": "2023-03-08T14:13:21.092411Z"
    },
    "papermill": {
     "duration": 0.176123,
     "end_time": "2023-03-08T16:06:52.829090",
     "exception": false,
     "start_time": "2023-03-08T16:06:52.652967",
     "status": "completed"
    },
    "tags": []
   },
   "outputs": [
    {
     "name": "stdout",
     "output_type": "stream",
     "text": [
      "We have 5 proteins with  more than 50 amino acids in the covid-19 genome\n"
     ]
    }
   ],
   "source": [
    "for i in Proteins[:]:\n",
    "    if len(i) < 50:\n",
    "        Proteins.remove(i)\n",
    "print(f'We have {len(Proteins)} proteins with  more than 50 amino acids in the covid-19 genome')"
   ]
  },
  {
   "cell_type": "code",
   "execution_count": 115,
   "metadata": {
    "execution": {
     "iopub.execute_input": "2023-03-08T16:06:53.177607Z",
     "iopub.status.busy": "2023-03-08T16:06:53.176830Z",
     "iopub.status.idle": "2023-03-08T16:06:53.218809Z",
     "shell.execute_reply": "2023-03-08T16:06:53.218168Z",
     "shell.execute_reply.started": "2023-03-08T14:14:11.370603Z"
    },
    "papermill": {
     "duration": 0.224047,
     "end_time": "2023-03-08T16:06:53.219013",
     "exception": false,
     "start_time": "2023-03-08T16:06:52.994966",
     "status": "completed"
    },
    "tags": []
   },
   "outputs": [
    {
     "data": {
      "text/html": [
       "<style  type=\"text/css\" >\n",
       "#T_52bc2_row0_col1{\n",
       "            background-color:  #008000;\n",
       "            color:  #f1f1f1;\n",
       "        }#T_52bc2_row1_col1{\n",
       "            background-color:  #d6e9d6;\n",
       "            color:  #000000;\n",
       "        }#T_52bc2_row2_col1{\n",
       "            background-color:  #e6f1e6;\n",
       "            color:  #000000;\n",
       "        }#T_52bc2_row3_col1{\n",
       "            background-color:  #eaf2ea;\n",
       "            color:  #000000;\n",
       "        }#T_52bc2_row4_col1{\n",
       "            background-color:  #ebf3eb;\n",
       "            color:  #000000;\n",
       "        }</style><table id=\"T_52bc2_\" ><thead>    <tr>        <th class=\"blank level0\" ></th>        <th class=\"col_heading level0 col0\" >amino acid sequence</th>        <th class=\"col_heading level0 col1\" >Protein length</th>    </tr></thead><tbody>\n",
       "                <tr>\n",
       "                        <th id=\"T_52bc2_level0_row0\" class=\"row_heading level0 row0\" >0</th>\n",
       "                        <td id=\"T_52bc2_row0_col0\" class=\"data row0 col0\" >CTIVFKRVCGVSAARLTPCGTGTSTDVVYRAFDIYNDKVAGFAKFLKTNCCRFQEKDEDDNLIDSYFVVKRHTFSNYQHEETIYNLLKDCPAVAKHDFFKFRIDGDMVPHISRQRLTKYTMADLVYALRHFDEGNCDTLKEILVTYNCCDDDYFNKKDWYDFVENPDILRVYANLGERVRQALLKTVQFCDAMRNAGIVGVLTLDNQDLNGNWYDFGDFIQTTPGSGVPVVDSYYSLLMPILTLTRALTAESHVDTDLTKPYIKWDLLKYDFTEERLKLFDRYFKYWDQTYHPNCVNCLDDRCILHCANFNVLFSTVFPPTSFGPLVRKIFVDGVPFVVSTGYHFRELGVVHNQDVNLHSSRLSFKELLVYAADPAMHAASGNLLLDKRTTCFSVAALTNNVAFQTVKPGNFNKDFYDFAVSKGFFKEGSSVELKHFFFAQDGNAAISDYDYYRYNLPTMCDIRQLLFVVEVVDKYFDCYDGGCINANQVIVNNLDKSAGFPFNKWGKARLYYDSMSYEDQDALFAYTKRNVIPTITQMNLKYAISAKNRARTVAGVSICSTMTNRQFHQKLLKSIAATRGATVVIGTSKFYGGWHNMLKTVYSDVENPHLMGWDYPKCDRAMPNMLRIMASLVLARKHTTCCSLSHRFYRLANECAQVLSEMVMCGGSLYVKPGGTSSGDATTAYANSVFNICQAVTANVNALLSTDGNKIADKYVRNLQHRLYECLYRNRDVDTDFVNEFYAYLRKHFSMMILSDDAVVCFNSTYASQGLVASIKNFKSVLYYQNNVFMSEAKCWTETDLTKGPHEFCSQHTMLVKQGDDYVYLPYPDPSRILGAGCFVDDIVKTDGTLMIERFVSLAIDAYPLTKHPNQEYADVFHLYLQYIRKLHDELTGHMLDMYSVMLTNDNTSRYWEPEFYEAMYTPHTVLQAVGACVLCNSQTSLRCGACIRRPFLCCKCCYDHVISTSHKLVLSVNPYVCNAPGCDVTDVTQLYLGGMSYYCKSHKPPISFPLCANGQVFGLYKNTCVGSDNVTDFNAIATCDWTNAGDYILANTCTERLKLFAAETLKATEETFKLSYGIATVREVLSDRELHLSWEVGKPRPPLNRNYVFTGYRVTKNSKVQIGEYTFEKGDYGDAVVYRGTTTYKLNVGDYFVLTSHTVMPLSAPTLVPQEHYVRITGLYPTLNISDEFSSNVANYQKVGMQKYSTLQGPPGTGKSHFAIGLALYYPSARIVYTACSHAAVDALCEKALKYLPIDKCSRIIPARARVECFDKFKVNSTLEQYVFCTVNALPETTADIVVFDEISMATNYDLSVVNARLRAKHYVYIGDPAQLPAPRTLLTKGTLEPEYFNSVCRLMKTIGPDMFLGTCRRCPAEIVDTVSALVYDNKLKAHKDKSAQCFKMFYKGVITHDVSSAINRPQIGVVREFLTRNPAWRKAVFISPYNSQNAVASKILGLPTQTVDSSQGSEYDYVIFTQTTETAHSCNVNRFNVAITRAKVGILCIMSDRDLYDKLQFTSLEIPRRNVATLQAENVTGLFKDCSKVITGLHPTQAPTHLSVDTKFKTEGLCVDIPGIPKDMTYRRLISMMGFKMNYQVNGYPNMFITREEAIRHVRAWIGFDVEGCHATREAVGTNLPLQLGFSTGVNLVAVPTGYVDTPNNTDFSRVSAKPPPGDQFKHLIPLMYKGLPWNVVRIKIVQMLSDTLKNLSDRVVFVLWAHGFELTSMKYFVKIGPERTCCLCDRRATCFSTASDTYACWHHSIGFDYVYNPFMIDVQQWGFTGNLQSNHDLYCQVHGNAHVASCDAIMTRCLAVHECFVKRVDWTIEYPIIGDELKINAACRKVQHMVVKAALLADKFPVLHDIGNPKAIKCVPQADVEWKFYDAQPCSDKAYKIEELFYSYATHSDKFTDGVCLFWNCNVDRYPANSIVCRFDTRVLSNLNLPGCDGGSLYVNKHAFHTPAFDKSAFVNLKQLPFFYYSDSPCESHGKQVVSDIDYVPLKSATCITRCNLGGAVCRHHANEYRLYLDAYNMMISAGFSLWVYKQFDTYNLWNTFTRLQSLENVAFNVVNKGHFDGQQGEVPVSIINNTVYTKVDGVDVELFENKTTLPVNVAFELWAKRNIKPVPEVKILNNLGVDIAANTVIWDYKRDAPAHISTIGVCSMTDIAKKPTETICAPLTVFFDGRVDGQVDLFRNARNGVLITEGSVKGLQPSVGPKQASLNGVTLIGEAVKTQFNYYKKVDGVVQQLPETYFTQSRNLQEFKPRSQMEIDFLELAMDEFIERYKLEGYAFEHIVYGDFSHSQLGGLHLLIGLAKRFKESPFELEDFIPMDSTVKNYFITDAQTGSSKCVCSVIDLLLDDFVEIIKSQDLSVVSKVVKVTIDYTEISFMLWCKDGHVETFYPKLQSSQAWQPGVAMPNLYKMQRMLLEKCDLQNYGDSATLPKGIMMNVAKYTQLCQYLNTLTLAVPYNMRVIHFGAGSDKGVAPGTAVLRQWLPTGTLLVDSDLNDFVSDADSTLIGDCATVHTANKWDLIISDMYDPKTKNVTKENDSKEGFFTYICGFIQQKLALGGSVAIKITEHSWNADLYKLMGHFAWWTAFVTNVNASSSEAFLIGCNYLGKPREQIDGYVMHANYIFWRNTNPIQLSSYSLFDMSKFPLKLRGTAVMSLKEGQINDMILSLLSKGRLIIRENNRVVISSDVLVNN</td>\n",
       "                        <td id=\"T_52bc2_row0_col1\" class=\"data row0 col1\" >2701</td>\n",
       "            </tr>\n",
       "            <tr>\n",
       "                        <th id=\"T_52bc2_level0_row1\" class=\"row_heading level0 row1\" >1</th>\n",
       "                        <td id=\"T_52bc2_row1_col0\" class=\"data row1 col0\" >ASAQRSQITLHINELMDLFMRIFTIGTVTLKQGEIKDATPSDFVRATATIPIQASLPFGWLIVGVALLAVFQSASKIITLKKRWQLALSKGVHFVCNLLLLFVTVYSHLLLVAAGLEAPFLYLYALVYFLQSINFVRIIMRLWLCWKCRSKNPLLYDANYFLCWHTNCYDYCIPYNSVTSSIVITSGDGTTSPISEHDYQIGGYTEKWESGVKDCVVLHSYFTSDYYQLYSTQLSTDTGVEHVTFFIYNKIVDEPEEHVQIHTIDGSSGVVNPVMEPIYDEPTTTTSVPL</td>\n",
       "                        <td id=\"T_52bc2_row1_col1\" class=\"data row1 col1\" >290</td>\n",
       "            </tr>\n",
       "            <tr>\n",
       "                        <th id=\"T_52bc2_level0_row2\" class=\"row_heading level0 row2\" >4</th>\n",
       "                        <td id=\"T_52bc2_row2_col0\" class=\"data row2 col0\" >TNMKIILFLALITLATCELYHYQECVRGTTVLLKEPCSSGTYEGNSPFHPLADNKFALTCFSTQFAFACPDGVKHVYQLRARSVSPKLFIRQEEVQELYSPIFLIVAAIVFITLCFTLKRKTE</td>\n",
       "                        <td id=\"T_52bc2_row2_col1\" class=\"data row2 col1\" >123</td>\n",
       "            </tr>\n",
       "            <tr>\n",
       "                        <th id=\"T_52bc2_level0_row3\" class=\"row_heading level0 row3\" >2</th>\n",
       "                        <td id=\"T_52bc2_row3_col0\" class=\"data row3 col0\" >AQADEYELMYSFVSEETGTLIVNSVLLFLAFVVFLLVTLAILTALRLCAYCCNIVNVSLVKPSFYVYSRVKNLNSSRVPDLLV</td>\n",
       "                        <td id=\"T_52bc2_row3_col1\" class=\"data row3 col1\" >83</td>\n",
       "            </tr>\n",
       "            <tr>\n",
       "                        <th id=\"T_52bc2_level0_row4\" class=\"row_heading level0 row4\" >3</th>\n",
       "                        <td id=\"T_52bc2_row4_col0\" class=\"data row4 col0\" >QQMFHLVDFQVTIAEILLIIMRTFKVSIWNLDYIINLIIKNLSKSLTENKYSQLDEEQPMEID</td>\n",
       "                        <td id=\"T_52bc2_row4_col1\" class=\"data row4 col1\" >63</td>\n",
       "            </tr>\n",
       "    </tbody></table>"
      ],
      "text/plain": [
       "<pandas.io.formats.style.Styler at 0x7f437bee6890>"
      ]
     },
     "execution_count": 115,
     "metadata": {},
     "output_type": "execute_result"
    }
   ],
   "source": [
    "proteinas=pd.DataFrame(Proteins)\n",
    "proteinas['amino acid sequence'] = proteinas[0].apply(str)\n",
    "proteinas['Protein length'] = proteinas[0].apply(len)\n",
    "proteinas.rename(columns={0: \"sequence\"}, inplace=True)\n",
    "pro=proteinas.drop('sequence', axis=1)\n",
    "pro_= pro.sort_values(by=['Protein length'], ascending=False)\n",
    "pd.options.display.max_colwidth = 80\n",
    "import seaborn as sns\n",
    "cm = sns.light_palette(\"green\", as_cmap=True)\n",
    "\n",
    "s = pro_.style.background_gradient(cmap=cm)\n",
    "s"
   ]
  },
  {
   "cell_type": "code",
   "execution_count": 116,
   "metadata": {
    "execution": {
     "iopub.execute_input": "2023-03-08T16:06:53.550559Z",
     "iopub.status.busy": "2023-03-08T16:06:53.549816Z",
     "iopub.status.idle": "2023-03-08T16:06:53.559083Z",
     "shell.execute_reply": "2023-03-08T16:06:53.559757Z",
     "shell.execute_reply.started": "2023-03-08T14:14:33.251522Z"
    },
    "papermill": {
     "duration": 0.175962,
     "end_time": "2023-03-08T16:06:53.559973",
     "exception": false,
     "start_time": "2023-03-08T16:06:53.384011",
     "status": "completed"
    },
    "tags": []
   },
   "outputs": [
    {
     "data": {
      "text/html": [
       "<div>\n",
       "<style scoped>\n",
       "    .dataframe tbody tr th:only-of-type {\n",
       "        vertical-align: middle;\n",
       "    }\n",
       "\n",
       "    .dataframe tbody tr th {\n",
       "        vertical-align: top;\n",
       "    }\n",
       "\n",
       "    .dataframe thead th {\n",
       "        text-align: right;\n",
       "    }\n",
       "</style>\n",
       "<table border=\"1\" class=\"dataframe\">\n",
       "  <thead>\n",
       "    <tr style=\"text-align: right;\">\n",
       "      <th></th>\n",
       "      <th>amino acid sequence</th>\n",
       "      <th>Protein length</th>\n",
       "    </tr>\n",
       "  </thead>\n",
       "  <tbody>\n",
       "    <tr>\n",
       "      <th>0</th>\n",
       "      <td>CTIVFKRVCGVSAARLTPCGTGTSTDVVYRAFDIYNDKVAGFAKFLKTNCCRFQEKDEDDNLIDSYFVVKRHTFSN...</td>\n",
       "      <td>2701</td>\n",
       "    </tr>\n",
       "    <tr>\n",
       "      <th>1</th>\n",
       "      <td>ASAQRSQITLHINELMDLFMRIFTIGTVTLKQGEIKDATPSDFVRATATIPIQASLPFGWLIVGVALLAVFQSASK...</td>\n",
       "      <td>290</td>\n",
       "    </tr>\n",
       "    <tr>\n",
       "      <th>4</th>\n",
       "      <td>TNMKIILFLALITLATCELYHYQECVRGTTVLLKEPCSSGTYEGNSPFHPLADNKFALTCFSTQFAFACPDGVKHV...</td>\n",
       "      <td>123</td>\n",
       "    </tr>\n",
       "    <tr>\n",
       "      <th>2</th>\n",
       "      <td>AQADEYELMYSFVSEETGTLIVNSVLLFLAFVVFLLVTLAILTALRLCAYCCNIVNVSLVKPSFYVYSRVKNLNSS...</td>\n",
       "      <td>83</td>\n",
       "    </tr>\n",
       "    <tr>\n",
       "      <th>3</th>\n",
       "      <td>QQMFHLVDFQVTIAEILLIIMRTFKVSIWNLDYIINLIIKNLSKSLTENKYSQLDEEQPMEID</td>\n",
       "      <td>63</td>\n",
       "    </tr>\n",
       "  </tbody>\n",
       "</table>\n",
       "</div>"
      ],
      "text/plain": [
       "                                                               amino acid sequence  \\\n",
       "0  CTIVFKRVCGVSAARLTPCGTGTSTDVVYRAFDIYNDKVAGFAKFLKTNCCRFQEKDEDDNLIDSYFVVKRHTFSN...   \n",
       "1  ASAQRSQITLHINELMDLFMRIFTIGTVTLKQGEIKDATPSDFVRATATIPIQASLPFGWLIVGVALLAVFQSASK...   \n",
       "4  TNMKIILFLALITLATCELYHYQECVRGTTVLLKEPCSSGTYEGNSPFHPLADNKFALTCFSTQFAFACPDGVKHV...   \n",
       "2  AQADEYELMYSFVSEETGTLIVNSVLLFLAFVVFLLVTLAILTALRLCAYCCNIVNVSLVKPSFYVYSRVKNLNSS...   \n",
       "3                  QQMFHLVDFQVTIAEILLIIMRTFKVSIWNLDYIINLIIKNLSKSLTENKYSQLDEEQPMEID   \n",
       "\n",
       "   Protein length  \n",
       "0            2701  \n",
       "1             290  \n",
       "4             123  \n",
       "2              83  \n",
       "3              63  "
      ]
     },
     "execution_count": 116,
     "metadata": {},
     "output_type": "execute_result"
    }
   ],
   "source": [
    "pro_"
   ]
  },
  {
   "cell_type": "code",
   "execution_count": 117,
   "metadata": {
    "execution": {
     "iopub.execute_input": "2023-03-08T16:06:53.889836Z",
     "iopub.status.busy": "2023-03-08T16:06:53.889087Z",
     "iopub.status.idle": "2023-03-08T16:06:53.908098Z",
     "shell.execute_reply": "2023-03-08T16:06:53.907421Z",
     "shell.execute_reply.started": "2023-03-08T14:20:53.102424Z"
    },
    "papermill": {
     "duration": 0.186059,
     "end_time": "2023-03-08T16:06:53.908361",
     "exception": false,
     "start_time": "2023-03-08T16:06:53.722302",
     "status": "completed"
    },
    "tags": []
   },
   "outputs": [
    {
     "data": {
      "text/html": [
       "<div>\n",
       "<style scoped>\n",
       "    .dataframe tbody tr th:only-of-type {\n",
       "        vertical-align: middle;\n",
       "    }\n",
       "\n",
       "    .dataframe tbody tr th {\n",
       "        vertical-align: top;\n",
       "    }\n",
       "\n",
       "    .dataframe thead th {\n",
       "        text-align: right;\n",
       "    }\n",
       "</style>\n",
       "<table border=\"1\" class=\"dataframe\">\n",
       "  <thead>\n",
       "    <tr style=\"text-align: right;\">\n",
       "      <th></th>\n",
       "      <th>Protein length</th>\n",
       "      <th>DB:ID</th>\n",
       "      <th>protein</th>\n",
       "      <th>organism</th>\n",
       "      <th>match</th>\n",
       "      <th>Function</th>\n",
       "    </tr>\n",
       "  </thead>\n",
       "  <tbody>\n",
       "    <tr>\n",
       "      <th>0</th>\n",
       "      <td>2701</td>\n",
       "      <td>P0C6X7</td>\n",
       "      <td>Replicase polyprotein 1ab</td>\n",
       "      <td>Human SARS coronavirus (SARS-CoV)</td>\n",
       "      <td>96%</td>\n",
       "      <td>Multifunctional protein involved in the transcription and replication of viral RNAs. Contains the proteinases responsible for the cleavages of the polyprotein.</td>\n",
       "    </tr>\n",
       "    <tr>\n",
       "      <th>1</th>\n",
       "      <td>290</td>\n",
       "      <td>Q0Q474</td>\n",
       "      <td>Protein 3</td>\n",
       "      <td>Bat coronavirus 279/2005 (BtCoV)</td>\n",
       "      <td>75%</td>\n",
       "      <td>Forms homotetrameric potassium sensitive ion channels (viroporin) and may modulate virus release</td>\n",
       "    </tr>\n",
       "    <tr>\n",
       "      <th>2</th>\n",
       "      <td>123</td>\n",
       "      <td>Q3I5J0</td>\n",
       "      <td>Protein 7a</td>\n",
       "      <td>Bat coronavirus Rp3/2004</td>\n",
       "      <td>89%</td>\n",
       "      <td>Non-structural protein which is dispensable for virus replication in cell culture.</td>\n",
       "    </tr>\n",
       "    <tr>\n",
       "      <th>3</th>\n",
       "      <td>83</td>\n",
       "      <td>P59637</td>\n",
       "      <td>Envelope small membrane protein</td>\n",
       "      <td>Human SARS coronavirus (SARS-CoV)</td>\n",
       "      <td>95%</td>\n",
       "      <td>Plays a central role in virus morphogenesis and assembly. Acts as a viroporin and self-assembles in host membranes forming pentameric protein-lipid pores that allow ion transport.</td>\n",
       "    </tr>\n",
       "    <tr>\n",
       "      <th>4</th>\n",
       "      <td>63</td>\n",
       "      <td>Q3I5J1</td>\n",
       "      <td>Non-structural protein 6</td>\n",
       "      <td>Bat coronavirus Rp3/2004</td>\n",
       "      <td>69%</td>\n",
       "      <td>Could be a determinant of virus virulence. Seems to stimulate cellular DNA synthesis in vitro (By similarity).</td>\n",
       "    </tr>\n",
       "  </tbody>\n",
       "</table>\n",
       "</div>"
      ],
      "text/plain": [
       "   Protein length   DB:ID                          protein  \\\n",
       "0            2701  P0C6X7        Replicase polyprotein 1ab   \n",
       "1             290  Q0Q474                        Protein 3   \n",
       "2             123  Q3I5J0                       Protein 7a   \n",
       "3              83  P59637  Envelope small membrane protein   \n",
       "4              63  Q3I5J1         Non-structural protein 6   \n",
       "\n",
       "                            organism match  \\\n",
       "0  Human SARS coronavirus (SARS-CoV)   96%   \n",
       "1   Bat coronavirus 279/2005 (BtCoV)   75%   \n",
       "2           Bat coronavirus Rp3/2004   89%   \n",
       "3  Human SARS coronavirus (SARS-CoV)   95%   \n",
       "4           Bat coronavirus Rp3/2004   69%   \n",
       "\n",
       "                                                                                                                                                                              Function  \n",
       "0                      Multifunctional protein involved in the transcription and replication of viral RNAs. Contains the proteinases responsible for the cleavages of the polyprotein.  \n",
       "1                                                                                     Forms homotetrameric potassium sensitive ion channels (viroporin) and may modulate virus release  \n",
       "2                                                                                                   Non-structural protein which is dispensable for virus replication in cell culture.  \n",
       "3  Plays a central role in virus morphogenesis and assembly. Acts as a viroporin and self-assembles in host membranes forming pentameric protein-lipid pores that allow ion transport.  \n",
       "4                                                                       Could be a determinant of virus virulence. Seems to stimulate cellular DNA synthesis in vitro (By similarity).  "
      ]
     },
     "execution_count": 117,
     "metadata": {},
     "output_type": "execute_result"
    }
   ],
   "source": [
    "pd.options.display.max_colwidth = 2702\n",
    "d={ 'Protein length': [2701,290,123,83,63],\n",
    "   'DB:ID' : ['P0C6X7', 'Q0Q474', 'Q3I5J0', 'P59637', 'Q3I5J1']\n",
    "   ,'protein': ['Replicase polyprotein 1ab','Protein 3','Protein 7a', 'Envelope small membrane protein','Non-structural protein 6']\n",
    "   ,'organism':['Human SARS coronavirus (SARS-CoV)','Bat coronavirus 279/2005 (BtCoV)',\n",
    "                           'Bat coronavirus Rp3/2004', 'Human SARS coronavirus (SARS-CoV)',\n",
    "                           'Bat coronavirus Rp3/2004']\n",
    "   ,'match': ['96%', '75%', '89%', '95%','69%']\n",
    "                          \n",
    "   , 'Function' : ['Multifunctional protein involved in the transcription and replication of viral RNAs. Contains the proteinases responsible for the cleavages of the polyprotein.',\n",
    "                'Forms homotetrameric potassium sensitive ion channels (viroporin) and may modulate virus release',\n",
    "                'Non-structural protein which is dispensable for virus replication in cell culture.',\n",
    "                'Plays a central role in virus morphogenesis and assembly. Acts as a viroporin and self-assembles in host membranes forming pentameric protein-lipid pores that allow ion transport.',\n",
    "                'Could be a determinant of virus virulence. Seems to stimulate cellular DNA synthesis in vitro (By similarity).']\n",
    "             }\n",
    "\n",
    "covid_proteins= pd.DataFrame(data=d)\n",
    "covid_proteins"
   ]
  },
  {
   "cell_type": "markdown",
   "metadata": {
    "papermill": {
     "duration": 0.164016,
     "end_time": "2023-03-08T16:06:54.237964",
     "exception": false,
     "start_time": "2023-03-08T16:06:54.073948",
     "status": "completed"
    },
    "tags": []
   },
   "source": [
    "all the viral proteins have high similarities with viral proteins in SARS and Bat coronaviruses."
   ]
  },
  {
   "cell_type": "markdown",
   "metadata": {
    "papermill": {
     "duration": 0.163834,
     "end_time": "2023-03-08T16:06:54.565408",
     "exception": false,
     "start_time": "2023-03-08T16:06:54.401574",
     "status": "completed"
    },
    "tags": []
   },
   "source": [
    "BLAST (basic local alignment search tool) is an algorithm and program for comparing primary biological sequence information, such as the amino-acid sequences of proteins or the nucleotides of DNA and/or RNA sequences. A BLAST search enables a researcher to compare a subject protein or nucleotide sequence (called a query) with a library or database of sequences, and identify library sequences that resemble the query sequence above a certain threshold.\n",
    "\n",
    "We try to find the protein sequences already available in the databases that are the most similar to our protein sequences. The proteins that will have the highest similarity with our Covid-19 mostly belong to the SARS coronavirus or Bat coronavirus."
   ]
  },
  {
   "cell_type": "markdown",
   "metadata": {
    "papermill": {
     "duration": 0.165581,
     "end_time": "2023-03-08T16:06:54.897327",
     "exception": false,
     "start_time": "2023-03-08T16:06:54.731746",
     "status": "completed"
    },
    "tags": []
   },
   "source": [
    "Open Reading Frames:\n",
    "An open reading frame is a portion of a DNA molecule that, when translated into amino acids, contains no stop codons. The genetic code reads DNA sequences in groups of three base pairs, which means that a double-stranded DNA molecule can read in any of six possible reading frames--three in the forward direction and three in the reverse. A long open reading frame is likely part of a gene.\n",
    "\n",
    "Covid-19 ORFs visualization:\n",
    "The code below does the trancription and translation to our Covid-19 genome (Genbank format). It shows the ORFs in the genome sequence and the GC% content.\n",
    "\n",
    "The graph showing the GC% is important to understand where the coding regions are in the genome. Information\n",
    "Visualization requires installing the dna-features_viewer library. Important\n",
    "Parsing GFF files requires installing the BCBio library. "
   ]
  },
  {
   "cell_type": "code",
   "execution_count": 118,
   "metadata": {
    "execution": {
     "iopub.execute_input": "2023-03-08T16:06:55.234080Z",
     "iopub.status.busy": "2023-03-08T16:06:55.233322Z",
     "iopub.status.idle": "2023-03-08T16:07:04.654001Z",
     "shell.execute_reply": "2023-03-08T16:07:04.654727Z",
     "shell.execute_reply.started": "2023-03-08T14:23:37.520038Z"
    },
    "papermill": {
     "duration": 9.58889,
     "end_time": "2023-03-08T16:07:04.654950",
     "exception": false,
     "start_time": "2023-03-08T16:06:55.066060",
     "status": "completed"
    },
    "tags": []
   },
   "outputs": [
    {
     "name": "stdout",
     "output_type": "stream",
     "text": [
      "Collecting dna_features_viewer\r\n",
      "  Downloading dna_features_viewer-3.1.2-py3-none-any.whl (31 kB)\r\n",
      "Requirement already satisfied: packaging in /opt/conda/lib/python3.7/site-packages (from dna_features_viewer) (20.8)\r\n",
      "Requirement already satisfied: Biopython in /opt/conda/lib/python3.7/site-packages (from dna_features_viewer) (1.78)\r\n",
      "Requirement already satisfied: matplotlib>=3 in /opt/conda/lib/python3.7/site-packages (from dna_features_viewer) (3.3.3)\r\n",
      "Requirement already satisfied: numpy>=1.15 in /opt/conda/lib/python3.7/site-packages (from matplotlib>=3->dna_features_viewer) (1.19.5)\r\n",
      "Requirement already satisfied: pillow>=6.2.0 in /opt/conda/lib/python3.7/site-packages (from matplotlib>=3->dna_features_viewer) (7.2.0)\r\n",
      "Requirement already satisfied: python-dateutil>=2.1 in /opt/conda/lib/python3.7/site-packages (from matplotlib>=3->dna_features_viewer) (2.8.1)\r\n",
      "Requirement already satisfied: cycler>=0.10 in /opt/conda/lib/python3.7/site-packages (from matplotlib>=3->dna_features_viewer) (0.10.0)\r\n",
      "Requirement already satisfied: pyparsing!=2.0.4,!=2.1.2,!=2.1.6,>=2.0.3 in /opt/conda/lib/python3.7/site-packages (from matplotlib>=3->dna_features_viewer) (2.4.7)\r\n",
      "Requirement already satisfied: kiwisolver>=1.0.1 in /opt/conda/lib/python3.7/site-packages (from matplotlib>=3->dna_features_viewer) (1.3.1)\r\n",
      "Requirement already satisfied: six in /opt/conda/lib/python3.7/site-packages (from cycler>=0.10->matplotlib>=3->dna_features_viewer) (1.15.0)\r\n",
      "Installing collected packages: dna-features-viewer\r\n",
      "Successfully installed dna-features-viewer-3.1.2\r\n",
      "\u001b[33mWARNING: You are using pip version 21.0.1; however, version 23.0.1 is available.\r\n",
      "You should consider upgrading via the '/opt/conda/bin/python -m pip install --upgrade pip' command.\u001b[0m\r\n",
      "Note: you may need to restart the kernel to use updated packages.\n"
     ]
    }
   ],
   "source": [
    "pip install dna_features_viewer"
   ]
  },
  {
   "cell_type": "code",
   "execution_count": 119,
   "metadata": {
    "execution": {
     "iopub.execute_input": "2023-03-08T16:07:05.012070Z",
     "iopub.status.busy": "2023-03-08T16:07:05.010767Z",
     "iopub.status.idle": "2023-03-08T16:07:14.117187Z",
     "shell.execute_reply": "2023-03-08T16:07:14.117787Z",
     "shell.execute_reply.started": "2023-03-08T14:23:54.745841Z"
    },
    "papermill": {
     "duration": 9.291444,
     "end_time": "2023-03-08T16:07:14.118009",
     "exception": false,
     "start_time": "2023-03-08T16:07:04.826565",
     "status": "completed"
    },
    "tags": []
   },
   "outputs": [
    {
     "name": "stdout",
     "output_type": "stream",
     "text": [
      "Collecting bcbio-gff\r\n",
      "  Downloading bcbio-gff-0.6.9.tar.gz (44 kB)\r\n",
      "\u001b[K     |████████████████████████████████| 44 kB 1.4 MB/s \r\n",
      "\u001b[?25hRequirement already satisfied: six in /opt/conda/lib/python3.7/site-packages (from bcbio-gff) (1.15.0)\r\n",
      "Requirement already satisfied: biopython in /opt/conda/lib/python3.7/site-packages (from bcbio-gff) (1.78)\r\n",
      "Requirement already satisfied: numpy in /opt/conda/lib/python3.7/site-packages (from biopython->bcbio-gff) (1.19.5)\r\n",
      "Building wheels for collected packages: bcbio-gff\r\n",
      "  Building wheel for bcbio-gff (setup.py) ... \u001b[?25l-\b \b\\\b \bdone\r\n",
      "\u001b[?25h  Created wheel for bcbio-gff: filename=bcbio_gff-0.6.9-py3-none-any.whl size=15938 sha256=43efca93bc168a781562b98a177fa86fee1b6418438f90839089fbe8c108b87a\r\n",
      "  Stored in directory: /root/.cache/pip/wheels/fb/fc/e0/2e7658046d32b794fdfd1e0ec266dc8bae21c1811b18951b6d\r\n",
      "Successfully built bcbio-gff\r\n",
      "Installing collected packages: bcbio-gff\r\n",
      "Successfully installed bcbio-gff-0.6.9\r\n",
      "\u001b[33mWARNING: You are using pip version 21.0.1; however, version 23.0.1 is available.\r\n",
      "You should consider upgrading via the '/opt/conda/bin/python -m pip install --upgrade pip' command.\u001b[0m\r\n",
      "Note: you may need to restart the kernel to use updated packages.\n"
     ]
    }
   ],
   "source": [
    "pip install bcbio-gff"
   ]
  },
  {
   "cell_type": "code",
   "execution_count": 120,
   "metadata": {
    "execution": {
     "iopub.execute_input": "2023-03-08T16:07:14.471609Z",
     "iopub.status.busy": "2023-03-08T16:07:14.470246Z",
     "iopub.status.idle": "2023-03-08T16:07:17.093983Z",
     "shell.execute_reply": "2023-03-08T16:07:17.094530Z",
     "shell.execute_reply.started": "2023-03-08T14:24:38.831753Z"
    },
    "papermill": {
     "duration": 2.806196,
     "end_time": "2023-03-08T16:07:17.094756",
     "exception": false,
     "start_time": "2023-03-08T16:07:14.288560",
     "status": "completed"
    },
    "tags": []
   },
   "outputs": [
    {
     "data": {
      "image/png": "[encoded data removed]",
      "text/plain": [
       "<Figure size 1224x648 with 2 Axes>"
      ]
     },
     "metadata": {},
     "output_type": "display_data"
    }
   ],
   "source": [
    "import matplotlib.pyplot as plt\n",
    "from dna_features_viewer import BiopythonTranslator\n",
    "from Bio import SeqIO\n",
    "import numpy as np\n",
    "\n",
    "fig, (ax1, ax2) = plt.subplots(\n",
    "    2, 1, figsize=(17, 9), sharex=True, gridspec_kw={\"height_ratios\": [4, 1]}\n",
    ")\n",
    "ax1.set_title('COVID-19: Open Reading Frames', size=22, weight='bold')\n",
    "\n",
    "\n",
    "\n",
    "# PLOT THE RECORD MAP\n",
    "record = SeqIO.read(\"/kaggle/input/covid19-genbank-file/sequence.gb.txt\", \"genbank\")\n",
    "graphic_record = BiopythonTranslator().translate_record(record)\n",
    "graphic_record.plot(ax=ax1, with_ruler=False, strand_in_label_threshold=4)\n",
    "\n",
    "# PLOT THE LOCAL GC CONTENT (we use 50bp windows)\n",
    "gc = lambda s: 100.0 * len([c for c in s if c in \"GC\"]) / 50\n",
    "xx = np.arange(len(record.seq) - 50)\n",
    "yy = [gc(record.seq[x : x + 50]) for x in xx]\n",
    "ax2.fill_between(xx + 25, yy, alpha=0.3)\n",
    "ax2.set_ylim(bottom=0)\n",
    "ax2.set_ylabel(\"GC(%)\")\n",
    "plt.savefig('orfs.png')\n",
    "plt.show()"
   ]
  },
  {
   "cell_type": "markdown",
   "metadata": {
    "papermill": {
     "duration": 0.171718,
     "end_time": "2023-03-08T16:07:17.440234",
     "exception": false,
     "start_time": "2023-03-08T16:07:17.268516",
     "status": "completed"
    },
    "tags": []
   },
   "source": [
    "The figure above shows the ORFs in the Covid-19 genome, mainly: ORF1ab, ORF3a, E, M, S and N. \n",
    "\n",
    "GC content (or guanine-cytosine content) is the percentage of nitrogenous bases in a DNA or RNA molecule that are either guanine (G) or cytosine (C). Evidence of GC ratio with that of length of the coding region of a gene has shown that the length of the coding sequence is directly proportional to higher G+C content. This has been pointed to the fact that the stop codon has a bias towards A and T nucleotides, and, thus, the shorter the sequence the higher the AT bias. So, next thing to do: Find those coding regions CDS.\n",
    "\n",
    "Finding the coding regions CDS in the Covid-19 genome:\n",
    "The identification of coding sequences (CDS) is an important step in the functional annotation of genes. CDS is a sequence of nucleotides that corresponds with the sequence of amino acids in a protein. A typical CDS starts with ATG and ends with a stop codon.\n",
    "\n",
    "The code below highlights the coding regions CDS in red."
   ]
  },
  {
   "cell_type": "code",
   "execution_count": 121,
   "metadata": {
    "execution": {
     "iopub.execute_input": "2023-03-08T16:07:17.796387Z",
     "iopub.status.busy": "2023-03-08T16:07:17.795688Z",
     "iopub.status.idle": "2023-03-08T16:07:19.229504Z",
     "shell.execute_reply": "2023-03-08T16:07:19.228947Z",
     "shell.execute_reply.started": "2023-03-08T14:26:58.259692Z"
    },
    "papermill": {
     "duration": 1.614449,
     "end_time": "2023-03-08T16:07:19.229734",
     "exception": false,
     "start_time": "2023-03-08T16:07:17.615285",
     "status": "completed"
    },
    "tags": []
   },
   "outputs": [
    {
     "data": {
      "image/png": "[encoded data removed]",
      "text/plain": [
       "<Figure size 1224x590.4 with 1 Axes>"
      ]
     },
     "metadata": {},
     "output_type": "display_data"
    }
   ],
   "source": [
    "from dna_features_viewer import BiopythonTranslator\n",
    "\n",
    "class MyCustomTranslator(BiopythonTranslator):\n",
    "    \"\"\"Custom translator implementing the following theme:\n",
    "\n",
    "    - Color terminators in green, CDS in red, all other features in grey.\n",
    "    - Do not display features that are restriction sites unless they are BamHI\n",
    "    - Do not display labels for restriction sites\n",
    "    - For CDS labels just write \"CDS here\" instead of the name of the gene.\n",
    "\n",
    "    \"\"\"\n",
    "\n",
    "    def compute_feature_color(self, feature):\n",
    "        if feature.type == \"CDS\":\n",
    "            return \"crimson\"\n",
    "        elif feature.type == \"terminator\":\n",
    "            return \"green\"\n",
    "        else:\n",
    "            return \"gainsboro\"\n",
    "\n",
    "    def compute_feature_label(self, feature):\n",
    "        if feature.type == 'restriction_site':\n",
    "            return None\n",
    "        elif feature.type == \"CDS\":\n",
    "            return \"CDS here\"\n",
    "        else:\n",
    "            return BiopythonTranslator.compute_feature_label(self, feature)\n",
    "\n",
    "    def compute_filtered_features(self, features):\n",
    "        \"\"\"Do not display promoters. Just because.\"\"\"\n",
    "        return [\n",
    "            feature for feature in features\n",
    "            if (feature.type != \"restriction_site\")\n",
    "            or (\"BamHI\" in str(feature.qualifiers.get(\"label\", '')))\n",
    "        ]\n",
    "\n",
    "\n",
    "graphic_record = MyCustomTranslator().translate_record(\"/kaggle/input/covid19-genbank-file/sequence.gb.txt\")\n",
    "ax, _ = graphic_record.plot(figure_width=17)\n",
    "ax.figure.tight_layout()\n",
    "ax.figure.savefig(\"custom_bopython_translator.png\")\n",
    "ax.set_title('COVID-19: Coding regions CDS', size=22, weight='bold')\n",
    "plt.show()"
   ]
  },
  {
   "cell_type": "markdown",
   "metadata": {
    "papermill": {
     "duration": 0.179926,
     "end_time": "2023-03-08T16:07:19.588036",
     "exception": false,
     "start_time": "2023-03-08T16:07:19.408110",
     "status": "completed"
    },
    "tags": []
   },
   "source": [
    "The figure above highlights in red the coding regions CDS in the Covid-19 genome. The main CDS are among the ORFs already found in the previous section, which include the ORF1ab, ORF3a, S protein, M protein and N protein. \n",
    "\n",
    "The function below finds the Open Reading Frames in the COVID-19 genome. We set the minimum protein length to 200 amino acids.\n",
    "\n",
    "In other words, just the ORFs with an amino acid sequence greater than 200 will be considered for further analysis "
   ]
  },
  {
   "cell_type": "markdown",
   "metadata": {
    "papermill": {
     "duration": 0.1774,
     "end_time": "2023-03-08T16:07:19.945433",
     "exception": false,
     "start_time": "2023-03-08T16:07:19.768033",
     "status": "completed"
    },
    "tags": []
   },
   "source": [
    "ORF Identification"
   ]
  },
  {
   "cell_type": "code",
   "execution_count": 122,
   "metadata": {
    "execution": {
     "iopub.execute_input": "2023-03-08T16:07:20.308584Z",
     "iopub.status.busy": "2023-03-08T16:07:20.307717Z",
     "iopub.status.idle": "2023-03-08T16:07:20.356958Z",
     "shell.execute_reply": "2023-03-08T16:07:20.357802Z",
     "shell.execute_reply.started": "2023-03-08T14:28:34.875861Z"
    },
    "papermill": {
     "duration": 0.236029,
     "end_time": "2023-03-08T16:07:20.358039",
     "exception": false,
     "start_time": "2023-03-08T16:07:20.122010",
     "status": "completed"
    },
    "tags": []
   },
   "outputs": [
    {
     "name": "stdout",
     "output_type": "stream",
     "text": [
      "PKGKMESLVPGFNEKTHVQLSLPVLQVRDV...FAV - length 4409, strand 1, 253:13483\n",
      "CTIVFKRVCGVSAARLTPCGTGTSTDVVYR...VNN - length 2701, strand 1, 13449:21555\n",
      "LEKTTELLFLVMFLLTTKRTMFVFLVLLPL...HYT - length 1293, strand 1, 21502:25384\n",
      "ASAQRSQITLHINELMDLFMRIFTIGTVTL...VPL - length 290, strand 1, 25347:26220\n",
      "SSGLNELNIILVFLFGTLILAMADSNGTIT...LVQ - length 243, strand 1, 26459:27191\n",
      "RSCCFRFHLNEQTKMSDNGPQNQRNAPRIT...TQA - length 433, strand 1, 28231:29533\n"
     ]
    },
    {
     "name": "stderr",
     "output_type": "stream",
     "text": [
      "/opt/conda/lib/python3.7/site-packages/Bio/Seq.py:2338: BiopythonWarning:\n",
      "\n",
      "Partial codon, len(sequence) not a multiple of three. Explicitly trim the sequence or add trailing N before translation. This may become an error in future.\n",
      "\n"
     ]
    }
   ],
   "source": [
    "table=11\n",
    "min_pro_len=200\n",
    "def find_orfs_with_trans(seq, trans_table, min_protein_length):\n",
    "    answer = []\n",
    "    seq_len = len(seq)\n",
    "    for strand, nuc in [(+1, seq), (-1, seq.reverse_complement())]:\n",
    "        for frame in range(3):\n",
    "            trans = str(nuc[frame:].translate(trans_table))\n",
    "            trans_len = len(trans)\n",
    "            aa_start = 0\n",
    "            aa_end = 0\n",
    "            while aa_start < trans_len:\n",
    "                aa_end = trans.find(\"*\", aa_start)\n",
    "                if aa_end == -1:\n",
    "                    aa_end = trans_len\n",
    "                if aa_end - aa_start >= min_protein_length:\n",
    "                    if strand == 1:\n",
    "                        start = frame + aa_start * 3\n",
    "                        end = min(seq_len, frame + aa_end * 3 + 3)\n",
    "                    else:\n",
    "                        start = seq_len - frame - aa_end * 3 - 3\n",
    "                        end = seq_len - frame - aa_start * 3\n",
    "                    answer.append((start, end, strand, trans[aa_start:aa_end]))\n",
    "                aa_start = aa_end + 1\n",
    "    answer.sort()\n",
    "    return answer\n",
    "orf_list = find_orfs_with_trans(record.seq, table, min_pro_len)\n",
    "for start, end, strand, pro in orf_list:\n",
    "    print(\n",
    "        \"%s...%s - length %i, strand %i, %i:%i\"\n",
    "        % (pro[:30], pro[-3:], len(pro), strand, start, end))"
   ]
  },
  {
   "cell_type": "markdown",
   "metadata": {
    "papermill": {
     "duration": 0.175879,
     "end_time": "2023-03-08T16:07:20.710131",
     "exception": false,
     "start_time": "2023-03-08T16:07:20.534252",
     "status": "completed"
    },
    "tags": []
   },
   "source": [
    "The Covid-19 genome has 6 ORFs with more than 200 amino acids. We run a BLAST search to find out what proteins do those sequences code for. "
   ]
  },
  {
   "cell_type": "code",
   "execution_count": 123,
   "metadata": {
    "execution": {
     "iopub.execute_input": "2023-03-08T16:07:21.071650Z",
     "iopub.status.busy": "2023-03-08T16:07:21.070921Z",
     "iopub.status.idle": "2023-03-08T16:07:21.075874Z",
     "shell.execute_reply": "2023-03-08T16:07:21.075111Z",
     "shell.execute_reply.started": "2023-03-08T14:28:38.450438Z"
    },
    "papermill": {
     "duration": 0.187223,
     "end_time": "2023-03-08T16:07:21.076061",
     "exception": false,
     "start_time": "2023-03-08T16:07:20.888838",
     "status": "completed"
    },
    "tags": []
   },
   "outputs": [
    {
     "data": {
      "text/plain": [
       "[(253,\n",
       "  13483,\n",
       "  1,\n",
       "  'PKGKMESLVPGFNEKTHVQLSLPVLQVRDVLVRGFGDSVEEVLSEARQHLKDGTCGLVEVEKGVLPQLEQPYVFIKRSDARTAPHGHVMVELVAELEGIQYGRSGETLGVLVPHVGEIPVAYRKVLLRKNGNKGAGGHSYGADLKSFDLGDELGTDPYEDFQENWNTKHSSGVTRELMRELNGGAYTRYVDNNFCGPDGYPLECIKDLLARAGKASCTLSEQLDFIDTKRGVYCCREHEHEIAWYTERSEKSYELQTPFEIKLAKKFDTFNGECPNFVFPLNSIIKTIQPRVEKKKLDGFMGRIRSVYPVASPNECNQMCLSTLMKCDHCGETSWQTGDFVKATCEFCGTENLTKEGATTCGYLPQNAVVKIYCPACHNSEVGPEHSLAEYHNESGLKTILRKGGRTIAFGGCVFSYVGCHNKCAYWVPRASANIGCNHTGVVGEGSEGLNDNLLEILQKEKVNINIVGDFKLNEEIAIILASFSASTSAFVETVKGLDYKAFKQIVESCGNFKVTKGKAKKGAWNIGEQKSILSPLYAFASEAARVVRSIFSRTLETAQNSVRVLQKAAITILDGISQYSLRLIDAMMFTSDLATNNLVVMAYITGGVVQLTSQWLTNIFGTVYEKLKPVLDWLEEKFKEGVEFLRDGWEIVKFISTCACEIVGGQIVTCAKEIKESVQTFFKLVNKFLALCADSIIIGGAKLKALNLGETFVTHSKGLYRKCVKSREETGLLMPLKAPKEIIFLEGETLPTEVLTEEVVLKTGDLQPLEQPTSEAVEAPLVGTPVCINGLMLLEIKDTEKYCALAPNMMVTNNTFTLKGGAPTKVTFGDDTVIEVQGYKSVNITFELDERIDKVLNEKCSAYTVELGTEVNEFACVVADAVIKTLQPVSELLTPLGIDLDEWSMATYYLFDESGEFKLASHMYCSFYPPDEDEEEGDCEEEEFEPSTQYEYGTEDDYQGKPLEFGATSAALQPEEEQEEDWLDDDSQQTVGQQDGSEDNQTTTIQTIVEVQPQLEMELTPVVQTIEVNSFSGYLKLTDNVYIKNADIVEEAKKVKPTVVVNAANVYLKHGGGVAGALNKATNNAMQVESDDYIATNGPLKVGGSCVLSGHNLAKHCLHVVGPNVNKGEDIQLLKSAYENFNQHEVLLAPLLSAGIFGADPIHSLRVCVDTVRTNVYLAVFDKNLYDKLVSSFLEMKSEKQVEQKIAEIPKEEVKPFITESKPSVEQRKQDDKKIKACVEEVTTTLEETKFLTENLLLYIDINGNLHPDSATLVSDIDITFLKKDAPYIVGDVVQEGVLTAVVIPTKKAGGTTEMLAKALRKVPTDNYITTYPGQGLNGYTVEEAKTVLKKCKSAFYILPSIISNEKQEILGTVSWNLREMLAHAEETRKLMPVCVETKAIVSTIQRKYKGIKIQEGVVDYGARFYFYTSKTTVASLINTLNDLNETLVTMPLGYVTHGLNLEEAARYMRSLKVPATVSVSSPDAVTAYNGYLTSSSKTPEEHFIETISLAGSYKDWSYSGQSTQLGIEFLKRGDKSVYYTSNPTTFHLDGEVITFDNLKTLLSLREVRTIKVFTTVDNINLHTQVVDMSMTYGQQFGPTYLDGADVTKIKPHNSHEGKTFYVLPNDDTLRVEAFEYYHTTDPSFLGRYMSALNHTKKWKYPQVNGLTSIKWADNNCYLATALLTLQQIELKFNPPALQDAYYRARAGEAANFCALILAYCNKTVGELGDVRETMSYLFQHANLDSCKRVLNVVCKTCGQQQTTLKGVEAVMYMGTLSYEQFKKGVQIPCTCGKQATKYLVQQESPFVMMSAPPAQYELKHGTFTCASEYTGNYQCGHYKHITSKETLYCIDGALLTKSSEYKGPITDVFYKENSYTTTIKPVTYKLDGVVCTEIDPKLDNYYKKDNSYFTEQPIDLVPNQPYPNASFDNFKFVCDNIKFADDLNQLTGYKKPASRELKVTFFPDLNGDVVAIDYKHYTPSFKKGAKLLHKPIVWHVNNATNKATYKPNTWCIRCLWSTKPVETSNSFDVLKSEDAQGMDNLACEDLKPVSEEVVENPTIQKDVLECNVKTTEVVGDIILKPANNSLKITEEVGHTDLMAAYVDNSSLTIKKPNELSRVLGLKTLATHGLAAVNSVPWDTIANYAKPFLNKVVSTTTNIVTRCLNRVCTNYMPYFFTLLLQLCTFTRSTNSRIKASMPTTIAKNTVKSVGKFCLEASFNYLKSPNFSKLINIIIWFLLLSVCLGSLIYSTAALGVLMSNLGMPSYCTGYREGYLNSTNVTIATYCTGSIPCSVCLSGLDSLDTYPSLETIQITISSFKWDLTAFGLVAEWFLAYILFTRFFYVLGLAAIMQLFFSYFAVHFISNSWLMWLIINLVQMAPISAMVRMYIFFASFYYVWKSYVHVVDGCNSSTCMMCYKRNRATRVECTTIVNGVRRSFYVYANGGKGFCKLHNWNCVNCDTFCAGSTFISDEVARDLSLQFKRPINPTDQSSYIVDSVTVKNGSIHLYFDKAGQKTYERHSLSHFVNLDNLRANNTKGSLPINVIVFDGKSKCEESSAKSASVYYSQLMCQPILLLDQALVSDVGDSAEVAVKMFDAYVNTFSSTFNVPMEKLKTLVATAEAELAKNVSLDNVLSTFISAARQGFVDSDVETKDVVECLKLSHQSDIEVTGDSCNNYMLTYNKVENMTPRDLGACIDCSARHINAQVAKSHNIALIWNVKDFMSLSEQLRKQIRSAAKKNNLPFKLTCATTRQVVNVVTTKIALKGGKIVNNWLKQLIKVTLVFLFVAAIFYLITPVHVMSKHTDFSSEIIGYKAIDGGVTRDIASTDTCFANKHADFDTWFSQRGGSYTNDKACPLIAAVITREVGFVVPGLPGTILRTTNGDFLHFLPRVFSAVGNICYTPSKLIEYTDFATSACVLAAECTIFKDASGKPVPYCYDTNVLEGSVAYESLRPDTRYVLMDGSIIQFPNTYLEGSVRVVTTFDSEYCRHGTCERSEAGVCVSTSGRWVLNNDYYRSLPGVFCGVDAVNLLTNMFTPLIQPIGALDISASIVAGGIVAIVVTCLAYYFMRFRRAFGEYSHVVAFNTLLFLMSFTVLCLTPVYSFLPGVYSVIYLYLTFYLTNDVSFLAHIQWMVMFTPLVPFWITIAYIICISTKHFYWFFSNYLKRRVVFNGVSFSTFEEAALCTFLLNKEMYLKLRSDVLLPLTQYNRYLALYNKYKYFSGAMDTTSYREAACCHLAKALNDFSNSGSDVLYQPPQTSITSAVLQSGFRKMAFPSGKVEGCMVQVTCGTTTLNGLWLDDVVYCPRHVICTSEDMLNPNYEDLLIRKSNHNFLVQAGNVQLRVIGHSMQNCVLKLKVDTANPKTPKYKFVRIQPGQTFSVLACYNGSPSGVYQCAMRPNFTIKGSFLNGSCGSVGFNIDYDCVSFCYMHHMELPTGVHAGTDLEGNFYGPFVDRQTAQAAGTDTTITVNVLAWLYAAVINGDRWFLNRFTTTLNDFNLVAMKYNYEPLTQDHVDILGPLSAQTGIAVLDMCASLKELLQNGMNGRTILGSALLEDEFTPFDVVRQCSGVTFQSAVKRTIKGTHHWLLLTILTSLLVLVQSTQWSLFFFLYENAFLPFAMGIIAMSAFAMMFVKHKHAFLCLFLLPSLATVAYFNMVYMPASWVMRIMTWLDMVDTSLSGFKLKDCVMYASAVVLLILMTARTVYDDGARRVWTLMNVLTLVYKVYYGNALDQAISMWALIISVTSNYSGVVTTVMFLARGIVFMCVEYCPIFFITGNTLQCIMLVYCFLGYFCTCYFGLFCLLNRYFRLTLGVYDYLVSTQEFRYMNSQGLLPPKNSIDAFKLNIKLLGVGGKPCIKVATVQSKMSDVKCTSVVLLSVLQQLRVESSSKLWAQCVQLHNDILLAKDTTEAFEKMVSLLSVLLSMQGAVDINKLCEEMLDNRATLQAIASEFSSLPSYAAFATAQEAYEQAVANGDSEVVLKKLKKSLNVAKSEFDRDAAMQRKLEKMADQAMTQMYKQARSEDKRAKVTSAMQTMLFTMLRKLDNDALNNIINNARDGCVPLNIIPLTTAAKLMVVIPDYNTYKNTCDGTTFTYASALWEIQQVVDADSKIVQLSEISMDNSPNLAWPLIVTALRANSAVKLQNNELSPVALRQMSCAAGTTQTACTDDNALAYYNTTKGGRFVLALLSDLQDLKWARFPKSDGTGTIYTELEPPCRFVTDTPKGPKVKYLYFIKGLNNLNRGMVLGSLAATVRLQAGNATEVPANSTVLSFCAFAVDAAKAYKDYLASGGQPITNCVKMLCTHTGTGQAITVTPEANMDQESFGGASCCLYCRCHIDHPNPKGFCDLKGKYVQIPTTCANDPVGFTLKNTVCTVCGMWKGYGCSCDQLREPMLQSADAQSFLNGFAV'),\n",
       " (13449,\n",
       "  21555,\n",
       "  1,\n",
       "  'CTIVFKRVCGVSAARLTPCGTGTSTDVVYRAFDIYNDKVAGFAKFLKTNCCRFQEKDEDDNLIDSYFVVKRHTFSNYQHEETIYNLLKDCPAVAKHDFFKFRIDGDMVPHISRQRLTKYTMADLVYALRHFDEGNCDTLKEILVTYNCCDDDYFNKKDWYDFVENPDILRVYANLGERVRQALLKTVQFCDAMRNAGIVGVLTLDNQDLNGNWYDFGDFIQTTPGSGVPVVDSYYSLLMPILTLTRALTAESHVDTDLTKPYIKWDLLKYDFTEERLKLFDRYFKYWDQTYHPNCVNCLDDRCILHCANFNVLFSTVFPPTSFGPLVRKIFVDGVPFVVSTGYHFRELGVVHNQDVNLHSSRLSFKELLVYAADPAMHAASGNLLLDKRTTCFSVAALTNNVAFQTVKPGNFNKDFYDFAVSKGFFKEGSSVELKHFFFAQDGNAAISDYDYYRYNLPTMCDIRQLLFVVEVVDKYFDCYDGGCINANQVIVNNLDKSAGFPFNKWGKARLYYDSMSYEDQDALFAYTKRNVIPTITQMNLKYAISAKNRARTVAGVSICSTMTNRQFHQKLLKSIAATRGATVVIGTSKFYGGWHNMLKTVYSDVENPHLMGWDYPKCDRAMPNMLRIMASLVLARKHTTCCSLSHRFYRLANECAQVLSEMVMCGGSLYVKPGGTSSGDATTAYANSVFNICQAVTANVNALLSTDGNKIADKYVRNLQHRLYECLYRNRDVDTDFVNEFYAYLRKHFSMMILSDDAVVCFNSTYASQGLVASIKNFKSVLYYQNNVFMSEAKCWTETDLTKGPHEFCSQHTMLVKQGDDYVYLPYPDPSRILGAGCFVDDIVKTDGTLMIERFVSLAIDAYPLTKHPNQEYADVFHLYLQYIRKLHDELTGHMLDMYSVMLTNDNTSRYWEPEFYEAMYTPHTVLQAVGACVLCNSQTSLRCGACIRRPFLCCKCCYDHVISTSHKLVLSVNPYVCNAPGCDVTDVTQLYLGGMSYYCKSHKPPISFPLCANGQVFGLYKNTCVGSDNVTDFNAIATCDWTNAGDYILANTCTERLKLFAAETLKATEETFKLSYGIATVREVLSDRELHLSWEVGKPRPPLNRNYVFTGYRVTKNSKVQIGEYTFEKGDYGDAVVYRGTTTYKLNVGDYFVLTSHTVMPLSAPTLVPQEHYVRITGLYPTLNISDEFSSNVANYQKVGMQKYSTLQGPPGTGKSHFAIGLALYYPSARIVYTACSHAAVDALCEKALKYLPIDKCSRIIPARARVECFDKFKVNSTLEQYVFCTVNALPETTADIVVFDEISMATNYDLSVVNARLRAKHYVYIGDPAQLPAPRTLLTKGTLEPEYFNSVCRLMKTIGPDMFLGTCRRCPAEIVDTVSALVYDNKLKAHKDKSAQCFKMFYKGVITHDVSSAINRPQIGVVREFLTRNPAWRKAVFISPYNSQNAVASKILGLPTQTVDSSQGSEYDYVIFTQTTETAHSCNVNRFNVAITRAKVGILCIMSDRDLYDKLQFTSLEIPRRNVATLQAENVTGLFKDCSKVITGLHPTQAPTHLSVDTKFKTEGLCVDIPGIPKDMTYRRLISMMGFKMNYQVNGYPNMFITREEAIRHVRAWIGFDVEGCHATREAVGTNLPLQLGFSTGVNLVAVPTGYVDTPNNTDFSRVSAKPPPGDQFKHLIPLMYKGLPWNVVRIKIVQMLSDTLKNLSDRVVFVLWAHGFELTSMKYFVKIGPERTCCLCDRRATCFSTASDTYACWHHSIGFDYVYNPFMIDVQQWGFTGNLQSNHDLYCQVHGNAHVASCDAIMTRCLAVHECFVKRVDWTIEYPIIGDELKINAACRKVQHMVVKAALLADKFPVLHDIGNPKAIKCVPQADVEWKFYDAQPCSDKAYKIEELFYSYATHSDKFTDGVCLFWNCNVDRYPANSIVCRFDTRVLSNLNLPGCDGGSLYVNKHAFHTPAFDKSAFVNLKQLPFFYYSDSPCESHGKQVVSDIDYVPLKSATCITRCNLGGAVCRHHANEYRLYLDAYNMMISAGFSLWVYKQFDTYNLWNTFTRLQSLENVAFNVVNKGHFDGQQGEVPVSIINNTVYTKVDGVDVELFENKTTLPVNVAFELWAKRNIKPVPEVKILNNLGVDIAANTVIWDYKRDAPAHISTIGVCSMTDIAKKPTETICAPLTVFFDGRVDGQVDLFRNARNGVLITEGSVKGLQPSVGPKQASLNGVTLIGEAVKTQFNYYKKVDGVVQQLPETYFTQSRNLQEFKPRSQMEIDFLELAMDEFIERYKLEGYAFEHIVYGDFSHSQLGGLHLLIGLAKRFKESPFELEDFIPMDSTVKNYFITDAQTGSSKCVCSVIDLLLDDFVEIIKSQDLSVVSKVVKVTIDYTEISFMLWCKDGHVETFYPKLQSSQAWQPGVAMPNLYKMQRMLLEKCDLQNYGDSATLPKGIMMNVAKYTQLCQYLNTLTLAVPYNMRVIHFGAGSDKGVAPGTAVLRQWLPTGTLLVDSDLNDFVSDADSTLIGDCATVHTANKWDLIISDMYDPKTKNVTKENDSKEGFFTYICGFIQQKLALGGSVAIKITEHSWNADLYKLMGHFAWWTAFVTNVNASSSEAFLIGCNYLGKPREQIDGYVMHANYIFWRNTNPIQLSSYSLFDMSKFPLKLRGTAVMSLKEGQINDMILSLLSKGRLIIRENNRVVISSDVLVNN'),\n",
       " (21502,\n",
       "  25384,\n",
       "  1,\n",
       "  'LEKTTELLFLVMFLLTTKRTMFVFLVLLPLVSSQCVNLTTRTQLPPAYTNSFTRGVYYPDKVFRSSVLHSTQDLFLPFFSNVTWFHAIHVSGTNGTKRFDNPVLPFNDGVYFASTEKSNIIRGWIFGTTLDSKTQSLLIVNNATNVVIKVCEFQFCNDPFLGVYYHKNNKSWMESEFRVYSSANNCTFEYVSQPFLMDLEGKQGNFKNLREFVFKNIDGYFKIYSKHTPINLVRDLPQGFSALEPLVDLPIGINITRFQTLLALHRSYLTPGDSSSGWTAGAAAYYVGYLQPRTFLLKYNENGTITDAVDCALDPLSETKCTLKSFTVEKGIYQTSNFRVQPTESIVRFPNITNLCPFGEVFNATRFASVYAWNRKRISNCVADYSVLYNSASFSTFKCYGVSPTKLNDLCFTNVYADSFVIRGDEVRQIAPGQTGKIADYNYKLPDDFTGCVIAWNSNNLDSKVGGNYNYLYRLFRKSNLKPFERDISTEIYQAGSTPCNGVEGFNCYFPLQSYGFQPTNGVGYQPYRVVVLSFELLHAPATVCGPKKSTNLVKNKCVNFNFNGLTGTGVLTESNKKFLPFQQFGRDIADTTDAVRDPQTLEILDITPCSFGGVSVITPGTNTSNQVAVLYQDVNCTEVPVAIHADQLTPTWRVYSTGSNVFQTRAGCLIGAEHVNNSYECDIPIGAGICASYQTQTNSPRRARSVASQSIIAYTMSLGAENSVAYSNNSIAIPTNFTISVTTEILPVSMTKTSVDCTMYICGDSTECSNLLLQYGSFCTQLNRALTGIAVEQDKNTQEVFAQVKQIYKTPPIKDFGGFNFSQILPDPSKPSKRSFIEDLLFNKVTLADAGFIKQYGDCLGDIAARDLICAQKFNGLTVLPPLLTDEMIAQYTSALLAGTITSGWTFGAGAALQIPFAMQMAYRFNGIGVTQNVLYENQKLIANQFNSAIGKIQDSLSSTASALGKLQDVVNQNAQALNTLVKQLSSNFGAISSVLNDILSRLDKVEAEVQIDRLITGRLQSLQTYVTQQLIRAAEIRASANLAATKMSECVLGQSKRVDFCGKGYHLMSFPQSAPHGVVFLHVTYVPAQEKNFTTAPAICHDGKAHFPREGVFVSNGTHWFVTQRNFYEPQIITTDNTFVSGNCDVVIGIVNNTVYDPLQPELDSFKEELDKYFKNHTSPDVDLGDISGINASVVNIQKEIDRLNEVAKNLNESLIDLQELGKYEQYIKWPWYIWLGFIAGLIAIVMVTIMLCCMTSCCSCLKGCCSCGSCCKFDEDDSEPVLKGVKLHYT'),\n",
       " (25347,\n",
       "  26220,\n",
       "  1,\n",
       "  'ASAQRSQITLHINELMDLFMRIFTIGTVTLKQGEIKDATPSDFVRATATIPIQASLPFGWLIVGVALLAVFQSASKIITLKKRWQLALSKGVHFVCNLLLLFVTVYSHLLLVAAGLEAPFLYLYALVYFLQSINFVRIIMRLWLCWKCRSKNPLLYDANYFLCWHTNCYDYCIPYNSVTSSIVITSGDGTTSPISEHDYQIGGYTEKWESGVKDCVVLHSYFTSDYYQLYSTQLSTDTGVEHVTFFIYNKIVDEPEEHVQIHTIDGSSGVVNPVMEPIYDEPTTTTSVPL'),\n",
       " (26459,\n",
       "  27191,\n",
       "  1,\n",
       "  'SSGLNELNIILVFLFGTLILAMADSNGTITVEELKKLLEQWNLVIGFLFLTWICLLQFAYANRNRFLYIIKLIFLWLLWPVTLACFVLAAVYRINWITGGIAIAMACLVGLMWLSYFIASFRLFARTRSMWSFNPETNILLNVPLHGTILTRPLLESELVIGAVILRGHLRIAGHHLGRCDIKDLPKEITVATSRTLSYYKLGASQRVAGDSGFAAYSRYRIGNYKLNTDHSSSSDNIALLVQ'),\n",
       " (28231,\n",
       "  29533,\n",
       "  1,\n",
       "  'RSCCFRFHLNEQTKMSDNGPQNQRNAPRITFGGPSDSTGSNQNGERSGARSKQRRPQGLPNNTASWFTALTQHGKEDLKFPRGQGVPINTNSSPDDQIGYYRRATRRIRGGDGKMKDLSPRWYFYYLGTGPEAGLPYGANKDGIIWVATEGALNTPKDHIGTRNPANNAAIVLQLPQGTTLPKGFYAEGSRGGSQASSRSSSRSRNSSRNSTPGSSRGTSPARMAGNGGDAALALLLLDRLNQLESKMSGKGQQQQGQTVTKKSAAEASKKPRQKRTATKAYNVTQAFGRRGPEQTQGNFGDQELIRQGTDYKHWPQIAQFAPSASAFFGMSRIGMEVTPSGTWLTYTGAIKLDDKDPNFKDQVILLNKHIDAYKTFPPTEPKKDKKKKADETQALPQRQKKQQTVTLLPAADLDDFSKQLQQSMSSADSTQA')]"
      ]
     },
     "execution_count": 123,
     "metadata": {},
     "output_type": "execute_result"
    }
   ],
   "source": [
    "orf_list"
   ]
  },
  {
   "cell_type": "markdown",
   "metadata": {
    "papermill": {
     "duration": 0.17898,
     "end_time": "2023-03-08T16:07:21.433884",
     "exception": false,
     "start_time": "2023-03-08T16:07:21.254904",
     "status": "completed"
    },
    "tags": []
   },
   "source": [
    "### BLAST search results: COVID-19 ORFs"
   ]
  },
  {
   "cell_type": "code",
   "execution_count": 124,
   "metadata": {
    "execution": {
     "iopub.execute_input": "2023-03-08T16:07:21.810415Z",
     "iopub.status.busy": "2023-03-08T16:07:21.809202Z",
     "iopub.status.idle": "2023-03-08T16:07:21.813964Z",
     "shell.execute_reply": "2023-03-08T16:07:21.813241Z",
     "shell.execute_reply.started": "2023-03-08T14:30:35.420229Z"
    },
    "papermill": {
     "duration": 0.204331,
     "end_time": "2023-03-08T16:07:21.814165",
     "exception": false,
     "start_time": "2023-03-08T16:07:21.609834",
     "status": "completed"
    },
    "tags": []
   },
   "outputs": [
    {
     "data": {
      "text/html": [
       "<style  type=\"text/css\" >\n",
       "#T_bad32_row0_col0{\n",
       "            background-color:  #ff0000;\n",
       "            color:  #f1f1f1;\n",
       "        }#T_bad32_row1_col0{\n",
       "            background-color:  #fa6262;\n",
       "            color:  #000000;\n",
       "        }#T_bad32_row2_col0{\n",
       "            background-color:  #f6b4b4;\n",
       "            color:  #000000;\n",
       "        }#T_bad32_row3_col0{\n",
       "            background-color:  #f3eeee;\n",
       "            color:  #000000;\n",
       "        }#T_bad32_row4_col0{\n",
       "            background-color:  #f3f0f0;\n",
       "            color:  #000000;\n",
       "        }#T_bad32_row5_col0{\n",
       "            background-color:  #f3e6e6;\n",
       "            color:  #000000;\n",
       "        }</style><table id=\"T_bad32_\" ><thead>    <tr>        <th class=\"blank level0\" ></th>        <th class=\"col_heading level0 col0\" >ORF length</th>        <th class=\"col_heading level0 col1\" >DB:ID</th>        <th class=\"col_heading level0 col2\" >protein</th>        <th class=\"col_heading level0 col3\" >organism</th>        <th class=\"col_heading level0 col4\" >match</th>        <th class=\"col_heading level0 col5\" >Function</th>    </tr></thead><tbody>\n",
       "                <tr>\n",
       "                        <th id=\"T_bad32_level0_row0\" class=\"row_heading level0 row0\" >0</th>\n",
       "                        <td id=\"T_bad32_row0_col0\" class=\"data row0 col0\" >4409</td>\n",
       "                        <td id=\"T_bad32_row0_col1\" class=\"data row0 col1\" >P0C6U8</td>\n",
       "                        <td id=\"T_bad32_row0_col2\" class=\"data row0 col2\" >Replicase polyprotein 1a</td>\n",
       "                        <td id=\"T_bad32_row0_col3\" class=\"data row0 col3\" >Human SARS coronavirus (SARS-CoV)</td>\n",
       "                        <td id=\"T_bad32_row0_col4\" class=\"data row0 col4\" >80%</td>\n",
       "                        <td id=\"T_bad32_row0_col5\" class=\"data row0 col5\" >Multifunctional protein involved in the transcription and replication of viral RNAs. Contains the proteinases responsible for the cleavages of the polyprotein.</td>\n",
       "            </tr>\n",
       "            <tr>\n",
       "                        <th id=\"T_bad32_level0_row1\" class=\"row_heading level0 row1\" >1</th>\n",
       "                        <td id=\"T_bad32_row1_col0\" class=\"data row1 col0\" >2701</td>\n",
       "                        <td id=\"T_bad32_row1_col1\" class=\"data row1 col1\" >P0C6X7</td>\n",
       "                        <td id=\"T_bad32_row1_col2\" class=\"data row1 col2\" >Replicase polyprotein 1ab</td>\n",
       "                        <td id=\"T_bad32_row1_col3\" class=\"data row1 col3\" >Human SARS coronavirus (SARS-CoV)</td>\n",
       "                        <td id=\"T_bad32_row1_col4\" class=\"data row1 col4\" >96%</td>\n",
       "                        <td id=\"T_bad32_row1_col5\" class=\"data row1 col5\" >Multifunctional protein involved in the transcription and replication of viral RNAs. Contains the proteinases responsible for the cleavages of the polyprotein</td>\n",
       "            </tr>\n",
       "            <tr>\n",
       "                        <th id=\"T_bad32_level0_row2\" class=\"row_heading level0 row2\" >2</th>\n",
       "                        <td id=\"T_bad32_row2_col0\" class=\"data row2 col0\" >1293</td>\n",
       "                        <td id=\"T_bad32_row2_col1\" class=\"data row2 col1\" >P59594</td>\n",
       "                        <td id=\"T_bad32_row2_col2\" class=\"data row2 col2\" >Spike glycoprotein</td>\n",
       "                        <td id=\"T_bad32_row2_col3\" class=\"data row2 col3\" >Human SARS coronavirus (SARS-CoV)</td>\n",
       "                        <td id=\"T_bad32_row2_col4\" class=\"data row2 col4\" >76%</td>\n",
       "                        <td id=\"T_bad32_row2_col5\" class=\"data row2 col5\" >attaches the virion to the cell membrane by interacting with host receptor, initiating the infection (By similarity). Binding to human ACE2 and CLEC4M/DC-SIGNR receptors and internalization of the virus into the endosomes of the host cell induces conformational changes in the S glycoprotein. Proteolysis by cathepsin CTSL may unmask the fusion peptide of S2 and activate membranes fusion within endosomes.</td>\n",
       "            </tr>\n",
       "            <tr>\n",
       "                        <th id=\"T_bad32_level0_row3\" class=\"row_heading level0 row3\" >3</th>\n",
       "                        <td id=\"T_bad32_row3_col0\" class=\"data row3 col0\" >290</td>\n",
       "                        <td id=\"T_bad32_row3_col1\" class=\"data row3 col1\" >Q0Q474</td>\n",
       "                        <td id=\"T_bad32_row3_col2\" class=\"data row3 col2\" >Protein 3</td>\n",
       "                        <td id=\"T_bad32_row3_col3\" class=\"data row3 col3\" >Bat coronavirus Rp3/2004</td>\n",
       "                        <td id=\"T_bad32_row3_col4\" class=\"data row3 col4\" >95%</td>\n",
       "                        <td id=\"T_bad32_row3_col5\" class=\"data row3 col5\" >Forms homotetrameric potassium sensitive ion channels (viroporin) and may modulate virus release.</td>\n",
       "            </tr>\n",
       "            <tr>\n",
       "                        <th id=\"T_bad32_level0_row4\" class=\"row_heading level0 row4\" >4</th>\n",
       "                        <td id=\"T_bad32_row4_col0\" class=\"data row4 col0\" >243</td>\n",
       "                        <td id=\"T_bad32_row4_col1\" class=\"data row4 col1\" >Q0Q472</td>\n",
       "                        <td id=\"T_bad32_row4_col2\" class=\"data row4 col2\" >Membrane protein</td>\n",
       "                        <td id=\"T_bad32_row4_col3\" class=\"data row4 col3\" >Bat coronavirus Rp3/2004</td>\n",
       "                        <td id=\"T_bad32_row4_col4\" class=\"data row4 col4\" >92%</td>\n",
       "                        <td id=\"T_bad32_row4_col5\" class=\"data row4 col5\" >Component of the viral envelope that plays a central role in virus morphogenesis and assembly via its interactions with other viral proteins.</td>\n",
       "            </tr>\n",
       "            <tr>\n",
       "                        <th id=\"T_bad32_level0_row5\" class=\"row_heading level0 row5\" >5</th>\n",
       "                        <td id=\"T_bad32_row5_col0\" class=\"data row5 col0\" >433</td>\n",
       "                        <td id=\"T_bad32_row5_col1\" class=\"data row5 col1\" >P59595</td>\n",
       "                        <td id=\"T_bad32_row5_col2\" class=\"data row5 col2\" >Nucleoprotein N</td>\n",
       "                        <td id=\"T_bad32_row5_col3\" class=\"data row5 col3\" >Human SARS coronavirus (SARS-CoV)</td>\n",
       "                        <td id=\"T_bad32_row5_col4\" class=\"data row5 col4\" >91%</td>\n",
       "                        <td id=\"T_bad32_row5_col5\" class=\"data row5 col5\" >Packages the positive strand viral genome RNA into a helical ribonucleocapsid (RNP) and plays a fundamental role during virion assembly through its interactions with the viral genome and membrane protein M</td>\n",
       "            </tr>\n",
       "    </tbody></table>"
      ],
      "text/plain": [
       "<pandas.io.formats.style.Styler at 0x7f437b2cef50>"
      ]
     },
     "execution_count": 124,
     "metadata": {},
     "output_type": "execute_result"
    }
   ],
   "source": [
    "e={ 'ORF length': [4409,2701,1293,290,243, 433],\n",
    "   'DB:ID' : ['P0C6U8', 'P0C6X7', 'P59594', 'Q0Q474', 'Q0Q472','P59595']\n",
    "   ,'protein': ['Replicase polyprotein 1a','Replicase polyprotein 1ab','Spike glycoprotein', 'Protein 3','Membrane protein', 'Nucleoprotein N']\n",
    "   ,'organism':['Human SARS coronavirus (SARS-CoV)','Human SARS coronavirus (SARS-CoV)',\n",
    "                           'Human SARS coronavirus (SARS-CoV)', 'Bat coronavirus Rp3/2004',\n",
    "                           'Bat coronavirus Rp3/2004','Human SARS coronavirus (SARS-CoV)']\n",
    "   ,'match': ['80%', '96%', '76%', '95%','92%', '91%']\n",
    "                          \n",
    "   , 'Function' : ['Multifunctional protein involved in the transcription and replication of viral RNAs. Contains the proteinases responsible for the cleavages of the polyprotein.',\n",
    "                'Multifunctional protein involved in the transcription and replication of viral RNAs. Contains the proteinases responsible for the cleavages of the polyprotein',\n",
    "                'attaches the virion to the cell membrane by interacting with host receptor, initiating the infection (By similarity). Binding to human ACE2 and CLEC4M/DC-SIGNR receptors and internalization of the virus into the endosomes of the host cell induces conformational changes in the S glycoprotein. Proteolysis by cathepsin CTSL may unmask the fusion peptide of S2 and activate membranes fusion within endosomes.',\n",
    "                'Forms homotetrameric potassium sensitive ion channels (viroporin) and may modulate virus release.',\n",
    "                'Component of the viral envelope that plays a central role in virus morphogenesis and assembly via its interactions with other viral proteins.',\n",
    "                'Packages the positive strand viral genome RNA into a helical ribonucleocapsid (RNP) and plays a fundamental role during virion assembly through its interactions with the viral genome and membrane protein M']\n",
    "             }\n",
    "\n",
    "covid_orf=pd.DataFrame(data=e)\n",
    "cm = sns.light_palette(\"red\", as_cmap=True)\n",
    "\n",
    "covid_orf2 = covid_orf.style.background_gradient(cmap=cm)\n",
    "covid_orf2"
   ]
  },
  {
   "cell_type": "code",
   "execution_count": 125,
   "metadata": {
    "execution": {
     "iopub.execute_input": "2023-03-08T16:07:22.181402Z",
     "iopub.status.busy": "2023-03-08T16:07:22.180553Z",
     "iopub.status.idle": "2023-03-08T16:07:22.399271Z",
     "shell.execute_reply": "2023-03-08T16:07:22.398561Z",
     "shell.execute_reply.started": "2023-03-08T14:30:51.330963Z"
    },
    "papermill": {
     "duration": 0.406276,
     "end_time": "2023-03-08T16:07:22.399438",
     "exception": false,
     "start_time": "2023-03-08T16:07:21.993162",
     "status": "completed"
    },
    "tags": []
   },
   "outputs": [
    {
     "data": {
      "image/png": "[encoded data removed]",
      "text/plain": [
       "<Figure size 1080x216 with 1 Axes>"
      ]
     },
     "metadata": {},
     "output_type": "display_data"
    }
   ],
   "source": [
    "import matplotlib.pyplot as plt\n",
    "plt.figure(figsize=(15,3))\n",
    "covid_orf['ORF length'].plot.bar(color=('crimson','deepskyblue'), edgecolor='black')\n",
    "plt.xticks(rotation=9)\n",
    "plt.ylabel(\"Amino acid sequence\", weight='bold', fontsize=17)\n",
    "plt.yticks(fontsize=15)\n",
    "r=list(range(len(covid_orf)))\n",
    "plt.xticks(r, covid_orf.protein, weight='bold', fontsize=13)\n",
    "plt.xlabel(\"ORFs\", weight='bold', size=20)\n",
    "plt.title(\"COVID-19's ORFs\", weight='bold', size=20)\n",
    "plt.show()"
   ]
  },
  {
   "cell_type": "markdown",
   "metadata": {
    "papermill": {
     "duration": 0.178088,
     "end_time": "2023-03-08T16:07:22.754440",
     "exception": false,
     "start_time": "2023-03-08T16:07:22.576352",
     "status": "completed"
    },
    "tags": []
   },
   "source": [
    "Genome analysis is used to find the main COVID-19 viral proteins : Spike protein (S), Nucleoprotein (N), Membrane protein (M), Envelope protein (E) and the replicase polyprotein.\n",
    "\n",
    "The Open Coding Frames coded for the most important viral proteins in the COVID-19: Replicase polyprotein, Nucleoprotein, Membrane protein and mainly the Spike glycoprotein. The Spike glycoprotein (S) is the main protein candidate for vaccine development. In studies related to SARS-CoV, vaccine candidates were developped expressing the membrane-anchored SARS-CoV spike (S) protein.\n",
    "\n",
    "The spike glycoprotein (or just “spike protein”) is the spike that studs the surface of the coronavirus, giving it the appearance of a crown to electron microscopy.\n",
    "\n",
    "The S protein is responsible for facilitating entry of the CoV into the target cell. It is composed of a short intracellular tail, a transmembrane anchor, and a large ectodomain that consists of a receptor binding S1 subunit and a membrane-fusing S2 subunit. In the previous section, our sequence analysis of the SARS-CoV-2 S protein genome showed that it was only 76% identical with the SARS-CoV S protein."
   ]
  },
  {
   "cell_type": "code",
   "execution_count": 126,
   "metadata": {
    "execution": {
     "iopub.execute_input": "2023-03-08T16:07:23.134783Z",
     "iopub.status.busy": "2023-03-08T16:07:23.133578Z",
     "iopub.status.idle": "2023-03-08T16:07:23.138518Z",
     "shell.execute_reply": "2023-03-08T16:07:23.137810Z",
     "shell.execute_reply.started": "2023-03-08T14:34:22.315814Z"
    },
    "papermill": {
     "duration": 0.203751,
     "end_time": "2023-03-08T16:07:23.138692",
     "exception": false,
     "start_time": "2023-03-08T16:07:22.934941",
     "status": "completed"
    },
    "tags": []
   },
   "outputs": [
    {
     "data": {
      "text/html": [
       "<div>\n",
       "<style scoped>\n",
       "    .dataframe tbody tr th:only-of-type {\n",
       "        vertical-align: middle;\n",
       "    }\n",
       "\n",
       "    .dataframe tbody tr th {\n",
       "        vertical-align: top;\n",
       "    }\n",
       "\n",
       "    .dataframe thead th {\n",
       "        text-align: right;\n",
       "    }\n",
       "</style>\n",
       "<table border=\"1\" class=\"dataframe\">\n",
       "  <thead>\n",
       "    <tr style=\"text-align: right;\">\n",
       "      <th></th>\n",
       "      <th>ORF length</th>\n",
       "      <th>DB:ID</th>\n",
       "      <th>protein</th>\n",
       "      <th>organism</th>\n",
       "      <th>match</th>\n",
       "      <th>Function</th>\n",
       "    </tr>\n",
       "  </thead>\n",
       "  <tbody>\n",
       "    <tr>\n",
       "      <th>2</th>\n",
       "      <td>1293</td>\n",
       "      <td>P59594</td>\n",
       "      <td>Spike glycoprotein</td>\n",
       "      <td>Human SARS coronavirus (SARS-CoV)</td>\n",
       "      <td>76%</td>\n",
       "      <td>attaches the virion to the cell membrane by interacting with host receptor, initiating the infection (By similarity). Binding to human ACE2 and CLEC4M/DC-SIGNR receptors and internalization of the virus into the endosomes of the host cell induces conformational changes in the S glycoprotein. Proteolysis by cathepsin CTSL may unmask the fusion peptide of S2 and activate membranes fusion within endosomes.</td>\n",
       "    </tr>\n",
       "  </tbody>\n",
       "</table>\n",
       "</div>"
      ],
      "text/plain": [
       "  ORF length   DB:ID             protein                           organism  \\\n",
       "2       1293  P59594  Spike glycoprotein  Human SARS coronavirus (SARS-CoV)   \n",
       "\n",
       "  match  \\\n",
       "2   76%   \n",
       "\n",
       "                                                                                                                                                                                                                                                                                                                                                                                                                 Function  \n",
       "2  attaches the virion to the cell membrane by interacting with host receptor, initiating the infection (By similarity). Binding to human ACE2 and CLEC4M/DC-SIGNR receptors and internalization of the virus into the endosomes of the host cell induces conformational changes in the S glycoprotein. Proteolysis by cathepsin CTSL may unmask the fusion peptide of S2 and activate membranes fusion within endosomes.  "
      ]
     },
     "execution_count": 126,
     "metadata": {},
     "output_type": "execute_result"
    }
   ],
   "source": [
    "covid_orf.iloc[2].to_frame().T"
   ]
  },
  {
   "cell_type": "code",
   "execution_count": 127,
   "metadata": {
    "execution": {
     "iopub.execute_input": "2023-03-08T16:07:23.513866Z",
     "iopub.status.busy": "2023-03-08T16:07:23.513044Z",
     "iopub.status.idle": "2023-03-08T16:07:23.516694Z",
     "shell.execute_reply": "2023-03-08T16:07:23.516010Z",
     "shell.execute_reply.started": "2023-03-08T14:34:50.188349Z"
    },
    "papermill": {
     "duration": 0.197962,
     "end_time": "2023-03-08T16:07:23.516864",
     "exception": false,
     "start_time": "2023-03-08T16:07:23.318902",
     "status": "completed"
    },
    "tags": []
   },
   "outputs": [
    {
     "name": "stdout",
     "output_type": "stream",
     "text": [
      "{'L': 114, 'E': 50, 'K': 63, 'T': 102, 'F': 79, 'V': 98, 'M': 15, 'R': 43, 'P': 58, 'S': 99, 'Q': 62, 'C': 40, 'N': 88, 'A': 79, 'Y': 54, 'G': 82, 'D': 62, 'H': 17, 'W': 12, 'I': 76}\n"
     ]
    }
   ],
   "source": [
    "#spike= orf_list[2]\n",
    "spike='LEKTTELLFLVMFLLTTKRTMFVFLVLLPLVSSQCVNLTTRTQLPPAYTNSFTRGVYYPDKVFRSSVLHSTQDLFLPFFSNVTWFHAIHVSGTNGTKRFDNPVLPFNDGVYFASTEKSNIIRGWIFGTTLDSKTQSLLIVNNATNVVIKVCEFQFCNDPFLGVYYHKNNKSWMESEFRVYSSANNCTFEYVSQPFLMDLEGKQGNFKNLREFVFKNIDGYFKIYSKHTPINLVRDLPQGFSALEPLVDLPIGINITRFQTLLALHRSYLTPGDSSSGWTAGAAAYYVGYLQPRTFLLKYNENGTITDAVDCALDPLSETKCTLKSFTVEKGIYQTSNFRVQPTESIVRFPNITNLCPFGEVFNATRFASVYAWNRKRISNCVADYSVLYNSASFSTFKCYGVSPTKLNDLCFTNVYADSFVIRGDEVRQIAPGQTGKIADYNYKLPDDFTGCVIAWNSNNLDSKVGGNYNYLYRLFRKSNLKPFERDISTEIYQAGSTPCNGVEGFNCYFPLQSYGFQPTNGVGYQPYRVVVLSFELLHAPATVCGPKKSTNLVKNKCVNFNFNGLTGTGVLTESNKKFLPFQQFGRDIADTTDAVRDPQTLEILDITPCSFGGVSVITPGTNTSNQVAVLYQDVNCTEVPVAIHADQLTPTWRVYSTGSNVFQTRAGCLIGAEHVNNSYECDIPIGAGICASYQTQTNSPRRARSVASQSIIAYTMSLGAENSVAYSNNSIAIPTNFTISVTTEILPVSMTKTSVDCTMYICGDSTECSNLLLQYGSFCTQLNRALTGIAVEQDKNTQEVFAQVKQIYKTPPIKDFGGFNFSQILPDPSKPSKRSFIEDLLFNKVTLADAGFIKQYGDCLGDIAARDLICAQKFNGLTVLPPLLTDEMIAQYTSALLAGTITSGWTFGAGAALQIPFAMQMAYRFNGIGVTQNVLYENQKLIANQFNSAIGKIQDSLSSTASALGKLQDVVNQNAQALNTLVKQLSSNFGAISSVLNDILSRLDKVEAEVQIDRLITGRLQSLQTYVTQQLIRAAEIRASANLAATKMSECVLGQSKRVDFCGKGYHLMSFPQSAPHGVVFLHVTYVPAQEKNFTTAPAICHDGKAHFPREGVFVSNGTHWFVTQRNFYEPQIITTDNTFVSGNCDVVIGIVNNTVYDPLQPELDSFKEELDKYFKNHTSPDVDLGDISGINASVVNIQKEIDRLNEVAKNLNESLIDLQELGKYEQYIKWPWYIWLGFIAGLIAIVMVTIMLCCMTSCCSCLKGCCSCGSCCKFDEDDSEPVLKGVKLHYT'\n",
    "\n",
    "#Calculate amino acids frequency\n",
    "def char_frequency(str1):\n",
    "    dict = {}\n",
    "    for n in str1:\n",
    "        keys = dict.keys()\n",
    "        if n in keys:\n",
    "            dict[n] += 1\n",
    "        else:\n",
    "            dict[n] = 1\n",
    "    return dict\n",
    "print(char_frequency(spike))\n",
    "amino_acids=char_frequency(spike)\n",
    "\n",
    "#Get amino acids dataset\n",
    "aas= pd.DataFrame(data=amino_acids, index=[0]).T.reset_index()\n",
    "aas= aas.rename(columns={0: 'frequency', 'index': 'amino_acids'})\n",
    "aas=aas.sort_values(by=['frequency'], ascending=True)"
   ]
  },
  {
   "cell_type": "code",
   "execution_count": 128,
   "metadata": {
    "execution": {
     "iopub.execute_input": "2023-03-08T16:07:23.967280Z",
     "iopub.status.busy": "2023-03-08T16:07:23.949884Z",
     "iopub.status.idle": "2023-03-08T16:07:24.282841Z",
     "shell.execute_reply": "2023-03-08T16:07:24.281902Z",
     "shell.execute_reply.started": "2023-03-08T14:35:57.355015Z"
    },
    "papermill": {
     "duration": 0.586754,
     "end_time": "2023-03-08T16:07:24.283038",
     "exception": false,
     "start_time": "2023-03-08T16:07:23.696284",
     "status": "completed"
    },
    "tags": []
   },
   "outputs": [
    {
     "data": {
      "image/png": "[encoded data removed]",
      "text/plain": [
       "<Figure size 1080x288 with 1 Axes>"
      ]
     },
     "metadata": {},
     "output_type": "display_data"
    }
   ],
   "source": [
    "#plot the amino acids frequency\n",
    "import matplotlib.pyplot as plt\n",
    "plt.figure(figsize=(15,4))\n",
    "a= aas['frequency'].plot.bar(color=sns.color_palette('pink',len(aas)), edgecolor='black')\n",
    "plt.xticks(rotation=0)\n",
    "plt.ylabel(\"SPIKE: Amino acids frequency\", weight='bold')\n",
    "r=list(range(len(aas)))\n",
    "plt.xticks(r, aas.amino_acids, weight='bold')\n",
    "plt.xlabel(\"Amino acids\", size=15)\n",
    "plt.title(\"Spike protein\",  size=20)\n",
    "plt.show()"
   ]
  },
  {
   "cell_type": "code",
   "execution_count": 129,
   "metadata": {
    "execution": {
     "iopub.execute_input": "2023-03-08T16:07:24.657040Z",
     "iopub.status.busy": "2023-03-08T16:07:24.656244Z",
     "iopub.status.idle": "2023-03-08T16:07:24.659448Z",
     "shell.execute_reply": "2023-03-08T16:07:24.658844Z",
     "shell.execute_reply.started": "2023-03-08T14:36:04.152550Z"
    },
    "papermill": {
     "duration": 0.19211,
     "end_time": "2023-03-08T16:07:24.659656",
     "exception": false,
     "start_time": "2023-03-08T16:07:24.467546",
     "status": "completed"
    },
    "tags": []
   },
   "outputs": [],
   "source": [
    "spike_covid= 'MFVFLVLLPLVSSQCVNLTTRTQLPPAYTNSFTRGVYYPDKVFRSSVLHSTQDLFLPFFSNVTWFHAIHVSGTNGTKRFDNPVLPFNDGVYFASTEKSNIIRGWIFGTTLDSKTQSLLIVNNATNVVIKVCEFQFCNDPFLGVYYHKNNKSWMESEFRVYSSANNCTFEYVSQPFLMDLEGKQGNFKNLREFVFKNIDGYFKIYSKHTPINLVRDLPQGFSALEPLVDLPIGINITRFQTLLALHRSYLTPGDSSSGWTAGAAAYYVGYLQPRTFLLKYNENGTITDAVDCALDPLSETKCTLKSFTVEKGIYQTSNFRVQPTESIVRFPNITNLCPFGEVFNATRFASVYAWNRKRISNCVADYSVLYNSASFSTFKCYGVSPTKLNDLCFTNVYADSFVIRGDEVRQIAPGQTGKIADYNYKLPDDFTGCVIAWNSNNLDSKVGGNYNYLYRLFRKSNLKPFERDISTEIYQAGSTPCNGVEGFNCYFPLQSYGFQPTNGVGYQPYRVVVLSFELLHAPATVCGPKKSTNLVKNKCVNFNFNGLTGTGVLTESNKKFLPFQQFGRDIADTTDAVRDPQTLEILDITPCSFGGVSVITPGTNTSNQVAVLYQDVNCTEVPVAIHADQLTPTWRVYSTGSNVFQTRAGCLIGAEHVNNSYECDIPIGAGICASYQTQTNSPRRARSVASQSIIAYTMSLGAENSVAYSNNSIAIPTNFTISVTTEILPVSMTKTSVDCTMYICGDSTECSNLLLQYGSFCTQLNRALTGIAVEQDKNTQEVFAQVKQIYKTPPIKDFGGFNFSQILPDPSKPSKRSFIEDLLFNKVTLADAGFIKQYGDCLGDIAARDLICAQKFNGLTVLPPLLTDEMIAQYTSALLAGTITSGWTFGAGAALQIPFAMQMAYRFNGIGVTQNVLYENQKLIANQFNSAIGKIQDSLSSTASALGKLQDVVNQNAQALNTLVKQLSSNFGAISSVLNDILSRLDKVEAEVQIDRLITGRLQSLQTYVTQQLIRAAEIRASANLAATKMSECVLGQSKRVDFCGKGYHLMSFPQSAPHGVVFLHVTYVPAQEKNFTTAPAICHDGKAHFPREGVFVSNGTHWFVTQRNFYEPQIITTDNTFVSGNCDVVIGIVNNTVYDPLQPELDSFKEELDKYFKNHTSPDVDLGDISGINASVVNIQKEIDRLNEVAKNLNESLIDLQELGKYEQYIKWPWYIWLGFIAGLIAIVMVTIMLCCMTSCCSCLKGCCSCGSCCKFDEDDSEPVLKGVKLHYT'\n",
    "spike_sars= 'MFIFLLFLTLTSGSDLDRCTTFDDVQAPNYTQHTSSMRGVYYPDEIFRSDTLYLTQDLFLPFYSNVTGFHTINHTFGNPVIPFKDGIYFAATEKSNVVRGWVFGSTMNNKSQSVIIINNSTNVVIRACNFELCDNPFFAVSKPMGTQTHTMIFDNAFNCTFEYISDAFSLDVSEKSGNFKHLREFVFKNKDGFLYVYKGYQPIDVVRDLPSGFNTLKPIFKLPLGINITNFRAILTAFSPAQDIWGTSAAAYFVGYLKPTTFMLKYDENGTITDAVDCSQNPLAELKCSVKSFEIDKGIYQTSNFRVVPSGDVVRFPNITNLCPFGEVFNATKFPSVYAWERKKISNCVADYSVLYNSTFFSTFKCYGVSATKLNDLCFSNVYADSFVVKGDDVRQIAPGQTGVIADYNYKLPDDFMGCVLAWNTRNIDATSTGNYNYKYRYLRHGKLRPFERDISNVPFSPDGKPCTPPALNCYWPLNDYGFYTTTGIGYQPYRVVVLSFELLNAPATVCGPKLSTDLIKNQCVNFNFNGLTGTGVLTPSSKRFQPFQQFGRDVSDFTDSVRDPKTSEILDISPCSFGGVSVITPGTNASSEVAVLYQDVNCTDVSTAIHADQLTPAWRIYSTGNNVFQTQAGCLIGAEHVDTSYECDIPIGAGICASYHTVSLLRSTSQKSIVAYTMSLGADSSIAYSNNTIAIPTNFSISITTEVMPVSMAKTSVDCNMYICGDSTECANLLLQYGSFCTQLNRALSGIAAEQDRNTREVFAQVKQMYKTPTLKYFGGFNFSQILPDPLKPTKRSFIEDLLFNKVTLADAGFMKQYGECLGDINARDLICAQKFNGLTVLPPLLTDDMIAAYTAALVSGTATAGWTFGAGAALQIPFAMQMAYRFNGIGVTQNVLYENQKQIANQFNKAISQIQESLTTTSTALGKLQDVVNQNAQALNTLVKQLSSNFGAISSVLNDILSRLDKVEAEVQIDRLITGRLQSLQTYVTQQLIRAAEIRASANLAATKMSECVLGQSKRVDFCGKGYHLMSFPQAAPHGVVFLHVTYVPSQERNFTTAPAICHEGKAYFPREGVFVFNGTSWFITQRNFFSPQIITTDNTFVSGNCDVVIGIINNTVYDPLQPELDSFKEELDKYFKNHTSPDVDLGDISGINASVVNIQKEIDRLNEVAKNLNESLIDLQELGKYEQYIKWPWYVWLGFIAGLIAIVMVTILLCCMTSCCSCLKGACSCGSCCKFDEDDSEPVLKGVKLHYT'"
   ]
  },
  {
   "cell_type": "code",
   "execution_count": null,
   "metadata": {
    "papermill": {
     "duration": 0.180389,
     "end_time": "2023-03-08T16:07:25.026732",
     "exception": false,
     "start_time": "2023-03-08T16:07:24.846343",
     "status": "completed"
    },
    "tags": []
   },
   "outputs": [],
   "source": []
  },
  {
   "cell_type": "code",
   "execution_count": null,
   "metadata": {
    "papermill": {
     "duration": 0.180661,
     "end_time": "2023-03-08T16:07:25.388800",
     "exception": false,
     "start_time": "2023-03-08T16:07:25.208139",
     "status": "completed"
    },
    "tags": []
   },
   "outputs": [],
   "source": []
  },
  {
   "cell_type": "code",
   "execution_count": null,
   "metadata": {
    "papermill": {
     "duration": 0.180905,
     "end_time": "2023-03-08T16:07:25.749321",
     "exception": false,
     "start_time": "2023-03-08T16:07:25.568416",
     "status": "completed"
    },
    "tags": []
   },
   "outputs": [],
   "source": []
  },
  {
   "cell_type": "code",
   "execution_count": null,
   "metadata": {
    "papermill": {
     "duration": 0.182552,
     "end_time": "2023-03-08T16:07:26.113524",
     "exception": false,
     "start_time": "2023-03-08T16:07:25.930972",
     "status": "completed"
    },
    "tags": []
   },
   "outputs": [],
   "source": []
  },
  {
   "cell_type": "code",
   "execution_count": null,
   "metadata": {
    "papermill": {
     "duration": 0.180601,
     "end_time": "2023-03-08T16:07:26.477551",
     "exception": false,
     "start_time": "2023-03-08T16:07:26.296950",
     "status": "completed"
    },
    "tags": []
   },
   "outputs": [],
   "source": []
  },
  {
   "cell_type": "code",
   "execution_count": null,
   "metadata": {
    "papermill": {
     "duration": 0.180038,
     "end_time": "2023-03-08T16:07:26.838474",
     "exception": false,
     "start_time": "2023-03-08T16:07:26.658436",
     "status": "completed"
    },
    "tags": []
   },
   "outputs": [],
   "source": []
  },
  {
   "cell_type": "code",
   "execution_count": null,
   "metadata": {
    "papermill": {
     "duration": 0.181796,
     "end_time": "2023-03-08T16:07:27.202600",
     "exception": false,
     "start_time": "2023-03-08T16:07:27.020804",
     "status": "completed"
    },
    "tags": []
   },
   "outputs": [],
   "source": []
  },
  {
   "cell_type": "code",
   "execution_count": null,
   "metadata": {
    "papermill": {
     "duration": 0.183207,
     "end_time": "2023-03-08T16:07:27.566001",
     "exception": false,
     "start_time": "2023-03-08T16:07:27.382794",
     "status": "completed"
    },
    "tags": []
   },
   "outputs": [],
   "source": []
  },
  {
   "cell_type": "code",
   "execution_count": null,
   "metadata": {
    "papermill": {
     "duration": 0.182492,
     "end_time": "2023-03-08T16:07:27.929121",
     "exception": false,
     "start_time": "2023-03-08T16:07:27.746629",
     "status": "completed"
    },
    "tags": []
   },
   "outputs": [],
   "source": []
  }
 ],
 "metadata": {
  "kernelspec": {
   "display_name": "Python 3 (ipykernel)",
   "language": "python",
   "name": "python3"
  },
  "language_info": {
   "codemirror_mode": {
    "name": "ipython",
    "version": 3
   },
   "file_extension": ".py",
   "mimetype": "text/x-python",
   "name": "python",
   "nbconvert_exporter": "python",
   "pygments_lexer": "ipython3",
   "version": "3.9.12"
  },
  "papermill": {
   "default_parameters": {},
   "duration": 426.975491,
   "end_time": "2023-03-08T16:07:29.126617",
   "environment_variables": {},
   "exception": null,
   "input_path": "__notebook__.ipynb",
   "output_path": "__notebook__.ipynb",
   "parameters": {},
   "start_time": "2023-03-08T16:00:22.151126",
   "version": "2.2.2"
  }
 },
 "nbformat": 4,
 "nbformat_minor": 4
}
